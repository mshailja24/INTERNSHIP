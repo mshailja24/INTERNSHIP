{
 "cells": [
  {
   "cell_type": "code",
   "execution_count": 58,
   "id": "c9212b6a",
   "metadata": {},
   "outputs": [
    {
     "name": "stdout",
     "output_type": "stream",
     "text": [
      "Defaulting to user installation because normal site-packages is not writeableNote: you may need to restart the kernel to use updated packages.\n",
      "Requirement already satisfied: selenium in c:\\users\\dell\\appdata\\roaming\\python\\python39\\site-packages (4.1.5)\n",
      "Requirement already satisfied: trio-websocket~=0.9 in c:\\users\\dell\\appdata\\roaming\\python\\python39\\site-packages (from selenium) (0.9.2)\n",
      "Requirement already satisfied: trio~=0.17 in c:\\users\\dell\\appdata\\roaming\\python\\python39\\site-packages (from selenium) (0.20.0)\n",
      "Requirement already satisfied: urllib3[secure,socks]~=1.26 in c:\\programdata\\anaconda3\\lib\\site-packages (from selenium) (1.26.9)\n",
      "Requirement already satisfied: sortedcontainers in c:\\programdata\\anaconda3\\lib\\site-packages (from trio~=0.17->selenium) (2.4.0)\n",
      "Requirement already satisfied: async-generator>=1.9 in c:\\users\\dell\\appdata\\roaming\\python\\python39\\site-packages (from trio~=0.17->selenium) (1.10)\n",
      "Requirement already satisfied: outcome in c:\\users\\dell\\appdata\\roaming\\python\\python39\\site-packages (from trio~=0.17->selenium) (1.1.0)\n",
      "Requirement already satisfied: sniffio in c:\\programdata\\anaconda3\\lib\\site-packages (from trio~=0.17->selenium) (1.2.0)\n",
      "Requirement already satisfied: idna in c:\\programdata\\anaconda3\\lib\\site-packages (from trio~=0.17->selenium) (3.3)\n",
      "Requirement already satisfied: cffi>=1.14 in c:\\programdata\\anaconda3\\lib\\site-packages (from trio~=0.17->selenium) (1.15.0)\n",
      "Requirement already satisfied: attrs>=19.2.0 in c:\\programdata\\anaconda3\\lib\\site-packages (from trio~=0.17->selenium) (21.4.0)\n",
      "\n",
      "Requirement already satisfied: pycparser in c:\\programdata\\anaconda3\\lib\\site-packages (from cffi>=1.14->trio~=0.17->selenium) (2.21)\n",
      "Requirement already satisfied: wsproto>=0.14 in c:\\users\\dell\\appdata\\roaming\\python\\python39\\site-packages (from trio-websocket~=0.9->selenium) (1.1.0)\n",
      "Requirement already satisfied: PySocks!=1.5.7,<2.0,>=1.5.6 in c:\\programdata\\anaconda3\\lib\\site-packages (from urllib3[secure,socks]~=1.26->selenium) (1.7.1)\n",
      "Requirement already satisfied: cryptography>=1.3.4 in c:\\programdata\\anaconda3\\lib\\site-packages (from urllib3[secure,socks]~=1.26->selenium) (3.4.8)\n",
      "Requirement already satisfied: certifi in c:\\programdata\\anaconda3\\lib\\site-packages (from urllib3[secure,socks]~=1.26->selenium) (2021.10.8)\n",
      "Requirement already satisfied: pyOpenSSL>=0.14 in c:\\programdata\\anaconda3\\lib\\site-packages (from urllib3[secure,socks]~=1.26->selenium) (21.0.0)\n",
      "Requirement already satisfied: six>=1.5.2 in c:\\programdata\\anaconda3\\lib\\site-packages (from pyOpenSSL>=0.14->urllib3[secure,socks]~=1.26->selenium) (1.16.0)\n",
      "Requirement already satisfied: h11<1,>=0.9.0 in c:\\users\\dell\\appdata\\roaming\\python\\python39\\site-packages (from wsproto>=0.14->trio-websocket~=0.9->selenium) (0.13.0)\n"
     ]
    }
   ],
   "source": [
    "pip install selenium"
   ]
  },
  {
   "cell_type": "markdown",
   "id": "08ab7e9f",
   "metadata": {},
   "source": [
    "# Answer 1"
   ]
  },
  {
   "cell_type": "code",
   "execution_count": 1,
   "id": "29fe1a73",
   "metadata": {},
   "outputs": [],
   "source": [
    "import pandas as pd\n",
    "import selenium\n",
    "from selenium import webdriver\n",
    "from selenium.common.exceptions import StaleElementReferenceException, NoSuchElementException\n"
   ]
  },
  {
   "cell_type": "code",
   "execution_count": 2,
   "id": "f7488fd0",
   "metadata": {},
   "outputs": [
    {
     "name": "stderr",
     "output_type": "stream",
     "text": [
      "C:\\Users\\Dell\\AppData\\Local\\Temp\\ipykernel_6664\\2526220211.py:4: DeprecationWarning: executable_path has been deprecated, please pass in a Service object\n",
      "  browser =  webdriver.Chrome(r\"C:\\web driver\\chromedriver.exe\")\n"
     ]
    }
   ],
   "source": [
    "import requests\n",
    "from selenium import webdriver\n",
    "\n",
    "browser =  webdriver.Chrome(r\"C:\\web driver\\chromedriver.exe\")\n",
    "\n",
    "browser.get(\"https://www.Amazon.in/\")\n",
    "from bs4 import BeautifulSoup\n",
    "browser.maximize_window()"
   ]
  },
  {
   "cell_type": "code",
   "execution_count": 3,
   "id": "7939aab7",
   "metadata": {},
   "outputs": [],
   "source": [
    "Title=[]\n",
    "Ratings=[]\n",
    "price=[]\n",
    "Rated=[]\n",
    "Delivery=[]\n",
    "images=[]\n",
    "brands=[]"
   ]
  },
  {
   "cell_type": "code",
   "execution_count": 4,
   "id": "5f4b0a39",
   "metadata": {},
   "outputs": [
    {
     "name": "stderr",
     "output_type": "stream",
     "text": [
      "C:\\Users\\Dell\\AppData\\Local\\Temp\\ipykernel_6664\\3970750064.py:1: DeprecationWarning: find_element_by_* commands are deprecated. Please use find_element() instead\n",
      "  search_bar = browser.find_element_by_id(\"twotabsearchtextbox\")\n",
      "C:\\Users\\Dell\\AppData\\Local\\Temp\\ipykernel_6664\\3970750064.py:4: DeprecationWarning: find_element_by_xpath is deprecated. Please use find_element(by=By.XPATH, value=xpath) instead\n",
      "  search_button = browser.find_element_by_xpath('//span[@id=\"nav-search-submit-text\"]')\n"
     ]
    }
   ],
   "source": [
    "search_bar = browser.find_element_by_id(\"twotabsearchtextbox\")    \n",
    "search_bar.clear()                                              \n",
    "search_bar.send_keys(\"guitar\")                                  \n",
    "search_button = browser.find_element_by_xpath('//span[@id=\"nav-search-submit-text\"]')       \n",
    "search_button.click() "
   ]
  },
  {
   "cell_type": "code",
   "execution_count": 5,
   "id": "7d7102d1",
   "metadata": {},
   "outputs": [
    {
     "name": "stderr",
     "output_type": "stream",
     "text": [
      "C:\\Users\\Dell\\AppData\\Local\\Temp\\ipykernel_6664\\615389489.py:1: DeprecationWarning: find_elements_by_xpath is deprecated. Please use find_elements(by=By.XPATH, value=xpath) instead\n",
      "  prices=browser.find_elements_by_xpath(\"//span[@class='a-price-whole']\")\n"
     ]
    },
    {
     "data": {
      "text/plain": [
       "['5,399',\n",
       " '7,348',\n",
       " '3,999',\n",
       " '2,695',\n",
       " '2,095',\n",
       " '2,639',\n",
       " '2,150',\n",
       " '7,499',\n",
       " '2,150',\n",
       " '5,399',\n",
       " '2,639',\n",
       " '',\n",
       " '3,009',\n",
       " '3,029',\n",
       " '2,350',\n",
       " '2,639',\n",
       " '2,199',\n",
       " '7,349',\n",
       " '1,990',\n",
       " '4,280',\n",
       " '5,399',\n",
       " '2,639',\n",
       " '9,990',\n",
       " '2,199',\n",
       " '5,759',\n",
       " '899',\n",
       " '4,295',\n",
       " '4,080',\n",
       " '3,990',\n",
       " '2,290',\n",
       " '2,499',\n",
       " '8,990',\n",
       " '2,639',\n",
       " '2,250',\n",
       " '2,479',\n",
       " '2,639',\n",
       " '1,549',\n",
       " '2,499',\n",
       " '2,639',\n",
       " '8,499',\n",
       " '2,290',\n",
       " '2,695',\n",
       " '6,033',\n",
       " '6,014',\n",
       " '181',\n",
       " '2,599',\n",
       " '2,967',\n",
       " '2,250',\n",
       " '9,990',\n",
       " '13,739',\n",
       " '9,379',\n",
       " '8,499',\n",
       " '4,199',\n",
       " '2,350',\n",
       " '7,499',\n",
       " '3,169',\n",
       " '5,499',\n",
       " '2,589',\n",
       " '3,890',\n",
       " '2,499',\n",
       " '2,499',\n",
       " '2,849',\n",
       " '7,400',\n",
       " '10,150']"
      ]
     },
     "execution_count": 5,
     "metadata": {},
     "output_type": "execute_result"
    }
   ],
   "source": [
    "prices=browser.find_elements_by_xpath(\"//span[@class='a-price-whole']\")\n",
    "for i in prices:\n",
    "    price.append(i.text)    \n",
    "price"
   ]
  },
  {
   "cell_type": "code",
   "execution_count": 6,
   "id": "986ca038",
   "metadata": {},
   "outputs": [
    {
     "name": "stderr",
     "output_type": "stream",
     "text": [
      "C:\\Users\\Dell\\AppData\\Local\\Temp\\ipykernel_6664\\4092791829.py:1: DeprecationWarning: find_elements_by_xpath is deprecated. Please use find_elements(by=By.XPATH, value=xpath) instead\n",
      "  titles=browser.find_elements_by_xpath(\"//h2[@class='a-size-mini a-spacing-none a-color-base s-line-clamp-2']\")\n"
     ]
    },
    {
     "data": {
      "text/plain": [
       "['Kadence Frontier guitar with Online Guitar learning course, Wine Red Acoustic Guitar with Die Cast Keys, Set of Strings, Strap, Picks and Bag (Wine Red, Acoustic)',\n",
       " 'Kadence Frontier Jumbo Semi Acoustic Guitar With Die Cast Keys Super Combo (Bag, 1 pack Strings, Strap, Picks, Capo, Tuner (natural)',\n",
       " 'Vault Traveller 34 Inch Acoustic Guitar With Bag, Strap, Strings, Polishing Cloth, String Winder and Picks - Natural Gloss',\n",
       " 'Blueberry 38C, 38\" Acoustic Guitar Kit with Bag, Strap, One Pack Strings And Picks (Black)',\n",
       " 'Juârez Acoustic Guitar, 38 Inch Cutaway, 038C with Bag, Strings, Pick and Strap, Black',\n",
       " 'Juarez Acoustic Guitar, 38 Inch Curved Body Cutaway, 38CUR with Bag, Strings, Pick and Strap, Black',\n",
       " 'Intern INT-38C Acoustic Guitar Kit, With Bag, Strings, Pick And Strap, Black',\n",
       " 'Kadence Guitar Acoustica Series, Electric Acoustic Guitar, Ash Wood with Pickup and Inbuilt tuner (Ash Wood, Electro Acoustic)',\n",
       " 'Intern INT-38C Acoustic Guitar Kit, With Bag, Strings, Pick And Strap, Black',\n",
       " 'Kadence Frontier guitar with Online Guitar learning course, Wine Red Acoustic Guitar with Die Cast Keys, Set of Strings, Strap, Picks and Bag (Wine Red, Acoustic)',\n",
       " 'Juarez Acoustic Guitar Kit, 38 Inch Cutaway, 38C with Bag, Strings, Pick and Strap, TBS Transparent Blue Sunburst',\n",
       " '',\n",
       " 'Intern 38C Cutaway Design Black Acoustic Guitar with Picks & Carry Bag',\n",
       " 'Intern INT-38C Acoustic Guitar Kit, With Bag, Strings, Pick And Strap, Blue',\n",
       " 'Intern INT-38C Acoustic Guitar Kit (Sunburst) with Carry bag, Picks, Strings set and Guitar Strap, Small',\n",
       " 'JUAREZ JRZ38C Right Handed Acoustic Guitar with Bag, Strings, Pick and Strap (Natural, 6 Strings)',\n",
       " 'Medellin 38\" Acoustic Guitar Carbon Fiber body+(Free Online Learning Course) - Durable Matt finish with handrest, strings, strap, bag, 3 Picks, capo, stand.',\n",
       " 'Kadence Frontier Jumbo Semi Acoustic Guitar With Die Cast Keys,Super Combo (Bag, 1 pack Strings, Strap, Picks, Capo, Tuner)',\n",
       " 'Photron Acoustic Guitar, 38 Inch Cutaway, PH38C/BK with Picks Only, Black (Without Bag, Strap and Extra Strings)',\n",
       " 'Hovner 215 Black F-Cut Rosewood Fretboard Acoustic Guitar With Bag,Strap,1 Set of Extra Strings and 2 Picks By K-Retail',\n",
       " 'Kadence Frontier guitar with Online Guitar learning course, Wine Red Acoustic Guitar with Die Cast Keys, Set of Strings, Strap, Picks and Bag (Wine Red, Acoustic)',\n",
       " 'Juarez Acoustic Guitar Kit, 38 Inch Cutaway, 38C with Bag, Strings, Pick and Strap, 3TS Sunburst',\n",
       " 'Yamaha FS100C Acoustic Guitar, Black',\n",
       " 'Medellin 38\" Carbon Fiber Acoustic Guitar with free specailized learning course- MDCF38BK Durable Carbon Fiber Matt Sunburst finish Body for beginners with handrest, set of Strings, Strap, Bag, 3 Picks, Capo, Guitar Wall Hanging Stand and Free GUITAR LEARNING COURSE (Special Learning Combo with Guitar)',\n",
       " 'Juarez JRZ-ST01, 6 Strings Electric Guitar, Right Handed with Bag/Case, 2 x Picks (3TS Sunburst)',\n",
       " \"HOMME STORE 4 String Guitar Children's Musical Instrument Educational Toy Guitar Ukulele Instruments Beginner Musical Sound Toys Best Gift for Children\",\n",
       " 'Blueberry B40L, 40\" Acoustic Guitar Kit Inbuilt Truss Rod with Bag, Strap, One Pack Strings And Picks (Classic Brown)',\n",
       " 'Festra 38C, 38 Inch Acoustic Guitar Kit with Bag, Strap, One Pack Strings And 2 Picks (Black) (Acoustic TRUSS-ROD (40 Inch) Guitar Kit, Natural)',\n",
       " 'SHARE BY Blueberry R-40- Trussrod Acoustic Guitar Kit with Bag, Strap, One Pack Strings and Picks (Natural)',\n",
       " 'Intern INT-38C-BK-G Cutaway Right Handed Acoustic Guitar Kit, With Bag, Strings, Pick And Strap (Black, 6 Strings)',\n",
       " 'Medellin 38\" Acoustic Guitar Black Carbon Fiber body+(Free Online Learning Course) - Durable Matt finish with handrest, strings, strap, bag, 3 Picks, capo, stand.',\n",
       " 'Yamaha F280 Acoustic Guitar, Tobacco Brown Sunburst with Bajaao Gig bag',\n",
       " 'Juarez Acoustic Guitar Kit, 38 Inch Cutaway, 38C with Bag, Strings, Pick and Strap, TBS Transparent Blue Sunburst',\n",
       " 'Intern INT-38C Acoustic Guitar Kit, With Bag, Strings, Pick And Strap, Natural',\n",
       " 'Juârez Acoustic Guitar, 38 Inch Cutaway, JRZ38CT, Hippie Funky Design, with Bag, Picks, Strap & Extra String set',\n",
       " 'Juarez Acoustic Guitar, 38 Inch Cutaway with Pick Guard, 38CPG with Bag, Strings, Pick and Strap, Black',\n",
       " 'TOXOT TOYS 38 IN Right Handed Acoustic Guitar With Carry Bag & Picks | Musical Instrument Learning Toy for Kids | Humidity Proof, Bend resistance, Durable Action, Natural Tone & Bright Resonance',\n",
       " 'Medellin 38\" Carbon Fiber Acoustic Guitar with free specailized learning course- MDCF38BK Durable Carbon Fiber Matt Pink finish Body for beginners with handrest, set of Strings, Strap, Bag, 3 Picks, Capo, Guitar Wall Hanging Stand and Free GUITAR LEARNING COURSE (Special Learning Combo with Guitar)',\n",
       " 'Juarez Acoustic Guitar, 38 Inch Cutaway, 38CMB with Bag, Strings, Pick and Strap, Matte Black',\n",
       " 'Saga SF-600C DREADNOUGHT Cutaway Acoustic Guitar',\n",
       " 'Intern INT-38C-SB-G Cutaway Right Handed Acoustic Guitar Kit, With Bag, Strings, Pick And Strap (Sunburst, 6 Strings)',\n",
       " 'Blueberry 38C, 38\" Acoustic Guitar Kit with Bag, Strap, One Pack Strings And Picks (Black)',\n",
       " 'Granada, Acoustic Guitar, Dreadnought PRLD-14C-F -Natural',\n",
       " 'Granada, Acoustic Guitar, Dreadnought PRLD-14C-F -Black',\n",
       " 'JUAREZ Acoustic Guitar 3xE 1st String & 2 Pick Set JRGSE32',\n",
       " 'Medellin MED-BLU-C Linden Wood Acoustic Guitar',\n",
       " 'Intern INT-38C Sunburst Acoustic Guitar kit with carry bag & picks',\n",
       " 'Revel 38 Inches Cutaway Design Acoustic Guitar with Carry bag and Plectrums. Great tone and Beginner/Learners standard size configuration for all age groups (Natural)',\n",
       " 'Yamaha FS100C Acoustic Guitar, Natural',\n",
       " 'Yamaha FSX80C Semi Acoustic Cutaway Guitar with Bag (Black)',\n",
       " 'Yamaha Acoustic Guitar F280 Dreadnought With Mexa Sponge Bag Belt,Plectrums, String Set & Guitar Stand (Natural)',\n",
       " 'Saga SF-600GC-BK Grand Concert Acoustic Guitar (BLACK)',\n",
       " 'Givson Ketostics Venus Special VS-BLK, Acoustic Guitar Combo with Cover/Bag, String Set, Belt and Picks',\n",
       " 'Intern 38C Acoustic Steel-string Guitar Premium White Cutaway Design with carry bag, strings, guitar strap and plectrums (INT-38C-WH)',\n",
       " 'Kadence Guitar Acoustica Series A05, Electric Acoustic Guitar, Zebra Wood with Pickup, Inbuilt tuner and Bag (Zebra Wood, Electro Acoustic)',\n",
       " 'JUAREZ JRZ38CTR/BK 38 Inch Acoustic Guitar with Dual Action Truss Rod, Bag, Picks, Allen Key, Extra String Set, Black',\n",
       " 'Pluto HW39-201P Electro Acoustic Guitar - Rosewood Fretboard',\n",
       " 'INTERN Cutaway Design Acoustic Guitar Pack -Humidity Proof, Bend resistant, Durable Action, Natural tone & resonance. Sunburst Carbon Fibre/Fiber Guitar with carry bag, Strap, Strings set, Picks.',\n",
       " 'Kordz Luana Natural Wooden 41 Inch Rosewood Fretboard Acoustic Guitar With Bag,Strap,1 Set of Extra Strings and 2 Picks',\n",
       " 'Yamaha Classical Guitar C40//02',\n",
       " 'Medellin 38\" Acoustic Guitar Brown Carbon Fiber Body with FREE Online LEARNING COURSE Durable Matt finish Body for beginners with handrest, set of Strings, Strap, Bag, 3 Picks, Capo, Guitar Wall Hanging Stand and Free GUITAR LEARNING COURSE (Special Learning Combo with Guitar)',\n",
       " 'Medellin carbn fiber guitar 38inch (NATURAL)',\n",
       " 'Blueberry 38 Inch Acoustic Guitar Kit Inbuilt Truss Rod, with Bag, Belt, One Pack Strings And Picks (Brown)',\n",
       " 'Samara SA41 CE N2 41-Inch Cutaway Electro-Acoustic Guitar',\n",
       " 'Cort AD810 Dreadnought Acoustic Guitar with Gig Bag,Tuner,Picks and Strap (Natural Bundle)']"
      ]
     },
     "execution_count": 6,
     "metadata": {},
     "output_type": "execute_result"
    }
   ],
   "source": [
    "titles=browser.find_elements_by_xpath(\"//h2[@class='a-size-mini a-spacing-none a-color-base s-line-clamp-2']\")\n",
    "for i in titles:\n",
    "    Title.append(i.text)\n",
    "Title"
   ]
  },
  {
   "cell_type": "code",
   "execution_count": null,
   "id": "57b76016",
   "metadata": {},
   "outputs": [],
   "source": [
    "urls=browser.find_elements_by_xpath(\"//a[@class='a-link-normal a-text-normal']\")\n",
    "UR=[]\n",
    "for i in urls:\n",
    "    UR.append(i.get_attribute('href'))\n",
    "for url in UR:\n",
    "    browser.get(url)\n",
    "    try:\n",
    "        deliveries=browser.find_elements_by_xpath(\"//div[@class=a-section a-spacing-none a-spacing-top-micro']\")\n",
    "        Delivery.append(deliveries.text)\n",
    "        rate=browser.find_elements_by_xpath(\"//span[@class='a-price-whole']\")\n",
    "        rate.click()\n",
    "        rating=browser.find_elements_by_xpath(\"//i[@class='a-icon a-icon-star-small a-star-small-4 aok-align-bottom']\")\n",
    "        Ratings.append(rating.text)\n",
    "        rates=browser.find_elements_by_xpath(\"//span[@class='a-size-base s-light-weight-text']\")\n",
    "        Rated.append(rates.text)\n",
    "    except NoSuchElementException   as e:\n",
    "        Ratings.append(\"NO rating\")#appending the No rating if no rating is there\n",
    "        Rated.append(\"No rating\")\n",
    "        brands.append(\"No rating\")\n",
    "        Delivery.append(\"No rating\")\n",
    "    "
   ]
  },
  {
   "cell_type": "code",
   "execution_count": null,
   "id": "8c240da4",
   "metadata": {},
   "outputs": [],
   "source": [
    "Delivery"
   ]
  },
  {
   "cell_type": "code",
   "execution_count": 177,
   "id": "096d6ae0",
   "metadata": {},
   "outputs": [],
   "source": [
    "url=\"https://www.amazon.in/s?k=guitar&ref=nb_sb_noss\"\n",
    "browser.get(url)\n",
    "urls=browser.find_elements_by_xpath(\"//img[@class='s-image']\")\n",
    "images=[]\n",
    "for i in urls:\n",
    "    images.append(i.get_attribute('src'))\n",
    "for url in images:\n",
    "    browser.get(url)"
   ]
  },
  {
   "cell_type": "code",
   "execution_count": 178,
   "id": "92121349",
   "metadata": {},
   "outputs": [
    {
     "data": {
      "text/plain": [
       "['3.9 out of 5']"
      ]
     },
     "execution_count": 178,
     "metadata": {},
     "output_type": "execute_result"
    }
   ],
   "source": [
    "Ratings"
   ]
  },
  {
   "cell_type": "markdown",
   "id": "fc549687",
   "metadata": {},
   "source": [
    "# Answer 3"
   ]
  },
  {
   "cell_type": "code",
   "execution_count": 151,
   "id": "0710916a",
   "metadata": {},
   "outputs": [],
   "source": [
    "import pandas as pd\n",
    "import selenium\n",
    "from selenium import webdriver\n",
    "from selenium.common.exceptions import StaleElementReferenceException, NoSuchElementException"
   ]
  },
  {
   "cell_type": "code",
   "execution_count": 152,
   "id": "e144769a",
   "metadata": {},
   "outputs": [],
   "source": [
    "import requests\n",
    "from selenium import webdriver\n",
    "\n",
    "driver = webdriver.Chrome(r\"C:\\web driver\\chromedriver.exe\")\n",
    "url = \"https://images.google.com/\"\n",
    "driver.get(url)\n"
   ]
  },
  {
   "cell_type": "code",
   "execution_count": 155,
   "id": "76122987",
   "metadata": {},
   "outputs": [
    {
     "name": "stdout",
     "output_type": "stream",
     "text": [
      "Enter your Search:fruits, machine learning, cars, guitars\n"
     ]
    }
   ],
   "source": [
    "search_bar = driver.find_element_by_xpath('//input[@class=\"gLFyf gsfi\"]')    # Locating searc_bar by id\n",
    "search_bar.clear()                                               # clearing search_bar\n",
    "search_bar.send_keys(input(\"Enter your Search:\"))                                   # sending user input to search ba\n",
    "search_button = driver.find_element_by_xpath('//span[@class=\"z1asCe MZy1Rb\"]')       # Locating search_button by xpath\n",
    "search_button.click()"
   ]
  },
  {
   "cell_type": "code",
   "execution_count": 156,
   "id": "f33b7621",
   "metadata": {},
   "outputs": [],
   "source": [
    "driver.execute_script(\"window.scrollBy(0,80000)\" \"\")\n",
    "driver.execute_script(\"window.scrollBy(0,80000)\" \"\")\n",
    "driver.execute_script(\"window.scrollBy(0,80000)\" \"\")\n",
    "driver.execute_script(\"window.scrollBy(0,80000)\" \"\")\n",
    "driver.execute_script(\"window.scrollBy(0,80000)\" \"\")\n",
    "driver.execute_script(\"window.scrollBy(0,80000)\" \"\")\n",
    "driver.execute_script(\"window.scrollBy(0,80000)\" \"\")\n",
    "   "
   ]
  },
  {
   "cell_type": "code",
   "execution_count": 157,
   "id": "6c4db0cc",
   "metadata": {},
   "outputs": [],
   "source": [
    "urls=driver.find_elements_by_xpath(\"//img[@class='rg_i Q4LuWd']\")#collecting urls of all the laptop\n",
    "images=[]\n",
    "for i in urls:\n",
    "    images.append(i.get_attribute('src'))"
   ]
  },
  {
   "cell_type": "code",
   "execution_count": 158,
   "id": "a534ac71",
   "metadata": {},
   "outputs": [
    {
     "data": {
      "text/plain": [
       "20"
      ]
     },
     "execution_count": 158,
     "metadata": {},
     "output_type": "execute_result"
    }
   ],
   "source": [
    "len(images)"
   ]
  },
  {
   "cell_type": "code",
   "execution_count": 159,
   "id": "c262f170",
   "metadata": {},
   "outputs": [],
   "source": [
    "urls=driver.find_elements_by_xpath(\"//a[@class='VFACy kGQAp sMi44c lNHeqe WGvvNb']\")#collecting urls of all the laptop\n",
    "headers=[]\n",
    "for i in urls:\n",
    "    headers.append(i.get_attribute('href'))"
   ]
  },
  {
   "cell_type": "code",
   "execution_count": 160,
   "id": "fae5c015",
   "metadata": {},
   "outputs": [
    {
     "data": {
      "text/plain": [
       "20"
      ]
     },
     "execution_count": 160,
     "metadata": {},
     "output_type": "execute_result"
    }
   ],
   "source": [
    "len(headers)"
   ]
  },
  {
   "cell_type": "code",
   "execution_count": 161,
   "id": "c7e98ab4",
   "metadata": {},
   "outputs": [],
   "source": [
    "google=pd.DataFrame({})\n",
    "google['Headers']=headers\n",
    "google['images']=images[0:20]"
   ]
  },
  {
   "cell_type": "code",
   "execution_count": 162,
   "id": "e4be66a1",
   "metadata": {},
   "outputs": [
    {
     "data": {
      "text/html": [
       "<div>\n",
       "<style scoped>\n",
       "    .dataframe tbody tr th:only-of-type {\n",
       "        vertical-align: middle;\n",
       "    }\n",
       "\n",
       "    .dataframe tbody tr th {\n",
       "        vertical-align: top;\n",
       "    }\n",
       "\n",
       "    .dataframe thead th {\n",
       "        text-align: right;\n",
       "    }\n",
       "</style>\n",
       "<table border=\"1\" class=\"dataframe\">\n",
       "  <thead>\n",
       "    <tr style=\"text-align: right;\">\n",
       "      <th></th>\n",
       "      <th>Headers</th>\n",
       "      <th>images</th>\n",
       "    </tr>\n",
       "  </thead>\n",
       "  <tbody>\n",
       "    <tr>\n",
       "      <th>0</th>\n",
       "      <td>https://analyticsindiamag.com/fruit-recognitio...</td>\n",
       "      <td>data:image/jpeg;base64,/9j/4AAQSkZJRgABAQAAAQA...</td>\n",
       "    </tr>\n",
       "    <tr>\n",
       "      <th>1</th>\n",
       "      <td>https://towardsdatascience.com/transfer-learni...</td>\n",
       "      <td>data:image/png;base64,iVBORw0KGgoAAAANSUhEUgAA...</td>\n",
       "    </tr>\n",
       "    <tr>\n",
       "      <th>2</th>\n",
       "      <td>https://medium.com/m2mtechconnect/classifying-...</td>\n",
       "      <td>data:image/jpeg;base64,/9j/4AAQSkZJRgABAQAAAQA...</td>\n",
       "    </tr>\n",
       "    <tr>\n",
       "      <th>3</th>\n",
       "      <td>https://link.springer.com/article/10.1007/s005...</td>\n",
       "      <td>data:image/jpeg;base64,/9j/4AAQSkZJRgABAQAAAQA...</td>\n",
       "    </tr>\n",
       "    <tr>\n",
       "      <th>4</th>\n",
       "      <td>https://link.springer.com/article/10.1007/s005...</td>\n",
       "      <td>data:image/jpeg;base64,/9j/4AAQSkZJRgABAQAAAQA...</td>\n",
       "    </tr>\n",
       "    <tr>\n",
       "      <th>5</th>\n",
       "      <td>https://link.springer.com/article/10.1007/s005...</td>\n",
       "      <td>data:image/jpeg;base64,/9j/4AAQSkZJRgABAQAAAQA...</td>\n",
       "    </tr>\n",
       "    <tr>\n",
       "      <th>6</th>\n",
       "      <td>https://www.zdnet.com/article/what-is-machine-...</td>\n",
       "      <td>data:image/jpeg;base64,/9j/4AAQSkZJRgABAQAAAQA...</td>\n",
       "    </tr>\n",
       "    <tr>\n",
       "      <th>7</th>\n",
       "      <td>https://www.zdnet.com/article/what-is-machine-...</td>\n",
       "      <td>data:image/jpeg;base64,/9j/4AAQSkZJRgABAQAAAQA...</td>\n",
       "    </tr>\n",
       "    <tr>\n",
       "      <th>8</th>\n",
       "      <td>https://link.springer.com/chapter/10.1007/978-...</td>\n",
       "      <td>data:image/jpeg;base64,/9j/4AAQSkZJRgABAQAAAQA...</td>\n",
       "    </tr>\n",
       "    <tr>\n",
       "      <th>9</th>\n",
       "      <td>https://www.snapdeal.com/product/hometales-veg...</td>\n",
       "      <td>data:image/jpeg;base64,/9j/4AAQSkZJRgABAQAAAQA...</td>\n",
       "    </tr>\n",
       "    <tr>\n",
       "      <th>10</th>\n",
       "      <td>https://link.springer.com/article/10.1007/s005...</td>\n",
       "      <td>data:image/jpeg;base64,/9j/4AAQSkZJRgABAQAAAQA...</td>\n",
       "    </tr>\n",
       "    <tr>\n",
       "      <th>11</th>\n",
       "      <td>https://serp.co/best/fruit-and-vegetable-suppl...</td>\n",
       "      <td>data:image/jpeg;base64,/9j/4AAQSkZJRgABAQAAAQA...</td>\n",
       "    </tr>\n",
       "    <tr>\n",
       "      <th>12</th>\n",
       "      <td>https://www.snapdeal.com/product/dipali-juicer...</td>\n",
       "      <td>data:image/jpeg;base64,/9j/4AAQSkZJRgABAQAAAQA...</td>\n",
       "    </tr>\n",
       "    <tr>\n",
       "      <th>13</th>\n",
       "      <td>https://serp.co/best/fruit-and-vegetable-suppl...</td>\n",
       "      <td>data:image/jpeg;base64,/9j/4AAQSkZJRgABAQAAAQA...</td>\n",
       "    </tr>\n",
       "    <tr>\n",
       "      <th>14</th>\n",
       "      <td>https://www.zdnet.com/article/what-is-deep-lea...</td>\n",
       "      <td>data:image/jpeg;base64,/9j/4AAQSkZJRgABAQAAAQA...</td>\n",
       "    </tr>\n",
       "    <tr>\n",
       "      <th>15</th>\n",
       "      <td>https://towardsdatascience.com/transfer-learni...</td>\n",
       "      <td>data:image/jpeg;base64,/9j/4AAQSkZJRgABAQAAAQA...</td>\n",
       "    </tr>\n",
       "    <tr>\n",
       "      <th>16</th>\n",
       "      <td>https://www.zdnet.com/article/what-is-machine-...</td>\n",
       "      <td>data:image/jpeg;base64,/9j/4AAQSkZJRgABAQAAAQA...</td>\n",
       "    </tr>\n",
       "    <tr>\n",
       "      <th>17</th>\n",
       "      <td>https://www.snapdeal.com/product/arni-stainles...</td>\n",
       "      <td>data:image/jpeg;base64,/9j/4AAQSkZJRgABAQAAAQA...</td>\n",
       "    </tr>\n",
       "    <tr>\n",
       "      <th>18</th>\n",
       "      <td>https://link.springer.com/article/10.1007/s111...</td>\n",
       "      <td>data:image/jpeg;base64,/9j/4AAQSkZJRgABAQAAAQA...</td>\n",
       "    </tr>\n",
       "    <tr>\n",
       "      <th>19</th>\n",
       "      <td>https://github.com/Ankuvaidya/Automatic-Fruit-...</td>\n",
       "      <td>data:image/jpeg;base64,/9j/4AAQSkZJRgABAQAAAQA...</td>\n",
       "    </tr>\n",
       "  </tbody>\n",
       "</table>\n",
       "</div>"
      ],
      "text/plain": [
       "                                              Headers  \\\n",
       "0   https://analyticsindiamag.com/fruit-recognitio...   \n",
       "1   https://towardsdatascience.com/transfer-learni...   \n",
       "2   https://medium.com/m2mtechconnect/classifying-...   \n",
       "3   https://link.springer.com/article/10.1007/s005...   \n",
       "4   https://link.springer.com/article/10.1007/s005...   \n",
       "5   https://link.springer.com/article/10.1007/s005...   \n",
       "6   https://www.zdnet.com/article/what-is-machine-...   \n",
       "7   https://www.zdnet.com/article/what-is-machine-...   \n",
       "8   https://link.springer.com/chapter/10.1007/978-...   \n",
       "9   https://www.snapdeal.com/product/hometales-veg...   \n",
       "10  https://link.springer.com/article/10.1007/s005...   \n",
       "11  https://serp.co/best/fruit-and-vegetable-suppl...   \n",
       "12  https://www.snapdeal.com/product/dipali-juicer...   \n",
       "13  https://serp.co/best/fruit-and-vegetable-suppl...   \n",
       "14  https://www.zdnet.com/article/what-is-deep-lea...   \n",
       "15  https://towardsdatascience.com/transfer-learni...   \n",
       "16  https://www.zdnet.com/article/what-is-machine-...   \n",
       "17  https://www.snapdeal.com/product/arni-stainles...   \n",
       "18  https://link.springer.com/article/10.1007/s111...   \n",
       "19  https://github.com/Ankuvaidya/Automatic-Fruit-...   \n",
       "\n",
       "                                               images  \n",
       "0   data:image/jpeg;base64,/9j/4AAQSkZJRgABAQAAAQA...  \n",
       "1   data:image/png;base64,iVBORw0KGgoAAAANSUhEUgAA...  \n",
       "2   data:image/jpeg;base64,/9j/4AAQSkZJRgABAQAAAQA...  \n",
       "3   data:image/jpeg;base64,/9j/4AAQSkZJRgABAQAAAQA...  \n",
       "4   data:image/jpeg;base64,/9j/4AAQSkZJRgABAQAAAQA...  \n",
       "5   data:image/jpeg;base64,/9j/4AAQSkZJRgABAQAAAQA...  \n",
       "6   data:image/jpeg;base64,/9j/4AAQSkZJRgABAQAAAQA...  \n",
       "7   data:image/jpeg;base64,/9j/4AAQSkZJRgABAQAAAQA...  \n",
       "8   data:image/jpeg;base64,/9j/4AAQSkZJRgABAQAAAQA...  \n",
       "9   data:image/jpeg;base64,/9j/4AAQSkZJRgABAQAAAQA...  \n",
       "10  data:image/jpeg;base64,/9j/4AAQSkZJRgABAQAAAQA...  \n",
       "11  data:image/jpeg;base64,/9j/4AAQSkZJRgABAQAAAQA...  \n",
       "12  data:image/jpeg;base64,/9j/4AAQSkZJRgABAQAAAQA...  \n",
       "13  data:image/jpeg;base64,/9j/4AAQSkZJRgABAQAAAQA...  \n",
       "14  data:image/jpeg;base64,/9j/4AAQSkZJRgABAQAAAQA...  \n",
       "15  data:image/jpeg;base64,/9j/4AAQSkZJRgABAQAAAQA...  \n",
       "16  data:image/jpeg;base64,/9j/4AAQSkZJRgABAQAAAQA...  \n",
       "17  data:image/jpeg;base64,/9j/4AAQSkZJRgABAQAAAQA...  \n",
       "18  data:image/jpeg;base64,/9j/4AAQSkZJRgABAQAAAQA...  \n",
       "19  data:image/jpeg;base64,/9j/4AAQSkZJRgABAQAAAQA...  "
      ]
     },
     "execution_count": 162,
     "metadata": {},
     "output_type": "execute_result"
    }
   ],
   "source": [
    "google"
   ]
  },
  {
   "cell_type": "markdown",
   "id": "77a73bee",
   "metadata": {},
   "source": [
    "# Answer 4"
   ]
  },
  {
   "cell_type": "code",
   "execution_count": 98,
   "id": "3820d510",
   "metadata": {},
   "outputs": [],
   "source": [
    "import pandas as pd\n",
    "import selenium\n",
    "from selenium import webdriver\n",
    "from selenium.common.exceptions import StaleElementReferenceException, NoSuchElementException"
   ]
  },
  {
   "cell_type": "code",
   "execution_count": 100,
   "id": "8cd12f6a",
   "metadata": {},
   "outputs": [],
   "source": [
    "driver = webdriver.Chrome(r'C:\\web driver\\chromedriver.exe')\n",
    "\n",
    "url = \"https://www.flipkart.com/\"\n",
    "\n",
    "driver.get(url)\n",
    "\n",
    "driver.maximize_window() # to maximise the chrome window\n",
    "\n",
    "#entering \"Data Analyst\" in job search bar using selenium driver\n",
    "search_glass = driver.find_element_by_class_name('_3704LK')\n",
    "search_glass.send_keys(\"Vivo Mobile Phone\")\n",
    "#clicking submit button using selenium deriver\n",
    "button_1 = driver.find_element_by_xpath('/html/body/div[2]/div/div/button')\n",
    "button_1.click()\n",
    "driver.implicitly_wait(3)\n",
    "click_button = driver.find_element_by_class_name(\"L0Z3Pu\")\n",
    "click_button.click()\n"
   ]
  },
  {
   "cell_type": "code",
   "execution_count": 104,
   "id": "09726371",
   "metadata": {},
   "outputs": [],
   "source": [
    "Brand =[]\n",
    "br = driver.find_elements_by_xpath(\"//div[@class='_4rR01T']\")\n",
    "for i in br:\n",
    "    try:\n",
    "        Brand.append(i.text)#appending the ratings in Ratings list\n",
    "\n",
    "        \n",
    "\n",
    "    except:\n",
    "        Brand.append(\"_\")"
   ]
  },
  {
   "cell_type": "code",
   "execution_count": 105,
   "id": "b61edfa7",
   "metadata": {},
   "outputs": [
    {
     "data": {
      "text/plain": [
       "24"
      ]
     },
     "execution_count": 105,
     "metadata": {},
     "output_type": "execute_result"
    }
   ],
   "source": [
    "len(Brand)"
   ]
  },
  {
   "cell_type": "code",
   "execution_count": 106,
   "id": "f6eebbbd",
   "metadata": {},
   "outputs": [
    {
     "data": {
      "text/plain": [
       "['vivo T1 5G (Starlight Black, 128 GB)',\n",
       " 'vivo T1 5G (Rainbow Fantasy, 128 GB)',\n",
       " 'vivo T1 5G (Starlight Black, 128 GB)',\n",
       " 'vivo T1 5G (Rainbow Fantasy, 128 GB)',\n",
       " 'vivo T1 44W (Ice Dawn, 128 GB)',\n",
       " 'vivo T1 44W (Starry Sky, 128 GB)',\n",
       " 'vivo T1 44W (Midnight Galaxy, 128 GB)',\n",
       " 'vivo T1 44W (Starry Sky, 128 GB)',\n",
       " 'vivo T1 44W (Ice Dawn, 128 GB)',\n",
       " 'vivo T1 44W (Midnight Galaxy, 128 GB)',\n",
       " 'vivo T1 44W (Midnight Galaxy, 128 GB)',\n",
       " 'vivo Y53s (Deep Sea Blue, 128 GB)',\n",
       " 'vivo Y53s (Fantastic Rainbow, 128 GB)',\n",
       " 'vivo T1 5G (Rainbow Fantasy, 128 GB)',\n",
       " 'vivo T1 5G (Starlight Black, 128 GB)',\n",
       " 'vivo Y21G (Midnight Blue, 64 GB)',\n",
       " 'vivo T1 Pro 5G (Turbo Black, 128 GB)',\n",
       " 'vivo T1 Pro 5G (Turbo Cyan, 128 GB)',\n",
       " 'vivo T1 Pro 5G (Turbo Cyan, 128 GB)',\n",
       " 'vivo T1 Pro 5G (Turbo Black, 128 GB)',\n",
       " 'vivo Y21A (Diamond Glow, 64 GB)',\n",
       " 'vivo Y15s (Mystic Blue, 32 GB)',\n",
       " 'vivo Y15s (Wave Green, 32 GB)',\n",
       " 'vivo Y33T (Mirror Black, 128 GB)']"
      ]
     },
     "execution_count": 106,
     "metadata": {},
     "output_type": "execute_result"
    }
   ],
   "source": [
    "Brand"
   ]
  },
  {
   "cell_type": "code",
   "execution_count": 107,
   "id": "644aceee",
   "metadata": {},
   "outputs": [],
   "source": [
    "ratings=[]\n",
    "rating=driver.find_elements_by_class_name('_1lRcqv')#scraping description by class name = '_2mylT6'\n",
    "for i in rating:\n",
    "    try:\n",
    "        ratings.append(i.text)#appending the ratings in Ratings list\n",
    "\n",
    "        \n",
    "\n",
    "    except:\n",
    "        ratings.append(\"_\")"
   ]
  },
  {
   "cell_type": "code",
   "execution_count": 108,
   "id": "fc063a1c",
   "metadata": {},
   "outputs": [
    {
     "data": {
      "text/plain": [
       "24"
      ]
     },
     "execution_count": 108,
     "metadata": {},
     "output_type": "execute_result"
    }
   ],
   "source": [
    "len(ratings)"
   ]
  },
  {
   "cell_type": "code",
   "execution_count": 109,
   "id": "c2b74a49",
   "metadata": {},
   "outputs": [
    {
     "data": {
      "text/plain": [
       "['4.4',\n",
       " '4.4',\n",
       " '4.3',\n",
       " '4.3',\n",
       " '4.5',\n",
       " '4.5',\n",
       " '4.5',\n",
       " '4.5',\n",
       " '4.5',\n",
       " '4.5',\n",
       " '4.5',\n",
       " '4.3',\n",
       " '4.3',\n",
       " '4.3',\n",
       " '4.3',\n",
       " '4.5',\n",
       " '4.4',\n",
       " '4.4',\n",
       " '4.3',\n",
       " '4.3',\n",
       " '4.3',\n",
       " '4.3',\n",
       " '4.3',\n",
       " '4.4']"
      ]
     },
     "execution_count": 109,
     "metadata": {},
     "output_type": "execute_result"
    }
   ],
   "source": [
    "ratings"
   ]
  },
  {
   "cell_type": "code",
   "execution_count": 110,
   "id": "34a9e574",
   "metadata": {},
   "outputs": [],
   "source": [
    "RAM=[]\n",
    "RM=driver.find_elements_by_xpath(\"//ul[@class='_1xgFaf']/li[1]\")\n",
    "for i in RM:\n",
    "    try:\n",
    "        RAM.append(i.text)#appending the ratings in Ratings list\n",
    "\n",
    "        \n",
    "\n",
    "    except:\n",
    "        RAM.append(\"_\")"
   ]
  },
  {
   "cell_type": "code",
   "execution_count": 111,
   "id": "0430f4bc",
   "metadata": {},
   "outputs": [
    {
     "data": {
      "text/plain": [
       "['6 GB RAM | 128 GB ROM | Expandable Upto 1 TB',\n",
       " '6 GB RAM | 128 GB ROM | Expandable Upto 1 TB',\n",
       " '4 GB RAM | 128 GB ROM | Expandable Upto 1 TB',\n",
       " '4 GB RAM | 128 GB ROM | Expandable Upto 1 TB',\n",
       " '8 GB RAM | 128 GB ROM | Expandable Upto 1 TB',\n",
       " '4 GB RAM | 128 GB ROM | Expandable Upto 1 TB',\n",
       " '8 GB RAM | 128 GB ROM | Expandable Upto 1 TB',\n",
       " '8 GB RAM | 128 GB ROM | Expandable Upto 1 TB',\n",
       " '4 GB RAM | 128 GB ROM | Expandable Upto 1 TB',\n",
       " '6 GB RAM | 128 GB ROM | Expandable Upto 1 TB',\n",
       " '4 GB RAM | 128 GB ROM | Expandable Upto 1 TB',\n",
       " '8 GB RAM | 128 GB ROM | Expandable Upto 1 TB',\n",
       " '8 GB RAM | 128 GB ROM | Expandable Upto 1 TB',\n",
       " '8 GB RAM | 128 GB ROM | Expandable Upto 1 TB',\n",
       " '8 GB RAM | 128 GB ROM | Expandable Upto 1 TB',\n",
       " '4 GB RAM | 64 GB ROM | Expandable Upto 1 TB',\n",
       " '8 GB RAM | 128 GB ROM',\n",
       " '8 GB RAM | 128 GB ROM',\n",
       " '6 GB RAM | 128 GB ROM',\n",
       " '6 GB RAM | 128 GB ROM',\n",
       " '4 GB RAM | 64 GB ROM',\n",
       " '3 GB RAM | 32 GB ROM | Expandable Upto 1 TB',\n",
       " '3 GB RAM | 32 GB ROM | Expandable Upto 1 TB',\n",
       " '8 GB RAM | 128 GB ROM | Expandable Upto 1 TB']"
      ]
     },
     "execution_count": 111,
     "metadata": {},
     "output_type": "execute_result"
    }
   ],
   "source": [
    "RAM"
   ]
  },
  {
   "cell_type": "code",
   "execution_count": 112,
   "id": "38489d75",
   "metadata": {},
   "outputs": [],
   "source": [
    "Display_Size=[]\n",
    "DS=driver.find_elements_by_xpath(\"//ul[@class='_1xgFaf']/li[2]\")\n",
    "for i in DS:\n",
    "    try:\n",
    "        Display_Size.append(i.text)#appending the ratings in Ratings list\n",
    "\n",
    "        \n",
    "\n",
    "    except:\n",
    "        Display_Size.append(\"_\")"
   ]
  },
  {
   "cell_type": "code",
   "execution_count": 113,
   "id": "fed950ad",
   "metadata": {},
   "outputs": [
    {
     "data": {
      "text/plain": [
       "['16.71 cm (6.58 inch) Full HD+ Display',\n",
       " '16.71 cm (6.58 inch) Full HD+ Display',\n",
       " '16.71 cm (6.58 inch) Full HD+ Display',\n",
       " '16.71 cm (6.58 inch) Full HD+ Display',\n",
       " '16.36 cm (6.44 inch) Full HD+ AMOLED Display',\n",
       " '16.36 cm (6.44 inch) Full HD+ AMOLED Display',\n",
       " '16.36 cm (6.44 inch) Full HD+ AMOLED Display',\n",
       " '16.36 cm (6.44 inch) Full HD+ AMOLED Display',\n",
       " '16.36 cm (6.44 inch) Full HD+ AMOLED Display',\n",
       " '16.36 cm (6.44 inch) Full HD+ AMOLED Display',\n",
       " '16.36 cm (6.44 inch) Full HD+ AMOLED Display',\n",
       " '16.71 cm (6.58 inch) Full HD+ Display',\n",
       " '16.71 cm (6.58 inch) Full HD+ Display',\n",
       " '16.71 cm (6.58 inch) Full HD+ Display',\n",
       " '16.71 cm (6.58 inch) Full HD+ Display',\n",
       " '16.54 cm (6.51 inch) HD+ Display',\n",
       " '16.36 cm (6.44 inch) Full HD+ AMOLED Display',\n",
       " '16.36 cm (6.44 inch) Full HD+ AMOLED Display',\n",
       " '16.36 cm (6.44 inch) Full HD+ AMOLED Display',\n",
       " '16.36 cm (6.44 inch) Full HD+ AMOLED Display',\n",
       " '16.54 cm (6.51 inch) Display',\n",
       " '16.54 cm (6.51 inch) HD+ Display',\n",
       " '16.54 cm (6.51 inch) HD+ Display',\n",
       " '16.71 cm (6.58 inch) Full HD+ Display']"
      ]
     },
     "execution_count": 113,
     "metadata": {},
     "output_type": "execute_result"
    }
   ],
   "source": [
    "Display_Size"
   ]
  },
  {
   "cell_type": "code",
   "execution_count": 114,
   "id": "96f958b9",
   "metadata": {},
   "outputs": [],
   "source": [
    "Camera=[]\n",
    "cm=driver.find_elements_by_xpath(\"//ul[@class='_1xgFaf']/li[3]\")\n",
    "for i in cm:\n",
    "    try:\n",
    "        Camera.append(i.text)#appending the ratings in Ratings list\n",
    "\n",
    "        \n",
    "\n",
    "    except:\n",
    "        Camera.append(\"_\")"
   ]
  },
  {
   "cell_type": "code",
   "execution_count": 115,
   "id": "34325cf4",
   "metadata": {},
   "outputs": [
    {
     "data": {
      "text/plain": [
       "['50MP + 2MP + 2MP | 16MP Front Camera',\n",
       " '50MP + 2MP + 2MP | 16MP Front Camera',\n",
       " '50MP + 2MP + 2MP | 16MP Front Camera',\n",
       " '50MP + 2MP + 2MP | 16MP Front Camera',\n",
       " '50MP + 2MP + 2MP | 16MP Front Camera',\n",
       " '50MP + 2MP + 2MP | 16MP Front Camera',\n",
       " '50MP + 2MP + 2MP | 16MP Front Camera',\n",
       " '50MP + 2MP + 2MP | 16MP Front Camera',\n",
       " '50MP + 2MP + 2MP | 16MP Front Camera',\n",
       " '50MP + 2MP + 2MP | 16MP Front Camera',\n",
       " '50MP + 2MP + 2MP | 16MP Front Camera',\n",
       " '64MP + 2MP + 2MP | 16MP Front Camera',\n",
       " '64MP + 2MP + 2MP | 16MP Front Camera',\n",
       " '50MP + 2MP + 2MP | 16MP Front Camera',\n",
       " '50MP + 2MP + 2MP | 16MP Front Camera',\n",
       " '13MP + 2MP | 8MP Front Camera',\n",
       " '64MP + 8MP + 2MP | 16MP Front Camera',\n",
       " '64MP + 8MP + 2MP | 16MP Front Camera',\n",
       " '64MP + 8MP + 2MP | 16MP Front Camera',\n",
       " '64MP + 8MP + 2MP | 16MP Front Camera',\n",
       " '13MP Rear Camera',\n",
       " '13MP + 2MP | 8MP Front Camera',\n",
       " '13MP + 2MP | 8MP Front Camera',\n",
       " '50MP + 2MP + 2MP | 16MP Front Camera']"
      ]
     },
     "execution_count": 115,
     "metadata": {},
     "output_type": "execute_result"
    }
   ],
   "source": [
    "Camera"
   ]
  },
  {
   "cell_type": "code",
   "execution_count": 116,
   "id": "bc1dd994",
   "metadata": {},
   "outputs": [],
   "source": [
    "Battery=[]\n",
    "bt=driver.find_elements_by_xpath(\"//ul[@class='_1xgFaf']/li[4]\")\n",
    "for i in bt:\n",
    "    try:\n",
    "        Battery.append(i.text)#appending the ratings in Ratings list\n",
    "\n",
    "        \n",
    "\n",
    "    except:\n",
    "        Battery.append(\"_\")"
   ]
  },
  {
   "cell_type": "code",
   "execution_count": 117,
   "id": "97822a27",
   "metadata": {},
   "outputs": [
    {
     "data": {
      "text/plain": [
       "['5000 mAh Lithium Battery',\n",
       " '5000 mAh Lithium Battery',\n",
       " '5000 mAh Lithium Battery',\n",
       " '5000 mAh Lithium Battery',\n",
       " '5000 mAh Lithium Battery',\n",
       " '5000 mAh Lithium Battery',\n",
       " '5000 mAh Lithium Battery',\n",
       " '5000 mAh Lithium Battery',\n",
       " '5000 mAh Lithium Battery',\n",
       " '5000 mAh Lithium Battery',\n",
       " '5000 mAh Lithium Battery',\n",
       " '5000 mAh Battery',\n",
       " '5000 mAh Battery',\n",
       " '5000 mAh Lithium Battery',\n",
       " '5000 mAh Lithium Battery',\n",
       " '5000 mAh Lithium Battery',\n",
       " '4700 mAh Lithium Battery',\n",
       " '4700 mAh Lithium Battery',\n",
       " '4700 mAh Lithium Battery',\n",
       " '4700 mAh Lithium Battery',\n",
       " '5000 mAh Battery',\n",
       " '5000 mAh Lithium Battery Battery',\n",
       " '5000 mAh Lithium Battery Battery',\n",
       " '5000 mAh Lithium Battery']"
      ]
     },
     "execution_count": 117,
     "metadata": {},
     "output_type": "execute_result"
    }
   ],
   "source": [
    "Battery"
   ]
  },
  {
   "cell_type": "code",
   "execution_count": 118,
   "id": "72d9613b",
   "metadata": {},
   "outputs": [],
   "source": [
    "Warranty=[]\n",
    "wy=driver.find_elements_by_xpath(\"//ul[@class='_1xgFaf']/li[5]\")\n",
    "for i in wy:\n",
    "    try:\n",
    "        Warranty.append(i.text)#appending the ratings in Ratings list\n",
    "\n",
    "        \n",
    "\n",
    "    except:\n",
    "        Warranty.append(\"_\")"
   ]
  },
  {
   "cell_type": "code",
   "execution_count": 119,
   "id": "7ac0443c",
   "metadata": {},
   "outputs": [
    {
     "data": {
      "text/plain": [
       "['Qualcomm Snapdragon 695 Processor',\n",
       " 'Qualcomm Snapdragon 695 Processor',\n",
       " 'Qualcomm Snapdragon 695 Processor',\n",
       " 'Qualcomm Snapdragon 695 Processor',\n",
       " 'Qualcomm Snapdragon 680 Processor',\n",
       " 'Qualcomm Snapdragon 680 Processor',\n",
       " 'Qualcomm Snapdragon 680 Processor',\n",
       " 'Qualcomm Snapdragon 680 Processor',\n",
       " 'Qualcomm Snapdragon 680 Processor',\n",
       " 'Qualcomm Snapdragon 680 Processor',\n",
       " 'Qualcomm Snapdragon 680 Processor',\n",
       " 'MediaTek Helio G80 Processor',\n",
       " 'MediaTek Helio G80 Processor',\n",
       " 'Qualcomm Snapdragon 695 Processor',\n",
       " 'Qualcomm Snapdragon 695 Processor',\n",
       " 'Mediatek MT6769 Helio G70 Processor',\n",
       " 'Qualcomm Snapdragon 778G 5G Mobile Platform Processor',\n",
       " 'Qualcomm Snapdragon 778G 5G Mobile Platform Processor',\n",
       " 'Qualcomm Snapdragon 778G 5G Mobile Platform Processor',\n",
       " 'Qualcomm Snapdragon 778G 5G Mobile Platform Processor',\n",
       " '1 Year for Handset and 6 Months for Inbox Accessories',\n",
       " 'Mediatek Helio P35 Processor',\n",
       " 'Mediatek Helio P35 Processor',\n",
       " 'Qualcomm Snapdragon 680 Processor']"
      ]
     },
     "execution_count": 119,
     "metadata": {},
     "output_type": "execute_result"
    }
   ],
   "source": [
    "Warranty"
   ]
  },
  {
   "cell_type": "code",
   "execution_count": 120,
   "id": "66d72d3d",
   "metadata": {},
   "outputs": [],
   "source": [
    "Prices=[]\n",
    "pr=driver.find_elements_by_xpath(\"//div[@class='_30jeq3 _1_WHN1']\")\n",
    "for i in pr:\n",
    "    try:\n",
    "        Prices.append(i.text)#appending the ratings in Ratings list\n",
    "\n",
    "        \n",
    "\n",
    "    except:\n",
    "        Prices.append(\"_\")"
   ]
  },
  {
   "cell_type": "code",
   "execution_count": 121,
   "id": "62d95619",
   "metadata": {},
   "outputs": [
    {
     "data": {
      "text/plain": [
       "['₹16,990',\n",
       " '₹16,990',\n",
       " '₹15,990',\n",
       " '₹15,990',\n",
       " '₹17,999',\n",
       " '₹14,499',\n",
       " '₹17,999',\n",
       " '₹17,999',\n",
       " '₹14,499',\n",
       " '₹15,999',\n",
       " '₹14,499',\n",
       " '₹15,990',\n",
       " '₹15,990',\n",
       " '₹19,990',\n",
       " '₹19,990',\n",
       " '₹13,499',\n",
       " '₹24,999',\n",
       " '₹24,999',\n",
       " '₹23,999',\n",
       " '₹23,999',\n",
       " '₹12,730',\n",
       " '₹10,490',\n",
       " '₹10,490',\n",
       " '₹17,990']"
      ]
     },
     "execution_count": 121,
     "metadata": {},
     "output_type": "execute_result"
    }
   ],
   "source": [
    "Prices"
   ]
  },
  {
   "cell_type": "code",
   "execution_count": 122,
   "id": "56f6f036",
   "metadata": {},
   "outputs": [],
   "source": [
    "flipkart=pd.DataFrame({})\n",
    "flipkart['brand']=Brand[0:22]\n",
    "flipkart['ratings']=ratings[0:22]\n",
    "flipkart['inches']=Display_Size[0:22]\n",
    "flipkart['camera']=Camera[0:22]\n",
    "flipkart['price']=Prices[0:22]\n",
    "flipkart['Ram']=RAM[0:22]\n",
    "flipkart['battery']=Battery[0:22]\n",
    "flipkart['warranty']=Warranty[0:22]\n"
   ]
  },
  {
   "cell_type": "code",
   "execution_count": 123,
   "id": "0e5c1c20",
   "metadata": {},
   "outputs": [
    {
     "data": {
      "text/html": [
       "<div>\n",
       "<style scoped>\n",
       "    .dataframe tbody tr th:only-of-type {\n",
       "        vertical-align: middle;\n",
       "    }\n",
       "\n",
       "    .dataframe tbody tr th {\n",
       "        vertical-align: top;\n",
       "    }\n",
       "\n",
       "    .dataframe thead th {\n",
       "        text-align: right;\n",
       "    }\n",
       "</style>\n",
       "<table border=\"1\" class=\"dataframe\">\n",
       "  <thead>\n",
       "    <tr style=\"text-align: right;\">\n",
       "      <th></th>\n",
       "      <th>brand</th>\n",
       "      <th>ratings</th>\n",
       "      <th>inches</th>\n",
       "      <th>camera</th>\n",
       "      <th>price</th>\n",
       "      <th>Ram</th>\n",
       "      <th>battery</th>\n",
       "      <th>warranty</th>\n",
       "    </tr>\n",
       "  </thead>\n",
       "  <tbody>\n",
       "    <tr>\n",
       "      <th>0</th>\n",
       "      <td>vivo T1 5G (Starlight Black, 128 GB)</td>\n",
       "      <td>4.4</td>\n",
       "      <td>16.71 cm (6.58 inch) Full HD+ Display</td>\n",
       "      <td>50MP + 2MP + 2MP | 16MP Front Camera</td>\n",
       "      <td>₹16,990</td>\n",
       "      <td>6 GB RAM | 128 GB ROM | Expandable Upto 1 TB</td>\n",
       "      <td>5000 mAh Lithium Battery</td>\n",
       "      <td>Qualcomm Snapdragon 695 Processor</td>\n",
       "    </tr>\n",
       "    <tr>\n",
       "      <th>1</th>\n",
       "      <td>vivo T1 5G (Rainbow Fantasy, 128 GB)</td>\n",
       "      <td>4.4</td>\n",
       "      <td>16.71 cm (6.58 inch) Full HD+ Display</td>\n",
       "      <td>50MP + 2MP + 2MP | 16MP Front Camera</td>\n",
       "      <td>₹16,990</td>\n",
       "      <td>6 GB RAM | 128 GB ROM | Expandable Upto 1 TB</td>\n",
       "      <td>5000 mAh Lithium Battery</td>\n",
       "      <td>Qualcomm Snapdragon 695 Processor</td>\n",
       "    </tr>\n",
       "    <tr>\n",
       "      <th>2</th>\n",
       "      <td>vivo T1 5G (Starlight Black, 128 GB)</td>\n",
       "      <td>4.3</td>\n",
       "      <td>16.71 cm (6.58 inch) Full HD+ Display</td>\n",
       "      <td>50MP + 2MP + 2MP | 16MP Front Camera</td>\n",
       "      <td>₹15,990</td>\n",
       "      <td>4 GB RAM | 128 GB ROM | Expandable Upto 1 TB</td>\n",
       "      <td>5000 mAh Lithium Battery</td>\n",
       "      <td>Qualcomm Snapdragon 695 Processor</td>\n",
       "    </tr>\n",
       "    <tr>\n",
       "      <th>3</th>\n",
       "      <td>vivo T1 5G (Rainbow Fantasy, 128 GB)</td>\n",
       "      <td>4.3</td>\n",
       "      <td>16.71 cm (6.58 inch) Full HD+ Display</td>\n",
       "      <td>50MP + 2MP + 2MP | 16MP Front Camera</td>\n",
       "      <td>₹15,990</td>\n",
       "      <td>4 GB RAM | 128 GB ROM | Expandable Upto 1 TB</td>\n",
       "      <td>5000 mAh Lithium Battery</td>\n",
       "      <td>Qualcomm Snapdragon 695 Processor</td>\n",
       "    </tr>\n",
       "    <tr>\n",
       "      <th>4</th>\n",
       "      <td>vivo T1 44W (Ice Dawn, 128 GB)</td>\n",
       "      <td>4.5</td>\n",
       "      <td>16.36 cm (6.44 inch) Full HD+ AMOLED Display</td>\n",
       "      <td>50MP + 2MP + 2MP | 16MP Front Camera</td>\n",
       "      <td>₹17,999</td>\n",
       "      <td>8 GB RAM | 128 GB ROM | Expandable Upto 1 TB</td>\n",
       "      <td>5000 mAh Lithium Battery</td>\n",
       "      <td>Qualcomm Snapdragon 680 Processor</td>\n",
       "    </tr>\n",
       "    <tr>\n",
       "      <th>5</th>\n",
       "      <td>vivo T1 44W (Starry Sky, 128 GB)</td>\n",
       "      <td>4.5</td>\n",
       "      <td>16.36 cm (6.44 inch) Full HD+ AMOLED Display</td>\n",
       "      <td>50MP + 2MP + 2MP | 16MP Front Camera</td>\n",
       "      <td>₹14,499</td>\n",
       "      <td>4 GB RAM | 128 GB ROM | Expandable Upto 1 TB</td>\n",
       "      <td>5000 mAh Lithium Battery</td>\n",
       "      <td>Qualcomm Snapdragon 680 Processor</td>\n",
       "    </tr>\n",
       "    <tr>\n",
       "      <th>6</th>\n",
       "      <td>vivo T1 44W (Midnight Galaxy, 128 GB)</td>\n",
       "      <td>4.5</td>\n",
       "      <td>16.36 cm (6.44 inch) Full HD+ AMOLED Display</td>\n",
       "      <td>50MP + 2MP + 2MP | 16MP Front Camera</td>\n",
       "      <td>₹17,999</td>\n",
       "      <td>8 GB RAM | 128 GB ROM | Expandable Upto 1 TB</td>\n",
       "      <td>5000 mAh Lithium Battery</td>\n",
       "      <td>Qualcomm Snapdragon 680 Processor</td>\n",
       "    </tr>\n",
       "    <tr>\n",
       "      <th>7</th>\n",
       "      <td>vivo T1 44W (Starry Sky, 128 GB)</td>\n",
       "      <td>4.5</td>\n",
       "      <td>16.36 cm (6.44 inch) Full HD+ AMOLED Display</td>\n",
       "      <td>50MP + 2MP + 2MP | 16MP Front Camera</td>\n",
       "      <td>₹17,999</td>\n",
       "      <td>8 GB RAM | 128 GB ROM | Expandable Upto 1 TB</td>\n",
       "      <td>5000 mAh Lithium Battery</td>\n",
       "      <td>Qualcomm Snapdragon 680 Processor</td>\n",
       "    </tr>\n",
       "    <tr>\n",
       "      <th>8</th>\n",
       "      <td>vivo T1 44W (Ice Dawn, 128 GB)</td>\n",
       "      <td>4.5</td>\n",
       "      <td>16.36 cm (6.44 inch) Full HD+ AMOLED Display</td>\n",
       "      <td>50MP + 2MP + 2MP | 16MP Front Camera</td>\n",
       "      <td>₹14,499</td>\n",
       "      <td>4 GB RAM | 128 GB ROM | Expandable Upto 1 TB</td>\n",
       "      <td>5000 mAh Lithium Battery</td>\n",
       "      <td>Qualcomm Snapdragon 680 Processor</td>\n",
       "    </tr>\n",
       "    <tr>\n",
       "      <th>9</th>\n",
       "      <td>vivo T1 44W (Midnight Galaxy, 128 GB)</td>\n",
       "      <td>4.5</td>\n",
       "      <td>16.36 cm (6.44 inch) Full HD+ AMOLED Display</td>\n",
       "      <td>50MP + 2MP + 2MP | 16MP Front Camera</td>\n",
       "      <td>₹15,999</td>\n",
       "      <td>6 GB RAM | 128 GB ROM | Expandable Upto 1 TB</td>\n",
       "      <td>5000 mAh Lithium Battery</td>\n",
       "      <td>Qualcomm Snapdragon 680 Processor</td>\n",
       "    </tr>\n",
       "    <tr>\n",
       "      <th>10</th>\n",
       "      <td>vivo T1 44W (Midnight Galaxy, 128 GB)</td>\n",
       "      <td>4.5</td>\n",
       "      <td>16.36 cm (6.44 inch) Full HD+ AMOLED Display</td>\n",
       "      <td>50MP + 2MP + 2MP | 16MP Front Camera</td>\n",
       "      <td>₹14,499</td>\n",
       "      <td>4 GB RAM | 128 GB ROM | Expandable Upto 1 TB</td>\n",
       "      <td>5000 mAh Lithium Battery</td>\n",
       "      <td>Qualcomm Snapdragon 680 Processor</td>\n",
       "    </tr>\n",
       "    <tr>\n",
       "      <th>11</th>\n",
       "      <td>vivo Y53s (Deep Sea Blue, 128 GB)</td>\n",
       "      <td>4.3</td>\n",
       "      <td>16.71 cm (6.58 inch) Full HD+ Display</td>\n",
       "      <td>64MP + 2MP + 2MP | 16MP Front Camera</td>\n",
       "      <td>₹15,990</td>\n",
       "      <td>8 GB RAM | 128 GB ROM | Expandable Upto 1 TB</td>\n",
       "      <td>5000 mAh Battery</td>\n",
       "      <td>MediaTek Helio G80 Processor</td>\n",
       "    </tr>\n",
       "    <tr>\n",
       "      <th>12</th>\n",
       "      <td>vivo Y53s (Fantastic Rainbow, 128 GB)</td>\n",
       "      <td>4.3</td>\n",
       "      <td>16.71 cm (6.58 inch) Full HD+ Display</td>\n",
       "      <td>64MP + 2MP + 2MP | 16MP Front Camera</td>\n",
       "      <td>₹15,990</td>\n",
       "      <td>8 GB RAM | 128 GB ROM | Expandable Upto 1 TB</td>\n",
       "      <td>5000 mAh Battery</td>\n",
       "      <td>MediaTek Helio G80 Processor</td>\n",
       "    </tr>\n",
       "    <tr>\n",
       "      <th>13</th>\n",
       "      <td>vivo T1 5G (Rainbow Fantasy, 128 GB)</td>\n",
       "      <td>4.3</td>\n",
       "      <td>16.71 cm (6.58 inch) Full HD+ Display</td>\n",
       "      <td>50MP + 2MP + 2MP | 16MP Front Camera</td>\n",
       "      <td>₹19,990</td>\n",
       "      <td>8 GB RAM | 128 GB ROM | Expandable Upto 1 TB</td>\n",
       "      <td>5000 mAh Lithium Battery</td>\n",
       "      <td>Qualcomm Snapdragon 695 Processor</td>\n",
       "    </tr>\n",
       "    <tr>\n",
       "      <th>14</th>\n",
       "      <td>vivo T1 5G (Starlight Black, 128 GB)</td>\n",
       "      <td>4.3</td>\n",
       "      <td>16.71 cm (6.58 inch) Full HD+ Display</td>\n",
       "      <td>50MP + 2MP + 2MP | 16MP Front Camera</td>\n",
       "      <td>₹19,990</td>\n",
       "      <td>8 GB RAM | 128 GB ROM | Expandable Upto 1 TB</td>\n",
       "      <td>5000 mAh Lithium Battery</td>\n",
       "      <td>Qualcomm Snapdragon 695 Processor</td>\n",
       "    </tr>\n",
       "    <tr>\n",
       "      <th>15</th>\n",
       "      <td>vivo Y21G (Midnight Blue, 64 GB)</td>\n",
       "      <td>4.5</td>\n",
       "      <td>16.54 cm (6.51 inch) HD+ Display</td>\n",
       "      <td>13MP + 2MP | 8MP Front Camera</td>\n",
       "      <td>₹13,499</td>\n",
       "      <td>4 GB RAM | 64 GB ROM | Expandable Upto 1 TB</td>\n",
       "      <td>5000 mAh Lithium Battery</td>\n",
       "      <td>Mediatek MT6769 Helio G70 Processor</td>\n",
       "    </tr>\n",
       "    <tr>\n",
       "      <th>16</th>\n",
       "      <td>vivo T1 Pro 5G (Turbo Black, 128 GB)</td>\n",
       "      <td>4.4</td>\n",
       "      <td>16.36 cm (6.44 inch) Full HD+ AMOLED Display</td>\n",
       "      <td>64MP + 8MP + 2MP | 16MP Front Camera</td>\n",
       "      <td>₹24,999</td>\n",
       "      <td>8 GB RAM | 128 GB ROM</td>\n",
       "      <td>4700 mAh Lithium Battery</td>\n",
       "      <td>Qualcomm Snapdragon 778G 5G Mobile Platform Pr...</td>\n",
       "    </tr>\n",
       "    <tr>\n",
       "      <th>17</th>\n",
       "      <td>vivo T1 Pro 5G (Turbo Cyan, 128 GB)</td>\n",
       "      <td>4.4</td>\n",
       "      <td>16.36 cm (6.44 inch) Full HD+ AMOLED Display</td>\n",
       "      <td>64MP + 8MP + 2MP | 16MP Front Camera</td>\n",
       "      <td>₹24,999</td>\n",
       "      <td>8 GB RAM | 128 GB ROM</td>\n",
       "      <td>4700 mAh Lithium Battery</td>\n",
       "      <td>Qualcomm Snapdragon 778G 5G Mobile Platform Pr...</td>\n",
       "    </tr>\n",
       "    <tr>\n",
       "      <th>18</th>\n",
       "      <td>vivo T1 Pro 5G (Turbo Cyan, 128 GB)</td>\n",
       "      <td>4.3</td>\n",
       "      <td>16.36 cm (6.44 inch) Full HD+ AMOLED Display</td>\n",
       "      <td>64MP + 8MP + 2MP | 16MP Front Camera</td>\n",
       "      <td>₹23,999</td>\n",
       "      <td>6 GB RAM | 128 GB ROM</td>\n",
       "      <td>4700 mAh Lithium Battery</td>\n",
       "      <td>Qualcomm Snapdragon 778G 5G Mobile Platform Pr...</td>\n",
       "    </tr>\n",
       "    <tr>\n",
       "      <th>19</th>\n",
       "      <td>vivo T1 Pro 5G (Turbo Black, 128 GB)</td>\n",
       "      <td>4.3</td>\n",
       "      <td>16.36 cm (6.44 inch) Full HD+ AMOLED Display</td>\n",
       "      <td>64MP + 8MP + 2MP | 16MP Front Camera</td>\n",
       "      <td>₹23,999</td>\n",
       "      <td>6 GB RAM | 128 GB ROM</td>\n",
       "      <td>4700 mAh Lithium Battery</td>\n",
       "      <td>Qualcomm Snapdragon 778G 5G Mobile Platform Pr...</td>\n",
       "    </tr>\n",
       "    <tr>\n",
       "      <th>20</th>\n",
       "      <td>vivo Y21A (Diamond Glow, 64 GB)</td>\n",
       "      <td>4.3</td>\n",
       "      <td>16.54 cm (6.51 inch) Display</td>\n",
       "      <td>13MP Rear Camera</td>\n",
       "      <td>₹12,730</td>\n",
       "      <td>4 GB RAM | 64 GB ROM</td>\n",
       "      <td>5000 mAh Battery</td>\n",
       "      <td>1 Year for Handset and 6 Months for Inbox Acce...</td>\n",
       "    </tr>\n",
       "    <tr>\n",
       "      <th>21</th>\n",
       "      <td>vivo Y15s (Mystic Blue, 32 GB)</td>\n",
       "      <td>4.3</td>\n",
       "      <td>16.54 cm (6.51 inch) HD+ Display</td>\n",
       "      <td>13MP + 2MP | 8MP Front Camera</td>\n",
       "      <td>₹10,490</td>\n",
       "      <td>3 GB RAM | 32 GB ROM | Expandable Upto 1 TB</td>\n",
       "      <td>5000 mAh Lithium Battery Battery</td>\n",
       "      <td>Mediatek Helio P35 Processor</td>\n",
       "    </tr>\n",
       "  </tbody>\n",
       "</table>\n",
       "</div>"
      ],
      "text/plain": [
       "                                    brand ratings  \\\n",
       "0    vivo T1 5G (Starlight Black, 128 GB)     4.4   \n",
       "1    vivo T1 5G (Rainbow Fantasy, 128 GB)     4.4   \n",
       "2    vivo T1 5G (Starlight Black, 128 GB)     4.3   \n",
       "3    vivo T1 5G (Rainbow Fantasy, 128 GB)     4.3   \n",
       "4          vivo T1 44W (Ice Dawn, 128 GB)     4.5   \n",
       "5        vivo T1 44W (Starry Sky, 128 GB)     4.5   \n",
       "6   vivo T1 44W (Midnight Galaxy, 128 GB)     4.5   \n",
       "7        vivo T1 44W (Starry Sky, 128 GB)     4.5   \n",
       "8          vivo T1 44W (Ice Dawn, 128 GB)     4.5   \n",
       "9   vivo T1 44W (Midnight Galaxy, 128 GB)     4.5   \n",
       "10  vivo T1 44W (Midnight Galaxy, 128 GB)     4.5   \n",
       "11      vivo Y53s (Deep Sea Blue, 128 GB)     4.3   \n",
       "12  vivo Y53s (Fantastic Rainbow, 128 GB)     4.3   \n",
       "13   vivo T1 5G (Rainbow Fantasy, 128 GB)     4.3   \n",
       "14   vivo T1 5G (Starlight Black, 128 GB)     4.3   \n",
       "15       vivo Y21G (Midnight Blue, 64 GB)     4.5   \n",
       "16   vivo T1 Pro 5G (Turbo Black, 128 GB)     4.4   \n",
       "17    vivo T1 Pro 5G (Turbo Cyan, 128 GB)     4.4   \n",
       "18    vivo T1 Pro 5G (Turbo Cyan, 128 GB)     4.3   \n",
       "19   vivo T1 Pro 5G (Turbo Black, 128 GB)     4.3   \n",
       "20        vivo Y21A (Diamond Glow, 64 GB)     4.3   \n",
       "21         vivo Y15s (Mystic Blue, 32 GB)     4.3   \n",
       "\n",
       "                                          inches  \\\n",
       "0          16.71 cm (6.58 inch) Full HD+ Display   \n",
       "1          16.71 cm (6.58 inch) Full HD+ Display   \n",
       "2          16.71 cm (6.58 inch) Full HD+ Display   \n",
       "3          16.71 cm (6.58 inch) Full HD+ Display   \n",
       "4   16.36 cm (6.44 inch) Full HD+ AMOLED Display   \n",
       "5   16.36 cm (6.44 inch) Full HD+ AMOLED Display   \n",
       "6   16.36 cm (6.44 inch) Full HD+ AMOLED Display   \n",
       "7   16.36 cm (6.44 inch) Full HD+ AMOLED Display   \n",
       "8   16.36 cm (6.44 inch) Full HD+ AMOLED Display   \n",
       "9   16.36 cm (6.44 inch) Full HD+ AMOLED Display   \n",
       "10  16.36 cm (6.44 inch) Full HD+ AMOLED Display   \n",
       "11         16.71 cm (6.58 inch) Full HD+ Display   \n",
       "12         16.71 cm (6.58 inch) Full HD+ Display   \n",
       "13         16.71 cm (6.58 inch) Full HD+ Display   \n",
       "14         16.71 cm (6.58 inch) Full HD+ Display   \n",
       "15              16.54 cm (6.51 inch) HD+ Display   \n",
       "16  16.36 cm (6.44 inch) Full HD+ AMOLED Display   \n",
       "17  16.36 cm (6.44 inch) Full HD+ AMOLED Display   \n",
       "18  16.36 cm (6.44 inch) Full HD+ AMOLED Display   \n",
       "19  16.36 cm (6.44 inch) Full HD+ AMOLED Display   \n",
       "20                  16.54 cm (6.51 inch) Display   \n",
       "21              16.54 cm (6.51 inch) HD+ Display   \n",
       "\n",
       "                                  camera    price  \\\n",
       "0   50MP + 2MP + 2MP | 16MP Front Camera  ₹16,990   \n",
       "1   50MP + 2MP + 2MP | 16MP Front Camera  ₹16,990   \n",
       "2   50MP + 2MP + 2MP | 16MP Front Camera  ₹15,990   \n",
       "3   50MP + 2MP + 2MP | 16MP Front Camera  ₹15,990   \n",
       "4   50MP + 2MP + 2MP | 16MP Front Camera  ₹17,999   \n",
       "5   50MP + 2MP + 2MP | 16MP Front Camera  ₹14,499   \n",
       "6   50MP + 2MP + 2MP | 16MP Front Camera  ₹17,999   \n",
       "7   50MP + 2MP + 2MP | 16MP Front Camera  ₹17,999   \n",
       "8   50MP + 2MP + 2MP | 16MP Front Camera  ₹14,499   \n",
       "9   50MP + 2MP + 2MP | 16MP Front Camera  ₹15,999   \n",
       "10  50MP + 2MP + 2MP | 16MP Front Camera  ₹14,499   \n",
       "11  64MP + 2MP + 2MP | 16MP Front Camera  ₹15,990   \n",
       "12  64MP + 2MP + 2MP | 16MP Front Camera  ₹15,990   \n",
       "13  50MP + 2MP + 2MP | 16MP Front Camera  ₹19,990   \n",
       "14  50MP + 2MP + 2MP | 16MP Front Camera  ₹19,990   \n",
       "15         13MP + 2MP | 8MP Front Camera  ₹13,499   \n",
       "16  64MP + 8MP + 2MP | 16MP Front Camera  ₹24,999   \n",
       "17  64MP + 8MP + 2MP | 16MP Front Camera  ₹24,999   \n",
       "18  64MP + 8MP + 2MP | 16MP Front Camera  ₹23,999   \n",
       "19  64MP + 8MP + 2MP | 16MP Front Camera  ₹23,999   \n",
       "20                      13MP Rear Camera  ₹12,730   \n",
       "21         13MP + 2MP | 8MP Front Camera  ₹10,490   \n",
       "\n",
       "                                             Ram  \\\n",
       "0   6 GB RAM | 128 GB ROM | Expandable Upto 1 TB   \n",
       "1   6 GB RAM | 128 GB ROM | Expandable Upto 1 TB   \n",
       "2   4 GB RAM | 128 GB ROM | Expandable Upto 1 TB   \n",
       "3   4 GB RAM | 128 GB ROM | Expandable Upto 1 TB   \n",
       "4   8 GB RAM | 128 GB ROM | Expandable Upto 1 TB   \n",
       "5   4 GB RAM | 128 GB ROM | Expandable Upto 1 TB   \n",
       "6   8 GB RAM | 128 GB ROM | Expandable Upto 1 TB   \n",
       "7   8 GB RAM | 128 GB ROM | Expandable Upto 1 TB   \n",
       "8   4 GB RAM | 128 GB ROM | Expandable Upto 1 TB   \n",
       "9   6 GB RAM | 128 GB ROM | Expandable Upto 1 TB   \n",
       "10  4 GB RAM | 128 GB ROM | Expandable Upto 1 TB   \n",
       "11  8 GB RAM | 128 GB ROM | Expandable Upto 1 TB   \n",
       "12  8 GB RAM | 128 GB ROM | Expandable Upto 1 TB   \n",
       "13  8 GB RAM | 128 GB ROM | Expandable Upto 1 TB   \n",
       "14  8 GB RAM | 128 GB ROM | Expandable Upto 1 TB   \n",
       "15   4 GB RAM | 64 GB ROM | Expandable Upto 1 TB   \n",
       "16                         8 GB RAM | 128 GB ROM   \n",
       "17                         8 GB RAM | 128 GB ROM   \n",
       "18                         6 GB RAM | 128 GB ROM   \n",
       "19                         6 GB RAM | 128 GB ROM   \n",
       "20                          4 GB RAM | 64 GB ROM   \n",
       "21   3 GB RAM | 32 GB ROM | Expandable Upto 1 TB   \n",
       "\n",
       "                             battery  \\\n",
       "0           5000 mAh Lithium Battery   \n",
       "1           5000 mAh Lithium Battery   \n",
       "2           5000 mAh Lithium Battery   \n",
       "3           5000 mAh Lithium Battery   \n",
       "4           5000 mAh Lithium Battery   \n",
       "5           5000 mAh Lithium Battery   \n",
       "6           5000 mAh Lithium Battery   \n",
       "7           5000 mAh Lithium Battery   \n",
       "8           5000 mAh Lithium Battery   \n",
       "9           5000 mAh Lithium Battery   \n",
       "10          5000 mAh Lithium Battery   \n",
       "11                  5000 mAh Battery   \n",
       "12                  5000 mAh Battery   \n",
       "13          5000 mAh Lithium Battery   \n",
       "14          5000 mAh Lithium Battery   \n",
       "15          5000 mAh Lithium Battery   \n",
       "16          4700 mAh Lithium Battery   \n",
       "17          4700 mAh Lithium Battery   \n",
       "18          4700 mAh Lithium Battery   \n",
       "19          4700 mAh Lithium Battery   \n",
       "20                  5000 mAh Battery   \n",
       "21  5000 mAh Lithium Battery Battery   \n",
       "\n",
       "                                             warranty  \n",
       "0                   Qualcomm Snapdragon 695 Processor  \n",
       "1                   Qualcomm Snapdragon 695 Processor  \n",
       "2                   Qualcomm Snapdragon 695 Processor  \n",
       "3                   Qualcomm Snapdragon 695 Processor  \n",
       "4                   Qualcomm Snapdragon 680 Processor  \n",
       "5                   Qualcomm Snapdragon 680 Processor  \n",
       "6                   Qualcomm Snapdragon 680 Processor  \n",
       "7                   Qualcomm Snapdragon 680 Processor  \n",
       "8                   Qualcomm Snapdragon 680 Processor  \n",
       "9                   Qualcomm Snapdragon 680 Processor  \n",
       "10                  Qualcomm Snapdragon 680 Processor  \n",
       "11                       MediaTek Helio G80 Processor  \n",
       "12                       MediaTek Helio G80 Processor  \n",
       "13                  Qualcomm Snapdragon 695 Processor  \n",
       "14                  Qualcomm Snapdragon 695 Processor  \n",
       "15                Mediatek MT6769 Helio G70 Processor  \n",
       "16  Qualcomm Snapdragon 778G 5G Mobile Platform Pr...  \n",
       "17  Qualcomm Snapdragon 778G 5G Mobile Platform Pr...  \n",
       "18  Qualcomm Snapdragon 778G 5G Mobile Platform Pr...  \n",
       "19  Qualcomm Snapdragon 778G 5G Mobile Platform Pr...  \n",
       "20  1 Year for Handset and 6 Months for Inbox Acce...  \n",
       "21                       Mediatek Helio P35 Processor  "
      ]
     },
     "execution_count": 123,
     "metadata": {},
     "output_type": "execute_result"
    }
   ],
   "source": [
    "flipkart"
   ]
  },
  {
   "cell_type": "markdown",
   "id": "198313e0",
   "metadata": {},
   "source": [
    "# Answer 5"
   ]
  },
  {
   "cell_type": "code",
   "execution_count": 90,
   "id": "a98bcef7",
   "metadata": {},
   "outputs": [],
   "source": [
    "import pandas as pd\n",
    "import selenium\n",
    "from selenium import webdriver\n",
    "from selenium.common.exceptions import StaleElementReferenceException, NoSuchElementException\n",
    "import requests"
   ]
  },
  {
   "cell_type": "code",
   "execution_count": 91,
   "id": "136154a4",
   "metadata": {},
   "outputs": [],
   "source": [
    "from selenium import webdriver\n",
    "\n",
    "browser = browser\n",
    "\n",
    "browser.get(\"https://maps.google.com/\")\n"
   ]
  },
  {
   "cell_type": "code",
   "execution_count": 92,
   "id": "aba24aea",
   "metadata": {},
   "outputs": [
    {
     "name": "stdout",
     "output_type": "stream",
     "text": [
      "Enter your Search:Singrauli\n"
     ]
    }
   ],
   "source": [
    "search_job = browser.find_element_by_id(\"searchboxinput\")\n",
    "search_job.send_keys(input(\"Enter your Search:\"))"
   ]
  },
  {
   "cell_type": "code",
   "execution_count": 93,
   "id": "d87e8f25",
   "metadata": {},
   "outputs": [],
   "source": [
    "search_btn = browser.find_element_by_id (\"searchbox-searchbutton\")\n",
    "search_btn.click()"
   ]
  },
  {
   "cell_type": "code",
   "execution_count": 94,
   "id": "b6f8cfd7",
   "metadata": {},
   "outputs": [],
   "source": [
    "a = browser.current_url"
   ]
  },
  {
   "cell_type": "code",
   "execution_count": 95,
   "id": "6c9b7a46",
   "metadata": {},
   "outputs": [
    {
     "data": {
      "text/plain": [
       "'https://www.google.com/maps/place/Singrauli,+Madhya+Pradesh/@24.2420135,81.7814982,9z/data=!3m1!4b1!4m5!3m4!1s0x398f6257b1484159:0xb36ae45b4e99c49a!8m2!3d24.144324!4d82.3885783'"
      ]
     },
     "execution_count": 95,
     "metadata": {},
     "output_type": "execute_result"
    }
   ],
   "source": [
    "a"
   ]
  },
  {
   "cell_type": "code",
   "execution_count": 96,
   "id": "40dff3d7",
   "metadata": {},
   "outputs": [
    {
     "data": {
      "text/plain": [
       "['https:',\n",
       " '',\n",
       " 'www.google.com',\n",
       " 'maps',\n",
       " 'place',\n",
       " 'Singrauli,+Madhya+Pradesh',\n",
       " '@24.2420135,81.7814982,9z',\n",
       " 'data=!3m1!4b1!4m5!3m4!1s0x398f6257b1484159:0xb36ae45b4e99c49a!8m2!3d24.144324!4d82.3885783']"
      ]
     },
     "execution_count": 96,
     "metadata": {},
     "output_type": "execute_result"
    }
   ],
   "source": [
    "a =a.split(sep=\"/\")\n",
    "a"
   ]
  },
  {
   "cell_type": "code",
   "execution_count": 97,
   "id": "75facefe",
   "metadata": {},
   "outputs": [
    {
     "data": {
      "text/plain": [
       "'@24.2420135,81.7814982,9z'"
      ]
     },
     "execution_count": 97,
     "metadata": {},
     "output_type": "execute_result"
    }
   ],
   "source": [
    "a[6]"
   ]
  },
  {
   "cell_type": "markdown",
   "id": "0d48043b",
   "metadata": {},
   "source": [
    "# Answer 7\n"
   ]
  },
  {
   "cell_type": "code",
   "execution_count": 81,
   "id": "61ace11a",
   "metadata": {},
   "outputs": [],
   "source": [
    "import selenium # importing selenium\n",
    "from selenium import webdriver#importing webdriver\n",
    "from selenium.common.exceptions import StaleElementReferenceException, NoSuchElementException #importing exception \n"
   ]
  },
  {
   "cell_type": "code",
   "execution_count": 82,
   "id": "4cf003ce",
   "metadata": {},
   "outputs": [],
   "source": [
    "browser =  webdriver.Chrome(r'C:\\web driver\\chromedriver.exe')\n",
    "browser.get(\"https://www.digit.in/top-products/best-gaming-laptops-40.html\")"
   ]
  },
  {
   "cell_type": "code",
   "execution_count": 83,
   "id": "3c206dcc",
   "metadata": {},
   "outputs": [
    {
     "data": {
      "text/plain": [
       "[<selenium.webdriver.remote.webelement.WebElement (session=\"d2aae2196a06dff18f236e577a32d679\", element=\"a0e3c6bc-92cb-44a3-ab04-487cf22c96a6\")>,\n",
       " <selenium.webdriver.remote.webelement.WebElement (session=\"d2aae2196a06dff18f236e577a32d679\", element=\"fcb10cc9-85cd-4c52-b287-f0a88ca696e1\")>,\n",
       " <selenium.webdriver.remote.webelement.WebElement (session=\"d2aae2196a06dff18f236e577a32d679\", element=\"0841ff64-fa9a-4baf-bd80-492201c6aeda\")>,\n",
       " <selenium.webdriver.remote.webelement.WebElement (session=\"d2aae2196a06dff18f236e577a32d679\", element=\"9ae28d39-5236-4580-b556-98cc6586c14d\")>,\n",
       " <selenium.webdriver.remote.webelement.WebElement (session=\"d2aae2196a06dff18f236e577a32d679\", element=\"738b03f5-e219-4c9f-b09d-5755a4d5efc8\")>,\n",
       " <selenium.webdriver.remote.webelement.WebElement (session=\"d2aae2196a06dff18f236e577a32d679\", element=\"1dc97b4b-2103-48f3-bb5a-99a4a0af6959\")>,\n",
       " <selenium.webdriver.remote.webelement.WebElement (session=\"d2aae2196a06dff18f236e577a32d679\", element=\"5fae0725-7b49-4a57-9a08-88b0e60f7e2d\")>,\n",
       " <selenium.webdriver.remote.webelement.WebElement (session=\"d2aae2196a06dff18f236e577a32d679\", element=\"a8128748-146a-4c0b-83b2-a961a4243c5d\")>,\n",
       " <selenium.webdriver.remote.webelement.WebElement (session=\"d2aae2196a06dff18f236e577a32d679\", element=\"9114c08d-be11-4417-874a-c404beeb34f6\")>,\n",
       " <selenium.webdriver.remote.webelement.WebElement (session=\"d2aae2196a06dff18f236e577a32d679\", element=\"e3cc421d-17c6-4264-90ca-4dcafbfe3cea\")>]"
      ]
     },
     "execution_count": 83,
     "metadata": {},
     "output_type": "execute_result"
    }
   ],
   "source": [
    "browser.maximize_window()\n",
    "title_tags = browser.find_elements_by_xpath(\"//div[@class='TopNumbeHeading active sticky-footer']\")\n",
    "title_tags"
   ]
  },
  {
   "cell_type": "code",
   "execution_count": 84,
   "id": "125cb74f",
   "metadata": {},
   "outputs": [
    {
     "data": {
      "text/plain": [
       "['1.\\nMSI RAIDER GE76',\n",
       " '2.\\nASUS ROG STRIX SCAR 15',\n",
       " '3.\\nACER NITRO 5',\n",
       " '4.\\nMSI STEALTH 15M',\n",
       " '5.\\nASUS ROG STRIX SCAR 15',\n",
       " '6.\\nASUS ROG STRIX SCAR 15',\n",
       " '7.\\nASUS ZEPHYRUS G14',\n",
       " '8.\\nHP OMEN 16',\n",
       " '9.\\nASUS ROG ZEPHYRUS DUO 15',\n",
       " '10.\\nACER ASPIRE 7 GAMING LAPTOP']"
      ]
     },
     "execution_count": 84,
     "metadata": {},
     "output_type": "execute_result"
    }
   ],
   "source": [
    "titles=[]\n",
    "for i in title_tags:\n",
    "    title=i.text\n",
    "    titles.append(title)\n",
    "titles        "
   ]
  },
  {
   "cell_type": "code",
   "execution_count": 85,
   "id": "6891ff60",
   "metadata": {},
   "outputs": [
    {
     "data": {
      "text/plain": [
       "[<selenium.webdriver.remote.webelement.WebElement (session=\"d2aae2196a06dff18f236e577a32d679\", element=\"3485e314-7b93-4bcc-8c35-454a97830579\")>,\n",
       " <selenium.webdriver.remote.webelement.WebElement (session=\"d2aae2196a06dff18f236e577a32d679\", element=\"dbe1d939-6935-444e-b15f-d0575fea95c2\")>,\n",
       " <selenium.webdriver.remote.webelement.WebElement (session=\"d2aae2196a06dff18f236e577a32d679\", element=\"48d64640-f75b-495c-bd2b-4a7e3a3a511e\")>,\n",
       " <selenium.webdriver.remote.webelement.WebElement (session=\"d2aae2196a06dff18f236e577a32d679\", element=\"e74423fe-a72b-4425-a2ac-aad90595b055\")>,\n",
       " <selenium.webdriver.remote.webelement.WebElement (session=\"d2aae2196a06dff18f236e577a32d679\", element=\"d74a0561-0463-4340-9a3d-010ed92664c4\")>,\n",
       " <selenium.webdriver.remote.webelement.WebElement (session=\"d2aae2196a06dff18f236e577a32d679\", element=\"15815d75-6461-47c1-8912-b81c9230a0f6\")>,\n",
       " <selenium.webdriver.remote.webelement.WebElement (session=\"d2aae2196a06dff18f236e577a32d679\", element=\"9063adfd-8dc5-48a9-9760-53b1d61c453e\")>,\n",
       " <selenium.webdriver.remote.webelement.WebElement (session=\"d2aae2196a06dff18f236e577a32d679\", element=\"2c4c8515-59cc-46c0-ab68-46df118b914e\")>,\n",
       " <selenium.webdriver.remote.webelement.WebElement (session=\"d2aae2196a06dff18f236e577a32d679\", element=\"d43f2dca-b6c3-48d8-9b57-e73b61a8a5ec\")>,\n",
       " <selenium.webdriver.remote.webelement.WebElement (session=\"d2aae2196a06dff18f236e577a32d679\", element=\"2a1633ba-6c85-47c7-b6ec-4b1e48b44b4f\")>]"
      ]
     },
     "execution_count": 85,
     "metadata": {},
     "output_type": "execute_result"
    }
   ],
   "source": [
    "windows_tags = browser.find_elements_by_xpath(\"//div[@class='product-detail']\")\n",
    "windows_tags"
   ]
  },
  {
   "cell_type": "code",
   "execution_count": 86,
   "id": "8ba0f595",
   "metadata": {},
   "outputs": [
    {
     "data": {
      "text/plain": [
       "['OS\\nWINDOWS 11 HOME\\nDISPLAY\\n17\" (3840 X 2160)\\nPROCESSOR\\n12TH GEN INTEL CORE I9-12900HK | 5 GHZ\\nMEMORY\\n2 TB SSD/16 GBGB DDR5\\nFULL SPECS OTHER MSI LAPTOPS',\n",
       " 'OS\\nWINDOWS 11 HOME\\nDISPLAY\\n15.6\" (2560 X 1440)\\nPROCESSOR\\n12TH GEN INTEL CORE I9-12900H | 2.5 GHZ\\nMEMORY\\n2 TB SSD/32 GBGB DDR5\\nFULL SPECS OTHER ASUS LAPTOPS',\n",
       " 'OS\\nWINDOWS 10\\nDISPLAY\\n15.6\" (1920 X 1080)\\nPROCESSOR\\nAMD RYZEN 9 OCTA CORE | 2.4 GHZ\\nMEMORY\\n1 TB HDD/16 GBGB DDR4\\nFULL SPECS OTHER ACER LAPTOPS',\n",
       " 'OS\\nWINDOWS 10\\nDISPLAY\\n15.6\" (1920 X 1080)\\nPROCESSOR\\nINTEL CORE I7 11TH GEN - 11375H | NA\\nMEMORY\\n1 TB SSD/16 GBGB DDR4\\nFULL SPECS OTHER MSI LAPTOPS',\n",
       " 'OS\\nWINDOWS 10\\nDISPLAY\\n15.6\" (2560 X 1440)\\nPROCESSOR\\nAMD RYZEN 9 OCTA CORE - 5900HX | 3.3 GHZ\\nMEMORY\\n2 TB SSD/32 GBGB DDR4\\nFULL SPECS OTHER ASUS LAPTOPS',\n",
       " 'OS\\nWINDOWS 10 HOME\\nDISPLAY\\n15.6\" (1920 X 1080)\\nPROCESSOR\\nAMD RYZEN™ 9 5900HX | 3.3 GHZ\\nMEMORY\\n1 TB SSD/16 GBGB DDR4\\nREAD REVIEW FULL SPECS OTHER ASUS LAPTOPS',\n",
       " 'OS\\nWINDOWS 10 HOME\\nDISPLAY\\n14\" (1920 X 1080)\\nPROCESSOR\\nAMD 3RD GEN RYZEN 9 | 3.3 GHZ\\nMEMORY\\n1 TB SSD/16 GBGB DDR4\\nREAD REVIEW FULL SPECS OTHER ASUS LAPTOPS',\n",
       " 'OS\\nWINDOWS 11 HOME\\nDISPLAY\\n16.1\" (1920 X 1080)\\nPROCESSOR\\n12TH GEN INTEL CORE I7-12700H | 4.7 GHZ\\nMEMORY\\n1 TB SSD/16 GBGB DDR4\\nFULL SPECS OTHER HP LAPTOPS',\n",
       " 'OS\\nWINDOWS 10\\nDISPLAY\\n15.6\" (3840 X 1100)\\nPROCESSOR\\nINTEL CORE I7 10TH GEN 10875H | NA\\nMEMORY\\n512 GB SSD/4 GBGB DDR4\\nFULL SPECS OTHER ASUS LAPTOPS',\n",
       " 'OS\\nWINDOWS 10 HOME\\nDISPLAY\\n15.6\" (1920 X 1080)\\nPROCESSOR\\nAMD RYZEN™ 5-5500U HEXA-CORE | NA\\nMEMORY\\n512 GB SSD/8 GBGB DDR4\\nREAD REVIEW FULL SPECS OTHER ACER LAPTOPS']"
      ]
     },
     "execution_count": 86,
     "metadata": {},
     "output_type": "execute_result"
    }
   ],
   "source": [
    "productdetail=[]\n",
    "for i in windows_tags:\n",
    "    wind=i.text\n",
    "    productdetail.append(wind)\n",
    "productdetail    "
   ]
  },
  {
   "cell_type": "code",
   "execution_count": 87,
   "id": "788b3125",
   "metadata": {},
   "outputs": [],
   "source": [
    "urls=browser.find_elements_by_xpath(\"//div[@class='product-ickon']/img\")\n",
    "UR=[]\n",
    "for i in urls:\n",
    "    UR.append(i.get_attribute('src'))    "
   ]
  },
  {
   "cell_type": "code",
   "execution_count": 88,
   "id": "7b1faead",
   "metadata": {},
   "outputs": [
    {
     "data": {
      "text/plain": [
       "['https://static.digit.in/product/thumb_239085_product_td_300.jpeg',\n",
       " 'https://www.digit.in/images/digit_topten_icon.png',\n",
       " 'https://www.digit.in/images/digit_topten_icon.png',\n",
       " 'https://www.digit.in/images/digit_topten_icon.png',\n",
       " 'https://www.digit.in/images/digit_topten_icon.png',\n",
       " 'https://www.digit.in/images/digit_topten_icon.png',\n",
       " 'https://www.digit.in/images/digit_topten_icon.png',\n",
       " 'https://www.digit.in/images/digit_topten_icon.png',\n",
       " 'https://www.digit.in/images/digit_topten_icon.png',\n",
       " 'https://www.digit.in/images/digit_topten_icon.png']"
      ]
     },
     "execution_count": 88,
     "metadata": {},
     "output_type": "execute_result"
    }
   ],
   "source": [
    "UR"
   ]
  },
  {
   "cell_type": "code",
   "execution_count": 89,
   "id": "dfcc6639",
   "metadata": {},
   "outputs": [
    {
     "data": {
      "text/html": [
       "<div>\n",
       "<style scoped>\n",
       "    .dataframe tbody tr th:only-of-type {\n",
       "        vertical-align: middle;\n",
       "    }\n",
       "\n",
       "    .dataframe tbody tr th {\n",
       "        vertical-align: top;\n",
       "    }\n",
       "\n",
       "    .dataframe thead th {\n",
       "        text-align: right;\n",
       "    }\n",
       "</style>\n",
       "<table border=\"1\" class=\"dataframe\">\n",
       "  <thead>\n",
       "    <tr style=\"text-align: right;\">\n",
       "      <th></th>\n",
       "      <th>titles</th>\n",
       "      <th>productdetail</th>\n",
       "      <th>imageurl</th>\n",
       "    </tr>\n",
       "  </thead>\n",
       "  <tbody>\n",
       "    <tr>\n",
       "      <th>0</th>\n",
       "      <td>1.\\nMSI RAIDER GE76</td>\n",
       "      <td>OS\\nWINDOWS 11 HOME\\nDISPLAY\\n17\" (3840 X 2160...</td>\n",
       "      <td>https://static.digit.in/product/thumb_239085_p...</td>\n",
       "    </tr>\n",
       "    <tr>\n",
       "      <th>1</th>\n",
       "      <td>2.\\nASUS ROG STRIX SCAR 15</td>\n",
       "      <td>OS\\nWINDOWS 11 HOME\\nDISPLAY\\n15.6\" (2560 X 14...</td>\n",
       "      <td>https://www.digit.in/images/digit_topten_icon.png</td>\n",
       "    </tr>\n",
       "    <tr>\n",
       "      <th>2</th>\n",
       "      <td>3.\\nACER NITRO 5</td>\n",
       "      <td>OS\\nWINDOWS 10\\nDISPLAY\\n15.6\" (1920 X 1080)\\n...</td>\n",
       "      <td>https://www.digit.in/images/digit_topten_icon.png</td>\n",
       "    </tr>\n",
       "    <tr>\n",
       "      <th>3</th>\n",
       "      <td>4.\\nMSI STEALTH 15M</td>\n",
       "      <td>OS\\nWINDOWS 10\\nDISPLAY\\n15.6\" (1920 X 1080)\\n...</td>\n",
       "      <td>https://www.digit.in/images/digit_topten_icon.png</td>\n",
       "    </tr>\n",
       "    <tr>\n",
       "      <th>4</th>\n",
       "      <td>5.\\nASUS ROG STRIX SCAR 15</td>\n",
       "      <td>OS\\nWINDOWS 10\\nDISPLAY\\n15.6\" (2560 X 1440)\\n...</td>\n",
       "      <td>https://www.digit.in/images/digit_topten_icon.png</td>\n",
       "    </tr>\n",
       "    <tr>\n",
       "      <th>5</th>\n",
       "      <td>6.\\nASUS ROG STRIX SCAR 15</td>\n",
       "      <td>OS\\nWINDOWS 10 HOME\\nDISPLAY\\n15.6\" (1920 X 10...</td>\n",
       "      <td>https://www.digit.in/images/digit_topten_icon.png</td>\n",
       "    </tr>\n",
       "    <tr>\n",
       "      <th>6</th>\n",
       "      <td>7.\\nASUS ZEPHYRUS G14</td>\n",
       "      <td>OS\\nWINDOWS 10 HOME\\nDISPLAY\\n14\" (1920 X 1080...</td>\n",
       "      <td>https://www.digit.in/images/digit_topten_icon.png</td>\n",
       "    </tr>\n",
       "    <tr>\n",
       "      <th>7</th>\n",
       "      <td>8.\\nHP OMEN 16</td>\n",
       "      <td>OS\\nWINDOWS 11 HOME\\nDISPLAY\\n16.1\" (1920 X 10...</td>\n",
       "      <td>https://www.digit.in/images/digit_topten_icon.png</td>\n",
       "    </tr>\n",
       "    <tr>\n",
       "      <th>8</th>\n",
       "      <td>9.\\nASUS ROG ZEPHYRUS DUO 15</td>\n",
       "      <td>OS\\nWINDOWS 10\\nDISPLAY\\n15.6\" (3840 X 1100)\\n...</td>\n",
       "      <td>https://www.digit.in/images/digit_topten_icon.png</td>\n",
       "    </tr>\n",
       "    <tr>\n",
       "      <th>9</th>\n",
       "      <td>10.\\nACER ASPIRE 7 GAMING LAPTOP</td>\n",
       "      <td>OS\\nWINDOWS 10 HOME\\nDISPLAY\\n15.6\" (1920 X 10...</td>\n",
       "      <td>https://www.digit.in/images/digit_topten_icon.png</td>\n",
       "    </tr>\n",
       "  </tbody>\n",
       "</table>\n",
       "</div>"
      ],
      "text/plain": [
       "                             titles  \\\n",
       "0               1.\\nMSI RAIDER GE76   \n",
       "1        2.\\nASUS ROG STRIX SCAR 15   \n",
       "2                  3.\\nACER NITRO 5   \n",
       "3               4.\\nMSI STEALTH 15M   \n",
       "4        5.\\nASUS ROG STRIX SCAR 15   \n",
       "5        6.\\nASUS ROG STRIX SCAR 15   \n",
       "6             7.\\nASUS ZEPHYRUS G14   \n",
       "7                    8.\\nHP OMEN 16   \n",
       "8      9.\\nASUS ROG ZEPHYRUS DUO 15   \n",
       "9  10.\\nACER ASPIRE 7 GAMING LAPTOP   \n",
       "\n",
       "                                       productdetail  \\\n",
       "0  OS\\nWINDOWS 11 HOME\\nDISPLAY\\n17\" (3840 X 2160...   \n",
       "1  OS\\nWINDOWS 11 HOME\\nDISPLAY\\n15.6\" (2560 X 14...   \n",
       "2  OS\\nWINDOWS 10\\nDISPLAY\\n15.6\" (1920 X 1080)\\n...   \n",
       "3  OS\\nWINDOWS 10\\nDISPLAY\\n15.6\" (1920 X 1080)\\n...   \n",
       "4  OS\\nWINDOWS 10\\nDISPLAY\\n15.6\" (2560 X 1440)\\n...   \n",
       "5  OS\\nWINDOWS 10 HOME\\nDISPLAY\\n15.6\" (1920 X 10...   \n",
       "6  OS\\nWINDOWS 10 HOME\\nDISPLAY\\n14\" (1920 X 1080...   \n",
       "7  OS\\nWINDOWS 11 HOME\\nDISPLAY\\n16.1\" (1920 X 10...   \n",
       "8  OS\\nWINDOWS 10\\nDISPLAY\\n15.6\" (3840 X 1100)\\n...   \n",
       "9  OS\\nWINDOWS 10 HOME\\nDISPLAY\\n15.6\" (1920 X 10...   \n",
       "\n",
       "                                            imageurl  \n",
       "0  https://static.digit.in/product/thumb_239085_p...  \n",
       "1  https://www.digit.in/images/digit_topten_icon.png  \n",
       "2  https://www.digit.in/images/digit_topten_icon.png  \n",
       "3  https://www.digit.in/images/digit_topten_icon.png  \n",
       "4  https://www.digit.in/images/digit_topten_icon.png  \n",
       "5  https://www.digit.in/images/digit_topten_icon.png  \n",
       "6  https://www.digit.in/images/digit_topten_icon.png  \n",
       "7  https://www.digit.in/images/digit_topten_icon.png  \n",
       "8  https://www.digit.in/images/digit_topten_icon.png  \n",
       "9  https://www.digit.in/images/digit_topten_icon.png  "
      ]
     },
     "execution_count": 89,
     "metadata": {},
     "output_type": "execute_result"
    }
   ],
   "source": [
    "import pandas as pd #for data visualization\n",
    "digit=pd.DataFrame({})\n",
    "digit['titles']=titles\n",
    "digit['productdetail']=productdetail\n",
    "digit['imageurl']=UR\n",
    "digit"
   ]
  },
  {
   "cell_type": "markdown",
   "id": "a4cdb444",
   "metadata": {},
   "source": [
    "# Answer 8 "
   ]
  },
  {
   "cell_type": "code",
   "execution_count": 59,
   "id": "331007a9",
   "metadata": {},
   "outputs": [],
   "source": [
    "import selenium # importing selenium\n",
    "from selenium import webdriver#importing webdriver\n",
    "from selenium.common.exceptions import StaleElementReferenceException, NoSuchElementException #importing exception \n",
    "from selenium.webdriver.common.keys import Keys"
   ]
  },
  {
   "cell_type": "code",
   "execution_count": 61,
   "id": "fbdd3eb0",
   "metadata": {},
   "outputs": [],
   "source": [
    "browser =   webdriver.Chrome(r'C:\\web driver\\chromedriver.exe')\n",
    "browser.get(\"https://www.forbes.com/real-time-billionaires/#6f1445f93d78\")"
   ]
  },
  {
   "cell_type": "code",
   "execution_count": 62,
   "id": "0376d28d",
   "metadata": {},
   "outputs": [
    {
     "data": {
      "text/plain": [
       "25"
      ]
     },
     "execution_count": 62,
     "metadata": {},
     "output_type": "execute_result"
    }
   ],
   "source": [
    "Rank = browser.find_elements_by_xpath(\"//td[@class='rank']\")\n",
    "len(Rank)"
   ]
  },
  {
   "cell_type": "code",
   "execution_count": 63,
   "id": "8d2ae363",
   "metadata": {},
   "outputs": [
    {
     "data": {
      "text/plain": [
       "['1',\n",
       " '2',\n",
       " '3',\n",
       " '4',\n",
       " '5',\n",
       " '6',\n",
       " '7',\n",
       " '8',\n",
       " '9',\n",
       " '10',\n",
       " '11',\n",
       " '12',\n",
       " '13',\n",
       " '14',\n",
       " '15',\n",
       " '16',\n",
       " '17',\n",
       " '17',\n",
       " '19',\n",
       " '20',\n",
       " '21',\n",
       " '22',\n",
       " '23',\n",
       " '24',\n",
       " '25']"
      ]
     },
     "execution_count": 63,
     "metadata": {},
     "output_type": "execute_result"
    }
   ],
   "source": [
    "Ranks = []\n",
    "for i in Rank:\n",
    "    Ranks.append(i.text)\n",
    "Ranks    "
   ]
  },
  {
   "cell_type": "code",
   "execution_count": 64,
   "id": "c0a72b5f",
   "metadata": {},
   "outputs": [
    {
     "data": {
      "text/plain": [
       "25"
      ]
     },
     "execution_count": 64,
     "metadata": {},
     "output_type": "execute_result"
    }
   ],
   "source": [
    "Name = browser.find_elements_by_xpath(\"//td[@class='name']\")\n",
    "len(Name)"
   ]
  },
  {
   "cell_type": "code",
   "execution_count": 65,
   "id": "1f3619d5",
   "metadata": {},
   "outputs": [
    {
     "data": {
      "text/plain": [
       "[<selenium.webdriver.remote.webelement.WebElement (session=\"5acdff4e7bc1cebec82fc0ec156870ca\", element=\"68976304-c6b6-4bf6-9f43-20b4cd3239bd\")>,\n",
       " <selenium.webdriver.remote.webelement.WebElement (session=\"5acdff4e7bc1cebec82fc0ec156870ca\", element=\"3893a841-a56d-408a-abab-af45fa885e47\")>,\n",
       " <selenium.webdriver.remote.webelement.WebElement (session=\"5acdff4e7bc1cebec82fc0ec156870ca\", element=\"586dbd0e-a4e7-4d81-9285-d3ac7337ebc1\")>,\n",
       " <selenium.webdriver.remote.webelement.WebElement (session=\"5acdff4e7bc1cebec82fc0ec156870ca\", element=\"c870132f-fbbc-421b-80f9-eae0e21444e1\")>,\n",
       " <selenium.webdriver.remote.webelement.WebElement (session=\"5acdff4e7bc1cebec82fc0ec156870ca\", element=\"b27bfc9b-c640-49ee-8a77-e6dd439bcf1b\")>,\n",
       " <selenium.webdriver.remote.webelement.WebElement (session=\"5acdff4e7bc1cebec82fc0ec156870ca\", element=\"c10ed0b5-0501-484e-a26a-6a4fc20fa4ce\")>,\n",
       " <selenium.webdriver.remote.webelement.WebElement (session=\"5acdff4e7bc1cebec82fc0ec156870ca\", element=\"4c91df82-d271-4cda-9318-80fa96cfad80\")>,\n",
       " <selenium.webdriver.remote.webelement.WebElement (session=\"5acdff4e7bc1cebec82fc0ec156870ca\", element=\"94724499-fce9-47d8-ab18-e2a2381d99ca\")>,\n",
       " <selenium.webdriver.remote.webelement.WebElement (session=\"5acdff4e7bc1cebec82fc0ec156870ca\", element=\"792ffb56-0110-478c-aad8-693d42f08848\")>,\n",
       " <selenium.webdriver.remote.webelement.WebElement (session=\"5acdff4e7bc1cebec82fc0ec156870ca\", element=\"450e21d6-1c87-4311-910f-88477150b873\")>,\n",
       " <selenium.webdriver.remote.webelement.WebElement (session=\"5acdff4e7bc1cebec82fc0ec156870ca\", element=\"f72c5374-1bbe-40d0-bada-115d530a2f54\")>,\n",
       " <selenium.webdriver.remote.webelement.WebElement (session=\"5acdff4e7bc1cebec82fc0ec156870ca\", element=\"c03023ec-b367-497b-ab66-1d7478010af1\")>,\n",
       " <selenium.webdriver.remote.webelement.WebElement (session=\"5acdff4e7bc1cebec82fc0ec156870ca\", element=\"b2ac4ae6-5b7b-4c69-bb56-1c325e19d86b\")>,\n",
       " <selenium.webdriver.remote.webelement.WebElement (session=\"5acdff4e7bc1cebec82fc0ec156870ca\", element=\"f1e62958-a0de-4b2f-8103-5835e04abfc7\")>,\n",
       " <selenium.webdriver.remote.webelement.WebElement (session=\"5acdff4e7bc1cebec82fc0ec156870ca\", element=\"9df8a900-7a70-4b7d-bda7-bf0f5e2c1ed1\")>,\n",
       " <selenium.webdriver.remote.webelement.WebElement (session=\"5acdff4e7bc1cebec82fc0ec156870ca\", element=\"97244edf-701b-44d2-9616-7fe84ce24dbb\")>,\n",
       " <selenium.webdriver.remote.webelement.WebElement (session=\"5acdff4e7bc1cebec82fc0ec156870ca\", element=\"2e63e466-1803-4a71-902b-34237d576b17\")>,\n",
       " <selenium.webdriver.remote.webelement.WebElement (session=\"5acdff4e7bc1cebec82fc0ec156870ca\", element=\"63011327-4b7f-465e-915d-6862ddae41a8\")>,\n",
       " <selenium.webdriver.remote.webelement.WebElement (session=\"5acdff4e7bc1cebec82fc0ec156870ca\", element=\"ce9fce94-6fd5-4a05-8eea-6dc4619ae28c\")>,\n",
       " <selenium.webdriver.remote.webelement.WebElement (session=\"5acdff4e7bc1cebec82fc0ec156870ca\", element=\"30959b94-ed4b-4d8d-ba1e-56c1c7e448cd\")>,\n",
       " <selenium.webdriver.remote.webelement.WebElement (session=\"5acdff4e7bc1cebec82fc0ec156870ca\", element=\"ebf4e471-8ad3-48ed-af80-96d269a85af3\")>,\n",
       " <selenium.webdriver.remote.webelement.WebElement (session=\"5acdff4e7bc1cebec82fc0ec156870ca\", element=\"e35d8db8-f4a6-4dd0-9548-d7d347891318\")>,\n",
       " <selenium.webdriver.remote.webelement.WebElement (session=\"5acdff4e7bc1cebec82fc0ec156870ca\", element=\"b26a511a-8075-45d1-93b4-bfefff24de7d\")>,\n",
       " <selenium.webdriver.remote.webelement.WebElement (session=\"5acdff4e7bc1cebec82fc0ec156870ca\", element=\"861386b1-847c-4b9a-82de-77d320f5dcae\")>,\n",
       " <selenium.webdriver.remote.webelement.WebElement (session=\"5acdff4e7bc1cebec82fc0ec156870ca\", element=\"8f02ca41-b85b-4ed0-a947-7a110ba8cc94\")>]"
      ]
     },
     "execution_count": 65,
     "metadata": {},
     "output_type": "execute_result"
    }
   ],
   "source": [
    "Names = []\n",
    "for i in Name:\n",
    "    Names.append(i.text)\n",
    "    "
   ]
  },
  {
   "cell_type": "code",
   "execution_count": 67,
   "id": "ae6617ba",
   "metadata": {},
   "outputs": [
    {
     "data": {
      "text/plain": [
       "25"
      ]
     },
     "execution_count": 67,
     "metadata": {},
     "output_type": "execute_result"
    }
   ],
   "source": [
    "worth = browser.find_elements_by_xpath(\"//td[@class='Net Worth']\")\n",
    "len(worth)"
   ]
  },
  {
   "cell_type": "code",
   "execution_count": 68,
   "id": "561ed299",
   "metadata": {},
   "outputs": [],
   "source": [
    "Net_worth = []\n",
    "for i in worth:\n",
    "    Net_worth.append(i.text)"
   ]
  },
  {
   "cell_type": "code",
   "execution_count": 69,
   "id": "103a2259",
   "metadata": {},
   "outputs": [
    {
     "data": {
      "text/plain": [
       "['$198.7 B',\n",
       " '$142.6 B',\n",
       " '$129.8 B',\n",
       " '$125.3 B',\n",
       " '$111.7 B',\n",
       " '$105.8 B',\n",
       " '$97.6 B',\n",
       " '$94.1 B',\n",
       " '$91.7 B',\n",
       " '$90.7 B',\n",
       " '$88.3 B',\n",
       " '$85.9 B',\n",
       " '$82.0 B',\n",
       " '$67.4 B',\n",
       " '$66.8 B',\n",
       " '$65.1 B',\n",
       " '$62.0 B',\n",
       " '$62.0 B',\n",
       " '$59.6 B',\n",
       " '$58.7 B',\n",
       " '$58.5 B',\n",
       " '$55.5 B',\n",
       " '$51.7 B',\n",
       " '$49.5 B',\n",
       " '$46.9 B']"
      ]
     },
     "execution_count": 69,
     "metadata": {},
     "output_type": "execute_result"
    }
   ],
   "source": [
    "Net_worth"
   ]
  },
  {
   "cell_type": "code",
   "execution_count": 70,
   "id": "1a0c95bc",
   "metadata": {},
   "outputs": [
    {
     "data": {
      "text/plain": [
       "25"
      ]
     },
     "execution_count": 70,
     "metadata": {},
     "output_type": "execute_result"
    }
   ],
   "source": [
    "Age = browser.find_elements_by_xpath(\"//td[@class='age']\")\n",
    "len(Age)"
   ]
  },
  {
   "cell_type": "code",
   "execution_count": 71,
   "id": "968d0e42",
   "metadata": {},
   "outputs": [],
   "source": [
    "Age_of_Billionaire = []\n",
    "for i in Age:\n",
    "    Age_of_Billionaire.append(i.text)"
   ]
  },
  {
   "cell_type": "code",
   "execution_count": 72,
   "id": "d30cba1b",
   "metadata": {},
   "outputs": [
    {
     "data": {
      "text/plain": [
       "['50',\n",
       " '73',\n",
       " '58',\n",
       " '66',\n",
       " '91',\n",
       " '59',\n",
       " '65',\n",
       " '77',\n",
       " '49',\n",
       " '82',\n",
       " '48',\n",
       " '66',\n",
       " '80',\n",
       " '67',\n",
       " '68',\n",
       " '38',\n",
       " '86',\n",
       " '60',\n",
       " '73',\n",
       " '72',\n",
       " '77',\n",
       " '86',\n",
       " '57',\n",
       " '38',\n",
       " '64']"
      ]
     },
     "execution_count": 72,
     "metadata": {},
     "output_type": "execute_result"
    }
   ],
   "source": [
    "Age_of_Billionaire"
   ]
  },
  {
   "cell_type": "code",
   "execution_count": 73,
   "id": "832a0727",
   "metadata": {},
   "outputs": [
    {
     "data": {
      "text/plain": [
       "25"
      ]
     },
     "execution_count": 73,
     "metadata": {},
     "output_type": "execute_result"
    }
   ],
   "source": [
    "Source = browser.find_elements_by_xpath(\"//td[@class='source']\")\n",
    "len(Source)"
   ]
  },
  {
   "cell_type": "code",
   "execution_count": 74,
   "id": "af062e4b",
   "metadata": {},
   "outputs": [],
   "source": [
    "Source_of_Billionaire = []\n",
    "for i in Source:\n",
    "    Source_of_Billionaire.append(i.text)"
   ]
  },
  {
   "cell_type": "code",
   "execution_count": 75,
   "id": "eb5dbe18",
   "metadata": {},
   "outputs": [
    {
     "data": {
      "text/plain": [
       "['Tesla, SpaceX',\n",
       " 'LVMH',\n",
       " 'Amazon',\n",
       " 'Microsoft',\n",
       " 'Berkshire Hathaway',\n",
       " 'infrastructure, commodities',\n",
       " 'diversified',\n",
       " 'software',\n",
       " 'Google',\n",
       " 'telecom',\n",
       " 'Google',\n",
       " 'Microsoft',\n",
       " 'Bloomberg LP',\n",
       " 'beverages, pharmaceuticals',\n",
       " \"L'Oréal\",\n",
       " 'Facebook',\n",
       " 'Koch Industries',\n",
       " 'Koch Industries',\n",
       " 'Walmart',\n",
       " 'Walmart',\n",
       " 'Walmart',\n",
       " 'Zara',\n",
       " 'Dell computers',\n",
       " 'TikTok',\n",
       " 'media']"
      ]
     },
     "execution_count": 75,
     "metadata": {},
     "output_type": "execute_result"
    }
   ],
   "source": [
    "Source_of_Billionaire"
   ]
  },
  {
   "cell_type": "code",
   "execution_count": 76,
   "id": "65d178c8",
   "metadata": {},
   "outputs": [
    {
     "data": {
      "text/plain": [
       "25"
      ]
     },
     "execution_count": 76,
     "metadata": {},
     "output_type": "execute_result"
    }
   ],
   "source": [
    "Country = browser.find_elements_by_xpath(\"//td[@class='Country/Territory']\")\n",
    "len(Country)"
   ]
  },
  {
   "cell_type": "code",
   "execution_count": 77,
   "id": "e1e9ba0e",
   "metadata": {},
   "outputs": [],
   "source": [
    "Country_of_Billionaire = []\n",
    "for i in Country:\n",
    "    Country_of_Billionaire.append(i.text)\n"
   ]
  },
  {
   "cell_type": "code",
   "execution_count": 78,
   "id": "ba62c043",
   "metadata": {},
   "outputs": [
    {
     "data": {
      "text/plain": [
       "['United States',\n",
       " 'France',\n",
       " 'United States',\n",
       " 'United States',\n",
       " 'United States',\n",
       " 'India',\n",
       " 'India',\n",
       " 'United States',\n",
       " 'United States',\n",
       " 'Mexico',\n",
       " 'United States',\n",
       " 'United States',\n",
       " 'United States',\n",
       " 'China',\n",
       " 'France',\n",
       " 'United States',\n",
       " 'United States',\n",
       " 'United States',\n",
       " 'United States',\n",
       " 'United States',\n",
       " 'United States',\n",
       " 'Spain',\n",
       " 'United States',\n",
       " 'China',\n",
       " 'Canada']"
      ]
     },
     "execution_count": 78,
     "metadata": {},
     "output_type": "execute_result"
    }
   ],
   "source": [
    "Country_of_Billionaire"
   ]
  },
  {
   "cell_type": "code",
   "execution_count": 79,
   "id": "55533b13",
   "metadata": {},
   "outputs": [],
   "source": [
    "import pandas as pd\n",
    "Billionare=pd.DataFrame({})\n",
    "Billionare['Rank']= Ranks\n",
    "Billionare['Name']= Names\n",
    "Billionare['Networth']= Net_worth\n",
    "Billionare['Age']= Age_of_Billionaire\n",
    "Billionare['Source']= Source_of_Billionaire\n",
    "Billionare['Country']= Country_of_Billionaire"
   ]
  },
  {
   "cell_type": "code",
   "execution_count": 80,
   "id": "10343996",
   "metadata": {},
   "outputs": [
    {
     "data": {
      "text/html": [
       "<div>\n",
       "<style scoped>\n",
       "    .dataframe tbody tr th:only-of-type {\n",
       "        vertical-align: middle;\n",
       "    }\n",
       "\n",
       "    .dataframe tbody tr th {\n",
       "        vertical-align: top;\n",
       "    }\n",
       "\n",
       "    .dataframe thead th {\n",
       "        text-align: right;\n",
       "    }\n",
       "</style>\n",
       "<table border=\"1\" class=\"dataframe\">\n",
       "  <thead>\n",
       "    <tr style=\"text-align: right;\">\n",
       "      <th></th>\n",
       "      <th>Rank</th>\n",
       "      <th>Name</th>\n",
       "      <th>Networth</th>\n",
       "      <th>Age</th>\n",
       "      <th>Source</th>\n",
       "      <th>Country</th>\n",
       "    </tr>\n",
       "  </thead>\n",
       "  <tbody>\n",
       "    <tr>\n",
       "      <th>0</th>\n",
       "      <td>1</td>\n",
       "      <td>Elon Musk</td>\n",
       "      <td>$198.7 B</td>\n",
       "      <td>50</td>\n",
       "      <td>Tesla, SpaceX</td>\n",
       "      <td>United States</td>\n",
       "    </tr>\n",
       "    <tr>\n",
       "      <th>1</th>\n",
       "      <td>2</td>\n",
       "      <td>Bernard Arnault &amp; family</td>\n",
       "      <td>$142.6 B</td>\n",
       "      <td>73</td>\n",
       "      <td>LVMH</td>\n",
       "      <td>France</td>\n",
       "    </tr>\n",
       "    <tr>\n",
       "      <th>2</th>\n",
       "      <td>3</td>\n",
       "      <td>Jeff Bezos</td>\n",
       "      <td>$129.8 B</td>\n",
       "      <td>58</td>\n",
       "      <td>Amazon</td>\n",
       "      <td>United States</td>\n",
       "    </tr>\n",
       "    <tr>\n",
       "      <th>3</th>\n",
       "      <td>4</td>\n",
       "      <td>Bill Gates</td>\n",
       "      <td>$125.3 B</td>\n",
       "      <td>66</td>\n",
       "      <td>Microsoft</td>\n",
       "      <td>United States</td>\n",
       "    </tr>\n",
       "    <tr>\n",
       "      <th>4</th>\n",
       "      <td>5</td>\n",
       "      <td>Warren Buffett</td>\n",
       "      <td>$111.7 B</td>\n",
       "      <td>91</td>\n",
       "      <td>Berkshire Hathaway</td>\n",
       "      <td>United States</td>\n",
       "    </tr>\n",
       "  </tbody>\n",
       "</table>\n",
       "</div>"
      ],
      "text/plain": [
       "  Rank                      Name  Networth Age              Source  \\\n",
       "0    1                 Elon Musk  $198.7 B  50       Tesla, SpaceX   \n",
       "1    2  Bernard Arnault & family  $142.6 B  73                LVMH   \n",
       "2    3                Jeff Bezos  $129.8 B  58              Amazon   \n",
       "3    4                Bill Gates  $125.3 B  66           Microsoft   \n",
       "4    5            Warren Buffett  $111.7 B  91  Berkshire Hathaway   \n",
       "\n",
       "         Country  \n",
       "0  United States  \n",
       "1         France  \n",
       "2  United States  \n",
       "3  United States  \n",
       "4  United States  "
      ]
     },
     "execution_count": 80,
     "metadata": {},
     "output_type": "execute_result"
    }
   ],
   "source": [
    "Billionare.head()"
   ]
  },
  {
   "cell_type": "markdown",
   "id": "07081ebf",
   "metadata": {},
   "source": [
    "# Answer 10"
   ]
  },
  {
   "cell_type": "code",
   "execution_count": 24,
   "id": "fc6ebe93",
   "metadata": {},
   "outputs": [],
   "source": [
    "import selenium # importing selenium\n",
    "from selenium import webdriver#importing webdriver\n",
    "from selenium.common.exceptions import StaleElementReferenceException, NoSuchElementException #importing exception \n",
    "import time"
   ]
  },
  {
   "cell_type": "code",
   "execution_count": 25,
   "id": "4c36bcfd",
   "metadata": {},
   "outputs": [],
   "source": [
    "driver = webdriver.Chrome(r\"C:\\web driver\\chromedriver.exe\")"
   ]
  },
  {
   "cell_type": "code",
   "execution_count": 51,
   "id": "bc98e0c9",
   "metadata": {},
   "outputs": [],
   "source": [
    "url = 'https://www.hostelworld.com/s?q=London,%20England&country=England&city=London&type=city&id=3&from=2021-07-23&to=2021-07-26&guests=2&page=1'\n",
    "driver.get(url)"
   ]
  },
  {
   "cell_type": "code",
   "execution_count": 52,
   "id": "f6c8a943",
   "metadata": {},
   "outputs": [],
   "source": [
    "name = driver.find_elements_by_xpath(\"//h2[@class='title title-6']/a\")\n",
    "hotel_name = []\n",
    "for i in name:\n",
    "    hotel_name.append(i.text)\n"
   ]
  },
  {
   "cell_type": "code",
   "execution_count": 53,
   "id": "985ce7f7",
   "metadata": {},
   "outputs": [
    {
     "data": {
      "text/plain": [
       "['Selina Camden',\n",
       " \"St Christopher's Village\",\n",
       " 'Palmers Lodge - Swiss Cottage',\n",
       " 'Generator London',\n",
       " 'Astor Museum Inn',\n",
       " 'Urbany Hostel London',\n",
       " 'Safestay London Elephant & Castle',\n",
       " 'London Backpackers',\n",
       " 'Barmy Badger Backpackers',\n",
       " 'Safestay London Kensington Holland Park',\n",
       " 'Prime Backpackers Angel',\n",
       " \"St Christopher's Inn - London Bridge\",\n",
       " 'Phoenix Hostel',\n",
       " \"Wombat's City Hostel London\",\n",
       " 'Smart Hyde Park View Hostel',\n",
       " 'Smart Hyde Park Inn Hostel',\n",
       " 'NX London Hostel',\n",
       " 'Hostel One Notting Hill',\n",
       " \"St Christopher's Hammersmith\",\n",
       " 'Strand Continental',\n",
       " \"St Christopher's Camden\",\n",
       " 'London Waterloo Hostel',\n",
       " 'PubLove @ The White Ferry, Victoria',\n",
       " 'Clink261',\n",
       " \"St Christopher's Greenwich\",\n",
       " 'PubLove @ The Steam Engine, Waterloo',\n",
       " \"St Christopher's Shepherds Bush\",\n",
       " 'PubLove @ The Rose & Crown',\n",
       " 'Astor Kensington',\n",
       " 'Astor Victoria']"
      ]
     },
     "execution_count": 53,
     "metadata": {},
     "output_type": "execute_result"
    }
   ],
   "source": [
    "hotel_name"
   ]
  },
  {
   "cell_type": "code",
   "execution_count": 54,
   "id": "431c6d43",
   "metadata": {},
   "outputs": [
    {
     "data": {
      "text/plain": [
       "['Hostel - 5.5km from city centre',\n",
       " 'Hostel - 1.8km from city centre',\n",
       " 'Hostel - 6.5km from city centre',\n",
       " 'Hostel - 3km from city centre',\n",
       " 'Hostel - 2.2km from city centre',\n",
       " 'Hostel - 5.4km from city centre',\n",
       " 'Hostel - 1.7km from city centre',\n",
       " 'Hostel - 11.9km from city centre',\n",
       " 'Hostel - 5.5km from city centre',\n",
       " 'Hostel - 5.9km from city centre',\n",
       " 'Hostel - 3.6km from city centre',\n",
       " 'Hostel - 1.8km from city centre',\n",
       " 'Hostel - 4.2km from city centre',\n",
       " 'Hostel - 3.6km from city centre',\n",
       " 'Hostel - 5km from city centre',\n",
       " 'Hostel - 5km from city centre',\n",
       " 'Hostel - 6.1km from city centre',\n",
       " 'Hostel - 5.5km from city centre',\n",
       " 'Hostel - 7.5km from city centre',\n",
       " 'Hostel - 1.3km from city centre',\n",
       " 'Hostel - 4.3km from city centre',\n",
       " 'Hostel - 0.7km from city centre',\n",
       " 'Hostel - 2.4km from city centre',\n",
       " 'Hostel - 3.2km from city centre',\n",
       " 'Hostel - 7.6km from city centre',\n",
       " 'Hostel - 0.5km from city centre',\n",
       " 'Hostel - 7km from city centre',\n",
       " 'Hostel - 1.6km from city centre',\n",
       " 'Hostel - 4.9km from city centre',\n",
       " 'Hostel - 1.8km from city centre']"
      ]
     },
     "execution_count": 54,
     "metadata": {},
     "output_type": "execute_result"
    }
   ],
   "source": [
    "distance = driver.find_elements_by_class_name('description')\n",
    "distance_from_city = []\n",
    "for i in distance:\n",
    "    distance_from_city.append(i.text)\n",
    "distance_from_city    \n",
    "    "
   ]
  },
  {
   "cell_type": "code",
   "execution_count": 55,
   "id": "167d3d0c",
   "metadata": {},
   "outputs": [
    {
     "data": {
      "text/plain": [
       "['9.6',\n",
       " '7.9',\n",
       " '8.9',\n",
       " '7.6',\n",
       " '8.4',\n",
       " '9.4',\n",
       " '7.2',\n",
       " '8.1',\n",
       " '9.2',\n",
       " '6.7',\n",
       " '8.5',\n",
       " '8.0',\n",
       " '7.8',\n",
       " '9.1',\n",
       " '7.9',\n",
       " '6.5',\n",
       " '7.0',\n",
       " '8.6',\n",
       " '7.9',\n",
       " '6.7',\n",
       " '8.1',\n",
       " '6.5',\n",
       " '8.4',\n",
       " '8.0',\n",
       " '7.6',\n",
       " '8.1',\n",
       " '7.2',\n",
       " '8.0',\n",
       " '8.7',\n",
       " '8.6']"
      ]
     },
     "execution_count": 55,
     "metadata": {},
     "output_type": "execute_result"
    }
   ],
   "source": [
    "rat = driver.find_elements_by_xpath(\"//div[@class='score orange big']\")\n",
    "ratings = []\n",
    "for i  in rat:\n",
    "    try:\n",
    "        ratings.append(i.text)\n",
    "    except NoSuchElementException as E:\n",
    "        ratings.append(\"__\")\n",
    "ratings        \n",
    "        "
   ]
  },
  {
   "cell_type": "code",
   "execution_count": 56,
   "id": "3daf60e9",
   "metadata": {},
   "outputs": [
    {
     "data": {
      "text/plain": [
       "['24 Total Reviews',\n",
       " '11199 Total Reviews',\n",
       " '15339 Total Reviews',\n",
       " '6939 Total Reviews',\n",
       " '8942 Total Reviews',\n",
       " '306 Total Reviews',\n",
       " '4240 Total Reviews',\n",
       " '4238 Total Reviews',\n",
       " '1736 Total Reviews',\n",
       " '1191 Total Reviews',\n",
       " '573 Total Reviews',\n",
       " '3294 Total Reviews',\n",
       " '3555 Total Reviews',\n",
       " '13595 Total Reviews',\n",
       " '4549 Total Reviews',\n",
       " '6297 Total Reviews',\n",
       " '1125 Total Reviews',\n",
       " '1355 Total Reviews',\n",
       " '4018 Total Reviews',\n",
       " '839 Total Reviews',\n",
       " '3764 Total Reviews',\n",
       " '2495 Total Reviews',\n",
       " '235 Total Reviews',\n",
       " '77 Total Reviews',\n",
       " '3189 Total Reviews',\n",
       " '266 Total Reviews',\n",
       " '665 Total Reviews',\n",
       " '119 Total Reviews',\n",
       " '6357 Total Reviews',\n",
       " '14731 Total Reviews']"
      ]
     },
     "execution_count": 56,
     "metadata": {},
     "output_type": "execute_result"
    }
   ],
   "source": [
    "total_rates = driver.find_elements_by_xpath(\"//div[@class='reviews']\")\n",
    "total_rating =[]\n",
    "for i in total_rates:\n",
    "    total_rating.append(i.text)\n",
    "total_rating    \n",
    "    "
   ]
  },
  {
   "cell_type": "code",
   "execution_count": 57,
   "id": "c2edc7f2",
   "metadata": {},
   "outputs": [
    {
     "data": {
      "text/plain": [
       "['Superb',\n",
       " 'Very Good',\n",
       " 'Fabulous',\n",
       " 'Superb',\n",
       " 'Very Good',\n",
       " 'Fabulous',\n",
       " 'Very Good',\n",
       " 'Fabulous',\n",
       " 'Superb',\n",
       " 'Very Good',\n",
       " 'Fabulous',\n",
       " 'Superb',\n",
       " 'Good',\n",
       " 'Fabulous',\n",
       " 'Fabulous',\n",
       " 'Very Good',\n",
       " 'Superb',\n",
       " 'Very Good',\n",
       " 'Good',\n",
       " 'Very Good',\n",
       " 'Fabulous',\n",
       " 'Very Good',\n",
       " 'Good',\n",
       " 'Fabulous',\n",
       " 'Good',\n",
       " 'Fabulous',\n",
       " 'Fabulous',\n",
       " 'Very Good',\n",
       " 'Fabulous',\n",
       " 'Very Good',\n",
       " 'Fabulous',\n",
       " 'Fabulous',\n",
       " 'Fabulous']"
      ]
     },
     "execution_count": 57,
     "metadata": {},
     "output_type": "execute_result"
    }
   ],
   "source": [
    "over_all = driver.find_elements_by_xpath(\"//div[@class='keyword']\")\n",
    "over_all_review =[]\n",
    "for i in over_all:\n",
    "    over_all_review.append(i.text)\n",
    "over_all_review    "
   ]
  },
  {
   "cell_type": "code",
   "execution_count": 33,
   "id": "15f3d478",
   "metadata": {},
   "outputs": [
    {
     "data": {
      "text/plain": [
       "['Rs25737',\n",
       " 'Rs7720.96 Rs6563',\n",
       " 'Rs2045.06 Rs1841',\n",
       " 'Rs2405',\n",
       " 'Rs6931',\n",
       " 'Rs2176',\n",
       " 'Rs2925',\n",
       " 'Rs12740',\n",
       " 'Rs2654',\n",
       " 'Rs1843',\n",
       " 'Rs4343',\n",
       " 'Rs1579',\n",
       " 'Rs2925',\n",
       " 'Rs1492',\n",
       " 'Rs2839',\n",
       " 'Rs2586.66 Rs2328',\n",
       " 'Rs1462.3 Rs1316',\n",
       " 'Rs20675.04 Rs15506',\n",
       " 'Rs3336.65 Rs2502',\n",
       " 'Rs10277',\n",
       " 'Rs1696',\n",
       " 'Rs9218',\n",
       " 'Rs1501',\n",
       " 'Rs2037',\n",
       " 'Rs2632',\n",
       " 'Rs1612.87 Rs1452',\n",
       " 'Rs2457',\n",
       " 'Rs2370.02 Rs2133',\n",
       " 'Rs1890',\n",
       " 'Rs3412',\n",
       " 'Rs2320.19 Rs2088',\n",
       " 'Rs1828.42 Rs1646',\n",
       " 'Rs2730',\n",
       " 'Rs9523.4 Rs8571',\n",
       " 'Rs1612.87 Rs1452',\n",
       " 'Rs2437',\n",
       " 'Rs1852',\n",
       " 'Rs2145']"
      ]
     },
     "execution_count": 33,
     "metadata": {},
     "output_type": "execute_result"
    }
   ],
   "source": [
    "pp =driver.find_elements_by_xpath(\"//div[@class='price title-5']\")\n",
    "\n",
    "privates_price =[]\n",
    "for i in pp:\n",
    "    privates_price.append(i.text)\n",
    "privates_price    \n"
   ]
  },
  {
   "cell_type": "code",
   "execution_count": 42,
   "id": "74a625cf",
   "metadata": {},
   "outputs": [],
   "source": [
    "privates_price = privates_price[0::2]"
   ]
  },
  {
   "cell_type": "code",
   "execution_count": 43,
   "id": "c3ab8d38",
   "metadata": {},
   "outputs": [
    {
     "data": {
      "text/plain": [
       "['Rs25737',\n",
       " 'Rs7720.96 Rs6563',\n",
       " 'Rs2045.06 Rs1841',\n",
       " 'Rs2405',\n",
       " 'Rs6931',\n",
       " 'Rs2176',\n",
       " 'Rs2925',\n",
       " 'Rs12740',\n",
       " 'Rs2654',\n",
       " 'Rs1843',\n",
       " 'Rs4343',\n",
       " 'Rs1579',\n",
       " 'Rs2925',\n",
       " 'Rs1492',\n",
       " 'Rs2839',\n",
       " 'Rs2586.66 Rs2328',\n",
       " 'Rs1462.3 Rs1316',\n",
       " 'Rs20675.04 Rs15506',\n",
       " 'Rs3336.65 Rs2502',\n",
       " 'Rs10277',\n",
       " 'Rs1696',\n",
       " 'Rs9218',\n",
       " 'Rs1501',\n",
       " 'Rs2037',\n",
       " 'Rs2632',\n",
       " 'Rs1612.87 Rs1452',\n",
       " 'Rs2457',\n",
       " 'Rs2370.02 Rs2133',\n",
       " 'Rs1890',\n",
       " 'Rs3412',\n",
       " 'Rs2320.19 Rs2088',\n",
       " 'Rs1828.42 Rs1646',\n",
       " 'Rs2730',\n",
       " 'Rs9523.4 Rs8571',\n",
       " 'Rs1612.87 Rs1452',\n",
       " 'Rs2437',\n",
       " 'Rs1852',\n",
       " 'Rs2145']"
      ]
     },
     "execution_count": 43,
     "metadata": {},
     "output_type": "execute_result"
    }
   ],
   "source": [
    "dp =driver.find_elements_by_xpath(\"//div[@class='price title-5']\")\n",
    "\n",
    "dorms_price =[]\n",
    "for i in dp:\n",
    "    dorms_price.append(i.text)\n",
    "dorms_price    "
   ]
  },
  {
   "cell_type": "code",
   "execution_count": 44,
   "id": "12da38c8",
   "metadata": {},
   "outputs": [],
   "source": [
    "dorms_price = dorms_price[1::2]"
   ]
  },
  {
   "cell_type": "code",
   "execution_count": 45,
   "id": "f926057d",
   "metadata": {},
   "outputs": [],
   "source": [
    "desc =driver.find_elements_by_xpath(\"//div[@class='rating-factors prop-card-tablet rating-factors small']\")\n",
    "\n",
    "description =[]\n",
    "for i in desc:\n",
    "    description.append(i.text)\n",
    "    \n",
    "fasc =driver.find_elements_by_xpath(\"//div[@class='facilities-label facilities']\")\n",
    "\n",
    "facilities =[]\n",
    "for i in fasc:\n",
    "    facilities.append(i.text)\n",
    "   "
   ]
  },
  {
   "cell_type": "code",
   "execution_count": 46,
   "id": "5ca3059d",
   "metadata": {},
   "outputs": [
    {
     "data": {
      "text/plain": [
       "['Perfect Location\\nSuperb Staff\\nFantastic Cleanliness',\n",
       " 'Perfect Location\\nSuperb Staff\\nExcellent Cleanliness',\n",
       " 'Perfect Location\\nSuperb Staff\\nFantastic Cleanliness',\n",
       " 'Perfect Location\\nMarvellous Staff\\nAwesome Cleanliness',\n",
       " 'Perfect Location\\nSuperb Staff\\nExcellent Cleanliness',\n",
       " 'Perfect Location\\nSuperb Staff\\nFantastic Cleanliness',\n",
       " 'Wonderful Location\\nMarvellous Staff\\nAwesome Cleanliness',\n",
       " 'Wonderful Location\\nSuperb Staff\\nExcellent Cleanliness',\n",
       " 'Perfect Location\\nSuperb Staff\\nFantastic Cleanliness',\n",
       " 'Wonderful Location\\nMarvellous Staff',\n",
       " 'Perfect Location\\nSuperb Staff\\nExcellent Cleanliness',\n",
       " 'Perfect Location\\nSuperb Staff\\nExcellent Cleanliness',\n",
       " 'Perfect Location\\nSuperb Staff\\nExcellent Cleanliness',\n",
       " 'Perfect Location\\nSuperb Staff\\nFantastic Cleanliness',\n",
       " 'Perfect Location\\nSuperb Staff\\nAwesome Cleanliness',\n",
       " 'Perfect Location\\nBrilliant Staff',\n",
       " 'Wonderful Location\\nMarvellous Staff\\nAwesome Cleanliness',\n",
       " 'Perfect Location\\nSuperb Staff\\nExcellent Cleanliness',\n",
       " 'Perfect Location\\nSuperb Staff\\nExcellent Cleanliness',\n",
       " 'Perfect Location\\nMarvellous Staff',\n",
       " 'Perfect Location\\nSuperb Staff\\nExcellent Cleanliness',\n",
       " 'Perfect Location\\nMarvellous Staff\\nAwesome Cleanliness',\n",
       " 'Perfect Location\\nSuperb Staff\\nExcellent Cleanliness',\n",
       " 'Perfect Location\\nSuperb Staff\\nExcellent Cleanliness',\n",
       " 'Perfect Location\\nMarvellous Staff\\nExcellent Cleanliness',\n",
       " 'Perfect Location\\nSuperb Staff\\nExcellent Cleanliness',\n",
       " 'Perfect Location\\nMarvellous Staff\\nAwesome Cleanliness',\n",
       " 'Perfect Location\\nSuperb Staff\\nAwesome Cleanliness',\n",
       " 'Perfect Location\\nSuperb Staff\\nExcellent Cleanliness',\n",
       " 'Perfect Location\\nSuperb Staff\\nFantastic Cleanliness']"
      ]
     },
     "execution_count": 46,
     "metadata": {},
     "output_type": "execute_result"
    }
   ],
   "source": [
    "description"
   ]
  },
  {
   "cell_type": "code",
   "execution_count": 47,
   "id": "8a22672e",
   "metadata": {},
   "outputs": [
    {
     "data": {
      "text/plain": [
       "['Free WiFi',\n",
       " 'Free WiFi\\nFollows Covid-19 sanitation guidance',\n",
       " 'Free WiFi\\nFollows Covid-19 sanitation guidance',\n",
       " 'Free WiFi\\nFollows Covid-19 sanitation guidance',\n",
       " 'Free WiFi\\nFollows Covid-19 sanitation guidance',\n",
       " 'Free WiFi\\nFollows Covid-19 sanitation guidance',\n",
       " 'Free WiFi\\nFollows Covid-19 sanitation guidance',\n",
       " 'Free WiFi\\nFree Breakfast\\nFollows Covid-19 sanitation guidance',\n",
       " 'Free WiFi\\nFree Breakfast',\n",
       " 'Free WiFi',\n",
       " 'Free WiFi\\nFollows Covid-19 sanitation guidance',\n",
       " 'Free WiFi\\nFollows Covid-19 sanitation guidance',\n",
       " 'Free WiFi\\nFollows Covid-19 sanitation guidance',\n",
       " 'Free WiFi\\nFollows Covid-19 sanitation guidance',\n",
       " 'Free WiFi\\nFollows Covid-19 sanitation guidance',\n",
       " 'Free WiFi',\n",
       " 'Free WiFi\\nFree Breakfast',\n",
       " 'Free WiFi',\n",
       " 'Free WiFi\\nFollows Covid-19 sanitation guidance',\n",
       " 'Follows Covid-19 sanitation guidance',\n",
       " 'Free WiFi\\nFollows Covid-19 sanitation guidance',\n",
       " 'Free WiFi\\nFollows Covid-19 sanitation guidance',\n",
       " 'Free WiFi\\nFollows Covid-19 sanitation guidance',\n",
       " 'Free WiFi\\nFollows Covid-19 sanitation guidance',\n",
       " 'Free WiFi\\nFollows Covid-19 sanitation guidance',\n",
       " 'Free WiFi\\nFollows Covid-19 sanitation guidance',\n",
       " 'Free WiFi\\nFollows Covid-19 sanitation guidance',\n",
       " 'Free WiFi\\nFollows Covid-19 sanitation guidance',\n",
       " 'Free WiFi\\nFollows Covid-19 sanitation guidance',\n",
       " 'Free WiFi\\nFollows Covid-19 sanitation guidance']"
      ]
     },
     "execution_count": 47,
     "metadata": {},
     "output_type": "execute_result"
    }
   ],
   "source": [
    "facilities"
   ]
  },
  {
   "cell_type": "code",
   "execution_count": null,
   "id": "619cb89c",
   "metadata": {},
   "outputs": [],
   "source": [
    "import pandas as pd\n",
    "hotel_details=pd.DataFrame({})\n",
    "hotel_details['Hostel_Name']= hotel_name[0:20]\n",
    "hotel_details['Type and Distance']= distance_from_city[0:20]\n",
    "hotel_details['Ratings']= ratings[0:20]\n",
    "hotel_details['Total_reviews']= total_rating[0:20]\n",
    "hotel_details['Overall_reviews']= over_all_review[0:20]\n",
    "hotel_details['Private Prices']= privates_price[0:20]\n",
    "hotel_details['Dorms Prices']= dorms_price[0:20]\n",
    "hotel_details['Description']= description[0:20]\n",
    "hotel_details['Facilities']= facilities[0:20]"
   ]
  },
  {
   "cell_type": "code",
   "execution_count": 49,
   "id": "55a3c44c",
   "metadata": {},
   "outputs": [
    {
     "data": {
      "text/html": [
       "<div>\n",
       "<style scoped>\n",
       "    .dataframe tbody tr th:only-of-type {\n",
       "        vertical-align: middle;\n",
       "    }\n",
       "\n",
       "    .dataframe tbody tr th {\n",
       "        vertical-align: top;\n",
       "    }\n",
       "\n",
       "    .dataframe thead th {\n",
       "        text-align: right;\n",
       "    }\n",
       "</style>\n",
       "<table border=\"1\" class=\"dataframe\">\n",
       "  <thead>\n",
       "    <tr style=\"text-align: right;\">\n",
       "      <th></th>\n",
       "      <th>Hostel_Name</th>\n",
       "      <th>Type and Distance</th>\n",
       "      <th>Ratings</th>\n",
       "      <th>Total_reviews</th>\n",
       "      <th>Overall_reviews</th>\n",
       "    </tr>\n",
       "  </thead>\n",
       "  <tbody>\n",
       "    <tr>\n",
       "      <th>0</th>\n",
       "      <td>NaN</td>\n",
       "      <td>NaN</td>\n",
       "      <td>NaN</td>\n",
       "      <td>NaN</td>\n",
       "      <td>Superb</td>\n",
       "    </tr>\n",
       "    <tr>\n",
       "      <th>1</th>\n",
       "      <td>NaN</td>\n",
       "      <td>NaN</td>\n",
       "      <td>NaN</td>\n",
       "      <td>NaN</td>\n",
       "      <td>Very Good</td>\n",
       "    </tr>\n",
       "    <tr>\n",
       "      <th>2</th>\n",
       "      <td>NaN</td>\n",
       "      <td>NaN</td>\n",
       "      <td>NaN</td>\n",
       "      <td>NaN</td>\n",
       "      <td>Fabulous</td>\n",
       "    </tr>\n",
       "    <tr>\n",
       "      <th>3</th>\n",
       "      <td>NaN</td>\n",
       "      <td>NaN</td>\n",
       "      <td>NaN</td>\n",
       "      <td>NaN</td>\n",
       "      <td>Superb</td>\n",
       "    </tr>\n",
       "    <tr>\n",
       "      <th>4</th>\n",
       "      <td>NaN</td>\n",
       "      <td>NaN</td>\n",
       "      <td>NaN</td>\n",
       "      <td>NaN</td>\n",
       "      <td>Very Good</td>\n",
       "    </tr>\n",
       "    <tr>\n",
       "      <th>5</th>\n",
       "      <td>NaN</td>\n",
       "      <td>NaN</td>\n",
       "      <td>NaN</td>\n",
       "      <td>NaN</td>\n",
       "      <td>Fabulous</td>\n",
       "    </tr>\n",
       "    <tr>\n",
       "      <th>6</th>\n",
       "      <td>NaN</td>\n",
       "      <td>NaN</td>\n",
       "      <td>NaN</td>\n",
       "      <td>NaN</td>\n",
       "      <td>Very Good</td>\n",
       "    </tr>\n",
       "    <tr>\n",
       "      <th>7</th>\n",
       "      <td>NaN</td>\n",
       "      <td>NaN</td>\n",
       "      <td>NaN</td>\n",
       "      <td>NaN</td>\n",
       "      <td>Fabulous</td>\n",
       "    </tr>\n",
       "    <tr>\n",
       "      <th>8</th>\n",
       "      <td>NaN</td>\n",
       "      <td>NaN</td>\n",
       "      <td>NaN</td>\n",
       "      <td>NaN</td>\n",
       "      <td>Superb</td>\n",
       "    </tr>\n",
       "    <tr>\n",
       "      <th>9</th>\n",
       "      <td>NaN</td>\n",
       "      <td>NaN</td>\n",
       "      <td>NaN</td>\n",
       "      <td>NaN</td>\n",
       "      <td>Very Good</td>\n",
       "    </tr>\n",
       "  </tbody>\n",
       "</table>\n",
       "</div>"
      ],
      "text/plain": [
       "   Hostel_Name  Type and Distance  Ratings  Total_reviews Overall_reviews\n",
       "0          NaN                NaN      NaN            NaN          Superb\n",
       "1          NaN                NaN      NaN            NaN       Very Good\n",
       "2          NaN                NaN      NaN            NaN        Fabulous\n",
       "3          NaN                NaN      NaN            NaN          Superb\n",
       "4          NaN                NaN      NaN            NaN       Very Good\n",
       "5          NaN                NaN      NaN            NaN        Fabulous\n",
       "6          NaN                NaN      NaN            NaN       Very Good\n",
       "7          NaN                NaN      NaN            NaN        Fabulous\n",
       "8          NaN                NaN      NaN            NaN          Superb\n",
       "9          NaN                NaN      NaN            NaN       Very Good"
      ]
     },
     "execution_count": 49,
     "metadata": {},
     "output_type": "execute_result"
    }
   ],
   "source": [
    "hotel_details.head(10)"
   ]
  },
  {
   "cell_type": "markdown",
   "id": "72964c6f",
   "metadata": {},
   "source": [
    "# Answer 9"
   ]
  },
  {
   "cell_type": "code",
   "execution_count": 6,
   "id": "6fe8f2da",
   "metadata": {},
   "outputs": [
    {
     "name": "stdout",
     "output_type": "stream",
     "text": [
      "Defaulting to user installation because normal site-packages is not writeable\n",
      "Requirement already satisfied: selenium in c:\\users\\dell\\appdata\\roaming\\python\\python39\\site-packages (4.1.5)\n",
      "Requirement already satisfied: trio-websocket~=0.9 in c:\\users\\dell\\appdata\\roaming\\python\\python39\\site-packages (from selenium) (0.9.2)\n",
      "Requirement already satisfied: trio~=0.17 in c:\\users\\dell\\appdata\\roaming\\python\\python39\\site-packages (from selenium) (0.20.0)\n",
      "Requirement already satisfied: urllib3[secure,socks]~=1.26 in c:\\programdata\\anaconda3\\lib\\site-packages (from selenium) (1.26.9)\n",
      "Requirement already satisfied: outcome in c:\\users\\dell\\appdata\\roaming\\python\\python39\\site-packages (from trio~=0.17->selenium) (1.1.0)\n",
      "Requirement already satisfied: async-generator>=1.9 in c:\\users\\dell\\appdata\\roaming\\python\\python39\\site-packages (from trio~=0.17->selenium) (1.10)\n",
      "Requirement already satisfied: sniffio in c:\\programdata\\anaconda3\\lib\\site-packages (from trio~=0.17->selenium) (1.2.0)\n",
      "Requirement already satisfied: sortedcontainers in c:\\programdata\\anaconda3\\lib\\site-packages (from trio~=0.17->selenium) (2.4.0)\n",
      "Requirement already satisfied: cffi>=1.14 in c:\\programdata\\anaconda3\\lib\\site-packages (from trio~=0.17->selenium) (1.15.0)\n",
      "Requirement already satisfied: attrs>=19.2.0 in c:\\programdata\\anaconda3\\lib\\site-packages (from trio~=0.17->selenium) (21.4.0)\n",
      "Requirement already satisfied: idna in c:\\programdata\\anaconda3\\lib\\site-packages (from trio~=0.17->selenium) (3.3)\n",
      "Requirement already satisfied: pycparser in c:\\programdata\\anaconda3\\lib\\site-packages (from cffi>=1.14->trio~=0.17->selenium) (2.21)\n",
      "Requirement already satisfied: wsproto>=0.14 in c:\\users\\dell\\appdata\\roaming\\python\\python39\\site-packages (from trio-websocket~=0.9->selenium) (1.1.0)\n",
      "Requirement already satisfied: PySocks!=1.5.7,<2.0,>=1.5.6 in c:\\programdata\\anaconda3\\lib\\site-packages (from urllib3[secure,socks]~=1.26->selenium) (1.7.1)\n",
      "Requirement already satisfied: cryptography>=1.3.4 in c:\\programdata\\anaconda3\\lib\\site-packages (from urllib3[secure,socks]~=1.26->selenium) (3.4.8)\n",
      "Requirement already satisfied: certifi in c:\\programdata\\anaconda3\\lib\\site-packages (from urllib3[secure,socks]~=1.26->selenium) (2021.10.8)\n",
      "Requirement already satisfied: pyOpenSSL>=0.14 in c:\\programdata\\anaconda3\\lib\\site-packages (from urllib3[secure,socks]~=1.26->selenium) (21.0.0)\n",
      "Requirement already satisfied: six>=1.5.2 in c:\\programdata\\anaconda3\\lib\\site-packages (from pyOpenSSL>=0.14->urllib3[secure,socks]~=1.26->selenium) (1.16.0)\n",
      "Requirement already satisfied: h11<1,>=0.9.0 in c:\\users\\dell\\appdata\\roaming\\python\\python39\\site-packages (from wsproto>=0.14->trio-websocket~=0.9->selenium) (0.13.0)\n",
      "Note: you may need to restart the kernel to use updated packages.\n"
     ]
    }
   ],
   "source": [
    "pip install selenium"
   ]
  },
  {
   "cell_type": "code",
   "execution_count": 51,
   "id": "e097ccf2",
   "metadata": {},
   "outputs": [],
   "source": [
    "import selenium # importing selenium\n",
    "from selenium import webdriver#importing webdriver\n",
    "from selenium.common.exceptions import StaleElementReferenceException, NoSuchElementException #importing exception \n",
    "import time"
   ]
  },
  {
   "cell_type": "code",
   "execution_count": 52,
   "id": "f5abe7ad",
   "metadata": {},
   "outputs": [
    {
     "name": "stderr",
     "output_type": "stream",
     "text": [
      "C:\\Users\\Dell\\AppData\\Local\\Temp\\ipykernel_9068\\74639136.py:1: DeprecationWarning: executable_path has been deprecated, please pass in a Service object\n",
      "  driver = webdriver.Chrome(r\"C:\\web driver\\chromedriver.exe\")\n"
     ]
    }
   ],
   "source": [
    "driver = webdriver.Chrome(r\"C:\\web driver\\chromedriver.exe\")"
   ]
  },
  {
   "cell_type": "code",
   "execution_count": 53,
   "id": "f92b08e2",
   "metadata": {},
   "outputs": [],
   "source": [
    "url = 'https://www.youtube.com/watch?v=YfO28Ihehbk'\n",
    "driver.get(url)"
   ]
  },
  {
   "cell_type": "code",
   "execution_count": 54,
   "id": "536f3a37",
   "metadata": {},
   "outputs": [],
   "source": [
    "driver.execute_script(\"window.scrollBy(0,10000)\" \"\")\n",
    "for i in range(200):\n",
    "    driver.execute_script(\"window.scrollBy(0,10000)\" \"\")\n",
    "    "
   ]
  },
  {
   "cell_type": "code",
   "execution_count": 72,
   "id": "e13105f7",
   "metadata": {},
   "outputs": [
    {
     "name": "stderr",
     "output_type": "stream",
     "text": [
      "C:\\Users\\Dell\\AppData\\Local\\Temp\\ipykernel_9068\\247944682.py:1: DeprecationWarning: find_elements_by_id is deprecated. Please use find_elements(by=By.ID, value=id_) instead\n",
      "  Comment = driver.find_elements_by_id(\"content\")\n"
     ]
    },
    {
     "data": {
      "text/plain": [
       "168"
      ]
     },
     "execution_count": 72,
     "metadata": {},
     "output_type": "execute_result"
    }
   ],
   "source": [
    "Comment = driver.find_elements_by_id(\"content\")\n",
    "len(Comment)"
   ]
  },
  {
   "cell_type": "code",
   "execution_count": 76,
   "id": "6b96e8f9",
   "metadata": {},
   "outputs": [],
   "source": [
    "Comments = []\n",
    "for i in Comment:\n",
    "    Comments.append(i.text)"
   ]
  },
  {
   "cell_type": "code",
   "execution_count": 77,
   "id": "a65a7238",
   "metadata": {},
   "outputs": [
    {
     "data": {
      "text/plain": [
       "['IN\\nSKIP NAVIGATION\\nSIGN IN\\n0:02 / 6:59:15\\n#python #fullcourse\\nPython for Beginners | Full Course\\n1.2M views\\n25K\\nDISLIKE\\nSHARE\\nSAVE\\nTelusko\\n1.71M subscribers\\nJOIN\\nSUBSCRIBE\\nPython full course\\nLearn Python from start to end.\\nPython basics to Advance\\n\\nIntro - \\nSHOW MORE\\n1:45:19\\nOOP in Python | Object Oriented Programming\\nTelusko\\n1.1M views\\n3 years ago\\nMix - Telusko\\nYouTube\\n3:09:21\\nDjango Tutorial for Beginners | Full Course\\nTelusko\\n1.5M views\\n2 years ago\\n4:13\\n#1 Python Tutorial for Beginners | Introduction to Python\\nTelusko\\n3.4M views\\n3 years ago\\n1:05:24\\nPython Pandas Tutorial in Hindi\\nCodeWithHarry\\n342K views\\n2 years ago\\n1:17:12\\nPython Tutorial for Beginners | Learn Python in 1.5 Hours\\nApna College\\n1.5M views\\n5 months ago\\n2:12:35\\nObject Oriented Programming with Python - Full Course for Beginners\\nfreeCodeCamp.org\\n541K views\\n7 months ago\\n18:50\\nMystery of Titanic | How the World\\'s Greatest Ship Disappeared? | Dhruv Rathee in Hindi\\nDhruv Rathee\\n1.6M views\\n1 day ago\\nNew\\n18:12\\nBiography of Putin | How Putin Become President | How Putin Becomes so Powerful | History of Putin\\nKhan GS Research Centre\\n4.5M views\\n6 days ago\\nNew\\n1:00:06\\nPython for Beginners - Learn Python in 1 Hour\\nProgramming with Mosh\\n5.1M views\\n1 year ago\\n10:22\\n#4 Python Tutorial for Beginners | Variables in Python\\nTelusko\\n2.1M views\\n3 years ago\\n3:37:14\\nLearn Python In Tamil | Beginner to Advance Complete guide | Tamil Hacks\\nTamil Hacks 2.0\\n1.7M views\\n2 years ago\\n24:38\\nPython Tutorial for Absolute Beginners #1 - What Are Variables?\\nCS Dojo\\n7.8M views\\n4 years ago\\n37:51\\n.NET MAUI First Look - What is it, how do we use it, and is it ready\\nIAmTimCorey\\n25K views\\n2 days ago\\nNew\\n15:57\\n#26 Python Tutorial for Beginners | Array in Python\\nTelusko\\n918K views\\n3 years ago\\n6:14:07\\nPython Tutorial - Python Full Course for Beginners\\nProgramming with Mosh\\n26M views\\n3 years ago\\n55:20\\nPython full course in telugu in 1 hour | Complete python course | Vamsi Bhavani\\nVamsi Bhavani\\n72K views\\n2 months ago\\n11:13\\n#32 Python Tutorial for Beginners | Functions in Python\\nTelusko\\n691K views\\n3 years ago\\n49:43\\nPython Machine Learning Tutorial (Data Science)\\nProgramming with Mosh\\n1.2M views\\n1 year ago\\n3:14:42\\nJava Tutorial for Beginners in Hindi | Java in Hindi | Java Tutorial in Hindi | Java full course\\nGreat Learning\\n1.1M views\\n2 years ago\\nSHOW MORE\\n839 Comments\\nSORT BY\\nAdd a comment...\\nPinned by Telusko\\nApurv Patel\\n3 years ago\\n01:04 introduction to python\\n05:14 Python setup\\n13:06 Getting started with python\\n27:02 variables in python\\nRead more\\n606\\nREPLY\\nView 24 replies\\nMohd Ather\\n2 years ago\\nRunning out of words to appreciate your efforts..its not just abt teaching PYTHON but the way in which u made ur audience comfortable irrespective of ther background or tech knowledge in programming  is beyond commendable..!!! UR AWESOME..!!!!\\nRead more\\n46\\nREPLY\\nPrabu Sekar\\n11 months ago\\nTelusko and Navin I have gone through your 7 hours of Python video and thank you and thank you to COVID (I got some time for myself to learn). Navin your sessions are really good and I have learned a lot. I am one of those old-time 80\\'s programmers who started from Fortran, c,c++, java, and now I have learned Python from you. It\\'s interesting how the languages are evolving from one to another, but each is just another step on the ladder. My true feeling is the names are different and syntax are different but the concept is the same from the \\'80s or even older.  But good to learn something new every day.  Thank you, because of you folks I can learn the language quickly compare to my older style of learning (research fo the ebooks, find the best one, order it, and sit and read and parallel try it IDE, longer process), also thank you for addressing the tools required for programming, DBs, and repository. In return If I can contribute to your organization please let me know, once again thank you, team.\\nRead more\\n60\\nREPLY\\nSiddhartha Sarmah\\n1 year ago\\n1. Introduction to Python - 01:10\\n\\n2. Python Setup - 05:14 \\n\\n3. Getting Started with Python - 13:06\\n\\n4. Variables in Python - 27:02\\nRead more\\n15\\nREPLY\\nvenkata kumaresan\\n9 months ago (edited)\\nOne of the best interactive classroom like session I had over the last 5 years.. \\nExcellent effort by Navin and thanks a bunch to you for making this by putting lot of efforts considering the different group of audience.\\nRead more\\n6\\nREPLY\\nUSMAN AHMED AWAN\\n1 year ago\\nWhenever it comes to any topic, I always prefer your tutorials. Thank you Naveen sir, for making all tough concepts so easy for us to learn. You are doing a great job!\\n9\\nREPLY\\nAduitey Dubey\\n1 year ago\\nWhenever it comes to coding, I always prefer your tutorials. Thank you Naveen, for making all tough concepts so easy for us to learn. You are doing a great job!\\n53\\nREPLY\\nswift 88\\n1 year ago\\nExcellent teacher makes everything so easy to understand. Thank you very much. Easily one of the best.\\n37\\nREPLY\\nSai Sumanth\\n1 year ago\\n01:04 introduction to python\\n\\n05:14 Python setup\\n\\n13:06 Getting started with python\\n\\n27:02 variables in python\\nRead more\\n10\\nREPLY\\nSultan Mohammed\\n1 year ago (edited)\\nHello Navin(Mr Genius)\\n\\nYou are awesome.. No Boring lectures, each and every topic is damn interesting .. The way you had maintained the flow is amazing and keeps the listener connected.. It\\'s looking as if best friend is taking the sessions rather than an unknown guy..\\nRead more\\n14\\nREPLY\\nRadha G\\n2 years ago\\nVery interactive way of teaching. I like this. Thank you Sir for your dedicated mentoring.\\n24\\nREPLY\\nRaj Kumar\\n1 year ago\\n1. Introduction to Python - 01:10\\n\\n2. Python Setup - 05:14 \\n\\n3. Getting Started with Python - 13:06\\n\\n4. Variables in Python - 27:02\\nRead more\\n2\\nREPLY\\nvs95054\\n3 months ago\\nHi Navin - this is by far the BEST Python training video(s). You made Python learning so easy and systematic, that\\'s way beyond words. Keep up the good work and God bless you! :)\\n1\\nREPLY\\nSai Uppalapati\\n7 months ago\\nLots of love sir. I never seen a teacher like u sir. U makes me more inspiring the way u spoke, the way u teach is amazing sir. Only because of u i started learning java and python sir. Thank you sir.\\n4\\nREPLY\\nA Ganguly.\\n1 year ago\\nThis man puts hard effort to provide free high quality education for all . \\nThanks you for sharing your knowledge.\\nIt\\'s really helpful for students like me. \\nRead more\\n6\\nREPLY\\nTina jain\\n1 year ago\\n01:04  introduction to python\\n\\n05:14 Python setup\\n\\n13:06 Getting started with python\\n\\n27:02 variables in python\\nRead more\\n3\\nREPLY\\nG V V SURESH\\n3 years ago\\nI am seriously waiting for this whole python course in a single video from you. Thank you so much.. Naveen Reddy.Your way of explaining things were extremely useful and interesting.\\n7\\nREPLY\\nYoran Essers\\n1 year ago\\nHey! I really wanted to thank you for this video. I have a company, and I needed to use Python for a project. In the past, I used Python a lot. This video helped me make my Python skills alive again, huge thanks to you!\\n5\\nREPLY\\nSaikiranExplores Explore knowledge\\n4 months ago\\nThe way you explained bitwise operaters is phenomenal. Lots of respect ️\\n1\\nREPLY\\nVenkata Ram Sai\\n6 months ago\\nExcellent teaching sir . I study everything from your channel sir.\\nCould you please try to continue Data Structures and Algorithms in java ??\\n1\\nREPLY\\nSimran Taneja\\n1 year ago\\n1. Introduction to Python - 01:10\\n\\n2. Python Setup - 05:14 \\n\\n3. Getting Started with Python - 13:06\\n\\n4. Variables in Python - 27:02\\nRead more\\n10\\nREPLY\\nKeironimous\\n1 month ago\\nIm 12 year old and I wanted to learn some python, this was so helpful! Keep up the good work\\n1\\nREPLY\\nHm Sm\\n1 year ago (edited)\\nNo doubt it is one of the best Python tutorials on internet.\\n  And Mr. Naveen is a very good teacher. Thanks.\\n1\\nREPLY\\nSimran Taneja\\n1 year ago\\n01:04 introduction to python\\n\\n05:14 Python setup\\n\\n13:06 Getting started with python\\n\\n27:02 variables in python\\nRead more\\n5\\nREPLY\\nAmeha Addis\\n1 year ago\\nHi Navin ! Your lessons are so interesting detailed, and practical illustrations. Thank you so much brother !!!\\n1\\nREPLY\\nVelugu Venkateswar Reddy\\n1 year ago (edited)\\nI\\'m at the middle of this session , and one interesting thing is that the music tone which came before jumping to next topic is impressive and it boosting me to get into topics.Heartfully , thanks for making this free for many of us .We salute you for this..... \\nRead more\\n16\\nREPLY\\nVageesh G B\\n2 years ago\\nDear Sir,\\n  \\n It\\'s good to learn in all in 1. Thanks for your valuable time to share a knowledge to all.\\nRead more\\n1\\nREPLY\\nSamuel Pereira\\n3 months ago\\nThanks for the course. It is amazing :)\\nREPLY\\nGaurav Joshi\\n2 years ago\\nBeginner session was wonderful..if you could now add an advance concept it will be of much more of a help to all the python enthusiasts\\n3\\nREPLY\\nVandana Mane\\n1 year ago\\nGreat learning... thank you Telusko for this. could you please also provide, assignments/practice projects to do..\\n2\\nREPLY\\nSet Show\\n1 year ago\\nYou break this down into little pieces for us to assimilate. Very good tutorial.\\n6\\nREPLY\\nTabinda Naiyer\\n10 months ago\\n01:10\\n\\n2. Python Setup - 05:14 \\n\\n3. Getting Started with Python - 13:06\\n\\n4. Variables in Python - 27:02\\nRead more\\n1\\nREPLY\\nDave Haste\\n1 year ago\\nSir we need Python advanced level video like this.  This tutorial helped me a lot.\\n17\\nREPLY\\nView 3 replies\\nRahul ray\\n2 months ago\\nhi sir  its a great work done by you .. can we have a video of functions on python actually , i guess function is missing out from this tutorial . Thanks for this i am a big fan of yours. i had wasted a lot of money on learning programming but it couldnt happen , but this time it seems so .. i will learn programming a big thanks to you sir .\\nRead more\\nREPLY\\nAjinkya Rathod\\n1 year ago\\nFinally completed entire video today.\\n Great going Telusko. \\nGod bless you.\\n65\\nREPLY\\nView reply\\nVeronica Dias\\n3 months ago\\nSir ,your explanation is epic....Programming seems to be very easy with your explanation ....I wish you could explain Blender theory with practicals...\\nREPLY\\nnilesh yeole\\n7 months ago\\nHello Navin,\\nThank you so much for your videos.. these videos helps me to understand the core concepts of language. Could you please suggest a book for Python?\\nRead more\\n1\\nREPLY\\nsathya saravanan\\n1 year ago\\nYour way of teaching is awesome.. Thankyou so much sir..Editing was also incredible.\\n1\\nREPLY\\nGeetha Reddy\\n1 year ago (edited)\\nHey Navin, I have a question. At 04:03 you said, you should represent a class method as \\'cls\\' but when I tried to provide other names, it is working as well.\\nRead more\\n1\\nREPLY\\nLakshmanan P\\n1 year ago\\nIm Not getting bore or sleep as like other tutorials , udemy courses .. Yur just rocking Navin Garu :)  Best Teacher Ever Seen !!\\n2\\nREPLY\\nkaustubhpradhan82\\n9 months ago\\n01:04 introduction to python\\n\\n05:14 Python setup\\n\\n13:06 Getting started with python\\n\\n27:02 variables in python\\nRead more\\n1\\nREPLY\\nFox Craft\\n1 year ago\\n1. Introduction to Python - 01:10\\n\\n2. Python Setup - 05:14 \\n\\n3. Getting Started with Python - 13:06\\n\\n4. Variables in Python - 27:02\\nRead more\\nREPLY\\nSanjana Nayak\\n1 year ago\\nI had a rough knowledge in Python but this video made me fall in love with it. Thank you sir\\n2\\nREPLY\\nNihal Singh\\n1 year ago\\nTHANKYOU FOR MAKING THIS VIDEO LEARNT PYTHON FROM YOU SIR ... \\nPlease make if you can make On DATA STRUCTURES AND ALGORITHMS .. cause your way of teaching is cool and understandable\\nRead more\\n1\\nREPLY\\nKaviyasree\\n1 year ago\\nVery interactive and Excellent way of teaching ,Thank you sir\\n1\\nREPLY\\nSirsendu Karna\\n2 years ago\\nHave been through many python online courses in youtube/Udemy and other learning apps...but this is the best untill now...still 3 hours to go for me\\n2\\nREPLY\\nSamar singh\\n9 months ago\\nThis course is sitting in my watch later playlist for more than a year, today I finally started. :3\\n16\\nREPLY\\nShreya Mishra\\n1 month ago\\nBest tutorial on python , easy to understand!!\\nREPLY\\nsamson nair\\n1 year ago\\nI m from London n I have enjoyed watching n learning from you. You have a great understanding of the subject n your teaching method is very interesting and easy to understand. I believe any lay man can learn watching your videos. Kudos to you. \\nRead more\\n1\\nREPLY\\nASHDEEP SINGH\\n2 years ago\\nYou are doing what the 90% of engineering institutions of in India don\\'t, teaching the language with ease.\\nThanks a lot for your efforts towards educating people like me who don\\'t have an access to proper resources neither do belong to some reputed college of the country.\\nRead more\\n192\\nREPLY\\nView 3 replies\\nRajesh Parikh\\n1 year ago\\nJust started seeing this. Can you please explain your technique of typing the brackets and quotes in one go and than separating by typing inbetween? Makes typing easier that way. thanks\\n2\\nREPLY\\nBalabadra bhagyamma\\n9 months ago\\nThank you.Thank you so much sir.Due to my bad health condition I was unable to listen python classes teached by collage.But,now I am very happy& getting satisfied by seeing this.\\n2\\nREPLY\\nDasari Murali\\n3 years ago\\nThis is the one of the best python tutorial. Thanks a lot for the tutorial.\\n6\\nREPLY\\nMohammed Aabid\\n2 years ago\\nThanks Naveen sir, your explanation is good and understandable. The only challenge for beginners is your rate of speech, it is too fast. If u could slow down, I feel you would be the best instructor on YouTube.\\n1\\nREPLY\\nENT\\n10 months ago\\nAwesome teaching anna learnt lot of things anna thank you\\n1\\nREPLY\\nAishwarya Chaurasia\\n2 years ago\\nThank u so much sir..for teaching python from beginning its very helpful for me to study and u make it and explained very easy with lot of fun thank u so much sir ..i request u sir for to make a video of ruby full from beginning....thank u sir for efforts...\\nRead more\\n14\\nREPLY\\nPrakash g\\n3 months ago\\nExcellent is your class sir I am a Non IT guy and I find python very interesting .. in 1:54:33 right shift operation the screen is blank .. Just for info\\nREPLY\\nPaul Muru\\n1 year ago\\nBy far the best Python beginner tutorial on Youtube.Please do one on Pycharm IDE as well\\n1\\nREPLY\\nsai charan ponduri\\n1 month ago\\nSir, I\\'m new to coding but your explanation gives the confidence to just go ahead and write codes. I have a small query at 4:56:00. While artificially creating method overloading in python, \"None\" has been used with if and elif. But we can simply use 0 (zero) as initial value of a, b and c and say s = a + b + c and even then we are good to go!! \\nRead more\\n1\\nREPLY\\nSunil palepu\\n6 months ago\\nFinally completed full video today. \\nThank you navin sir for your hard work and i really enjoyed watching and learning this python course\\n1\\nREPLY\\nHEY GOOGLE!!!!!!!!\\n1 year ago\\n1. Introduction to Python - 01:10\\n\\n2. Python Setup - 05:14 \\n\\n3. Getting Started with Python - 13:06\\n\\n4. Variables in Python - 27:02\\nRead more\\nREPLY\\nYT 86\\n2 years ago\\nThanks for making this video, it\\'s very useful,  most video i lost my mind after few minutes but you made very nicely, very clearly and with details information, Very informative and useful. Thank you so much for this video.\\n2\\nREPLY\\nsudha upadhyay\\n1 year ago\\nvery interactive way of teaching .thank you sir for these lecture.god bless you\\n1\\nREPLY\\nDINESH BETANABILLI\\n11 months ago\\nReally fantastic explanation \\nREPLY\\nTechinker Bot!\\n1 month ago\\nThank you sir it was a vey good video and learned nicely!!\\n1\\nREPLY\\nRanjit Kadam\\n2 years ago\\nThank you very much sir. It\\'s very much helpful for me ️\\n1\\nREPLY\\nKumar\\n2 years ago\\nSuperb teaching skills. Thank you sir\\n5\\nREPLY\\nDeepak Soni\\n11 months ago (edited)\\nIf u r watching this video for revision purpose u can play the video at 1.25 x....u will definitely save your time and will understand very easily. Thanks to telusko\\n1\\nREPLY\\nAbhishek Gupta\\n8 months ago\\nWatching it after more than 2 years, but still feels fresh. One point that I specifically want to mention is that I do not get bored at any point of time. Great work.\\n1\\nREPLY\\nView reply\\nNeetha Thomas\\n2 years ago\\nYour wonderful teaching helps up learn fast. Thank you sir\\n2\\nREPLY\\nSurya Theja\\n2 years ago\\ni thing the best thing I\\'ve done in this lock down is learning python from your video.\\nyou have put in lot of efforts in making this video and its really helpful video and thanks a lot for your efforts .\\n26\\nREPLY\\nView reply\\nSrinivas Vasu\\n1 year ago (edited)\\nSir thank you for teaching python. \\nSir I respect you and your team\\'s  hard work to make us such a informative video. I would once again like to say thanks a lot sir for making this video.\\n1\\nREPLY\\nEdwards Fam.\\n1 year ago\\nenjoying this course... really good stuff.. the speed is perfect\\nREPLY\\nNEXT World\\n1 year ago\\nThank you so much, sir, you made my future \\nfantastic tutorial and I\\'m really happy\\nGod bless you..!!\\n2\\nREPLY\\nkoteswara Rao\\n3 years ago\\n01:04 introduction to python\\n\\n05:14 Python setup\\n\\n13:06 Getting started with python\\n\\n27:02 variables in python\\nRead more\\n65\\nREPLY\\nView 5 replies\\nSrikanth Rangavarjula\\n1 year ago (edited)\\nHey @Naveen, Thanks for the great lecture first of all. I\\'m trying to write a Jpg file as said in the above video. But didn\\'t get the picture saying \"Image not loaded, Try to open it externally to fix the prob\". Even manually the image file has broken. Any suggestions will be appreciated.\\nRead more\\n1\\nREPLY\\nSubhrajit Chakraborty\\n1 year ago\\nThe way you explain is just awesome... I browsed throughout the internet and then got this python tutorial.... The fact is there are hell lot of python tutorial but the way of explaining is not suitable for me... Yours is just awesome...\\nREPLY\\nklausvery\\n2 years ago\\nNavin, thank you so much for your lectures. Full of depth, interesting and applicable.\\nREPLY\\nBhavani Shankar\\n1 year ago\\nBhayya two years back i saw your video and started automating Test and measurement instruments using Python (i could install Pyvisa, PIP , could do string processing, CSV file processing whatnot )and SCPI commands, if you are younger than me God Bless you and if you are elder to me Namasthe, Python is Amazing and so as you Reddy\\nRead more\\nREPLY\\nManju Kumawat\\n2 years ago\\nHello sir, I am just a student..totally a fresher and I find ur videos absolutely amazing..thank u so much sir ..love u ️️\\n4\\nREPLY\\nDarshan Shetti\\n2 years ago\\n01:04 introduction to python\\n\\n05:14 Python setup\\n\\n13:06 Getting started with python\\n\\n27:02 variables in python\\nRead more\\n63\\nREPLY\\nView 2 replies\\nAnnie Edwin\\n1 year ago (edited)\\nOne of the best Python tutorials!! Thank you so much!!\\n3\\nREPLY\\nSunil K.C\\n1 year ago (edited)\\nAwesome explanation. Do you have video for Automation testing with Selenium on Python?\\nREPLY\\nAlok Pratap Singh\\n1 year ago\\nwhat an amazing class. Great\\nREPLY\\nSathyavelu Pv\\n1 year ago\\nbest python video i have completed 7 hrs :) and learnt so much thanks Naveen Sir !!!\\n1\\nREPLY\\nGanesh Chenna\\n2 years ago\\nThank you Navin Reddy. Your tutorial is very easily understandable. Excellent teaching methods. I will suggest this tutorial for any beginner. \\nREPLY\\nPoori Ganesh 😍\\n2 years ago\\nI loved the way you teach,  I felt your tutorial very helpful and easy to understand. Thank you\\nREPLY\\nshankar prasad chatterjee\\n2 years ago\\nSir you explain everything so easily that it seems like I am drinkig water . But actually the water that is made by you is made from iron\\nSir you are great salute to your effort\\n17\\nREPLY\\nNAVEEN KUMAR R\\n3 years ago\\nYeah in today\\'s world every educational sites has become business tool.. thanks a lot sir for your time and putting effort in making videos available free to access everyone. Great work sir\\n2\\nREPLY\\nHuHiez Core\\n1 year ago\\nCan you record classes on how to use python in data visualization with tableau? Please.\\nREPLY\\nArunesh Naha\\n3 years ago\\nWooow... Great job of integrating the entire tutorial \\n8\\nREPLY\\nSuresh Kumar\\n2 years ago\\nThank you for the detailed explanation. This helped me a lot.\\n5\\nREPLY\\nView reply\\nBindu Madhav\\n2 years ago\\nNaveen reddy teaching style is so different even 2nd standard student also can easily understand your concept..I am expecting Django projects from your side\\n3\\nREPLY\\nShe An\\n2 years ago\\nThank u Naveen for teaching from scratch am from non technical background this video will help me alot May God give you a happy life \\n3\\nREPLY\\nDasari Murali\\n3 years ago\\nGreat work. This video misses the concepts of Functions, lambda functions which are there in the short videos.\\n24\\nREPLY\\nSharath Veldurthi\\n2 years ago\\nHey naveen firstly, your way of teaching is excellent. Can you please do a video on real time work of a python developer i mean how we get the project from the client, what information we will get from the client, how the work will will be distributed among the inner team members and also what type of projects we will get. just i want to know the real time scenario.\\nRead more\\nREPLY\\nGarvansh Mishra\\n1 year ago\\nvery interesting and nice video thanks for teaching us programming\\nREPLY\\nTejaswini Mukkala\\n5 months ago\\nsir could you pls provide basic python programs and all interview questions..............\\nbecause its very helpful for us\\nREPLY\\nmark hensley\\n2 years ago\\nthis is the best python video i have seen. you explain very well. teaching is your calling.\\n3\\nREPLY\\nbkas prasai\\n2 years ago\\nSir great videos, clear as water but i didn\\'t find function operation videos in this session\\nREPLY\\nchandu sarath\\n2 years ago\\nThe best tutorial for python , Thank you Navin\\n5\\nREPLY\\nLearn Anything you want\\n1 year ago\\nu r excellent, brilliant expert,sir.....u r great sir  ..god bless u sir ..u r doing great work sir\\n1\\nREPLY\\nSAMPATH KUMAR GUTHA\\n2 years ago\\nThanks bro for ur wonderful tutorial I have watched many tutorials of python but I didn\\'t get this much clarity still now\\n1\\nREPLY\\nArun Kumar\\n1 year ago\\nthank u sir i am a 12th student from TN .I cant understand my comp online class but ,after seeing this I can understand python very well\\n1\\nREPLY\\nView reply\\nSUNIL THATRA\\n11 months ago\\nSir, this video covers total concepts for app development\\nREPLY\\nNico\\n2 years ago\\nThanks for this video dude! I was recommended this by my brother and it helped a lot, cheers!\\n2\\nREPLY\\njosstatus\\n1 year ago\\nNaveen you are awesome....i say truely that i didn\\'t get bored even single second of your entire video\\n4\\nREPLY\\nNefer_Ankh\\n9 months ago (edited)\\nIn logical operator, while putting b= 5 and b>5, b<5 ..it\\'s showing false..\\nSir, iz it possible to find ASCII code?\\nREPLY\\nAryaman Singh\\n11 months ago\\nGreat Tutorial! thank you Sir\\nREPLY\\nRahul Kainth\\n2 years ago\\nGiven my thumps up to this video. Not because i liked that video but to his dedication for teaching, preparing long video and explained logics fairly that not explaining in colleges as well. Great work!\\nRead more\\nREPLY\\nSp Sathish\\n1 year ago\\nHi Mr. Naveen, you are very good mentor.\\nTeach a little bit slow to understand  concepts.\\n\\nPlease take my advice in positive way.\\nRead more\\nREPLY\\nVishali Saraj\\n2 years ago\\nI really love the way you are teaching, thankyou very much\\n4\\nREPLY\\nLulzim Veliu\\n3 years ago\\nVery good tutorial , so far the best one , keep on going man\\n1\\nREPLY\\nAditya Abbendi\\n7 months ago\\nYou are one legitimate....guider hands down you the best thank you so much to make it all easy \\nREPLY\\nChandan Kumar\\n3 years ago\\nYou are too great sir.\\nGod bless you.\\n\\nThanks a lot.\\n2\\nREPLY\\nFox Craft\\n2 years ago\\nThank you sir, i am 12 years old kid and I wanted to learn coding specially  python. Thank you sir you are my hero.\\n14\\nREPLY\\nView reply\\nSATYABATI GOSWAMI\\n1 year ago\\nLucky to have a great teacher like you\\nREPLY\\nMandar Raut\\n5 months ago\\nFunction and module part is missing,please add those part too.. its directly jumping to object wala part after pattern wala part\\nREPLY\\nJai Tutor\\n3 years ago\\nAwesome tutorial of python i am waiting for like this one, Thanks a  lot\\n1\\nREPLY\\naswin us\\n2 years ago\\nNice, easy to learn\\n1\\nREPLY\\nKavish Agnihotri\\n1 year ago\\nGreat lecture. Thanks.\\nREPLY\\nShivani Pawar\\n1 year ago\\nYou are so good..cant even Express.. I belong to nontechnical background and joined AIAnd Machine learning course. But they wont cover anything basics. I have to do everything..but you are the hope. Thank you.\\nREPLY\\nP Jagadeesh\\n1 year ago\\nFor 1:43:10 \\nImport os\\nClear=lambda:os.system(\"cls\")\\nClear()\\n1\\nREPLY\\nSTUDENT\\'S CORNER\\n2 years ago\\nYou are legend.....what a class \\n2\\nREPLY\\nSATYABATI GOSWAMI\\n1 year ago (edited)\\nSir you are great!! God bless you..\\nREPLY\\nrahul sharma\\n2 years ago\\nThanks navin. You rock dude. This is great tutorial.\\n2\\nREPLY\\nJyoshna Deepala\\n4 months ago\\n1:03:00  this is  where i get  to know ,why we don\\'t have pointers in python. :)\\n1\\nREPLY\\nArman Hossain Shanto\\n5 months ago\\n5:59:00\\n\\ndef search(list, n):\\nRead more\\n1\\nREPLY\\nShreya N\\n3 years ago\\nThank you so much sir!! This is gonna help me a lot definitely!! Tq\\nREPLY\\nAzura Lazarus\\n1 year ago\\nSir I study in class 9th and I get understood concepts so clearly\\nREPLY\\nRavi Vijay\\n2 years ago\\nHi \\nTelusko,\\nAny doc including all the commands u used in this video?\\nIt would be very useful.\\nREPLY\\nPriyadarshini Modak\\n2 years ago\\nHey thank u so much....it\\'s amazing...I really want to learn computer and pursue a career regarding computer...And I want to learn this subject very well\\n1\\nREPLY\\nMr world\\n1 year ago\\nExcellent explaination sir\\nREPLY\\nRaviteja\\n2 years ago\\nThank you so much\\nNo more words to express about your efforts.\\nThank you\\n1\\nREPLY\\nRaghupatruni swapnique\\n1 year ago\\nSir can you make a video on complete datastructures based on linked lists\\nREPLY\\nDev\\n2 years ago\\nThanks sir. It\\'s more of than enough to learn python. Probably the best Video on YouTube!!!!!!!!!\\n2\\nREPLY\\nMOHAMMED NIZAMUDDIN\\n3 years ago\\nYou are doing a good job bro. Thank you.\\n2\\nREPLY\\nSai Charan\\n1 year ago\\nSuper video. Thanks navin bro. I have one doubt in java we will use super as 1st statement. Here is anything like that.\\nREPLY\\nvenky venkat\\n4 months ago\\nI get confidence in python only because of you bro because your teaching style was AWESOME now i am get ol from Infosys and your explanation In python was awesome .it takes 22 days to 63 videos in python total video bro then after I am doin  practice  daily now i am okay with python tq u bro now i am seeing  java videos bro\\nRead more\\nREPLY\\nmadhu sudhana\\n1 year ago\\nSir can I get a grip over python by watching and practicing by watching your videos or shall I have to refer any other book if so suggest me a book\\nREPLY\\nchunsheng hu\\n2 years ago\\nSeriously, this is the best python courses I have ever taken.\\n6\\nREPLY\\nView 2 replies\\nVN\\n1 year ago\\nSo grateful for this video sir️\\nREPLY\\nranjan verma\\n3 years ago\\nThank you for this valuable video...hoping same for Java as well.\\n1\\nREPLY\\nTushar Vatsa\\n1 year ago\\nWhat an energy u have sir ji, thank you.\\n1\\nREPLY\\nmukta sahu\\n1 year ago\\nGreat tutorial for python.For those who did not like the video, don\\'t click hard its not a download button!!\\nREPLY\\nSopan Sharma\\n1 year ago\\nexcellent tutorial\\nREPLY\\nJyoshna Deepala\\n4 months ago\\nthank you soo much for your efforts \\nREPLY\\nRamesh Chouhan\\n3 months ago\\nGreat way of teaching\\nREPLY\\nSuraj Aribenchi\\n5 months ago\\nthanku sir u really teach the language in a very intresting way thanku so much for putting effort to teach  thaat to free.\\nREPLY\\nKanchan Yadav\\n1 year ago\\nSir please help,\\nI am using windows 8.1 and trying to define the path for command prompt but as I double click the path in environmental variables .. I am not getting the same dialogue box . So do I have to mention a new path in the system variable? Please reply soon\\nRead more\\nREPLY\\nManoj Gollapelli\\n1 year ago\\nperfect python training for beginner\\nREPLY\\nAnusuya R\\n4 months ago\\nThank you very much sir..\\nREPLY\\nazam\\n3 months ago (edited)\\n@ 6:34:48 if anyone getting error\\n\"No Module Found\" Try different name for your python file other than \"mysql.py\"\\nThis will treat as a module file which may leads to an error\\nREPLY\\nnasar shaik\\n7 months ago\\nsuch a beautiful teaching sir super..........!\\n1\\nREPLY\\nINSPIRE\\n1 year ago\\nNice videos , how to get only the integer part and not get the decimal part in the  short cut of assignment operation\\nREPLY\\nsimbol\\n3 years ago\\nThis is the greatest introductory Python tutorial have come across.\\nThanks very much sir\\n7\\nREPLY\\nView reply\\nInsta Ded\\n2 years ago\\nJust finished it, amazing explaination. Any suggestions about projects or follow-up.\\n1\\nREPLY\\nPriyadarshini Modak\\n2 years ago\\nU r so helpful thanks for this amazing video.\\n3\\nREPLY\\nBadhrish Srinivas\\n3 years ago\\n25:45 Even with backslash it escapes the newline character meaning \\n>>> print(\\'c:\\\\docs\\\\\\\\navin\\')\\n\\n    \\nRead more\\n3\\nREPLY\\nJayesh Gharat\\n3 years ago\\n5:28:41 Threads can\\'t be guaranteed, but to avoid collision t1 must awake early than  t2 or vice-versa. If both have the same waking/sleep time they will collide more.  Again it depends on processing speeds, solution for my system may be different from others.\\nRead more\\nREPLY\\nVijaya Durga\\n2 years ago\\nvery useful video every line would be very meaning full. I learned lot from your video thank you.\\n3\\nREPLY\\nB E Raja\\n1 year ago\\nthank you so much sir,,for wonderfull teaching sir,,,,,,,thanks a lot\\nREPLY\\nBinoy Thomas\\n2 years ago\\nYour teaching method is just like the python language. Very simple but very powerful. Thank you very much for educating us.\\nREPLY\\nHarika Email\\n8 months ago\\nThanks Navin. You are making python language very clear for newbies.\\n1\\nREPLY\\nAshrit Kv\\n1 year ago\\nat 4:10:13 sir i have a doubt, instead of giving one laptop cpu name and ram, how can we do the same thing by giving computer, ram as parameters of the laptop and then passing the values like we did for name and roll number\\nREPLY\\ninnocent simon\\n2 years ago\\ni so love the way you teach, this is just so sweet your a great teacher\\nREPLY\\naayushi choubey\\n2 years ago\\nThe way you teachit just goes Straight in the mind, your content is so good and simple\\nREPLY\\nnaresh Reddy\\n1 year ago (edited)\\n3:07:47we can use pass or continue ,it will give you same result\\nREPLY\\nSuresh Sah\\n10 months ago\\nPlease tell me the syntax to print the even number from a list containing random odd as well as even number.\\neg: list_num = (12,33,45,44,66,67)\\n Using syntax or code print only even numbers from the list given above.\\nRead more\\nREPLY\\nAnurag Yadav\\n1 year ago\\nhave you completed the full course of python in this video which you have done in your python playlist ????\\nREPLY\\nAdam Rauf\\n1 year ago\\nI am a new guy in the programming world, and this is my first time learning, and i know you can help me become good.\\n1\\nREPLY\\nView 2 replies\\nArunprakash P\\n1 month ago\\n1:50:29 what if the given numbers are unequal.. meaning if(77[101101] & 42[11010] ) one number short in the input\\'s binary format? then how can we compare and come into conclusion?\\nREPLY\\nView reply\\nAryan Mahraur\\n1 year ago\\nnice way of teaching and best teaching i got from lockdown\\nREPLY\\nnoblegoss Donxiqote\\n2 years ago (edited)\\nThank you @Telusko for this python course. At 1:36:17, I\\'ve tried to convert \"5\" to binary and I got \"101\" instead of \"0101\", so I would like to understand please where \"0\"101 came from? Because in your example (25/2) you stopped at \"1\" and the result was 25 = \"11001\".  I have no computer science background... Thank you in advance!\\nRead more\\n1\\nREPLY\\nView reply\\nKarthik Arumugam\\n2 years ago (edited)\\nWith you tutorial can i master python and does it include everything that python has? Please respond Navin Sir\\n3\\nREPLY\\nKishore Mohandas\\n1 year ago\\nThanks sir.. I\\'m Rohan from Kerala and I\\'m 14 yrs old and I studied Kotlin and Python because of you...\\n1\\nREPLY\\nView reply\\nSonu Raj\\n2 years ago\\nAwesome tutorial,  thanks Telusko\\nREPLY\\nAPURBA MANDAL\\n1 year ago\\nAround 42:00 you have shown how to get the pop up window by pressing control and space botton both together. But when I am performing it in version  3.9 it is not working. What shall I have to do?\\n1\\nREPLY\\nMeena Ganesan\\n2 years ago\\nOH! That\\'s very easy to learn\\nThe best trainer ever\\n1\\nREPLY\\nprabhakar vadakattu\\n1 year ago\\nDear Sir,\\nCan you tell me the software that you are using for presenting the screen and your self at the same time on screen.please reply Sir.\\nREPLY',\n",
       " '',\n",
       " '',\n",
       " '',\n",
       " '',\n",
       " '',\n",
       " '',\n",
       " 'Python full course\\nLearn Python from start to end.\\nPython basics to Advance\\n\\nIntro - ',\n",
       " '01:04 introduction to python\\n05:14 Python setup\\n13:06 Getting started with python\\n27:02 variables in python',\n",
       " 'Running out of words to appreciate your efforts..its not just abt teaching PYTHON but the way in which u made ur audience comfortable irrespective of ther background or tech knowledge in programming  is beyond commendable..!!! UR AWESOME..!!!!',\n",
       " \"Telusko and Navin I have gone through your 7 hours of Python video and thank you and thank you to COVID (I got some time for myself to learn). Navin your sessions are really good and I have learned a lot. I am one of those old-time 80's programmers who started from Fortran, c,c++, java, and now I have learned Python from you. It's interesting how the languages are evolving from one to another, but each is just another step on the ladder. My true feeling is the names are different and syntax are different but the concept is the same from the '80s or even older.  But good to learn something new every day.  Thank you, because of you folks I can learn the language quickly compare to my older style of learning (research fo the ebooks, find the best one, order it, and sit and read and parallel try it IDE, longer process), also thank you for addressing the tools required for programming, DBs, and repository. In return If I can contribute to your organization please let me know, once again thank you, team.\",\n",
       " '1. Introduction to Python - 01:10\\n\\n2. Python Setup - 05:14 \\n\\n3. Getting Started with Python - 13:06\\n\\n4. Variables in Python - 27:02',\n",
       " 'One of the best interactive classroom like session I had over the last 5 years.. \\nExcellent effort by Navin and thanks a bunch to you for making this by putting lot of efforts considering the different group of audience.',\n",
       " 'Whenever it comes to any topic, I always prefer your tutorials. Thank you Naveen sir, for making all tough concepts so easy for us to learn. You are doing a great job!',\n",
       " 'Whenever it comes to coding, I always prefer your tutorials. Thank you Naveen, for making all tough concepts so easy for us to learn. You are doing a great job!',\n",
       " 'Excellent teacher makes everything so easy to understand. Thank you very much. Easily one of the best.',\n",
       " '01:04 introduction to python\\n\\n05:14 Python setup\\n\\n13:06 Getting started with python\\n\\n27:02 variables in python',\n",
       " \"Hello Navin(Mr Genius)\\n\\nYou are awesome.. No Boring lectures, each and every topic is damn interesting .. The way you had maintained the flow is amazing and keeps the listener connected.. It's looking as if best friend is taking the sessions rather than an unknown guy..\",\n",
       " 'Very interactive way of teaching. I like this. Thank you Sir for your dedicated mentoring.',\n",
       " '1. Introduction to Python - 01:10\\n\\n2. Python Setup - 05:14 \\n\\n3. Getting Started with Python - 13:06\\n\\n4. Variables in Python - 27:02',\n",
       " \"Hi Navin - this is by far the BEST Python training video(s). You made Python learning so easy and systematic, that's way beyond words. Keep up the good work and God bless you! :)\",\n",
       " 'Lots of love sir. I never seen a teacher like u sir. U makes me more inspiring the way u spoke, the way u teach is amazing sir. Only because of u i started learning java and python sir. Thank you sir.',\n",
       " \"This man puts hard effort to provide free high quality education for all . \\nThanks you for sharing your knowledge.\\nIt's really helpful for students like me. \",\n",
       " '01:04  introduction to python\\n\\n05:14 Python setup\\n\\n13:06 Getting started with python\\n\\n27:02 variables in python',\n",
       " 'I am seriously waiting for this whole python course in a single video from you. Thank you so much.. Naveen Reddy.Your way of explaining things were extremely useful and interesting.',\n",
       " 'Hey! I really wanted to thank you for this video. I have a company, and I needed to use Python for a project. In the past, I used Python a lot. This video helped me make my Python skills alive again, huge thanks to you!',\n",
       " 'The way you explained bitwise operaters is phenomenal. Lots of respect ️',\n",
       " 'Excellent teaching sir . I study everything from your channel sir.\\nCould you please try to continue Data Structures and Algorithms in java ??',\n",
       " '1. Introduction to Python - 01:10\\n\\n2. Python Setup - 05:14 \\n\\n3. Getting Started with Python - 13:06\\n\\n4. Variables in Python - 27:02',\n",
       " 'Im 12 year old and I wanted to learn some python, this was so helpful! Keep up the good work',\n",
       " 'No doubt it is one of the best Python tutorials on internet.\\n  And Mr. Naveen is a very good teacher. Thanks.',\n",
       " '01:04 introduction to python\\n\\n05:14 Python setup\\n\\n13:06 Getting started with python\\n\\n27:02 variables in python',\n",
       " 'Hi Navin ! Your lessons are so interesting detailed, and practical illustrations. Thank you so much brother !!!',\n",
       " \"I'm at the middle of this session , and one interesting thing is that the music tone which came before jumping to next topic is impressive and it boosting me to get into topics.Heartfully , thanks for making this free for many of us .We salute you for this..... \",\n",
       " \"Dear Sir,\\n  \\n It's good to learn in all in 1. Thanks for your valuable time to share a knowledge to all.\",\n",
       " 'Thanks for the course. It is amazing :)',\n",
       " 'Beginner session was wonderful..if you could now add an advance concept it will be of much more of a help to all the python enthusiasts',\n",
       " 'Great learning... thank you Telusko for this. could you please also provide, assignments/practice projects to do..',\n",
       " 'You break this down into little pieces for us to assimilate. Very good tutorial.',\n",
       " '01:10\\n\\n2. Python Setup - 05:14 \\n\\n3. Getting Started with Python - 13:06\\n\\n4. Variables in Python - 27:02',\n",
       " 'Sir we need Python advanced level video like this.  This tutorial helped me a lot.',\n",
       " 'hi sir  its a great work done by you .. can we have a video of functions on python actually , i guess function is missing out from this tutorial . Thanks for this i am a big fan of yours. i had wasted a lot of money on learning programming but it couldnt happen , but this time it seems so .. i will learn programming a big thanks to you sir .',\n",
       " 'Finally completed entire video today.\\n Great going Telusko. \\nGod bless you.',\n",
       " 'Sir ,your explanation is epic....Programming seems to be very easy with your explanation ....I wish you could explain Blender theory with practicals...',\n",
       " 'Hello Navin,\\nThank you so much for your videos.. these videos helps me to understand the core concepts of language. Could you please suggest a book for Python?',\n",
       " 'Your way of teaching is awesome.. Thankyou so much sir..Editing was also incredible.',\n",
       " \"Hey Navin, I have a question. At 04:03 you said, you should represent a class method as 'cls' but when I tried to provide other names, it is working as well.\",\n",
       " 'Im Not getting bore or sleep as like other tutorials , udemy courses .. Yur just rocking Navin Garu :)  Best Teacher Ever Seen !!',\n",
       " '01:04 introduction to python\\n\\n05:14 Python setup\\n\\n13:06 Getting started with python\\n\\n27:02 variables in python',\n",
       " '1. Introduction to Python - 01:10\\n\\n2. Python Setup - 05:14 \\n\\n3. Getting Started with Python - 13:06\\n\\n4. Variables in Python - 27:02',\n",
       " 'I had a rough knowledge in Python but this video made me fall in love with it. Thank you sir',\n",
       " 'THANKYOU FOR MAKING THIS VIDEO LEARNT PYTHON FROM YOU SIR ... \\nPlease make if you can make On DATA STRUCTURES AND ALGORITHMS .. cause your way of teaching is cool and understandable',\n",
       " 'Very interactive and Excellent way of teaching ,Thank you sir',\n",
       " 'Have been through many python online courses in youtube/Udemy and other learning apps...but this is the best untill now...still 3 hours to go for me',\n",
       " 'This course is sitting in my watch later playlist for more than a year, today I finally started. :3',\n",
       " 'Best tutorial on python , easy to understand!!',\n",
       " 'I m from London n I have enjoyed watching n learning from you. You have a great understanding of the subject n your teaching method is very interesting and easy to understand. I believe any lay man can learn watching your videos. Kudos to you. ',\n",
       " \"You are doing what the 90% of engineering institutions of in India don't, teaching the language with ease.\\nThanks a lot for your efforts towards educating people like me who don't have an access to proper resources neither do belong to some reputed college of the country.\",\n",
       " 'Just started seeing this. Can you please explain your technique of typing the brackets and quotes in one go and than separating by typing inbetween? Makes typing easier that way. thanks',\n",
       " 'Thank you.Thank you so much sir.Due to my bad health condition I was unable to listen python classes teached by collage.But,now I am very happy& getting satisfied by seeing this.',\n",
       " 'This is the one of the best python tutorial. Thanks a lot for the tutorial.',\n",
       " 'Thanks Naveen sir, your explanation is good and understandable. The only challenge for beginners is your rate of speech, it is too fast. If u could slow down, I feel you would be the best instructor on YouTube.',\n",
       " 'Awesome teaching anna learnt lot of things anna thank you',\n",
       " 'Thank u so much sir..for teaching python from beginning its very helpful for me to study and u make it and explained very easy with lot of fun thank u so much sir ..i request u sir for to make a video of ruby full from beginning....thank u sir for efforts...',\n",
       " 'Excellent is your class sir I am a Non IT guy and I find python very interesting .. in 1:54:33 right shift operation the screen is blank .. Just for info',\n",
       " 'By far the best Python beginner tutorial on Youtube.Please do one on Pycharm IDE as well',\n",
       " 'Sir, I\\'m new to coding but your explanation gives the confidence to just go ahead and write codes. I have a small query at 4:56:00. While artificially creating method overloading in python, \"None\" has been used with if and elif. But we can simply use 0 (zero) as initial value of a, b and c and say s = a + b + c and even then we are good to go!! ',\n",
       " 'Finally completed full video today. \\nThank you navin sir for your hard work and i really enjoyed watching and learning this python course',\n",
       " '1. Introduction to Python - 01:10\\n\\n2. Python Setup - 05:14 \\n\\n3. Getting Started with Python - 13:06\\n\\n4. Variables in Python - 27:02',\n",
       " \"Thanks for making this video, it's very useful,  most video i lost my mind after few minutes but you made very nicely, very clearly and with details information, Very informative and useful. Thank you so much for this video.\",\n",
       " 'very interactive way of teaching .thank you sir for these lecture.god bless you',\n",
       " 'Really fantastic explanation ',\n",
       " 'Thank you sir it was a vey good video and learned nicely!!',\n",
       " \"Thank you very much sir. It's very much helpful for me ️\",\n",
       " 'Superb teaching skills. Thank you sir',\n",
       " 'If u r watching this video for revision purpose u can play the video at 1.25 x....u will definitely save your time and will understand very easily. Thanks to telusko',\n",
       " 'Watching it after more than 2 years, but still feels fresh. One point that I specifically want to mention is that I do not get bored at any point of time. Great work.',\n",
       " 'Your wonderful teaching helps up learn fast. Thank you sir',\n",
       " \"i thing the best thing I've done in this lock down is learning python from your video.\\nyou have put in lot of efforts in making this video and its really helpful video and thanks a lot for your efforts .\",\n",
       " \"Sir thank you for teaching python. \\nSir I respect you and your team's  hard work to make us such a informative video. I would once again like to say thanks a lot sir for making this video.\",\n",
       " 'enjoying this course... really good stuff.. the speed is perfect',\n",
       " \"Thank you so much, sir, you made my future \\nfantastic tutorial and I'm really happy\\nGod bless you..!!\",\n",
       " '01:04 introduction to python\\n\\n05:14 Python setup\\n\\n13:06 Getting started with python\\n\\n27:02 variables in python',\n",
       " 'Hey @Naveen, Thanks for the great lecture first of all. I\\'m trying to write a Jpg file as said in the above video. But didn\\'t get the picture saying \"Image not loaded, Try to open it externally to fix the prob\". Even manually the image file has broken. Any suggestions will be appreciated.',\n",
       " 'The way you explain is just awesome... I browsed throughout the internet and then got this python tutorial.... The fact is there are hell lot of python tutorial but the way of explaining is not suitable for me... Yours is just awesome...',\n",
       " 'Navin, thank you so much for your lectures. Full of depth, interesting and applicable.',\n",
       " 'Bhayya two years back i saw your video and started automating Test and measurement instruments using Python (i could install Pyvisa, PIP , could do string processing, CSV file processing whatnot )and SCPI commands, if you are younger than me God Bless you and if you are elder to me Namasthe, Python is Amazing and so as you Reddy',\n",
       " 'Hello sir, I am just a student..totally a fresher and I find ur videos absolutely amazing..thank u so much sir ..love u ️️',\n",
       " '01:04 introduction to python\\n\\n05:14 Python setup\\n\\n13:06 Getting started with python\\n\\n27:02 variables in python',\n",
       " 'One of the best Python tutorials!! Thank you so much!!',\n",
       " 'Awesome explanation. Do you have video for Automation testing with Selenium on Python?',\n",
       " 'what an amazing class. Great',\n",
       " 'best python video i have completed 7 hrs :) and learnt so much thanks Naveen Sir !!!',\n",
       " 'Thank you Navin Reddy. Your tutorial is very easily understandable. Excellent teaching methods. I will suggest this tutorial for any beginner. ',\n",
       " 'I loved the way you teach,  I felt your tutorial very helpful and easy to understand. Thank you',\n",
       " 'Sir you explain everything so easily that it seems like I am drinkig water . But actually the water that is made by you is made from iron\\nSir you are great salute to your effort',\n",
       " \"Yeah in today's world every educational sites has become business tool.. thanks a lot sir for your time and putting effort in making videos available free to access everyone. Great work sir\",\n",
       " 'Can you record classes on how to use python in data visualization with tableau? Please.',\n",
       " 'Wooow... Great job of integrating the entire tutorial ',\n",
       " 'Thank you for the detailed explanation. This helped me a lot.',\n",
       " 'Naveen reddy teaching style is so different even 2nd standard student also can easily understand your concept..I am expecting Django projects from your side',\n",
       " 'Thank u Naveen for teaching from scratch am from non technical background this video will help me alot May God give you a happy life ',\n",
       " 'Great work. This video misses the concepts of Functions, lambda functions which are there in the short videos.',\n",
       " 'Hey naveen firstly, your way of teaching is excellent. Can you please do a video on real time work of a python developer i mean how we get the project from the client, what information we will get from the client, how the work will will be distributed among the inner team members and also what type of projects we will get. just i want to know the real time scenario.',\n",
       " 'very interesting and nice video thanks for teaching us programming',\n",
       " 'sir could you pls provide basic python programs and all interview questions..............\\nbecause its very helpful for us',\n",
       " 'this is the best python video i have seen. you explain very well. teaching is your calling.',\n",
       " \"Sir great videos, clear as water but i didn't find function operation videos in this session\",\n",
       " 'The best tutorial for python , Thank you Navin',\n",
       " 'u r excellent, brilliant expert,sir.....u r great sir  ..god bless u sir ..u r doing great work sir',\n",
       " \"Thanks bro for ur wonderful tutorial I have watched many tutorials of python but I didn't get this much clarity still now\",\n",
       " 'thank u sir i am a 12th student from TN .I cant understand my comp online class but ,after seeing this I can understand python very well',\n",
       " 'Sir, this video covers total concepts for app development',\n",
       " 'Thanks for this video dude! I was recommended this by my brother and it helped a lot, cheers!',\n",
       " \"Naveen you are awesome....i say truely that i didn't get bored even single second of your entire video\",\n",
       " \"In logical operator, while putting b= 5 and b>5, b<5 ..it's showing false..\\nSir, iz it possible to find ASCII code?\",\n",
       " 'Great Tutorial! thank you Sir',\n",
       " 'Given my thumps up to this video. Not because i liked that video but to his dedication for teaching, preparing long video and explained logics fairly that not explaining in colleges as well. Great work!',\n",
       " 'Hi Mr. Naveen, you are very good mentor.\\nTeach a little bit slow to understand  concepts.\\n\\nPlease take my advice in positive way.',\n",
       " 'I really love the way you are teaching, thankyou very much']"
      ]
     },
     "execution_count": 77,
     "metadata": {},
     "output_type": "execute_result"
    }
   ],
   "source": [
    "Comments[0:120]"
   ]
  },
  {
   "cell_type": "code",
   "execution_count": 78,
   "id": "362fd359",
   "metadata": {},
   "outputs": [
    {
     "name": "stderr",
     "output_type": "stream",
     "text": [
      "C:\\Users\\Dell\\AppData\\Local\\Temp\\ipykernel_9068\\3709907561.py:1: DeprecationWarning: find_elements_by_xpath is deprecated. Please use find_elements(by=By.XPATH, value=xpath) instead\n",
      "  ago = driver.find_elements_by_xpath(\"//yt-formatted-string[@class='published-time-text above-comment style-scope ytd-comment-renderer']\")\n"
     ]
    },
    {
     "data": {
      "text/plain": [
       "180"
      ]
     },
     "execution_count": 78,
     "metadata": {},
     "output_type": "execute_result"
    }
   ],
   "source": [
    "ago = driver.find_elements_by_xpath(\"//yt-formatted-string[@class='published-time-text above-comment style-scope ytd-comment-renderer']\")\n",
    "len(ago)"
   ]
  },
  {
   "cell_type": "code",
   "execution_count": 79,
   "id": "eef9a2da",
   "metadata": {},
   "outputs": [],
   "source": [
    "time =[]\n",
    "for i in ago:\n",
    "    time.append(i.text)"
   ]
  },
  {
   "cell_type": "code",
   "execution_count": 80,
   "id": "600e4f61",
   "metadata": {},
   "outputs": [
    {
     "data": {
      "text/plain": [
       "['3 years ago',\n",
       " '2 years ago',\n",
       " '11 months ago',\n",
       " '1 year ago',\n",
       " '9 months ago (edited)',\n",
       " '1 year ago',\n",
       " '1 year ago',\n",
       " '1 year ago',\n",
       " '1 year ago',\n",
       " '1 year ago (edited)',\n",
       " '2 years ago',\n",
       " '1 year ago',\n",
       " '3 months ago',\n",
       " '7 months ago',\n",
       " '1 year ago',\n",
       " '1 year ago',\n",
       " '3 years ago',\n",
       " '1 year ago',\n",
       " '4 months ago',\n",
       " '6 months ago',\n",
       " '1 year ago',\n",
       " '1 month ago',\n",
       " '1 year ago (edited)',\n",
       " '1 year ago',\n",
       " '1 year ago',\n",
       " '1 year ago (edited)',\n",
       " '2 years ago',\n",
       " '3 months ago',\n",
       " '2 years ago',\n",
       " '1 year ago',\n",
       " '1 year ago',\n",
       " '10 months ago',\n",
       " '1 year ago',\n",
       " '2 months ago',\n",
       " '1 year ago',\n",
       " '3 months ago',\n",
       " '7 months ago',\n",
       " '1 year ago',\n",
       " '1 year ago (edited)',\n",
       " '1 year ago',\n",
       " '9 months ago',\n",
       " '1 year ago',\n",
       " '1 year ago',\n",
       " '1 year ago',\n",
       " '1 year ago',\n",
       " '2 years ago',\n",
       " '9 months ago',\n",
       " '1 month ago',\n",
       " '1 year ago',\n",
       " '2 years ago',\n",
       " '1 year ago',\n",
       " '9 months ago',\n",
       " '3 years ago',\n",
       " '2 years ago',\n",
       " '10 months ago',\n",
       " '2 years ago',\n",
       " '3 months ago',\n",
       " '1 year ago',\n",
       " '1 month ago',\n",
       " '6 months ago',\n",
       " '1 year ago',\n",
       " '2 years ago',\n",
       " '1 year ago',\n",
       " '11 months ago',\n",
       " '1 month ago',\n",
       " '2 years ago',\n",
       " '2 years ago',\n",
       " '11 months ago (edited)',\n",
       " '8 months ago',\n",
       " '2 years ago',\n",
       " '2 years ago',\n",
       " '1 year ago (edited)',\n",
       " '1 year ago',\n",
       " '1 year ago',\n",
       " '3 years ago',\n",
       " '1 year ago (edited)',\n",
       " '1 year ago',\n",
       " '2 years ago',\n",
       " '1 year ago',\n",
       " '2 years ago',\n",
       " '2 years ago',\n",
       " '1 year ago (edited)',\n",
       " '1 year ago (edited)',\n",
       " '1 year ago',\n",
       " '1 year ago',\n",
       " '2 years ago',\n",
       " '2 years ago',\n",
       " '2 years ago',\n",
       " '3 years ago',\n",
       " '1 year ago',\n",
       " '3 years ago',\n",
       " '2 years ago',\n",
       " '2 years ago',\n",
       " '2 years ago',\n",
       " '3 years ago',\n",
       " '2 years ago',\n",
       " '1 year ago',\n",
       " '5 months ago',\n",
       " '2 years ago',\n",
       " '2 years ago',\n",
       " '2 years ago',\n",
       " '1 year ago',\n",
       " '2 years ago',\n",
       " '1 year ago',\n",
       " '11 months ago',\n",
       " '2 years ago',\n",
       " '1 year ago',\n",
       " '9 months ago (edited)',\n",
       " '11 months ago',\n",
       " '2 years ago',\n",
       " '1 year ago',\n",
       " '2 years ago',\n",
       " '3 years ago',\n",
       " '7 months ago',\n",
       " '3 years ago',\n",
       " '2 years ago',\n",
       " '1 year ago',\n",
       " '5 months ago',\n",
       " '3 years ago',\n",
       " '2 years ago',\n",
       " '1 year ago',\n",
       " '1 year ago',\n",
       " '1 year ago',\n",
       " '2 years ago',\n",
       " '1 year ago (edited)',\n",
       " '2 years ago',\n",
       " '4 months ago',\n",
       " '5 months ago',\n",
       " '3 years ago',\n",
       " '1 year ago',\n",
       " '2 years ago',\n",
       " '2 years ago',\n",
       " '1 year ago',\n",
       " '2 years ago',\n",
       " '1 year ago',\n",
       " '2 years ago',\n",
       " '3 years ago',\n",
       " '1 year ago',\n",
       " '4 months ago',\n",
       " '1 year ago',\n",
       " '2 years ago',\n",
       " '1 year ago',\n",
       " '3 years ago',\n",
       " '1 year ago',\n",
       " '1 year ago',\n",
       " '1 year ago',\n",
       " '4 months ago',\n",
       " '3 months ago',\n",
       " '5 months ago',\n",
       " '1 year ago',\n",
       " '1 year ago',\n",
       " '4 months ago',\n",
       " '3 months ago (edited)',\n",
       " '7 months ago',\n",
       " '1 year ago',\n",
       " '3 years ago',\n",
       " '2 years ago',\n",
       " '2 years ago',\n",
       " '3 years ago',\n",
       " '3 years ago',\n",
       " '2 years ago',\n",
       " '1 year ago',\n",
       " '2 years ago',\n",
       " '8 months ago',\n",
       " '1 year ago',\n",
       " '2 years ago',\n",
       " '2 years ago',\n",
       " '1 year ago (edited)',\n",
       " '10 months ago',\n",
       " '1 year ago',\n",
       " '1 year ago',\n",
       " '1 month ago',\n",
       " '1 year ago',\n",
       " '2 years ago (edited)',\n",
       " '2 years ago (edited)',\n",
       " '1 year ago',\n",
       " '2 years ago',\n",
       " '1 year ago',\n",
       " '2 years ago',\n",
       " '1 year ago']"
      ]
     },
     "execution_count": 80,
     "metadata": {},
     "output_type": "execute_result"
    }
   ],
   "source": [
    "time"
   ]
  },
  {
   "cell_type": "code",
   "execution_count": 85,
   "id": "7f7d71b2",
   "metadata": {},
   "outputs": [],
   "source": [
    "import pandas as pd\n",
    "youtube=pd.DataFrame({})\n",
    "youtube['ago']= time"
   ]
  },
  {
   "cell_type": "code",
   "execution_count": 87,
   "id": "8473fcc4",
   "metadata": {},
   "outputs": [
    {
     "data": {
      "text/html": [
       "<div>\n",
       "<style scoped>\n",
       "    .dataframe tbody tr th:only-of-type {\n",
       "        vertical-align: middle;\n",
       "    }\n",
       "\n",
       "    .dataframe tbody tr th {\n",
       "        vertical-align: top;\n",
       "    }\n",
       "\n",
       "    .dataframe thead th {\n",
       "        text-align: right;\n",
       "    }\n",
       "</style>\n",
       "<table border=\"1\" class=\"dataframe\">\n",
       "  <thead>\n",
       "    <tr style=\"text-align: right;\">\n",
       "      <th></th>\n",
       "      <th>ago</th>\n",
       "    </tr>\n",
       "  </thead>\n",
       "  <tbody>\n",
       "    <tr>\n",
       "      <th>0</th>\n",
       "      <td>3 years ago</td>\n",
       "    </tr>\n",
       "    <tr>\n",
       "      <th>1</th>\n",
       "      <td>2 years ago</td>\n",
       "    </tr>\n",
       "    <tr>\n",
       "      <th>2</th>\n",
       "      <td>11 months ago</td>\n",
       "    </tr>\n",
       "    <tr>\n",
       "      <th>3</th>\n",
       "      <td>1 year ago</td>\n",
       "    </tr>\n",
       "    <tr>\n",
       "      <th>4</th>\n",
       "      <td>9 months ago (edited)</td>\n",
       "    </tr>\n",
       "  </tbody>\n",
       "</table>\n",
       "</div>"
      ],
      "text/plain": [
       "                     ago\n",
       "0            3 years ago\n",
       "1            2 years ago\n",
       "2          11 months ago\n",
       "3             1 year ago\n",
       "4  9 months ago (edited)"
      ]
     },
     "execution_count": 87,
     "metadata": {},
     "output_type": "execute_result"
    }
   ],
   "source": [
    "youtube.head()"
   ]
  },
  {
   "cell_type": "code",
   "execution_count": null,
   "id": "423b80e2",
   "metadata": {},
   "outputs": [],
   "source": []
  }
 ],
 "metadata": {
  "kernelspec": {
   "display_name": "Python 3 (ipykernel)",
   "language": "python",
   "name": "python3"
  },
  "language_info": {
   "codemirror_mode": {
    "name": "ipython",
    "version": 3
   },
   "file_extension": ".py",
   "mimetype": "text/x-python",
   "name": "python",
   "nbconvert_exporter": "python",
   "pygments_lexer": "ipython3",
   "version": "3.9.12"
  }
 },
 "nbformat": 4,
 "nbformat_minor": 5
}
