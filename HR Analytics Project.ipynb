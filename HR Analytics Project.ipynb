{
 "cells": [
  {
   "cell_type": "code",
   "execution_count": null,
   "metadata": {},
   "outputs": [],
   "source": [
    "pip install selenium"
   ]
  },
  {
   "cell_type": "markdown",
   "metadata": {},
   "source": [
    " Brand, model, variant, manufacturing year, driven kilometers, fuel, number of owners, location and at last target variable Price of the car."
   ]
  },
  {
   "cell_type": "code",
   "execution_count": 1,
   "metadata": {},
   "outputs": [],
   "source": [
    "#lets now import all the required libraries\n",
    "import selenium\n",
    "import pandas as pd\n",
    "from selenium import webdriver\n",
    "import time\n",
    "from selenium.common.exceptions import NoSuchElementException   #Importing Exceptions\n",
    "\n",
    "import warnings\n",
    "warnings.filterwarnings('ignore')"
   ]
  },
  {
   "cell_type": "code",
   "execution_count": 2,
   "metadata": {},
   "outputs": [],
   "source": [
    "import time\n",
    "from selenium.webdriver import Chrome\n",
    "from selenium.webdriver.common.by import By\n",
    "from selenium.webdriver.common.keys import Keys\n",
    "from selenium.webdriver.support.ui import WebDriverWait\n",
    "from selenium.webdriver.support import expected_conditions as EC"
   ]
  },
  {
   "cell_type": "code",
   "execution_count": 3,
   "metadata": {},
   "outputs": [],
   "source": [
    "from selenium import webdriver\n",
    "driver=webdriver.Chrome(\"chromedriver.exe\")"
   ]
  },
  {
   "cell_type": "code",
   "execution_count": 304,
   "metadata": {},
   "outputs": [],
   "source": [
    "url='https://www.olx.in/coimbatore_g4059164/cars_c84'\n",
    "driver.get(url)"
   ]
  },
  {
   "cell_type": "code",
   "execution_count": 305,
   "metadata": {},
   "outputs": [],
   "source": [
    "wait = WebDriverWait(driver,10)\n",
    "for i in range(0,23):\n",
    "   \n",
    "    nxt_button=driver.find_element_by_xpath('//button[@class=\"rui-39-wj rui-3evoE rui-1JPTg\"]')\n",
    "    nxt_button.click()\n",
    "    time.sleep(10)"
   ]
  },
  {
   "cell_type": "code",
   "execution_count": 306,
   "metadata": {},
   "outputs": [
    {
     "data": {
      "text/plain": [
       "907"
      ]
     },
     "execution_count": 306,
     "metadata": {},
     "output_type": "execute_result"
    }
   ],
   "source": [
    "Urls=[]\n",
    "\n",
    "Url_links=driver.find_elements_by_xpath(\"//li[@class='_31j8e']/a\")\n",
    "\n",
    "\n",
    "for i in Url_links:\n",
    "    Urls.append(i.get_attribute(\"href\"))\n",
    "    \n",
    "len(Urls)"
   ]
  },
  {
   "cell_type": "code",
   "execution_count": null,
   "metadata": {
    "scrolled": false
   },
   "outputs": [],
   "source": [
    "Urls"
   ]
  },
  {
   "cell_type": "code",
   "execution_count": 307,
   "metadata": {},
   "outputs": [
    {
     "data": {
      "text/plain": [
       "907"
      ]
     },
     "execution_count": 307,
     "metadata": {},
     "output_type": "execute_result"
    }
   ],
   "source": [
    "Location1=[]\n",
    "location=driver.find_elements_by_xpath('//div[@class=\"_1zvfB\"]')\n",
    "for i in location:\n",
    "    try:\n",
    "        Location1.append(i.text.replace(\"\\n\",\"\"))\n",
    "    except:\n",
    "        Location1.append(\"-\")\n",
    "len(Location1)        "
   ]
  },
  {
   "cell_type": "code",
   "execution_count": null,
   "metadata": {},
   "outputs": [],
   "source": []
  },
  {
   "cell_type": "code",
   "execution_count": 308,
   "metadata": {},
   "outputs": [],
   "source": [
    "Name_of_the_Car1=[]\n",
    "Model1=[]\n",
    "Price1=[]\n",
    "Fuel1=[]\n",
    "Owner1=[]\n",
    "KM1=[]\n",
    "Varient1=[]\n",
    "\n",
    "\n",
    "for i in Urls:\n",
    "    driver.get(i)\n",
    "    time.sleep(3)    \n",
    "    \n",
    "    \n",
    "#feching name  \n",
    "\n",
    "    try:\n",
    "        name_of_the_Car=driver.find_element_by_xpath('//div[@class=\"_35xN1\"]')\n",
    "    \n",
    "        Name_of_the_Car1.append(name_of_the_Car.text.replace(\"\\n\",\" \"))   \n",
    "    except:\n",
    "        Name_of_the_Car1.append(\"-\")\n",
    "\n",
    "# fetching   model\n",
    "\n",
    "    try:\n",
    "        model=driver.find_element_by_xpath('//div[@class=\"_3tLee\"]')\n",
    "    \n",
    "        Model1.append(model.text.replace(\"\\n\",\" \"))   \n",
    "    except:\n",
    "        Model1.append(\"-\")\n",
    "        \n",
    "        \n",
    "        \n",
    "# fetching price        \n",
    "    try:\n",
    "        price=driver.find_element_by_xpath('//div[@class=\"_3FkyT\"]')\n",
    "    \n",
    "        Price1.append(price.text.replace(\"₹ \",\"\"))   \n",
    "    except:\n",
    "        Price1.append(\"-\")\n",
    "# fetching fuel\n",
    "    try:\n",
    "        fuel=driver.find_element_by_xpath('//div[@class=\"_3qDp0\"]')\n",
    "    \n",
    "        Fuel1.append(fuel.text.replace(\"\\n\",\"\"))   \n",
    "    except:\n",
    "        Fuel1.append(\"-\")\n",
    "# fetching owner\n",
    "    try:\n",
    "        owner=driver.find_element_by_xpath('//div[@class=\"_1gasz\"]')\n",
    "    \n",
    "        Owner1.append(owner.text.replace(\"\\n\",\"\"))   \n",
    "    except:\n",
    "        Owner1.append(\"-\")\n",
    "\n",
    "#fetching kilometers\n",
    "\n",
    "    try:\n",
    "        km=driver.find_element_by_xpath('//div[@class=\"aOxkz\"]/div[2]')\n",
    "        \n",
    "        KM1.append(km.text.replace(\"KM\",\"\"))\n",
    "    except:\n",
    "        KM1.append(\"--\")\n",
    "\n",
    "        \n",
    "#fetching varient             \n",
    "    \n",
    "    try:\n",
    "        varient=driver.find_element_by_xpath('//div[@class=\"aOxkz\"]/div[3]')\n",
    "        Varient1.append(varient.text.replace(\"\\n\",\"\"))\n",
    "    except:\n",
    "        Varient1.append(\"--\")\n",
    "    \n"
   ]
  },
  {
   "cell_type": "code",
   "execution_count": 309,
   "metadata": {},
   "outputs": [
    {
     "name": "stdout",
     "output_type": "stream",
     "text": [
      "907\n",
      "907\n",
      "907\n",
      "907\n",
      "907\n",
      "907\n",
      "907\n",
      "907\n"
     ]
    }
   ],
   "source": [
    "print(len(Name_of_the_Car1))\n",
    "print(len(Model1))\n",
    "print(len(Price1))\n",
    "print(len(Fuel1))\n",
    "print(len(Owner1))\n",
    "print(len(Location1))\n",
    "print(len(KM1))\n",
    "print(len(Varient1))"
   ]
  },
  {
   "cell_type": "code",
   "execution_count": 310,
   "metadata": {},
   "outputs": [],
   "source": [
    "import pandas as pd\n",
    "df1=pd.DataFrame({})\n",
    "df1['Name of car']=Name_of_the_Car1\n",
    "df1['Model']=Model1\n",
    "df1['Fuel']=Fuel1\n",
    "df1['Owner']=Owner1\n",
    "df1['Location']=Location1\n",
    "df1['KM']=KM1\n",
    "df1['Varient']=Varient1\n",
    "df1['Price']=Price1\n",
    "CarData1=df1"
   ]
  },
  {
   "cell_type": "code",
   "execution_count": 311,
   "metadata": {},
   "outputs": [
    {
     "name": "stdout",
     "output_type": "stream",
     "text": [
      "DataFrame1 is written to Excel File successfully.\n"
     ]
    }
   ],
   "source": [
    "# writing to Excel\n",
    "datatoexcel1 = pd.ExcelWriter('CarData1.xlsx')\n",
    "# write DataFrame to excel\n",
    "CarData1.to_excel(datatoexcel1)\n",
    "# save the excel\n",
    "datatoexcel1.save()\n",
    "print('DataFrame1 is written to Excel File successfully.')"
   ]
  },
  {
   "cell_type": "code",
   "execution_count": 326,
   "metadata": {},
   "outputs": [
    {
     "data": {
      "text/html": [
       "<div>\n",
       "<style scoped>\n",
       "    .dataframe tbody tr th:only-of-type {\n",
       "        vertical-align: middle;\n",
       "    }\n",
       "\n",
       "    .dataframe tbody tr th {\n",
       "        vertical-align: top;\n",
       "    }\n",
       "\n",
       "    .dataframe thead th {\n",
       "        text-align: right;\n",
       "    }\n",
       "</style>\n",
       "<table border=\"1\" class=\"dataframe\">\n",
       "  <thead>\n",
       "    <tr style=\"text-align: right;\">\n",
       "      <th></th>\n",
       "      <th>Name of car</th>\n",
       "      <th>Model</th>\n",
       "      <th>Fuel</th>\n",
       "      <th>Owner</th>\n",
       "      <th>Location</th>\n",
       "      <th>KM</th>\n",
       "      <th>Varient</th>\n",
       "      <th>Price</th>\n",
       "    </tr>\n",
       "  </thead>\n",
       "  <tbody>\n",
       "    <tr>\n",
       "      <th>0</th>\n",
       "      <td>-</td>\n",
       "      <td>-</td>\n",
       "      <td>-</td>\n",
       "      <td>-</td>\n",
       "      <td>RamnagarNov 23</td>\n",
       "      <td>--</td>\n",
       "      <td>--</td>\n",
       "      <td>-</td>\n",
       "    </tr>\n",
       "    <tr>\n",
       "      <th>1</th>\n",
       "      <td>Hyundai Xcent (2014)</td>\n",
       "      <td>1.2 VTVT S</td>\n",
       "      <td>PETROL</td>\n",
       "      <td>2nd</td>\n",
       "      <td>Tatabad ColonyNov 27</td>\n",
       "      <td>107440.0</td>\n",
       "      <td>MANUAL</td>\n",
       "      <td>3,85,000</td>\n",
       "    </tr>\n",
       "    <tr>\n",
       "      <th>2</th>\n",
       "      <td>Maruti Suzuki Alto 800 (2017)</td>\n",
       "      <td>LXI</td>\n",
       "      <td>PETROL</td>\n",
       "      <td>1st</td>\n",
       "      <td>RamnagarNov 24</td>\n",
       "      <td>23000.0</td>\n",
       "      <td>MANUAL</td>\n",
       "      <td>3,30,000</td>\n",
       "    </tr>\n",
       "    <tr>\n",
       "      <th>3</th>\n",
       "      <td>Chevrolet Beat (2010)</td>\n",
       "      <td>LS</td>\n",
       "      <td>PETROL</td>\n",
       "      <td>1st</td>\n",
       "      <td>Kaveri NagarToday</td>\n",
       "      <td>68555.0</td>\n",
       "      <td>MANUAL</td>\n",
       "      <td>2,05,000</td>\n",
       "    </tr>\n",
       "    <tr>\n",
       "      <th>4</th>\n",
       "      <td>-</td>\n",
       "      <td>-</td>\n",
       "      <td>-</td>\n",
       "      <td>-</td>\n",
       "      <td>SaravanampattiToday</td>\n",
       "      <td>--</td>\n",
       "      <td>--</td>\n",
       "      <td>-</td>\n",
       "    </tr>\n",
       "    <tr>\n",
       "      <th>...</th>\n",
       "      <td>...</td>\n",
       "      <td>...</td>\n",
       "      <td>...</td>\n",
       "      <td>...</td>\n",
       "      <td>...</td>\n",
       "      <td>...</td>\n",
       "      <td>...</td>\n",
       "      <td>...</td>\n",
       "    </tr>\n",
       "    <tr>\n",
       "      <th>902</th>\n",
       "      <td>Maruti Suzuki Swift (2009)</td>\n",
       "      <td>VDI</td>\n",
       "      <td>DIESEL</td>\n",
       "      <td>3rd</td>\n",
       "      <td>GKNM HospitalNov 02</td>\n",
       "      <td>95000.0</td>\n",
       "      <td>MANUAL</td>\n",
       "      <td>3,25,000</td>\n",
       "    </tr>\n",
       "    <tr>\n",
       "      <th>903</th>\n",
       "      <td>Ford Ecosport (2017)</td>\n",
       "      <td>1.5 TDCi Titanium</td>\n",
       "      <td>DIESEL</td>\n",
       "      <td>1st</td>\n",
       "      <td>Tatabad ColonyNov 02</td>\n",
       "      <td>88400.0</td>\n",
       "      <td>MANUAL</td>\n",
       "      <td>7,90,000</td>\n",
       "    </tr>\n",
       "    <tr>\n",
       "      <th>904</th>\n",
       "      <td>Toyota Innova (2009)</td>\n",
       "      <td>2.5 V 8 STR</td>\n",
       "      <td>DIESEL</td>\n",
       "      <td>2nd</td>\n",
       "      <td>GandhipuramNov 02</td>\n",
       "      <td>158,000</td>\n",
       "      <td>MANUAL</td>\n",
       "      <td>8,90,000</td>\n",
       "    </tr>\n",
       "    <tr>\n",
       "      <th>905</th>\n",
       "      <td>Chevrolet Enjoy (2016)</td>\n",
       "      <td>1.4 LS 7</td>\n",
       "      <td>PETROL</td>\n",
       "      <td>1st</td>\n",
       "      <td>VCV LayoutNov 02</td>\n",
       "      <td>42000.0</td>\n",
       "      <td>MANUAL</td>\n",
       "      <td>4,50,000</td>\n",
       "    </tr>\n",
       "    <tr>\n",
       "      <th>906</th>\n",
       "      <td>Honda City Zx (2008)</td>\n",
       "      <td>GXi</td>\n",
       "      <td>PETROL</td>\n",
       "      <td>1st</td>\n",
       "      <td>Tatabad ColonyNov 01</td>\n",
       "      <td>105300.0</td>\n",
       "      <td>MANUAL</td>\n",
       "      <td>3,10,000</td>\n",
       "    </tr>\n",
       "  </tbody>\n",
       "</table>\n",
       "<p>907 rows × 8 columns</p>\n",
       "</div>"
      ],
      "text/plain": [
       "                       Name of car              Model    Fuel Owner  \\\n",
       "0                                -                  -       -     -   \n",
       "1             Hyundai Xcent (2014)         1.2 VTVT S  PETROL   2nd   \n",
       "2    Maruti Suzuki Alto 800 (2017)                LXI  PETROL   1st   \n",
       "3            Chevrolet Beat (2010)                 LS  PETROL   1st   \n",
       "4                                -                  -       -     -   \n",
       "..                             ...                ...     ...   ...   \n",
       "902     Maruti Suzuki Swift (2009)                VDI  DIESEL   3rd   \n",
       "903           Ford Ecosport (2017)  1.5 TDCi Titanium  DIESEL   1st   \n",
       "904           Toyota Innova (2009)        2.5 V 8 STR  DIESEL   2nd   \n",
       "905         Chevrolet Enjoy (2016)           1.4 LS 7  PETROL   1st   \n",
       "906           Honda City Zx (2008)                GXi  PETROL   1st   \n",
       "\n",
       "                 Location         KM Varient     Price  \n",
       "0          RamnagarNov 23         --      --         -  \n",
       "1    Tatabad ColonyNov 27  107440.0   MANUAL  3,85,000  \n",
       "2          RamnagarNov 24   23000.0   MANUAL  3,30,000  \n",
       "3       Kaveri NagarToday   68555.0   MANUAL  2,05,000  \n",
       "4     SaravanampattiToday         --      --         -  \n",
       "..                    ...        ...     ...       ...  \n",
       "902   GKNM HospitalNov 02   95000.0   MANUAL  3,25,000  \n",
       "903  Tatabad ColonyNov 02   88400.0   MANUAL  7,90,000  \n",
       "904     GandhipuramNov 02   158,000   MANUAL  8,90,000  \n",
       "905      VCV LayoutNov 02   42000.0   MANUAL  4,50,000  \n",
       "906  Tatabad ColonyNov 01  105300.0   MANUAL  3,10,000  \n",
       "\n",
       "[907 rows x 8 columns]"
      ]
     },
     "execution_count": 326,
     "metadata": {},
     "output_type": "execute_result"
    }
   ],
   "source": [
    "df1"
   ]
  },
  {
   "cell_type": "code",
   "execution_count": null,
   "metadata": {},
   "outputs": [],
   "source": []
  },
  {
   "cell_type": "code",
   "execution_count": null,
   "metadata": {},
   "outputs": [],
   "source": []
  },
  {
   "cell_type": "code",
   "execution_count": null,
   "metadata": {},
   "outputs": [],
   "source": []
  },
  {
   "cell_type": "code",
   "execution_count": null,
   "metadata": {},
   "outputs": [],
   "source": []
  },
  {
   "cell_type": "markdown",
   "metadata": {},
   "source": [
    "# next Maharastra"
   ]
  },
  {
   "cell_type": "code",
   "execution_count": null,
   "metadata": {},
   "outputs": [],
   "source": []
  },
  {
   "cell_type": "code",
   "execution_count": null,
   "metadata": {},
   "outputs": [],
   "source": []
  },
  {
   "cell_type": "code",
   "execution_count": 318,
   "metadata": {},
   "outputs": [],
   "source": [
    "from selenium import webdriver\n",
    "driver=webdriver.Chrome(\"chromedriver.exe\")"
   ]
  },
  {
   "cell_type": "code",
   "execution_count": 319,
   "metadata": {},
   "outputs": [],
   "source": [
    "url='https://www.olx.in/hirdaram_g5317576/cars_c84'\n",
    "driver.get(url)"
   ]
  },
  {
   "cell_type": "code",
   "execution_count": 321,
   "metadata": {},
   "outputs": [],
   "source": [
    "wait = WebDriverWait(driver,10)\n",
    "for i in range(0,23):\n",
    "   \n",
    "    nxt_button=driver.find_element_by_xpath('//button[@class=\"rui-39-wj rui-3evoE rui-1JPTg\"]')\n",
    "    nxt_button.click()\n",
    "    time.sleep(10)"
   ]
  },
  {
   "cell_type": "code",
   "execution_count": 323,
   "metadata": {},
   "outputs": [
    {
     "data": {
      "text/plain": [
       "960"
      ]
     },
     "execution_count": 323,
     "metadata": {},
     "output_type": "execute_result"
    }
   ],
   "source": [
    "Urls1=[]\n",
    "\n",
    "Url_links=driver.find_elements_by_xpath(\"//li[@class='_31j8e']/a\")\n",
    "\n",
    "\n",
    "for i in Url_links:\n",
    "    Urls1.append(i.get_attribute(\"href\"))\n",
    "    \n",
    "len(Urls1)"
   ]
  },
  {
   "cell_type": "code",
   "execution_count": 325,
   "metadata": {},
   "outputs": [
    {
     "data": {
      "text/plain": [
       "960"
      ]
     },
     "execution_count": 325,
     "metadata": {},
     "output_type": "execute_result"
    }
   ],
   "source": [
    "Location2=[]\n",
    "location=driver.find_elements_by_xpath('//div[@class=\"_1zvfB\"]')\n",
    "for i in location:\n",
    "    try:\n",
    "        Location2.append(i.text.replace(\"\\n\",\"\"))\n",
    "    except:\n",
    "        Location2.append(\"-\")\n",
    "len(Location2)        "
   ]
  },
  {
   "cell_type": "code",
   "execution_count": 328,
   "metadata": {},
   "outputs": [],
   "source": [
    "Name_of_the_Car2=[]\n",
    "Model2=[]\n",
    "Price2=[]\n",
    "Fuel2=[]\n",
    "Owner2=[]\n",
    "KM2=[]\n",
    "Varient2=[]\n",
    "\n",
    "\n",
    "for i in Urls1:\n",
    "    driver.get(i)\n",
    "    time.sleep(3)    \n",
    "    \n",
    "    \n",
    "#feching name  \n",
    "\n",
    "    try:\n",
    "        name_of_the_Car=driver.find_element_by_xpath('//div[@class=\"_35xN1\"]')\n",
    "    \n",
    "        Name_of_the_Car2.append(name_of_the_Car.text.replace(\"\\n\",\" \"))   \n",
    "    except:\n",
    "        Name_of_the_Car2.append(\"-\")\n",
    "\n",
    "# fetching   model\n",
    "\n",
    "    try:\n",
    "        model=driver.find_element_by_xpath('//div[@class=\"_3tLee\"]')\n",
    "    \n",
    "        Model2.append(model.text.replace(\"\\n\",\" \"))   \n",
    "    except:\n",
    "        Model2.append(\"-\")\n",
    "        \n",
    "        \n",
    "        \n",
    "# fetching price        \n",
    "    try:\n",
    "        price=driver.find_element_by_xpath('//div[@class=\"_3FkyT\"]')\n",
    "    \n",
    "        Price2.append(price.text.replace(\"₹ \",\"\"))   \n",
    "    except:\n",
    "        Price2.append(\"-\")\n",
    "# fetching fuel\n",
    "    try:\n",
    "        fuel=driver.find_element_by_xpath('//div[@class=\"_3qDp0\"]')\n",
    "    \n",
    "        Fuel2.append(fuel.text.replace(\"\\n\",\"\"))   \n",
    "    except:\n",
    "        Fuel2.append(\"-\")\n",
    "# fetching owner\n",
    "    try:\n",
    "        owner=driver.find_element_by_xpath('//div[@class=\"_1gasz\"]')\n",
    "    \n",
    "        Owner2.append(owner.text.replace(\"\\n\",\"\"))   \n",
    "    except:\n",
    "        Owner2.append(\"-\")\n",
    "\n",
    "#fetching kilometers\n",
    "\n",
    "    try:\n",
    "        km=driver.find_element_by_xpath('//div[@class=\"aOxkz\"]/div[2]')\n",
    "        \n",
    "        KM2.append(km.text.replace(\"KM\",\"\"))\n",
    "    except:\n",
    "        KM2.append(\"--\")\n",
    "\n",
    "        \n",
    "#fetching varient             \n",
    "    \n",
    "    try:\n",
    "        varient=driver.find_element_by_xpath('//div[@class=\"aOxkz\"]/div[3]')\n",
    "        Varient2.append(varient.text.replace(\"\\n\",\"\"))\n",
    "    except:\n",
    "        Varient2.append(\"--\")\n",
    "    \n"
   ]
  },
  {
   "cell_type": "code",
   "execution_count": 329,
   "metadata": {},
   "outputs": [
    {
     "name": "stdout",
     "output_type": "stream",
     "text": [
      "960\n",
      "960\n",
      "960\n",
      "960\n",
      "960\n",
      "960\n",
      "960\n",
      "960\n"
     ]
    }
   ],
   "source": [
    "print(len(Name_of_the_Car2))\n",
    "print(len(Model2))\n",
    "print(len(Price2))\n",
    "print(len(Fuel2))\n",
    "print(len(Owner2))\n",
    "print(len(Location2))\n",
    "print(len(KM2))\n",
    "print(len(Varient2))"
   ]
  },
  {
   "cell_type": "code",
   "execution_count": 330,
   "metadata": {},
   "outputs": [],
   "source": [
    "import pandas as pd\n",
    "df2=pd.DataFrame({})\n",
    "df2['Name of car']=Name_of_the_Car2\n",
    "df2['Model']=Model2\n",
    "df2['Fuel']=Fuel2\n",
    "df2['Owner']=Owner2\n",
    "df2['Location']=Location2\n",
    "df2['KM']=KM2\n",
    "df2['Varient']=Varient2\n",
    "df2['Price']=Price2\n",
    "CarData2=df2"
   ]
  },
  {
   "cell_type": "code",
   "execution_count": 331,
   "metadata": {},
   "outputs": [
    {
     "name": "stdout",
     "output_type": "stream",
     "text": [
      "DataFrame2 is written to Excel File successfully.\n"
     ]
    }
   ],
   "source": [
    "# writing to Excel\n",
    "datatoexcel2 = pd.ExcelWriter('CarData2.xlsx')\n",
    "# write DataFrame to excel\n",
    "CarData2.to_excel(datatoexcel2)\n",
    "# save the excel\n",
    "datatoexcel2.save()\n",
    "print('DataFrame2 is written to Excel File successfully.')"
   ]
  },
  {
   "cell_type": "code",
   "execution_count": null,
   "metadata": {},
   "outputs": [],
   "source": []
  },
  {
   "cell_type": "raw",
   "metadata": {},
   "source": []
  },
  {
   "cell_type": "markdown",
   "metadata": {},
   "source": [
    "# kerela"
   ]
  },
  {
   "cell_type": "code",
   "execution_count": 332,
   "metadata": {},
   "outputs": [],
   "source": [
    "from selenium import webdriver\n",
    "driver=webdriver.Chrome(\"chromedriver.exe\")"
   ]
  },
  {
   "cell_type": "code",
   "execution_count": 333,
   "metadata": {},
   "outputs": [],
   "source": [
    "url='https://www.olx.in/kerala_g2001160/olx-autos-cars_c5'\n",
    "driver.get(url)"
   ]
  },
  {
   "cell_type": "code",
   "execution_count": 334,
   "metadata": {},
   "outputs": [],
   "source": [
    "wait = WebDriverWait(driver,10)\n",
    "for i in range(0,23):\n",
    "   \n",
    "    nxt_button=driver.find_element_by_xpath('//button[@class=\"rui-39-wj rui-3evoE rui-1JPTg\"]')\n",
    "    nxt_button.click()\n",
    "    time.sleep(10)"
   ]
  },
  {
   "cell_type": "code",
   "execution_count": 335,
   "metadata": {},
   "outputs": [
    {
     "data": {
      "text/plain": [
       "480"
      ]
     },
     "execution_count": 335,
     "metadata": {},
     "output_type": "execute_result"
    }
   ],
   "source": [
    "Urls3=[]\n",
    "\n",
    "Url_links=driver.find_elements_by_xpath(\"//li[@class='EIR5N']/a\")\n",
    "\n",
    "\n",
    "for i in Url_links:\n",
    "    Urls3.append(i.get_attribute(\"href\"))\n",
    "    \n",
    "len(Urls3)"
   ]
  },
  {
   "cell_type": "code",
   "execution_count": 336,
   "metadata": {},
   "outputs": [
    {
     "data": {
      "text/plain": [
       "480"
      ]
     },
     "execution_count": 336,
     "metadata": {},
     "output_type": "execute_result"
    }
   ],
   "source": [
    "Location3=[]\n",
    "location=driver.find_elements_by_xpath('//span[@class=\"tjgMj\"]')\n",
    "for i in location:\n",
    "    try:\n",
    "        Location3.append(i.text.replace(\"\\n\",\"\"))\n",
    "    except:\n",
    "        Location3.append(\"-\")\n",
    "len(Location3)        "
   ]
  },
  {
   "cell_type": "code",
   "execution_count": 337,
   "metadata": {},
   "outputs": [],
   "source": [
    "Name_of_the_Car3=[]\n",
    "Model3=[]\n",
    "Price3=[]\n",
    "Fuel3=[]\n",
    "Owner3=[]\n",
    "KM3=[]\n",
    "Varient3=[]\n",
    "\n",
    "\n",
    "for i in Urls3:\n",
    "    driver.get(i)\n",
    "    time.sleep(3)    \n",
    "    \n",
    "    \n",
    "#feching name  \n",
    "\n",
    "    try:\n",
    "        name_of_the_Car=driver.find_element_by_xpath('//div[@class=\"_35xN1\"]')\n",
    "    \n",
    "        Name_of_the_Car3.append(name_of_the_Car.text.replace(\"\\n\",\" \"))   \n",
    "    except:\n",
    "        Name_of_the_Car3.append(\"-\")\n",
    "\n",
    "# fetching   model\n",
    "\n",
    "    try:\n",
    "        model=driver.find_element_by_xpath('//div[@class=\"_3tLee\"]')\n",
    "    \n",
    "        Model3.append(model.text.replace(\"\\n\",\" \"))   \n",
    "    except:\n",
    "        Model3.append(\"-\")\n",
    "        \n",
    "        \n",
    "        \n",
    "# fetching price        \n",
    "    try:\n",
    "        price=driver.find_element_by_xpath('//div[@class=\"_3FkyT\"]')\n",
    "    \n",
    "        Price3.append(price.text.replace(\"₹ \",\"\"))   \n",
    "    except:\n",
    "        Price3.append(\"-\")\n",
    "# fetching fuel\n",
    "    try:\n",
    "        fuel=driver.find_element_by_xpath('//div[@class=\"_3qDp0\"]')\n",
    "    \n",
    "        Fuel3.append(fuel.text.replace(\"\\n\",\"\"))   \n",
    "    except:\n",
    "        Fuel3.append(\"-\")\n",
    "# fetching owner\n",
    "    try:\n",
    "        owner=driver.find_element_by_xpath('//div[@class=\"_1gasz\"]')\n",
    "    \n",
    "        Owner3.append(owner.text.replace(\"\\n\",\"\"))   \n",
    "    except:\n",
    "        Owner3.append(\"-\")\n",
    "\n",
    "#fetching kilometers\n",
    "\n",
    "    try:\n",
    "        km=driver.find_element_by_xpath('//div[@class=\"aOxkz\"]/div[2]')\n",
    "        \n",
    "        KM3.append(km.text.replace(\"KM\",\"\"))\n",
    "    except:\n",
    "        KM3.append(\"--\")\n",
    "\n",
    "        \n",
    "#fetching varient             \n",
    "    \n",
    "    try:\n",
    "        varient=driver.find_element_by_xpath('//div[@class=\"aOxkz\"]/div[3]')\n",
    "        Varient3.append(varient.text.replace(\"\\n\",\"\"))\n",
    "    except:\n",
    "        Varient3.append(\"--\")\n",
    "    \n"
   ]
  },
  {
   "cell_type": "code",
   "execution_count": 338,
   "metadata": {},
   "outputs": [
    {
     "name": "stdout",
     "output_type": "stream",
     "text": [
      "480\n",
      "480\n",
      "480\n",
      "480\n",
      "480\n",
      "480\n",
      "480\n",
      "480\n"
     ]
    }
   ],
   "source": [
    "print(len(Name_of_the_Car3))\n",
    "print(len(Model3))\n",
    "print(len(Price3))\n",
    "print(len(Fuel3))\n",
    "print(len(Owner3))\n",
    "print(len(Location3))\n",
    "print(len(KM3))\n",
    "print(len(Varient3))"
   ]
  },
  {
   "cell_type": "code",
   "execution_count": 339,
   "metadata": {},
   "outputs": [],
   "source": [
    "import pandas as pd\n",
    "df3=pd.DataFrame({})\n",
    "df3['Name of car']=Name_of_the_Car3\n",
    "df3['Model']=Model3\n",
    "df3['Fuel']=Fuel3\n",
    "df3['Owner']=Owner3\n",
    "df3['Location']=Location3\n",
    "df3['KM']=KM3\n",
    "df3['Varient']=Varient3\n",
    "df3['Price']=Price3\n",
    "CarData3=df3"
   ]
  },
  {
   "cell_type": "code",
   "execution_count": 340,
   "metadata": {},
   "outputs": [
    {
     "name": "stdout",
     "output_type": "stream",
     "text": [
      "DataFrame3 is written to Excel File successfully.\n"
     ]
    }
   ],
   "source": [
    "# writing to Excel\n",
    "datatoexcel3 = pd.ExcelWriter('CarData3.xlsx')\n",
    "# write DataFrame to excel\n",
    "CarData3.to_excel(datatoexcel3)\n",
    "# save the excel\n",
    "datatoexcel3.save()\n",
    "print('DataFrame3 is written to Excel File successfully.')"
   ]
  },
  {
   "cell_type": "code",
   "execution_count": null,
   "metadata": {},
   "outputs": [],
   "source": []
  },
  {
   "cell_type": "markdown",
   "metadata": {},
   "source": [
    "# uttar pradesh"
   ]
  },
  {
   "cell_type": "code",
   "execution_count": 341,
   "metadata": {},
   "outputs": [],
   "source": [
    "from selenium import webdriver\n",
    "driver=webdriver.Chrome(\"chromedriver.exe\")"
   ]
  },
  {
   "cell_type": "code",
   "execution_count": 342,
   "metadata": {},
   "outputs": [],
   "source": [
    "url='https://www.olx.in/uttar-pradesh_g2001176/olx-autos-cars_c5'\n",
    "driver.get(url)"
   ]
  },
  {
   "cell_type": "code",
   "execution_count": 343,
   "metadata": {},
   "outputs": [],
   "source": [
    "wait = WebDriverWait(driver,10)\n",
    "for i in range(0,23):\n",
    "   \n",
    "    nxt_button=driver.find_element_by_xpath('//button[@class=\"rui-39-wj rui-3evoE rui-1JPTg\"]')\n",
    "    nxt_button.click()\n",
    "    time.sleep(10)"
   ]
  },
  {
   "cell_type": "code",
   "execution_count": 344,
   "metadata": {},
   "outputs": [
    {
     "data": {
      "text/plain": [
       "479"
      ]
     },
     "execution_count": 344,
     "metadata": {},
     "output_type": "execute_result"
    }
   ],
   "source": [
    "Urls4=[]\n",
    "\n",
    "Url_links=driver.find_elements_by_xpath(\"//li[@class='EIR5N']/a\")\n",
    "\n",
    "\n",
    "for i in Url_links:\n",
    "    Urls4.append(i.get_attribute(\"href\"))\n",
    "    \n",
    "len(Urls4)"
   ]
  },
  {
   "cell_type": "code",
   "execution_count": 345,
   "metadata": {},
   "outputs": [
    {
     "data": {
      "text/plain": [
       "479"
      ]
     },
     "execution_count": 345,
     "metadata": {},
     "output_type": "execute_result"
    }
   ],
   "source": [
    "Location4=[]\n",
    "location=driver.find_elements_by_xpath('//span[@class=\"tjgMj\"]')\n",
    "for i in location:\n",
    "    try:\n",
    "        Location4.append(i.text.replace(\"\\n\",\"\"))\n",
    "    except:\n",
    "        Location4.append(\"-\")\n",
    "len(Location4)        "
   ]
  },
  {
   "cell_type": "code",
   "execution_count": 346,
   "metadata": {},
   "outputs": [],
   "source": [
    "Name_of_the_Car4=[]\n",
    "Model4=[]\n",
    "Price4=[]\n",
    "Fuel4=[]\n",
    "Owner4=[]\n",
    "KM4=[]\n",
    "Varient4=[]\n",
    "\n",
    "\n",
    "for i in Urls4:\n",
    "    driver.get(i)\n",
    "    time.sleep(4)    \n",
    "    \n",
    "    \n",
    "#feching name  \n",
    "\n",
    "    try:\n",
    "        name_of_the_Car=driver.find_element_by_xpath('//div[@class=\"_35xN1\"]')\n",
    "    \n",
    "        Name_of_the_Car4.append(name_of_the_Car.text.replace(\"\\n\",\" \"))   \n",
    "    except:\n",
    "        Name_of_the_Car4.append(\"-\")\n",
    "\n",
    "# fetching   model\n",
    "\n",
    "    try:\n",
    "        model=driver.find_element_by_xpath('//div[@class=\"_3tLee\"]')\n",
    "    \n",
    "        Model4.append(model.text.replace(\"\\n\",\" \"))   \n",
    "    except:\n",
    "        Model4.append(\"-\")\n",
    "        \n",
    "        \n",
    "        \n",
    "# fetching price        \n",
    "    try:\n",
    "        price=driver.find_element_by_xpath('//div[@class=\"_3FkyT\"]')\n",
    "    \n",
    "        Price4.append(price.text.replace(\"₹ \",\"\"))   \n",
    "    except:\n",
    "        Price4.append(\"-\")\n",
    "# fetching fuel\n",
    "    try:\n",
    "        fuel=driver.find_element_by_xpath('//div[@class=\"_3qDp0\"]')\n",
    "    \n",
    "        Fuel4.append(fuel.text.replace(\"\\n\",\"\"))   \n",
    "    except:\n",
    "        Fuel4.append(\"-\")\n",
    "# fetching owner\n",
    "    try:\n",
    "        owner=driver.find_element_by_xpath('//div[@class=\"_1gasz\"]')\n",
    "    \n",
    "        Owner4.append(owner.text.replace(\"\\n\",\"\"))   \n",
    "    except:\n",
    "        Owner4.append(\"-\")\n",
    "\n",
    "#fetching kilometers\n",
    "\n",
    "    try:\n",
    "        km=driver.find_element_by_xpath('//div[@class=\"aOxkz\"]/div[2]')\n",
    "        \n",
    "        KM4.append(km.text.replace(\"KM\",\"\"))\n",
    "    except:\n",
    "        KM4.append(\"--\")\n",
    "\n",
    "        \n",
    "#fetching varient             \n",
    "    \n",
    "    try:\n",
    "        varient=driver.find_element_by_xpath('//div[@class=\"aOxkz\"]/div[3]')\n",
    "        Varient4.append(varient.text.replace(\"\\n\",\"\"))\n",
    "    except:\n",
    "        Varient4.append(\"--\")\n",
    "    \n"
   ]
  },
  {
   "cell_type": "code",
   "execution_count": 347,
   "metadata": {},
   "outputs": [
    {
     "name": "stdout",
     "output_type": "stream",
     "text": [
      "479\n",
      "479\n",
      "479\n",
      "479\n",
      "479\n",
      "479\n",
      "479\n",
      "479\n"
     ]
    }
   ],
   "source": [
    "print(len(Name_of_the_Car4))\n",
    "print(len(Model4))\n",
    "print(len(Price4))\n",
    "print(len(Fuel4))\n",
    "print(len(Owner4))\n",
    "print(len(Location4))\n",
    "print(len(KM4))\n",
    "print(len(Varient4))"
   ]
  },
  {
   "cell_type": "code",
   "execution_count": 348,
   "metadata": {},
   "outputs": [],
   "source": [
    "import pandas as pd\n",
    "df4=pd.DataFrame({})\n",
    "df4['Name of car']=Name_of_the_Car4\n",
    "df4['Model']=Model4\n",
    "df4['Fuel']=Fuel4\n",
    "df4['Owner']=Owner4\n",
    "df4['Location']=Location4\n",
    "df4['KM']=KM4\n",
    "df4['Varient']=Varient4\n",
    "df4['Price']=Price4\n",
    "CarData4=df4"
   ]
  },
  {
   "cell_type": "code",
   "execution_count": 349,
   "metadata": {},
   "outputs": [
    {
     "name": "stdout",
     "output_type": "stream",
     "text": [
      "DataFrame4 is written to Excel File successfully.\n"
     ]
    }
   ],
   "source": [
    "# writing to Excel\n",
    "datatoexcel4 = pd.ExcelWriter('CarData4.xlsx')\n",
    "# write DataFrame to excel\n",
    "CarData4.to_excel(datatoexcel4)\n",
    "# save the excel\n",
    "datatoexcel4.save()\n",
    "print('DataFrame4 is written to Excel File successfully.')"
   ]
  },
  {
   "cell_type": "code",
   "execution_count": null,
   "metadata": {},
   "outputs": [],
   "source": []
  },
  {
   "cell_type": "code",
   "execution_count": null,
   "metadata": {},
   "outputs": [],
   "source": []
  },
  {
   "cell_type": "code",
   "execution_count": null,
   "metadata": {},
   "outputs": [],
   "source": []
  },
  {
   "cell_type": "markdown",
   "metadata": {},
   "source": [
    "# Delhi"
   ]
  },
  {
   "cell_type": "code",
   "execution_count": null,
   "metadata": {},
   "outputs": [],
   "source": []
  },
  {
   "cell_type": "code",
   "execution_count": 376,
   "metadata": {},
   "outputs": [],
   "source": [
    "from selenium import webdriver\n",
    "driver=webdriver.Chrome(\"chromedriver.exe\")"
   ]
  },
  {
   "cell_type": "code",
   "execution_count": 4,
   "metadata": {},
   "outputs": [],
   "source": [
    "url='https://www.olx.in/delhi_g2001152/olx-autos-cars_c5'\n",
    "driver.get(url)"
   ]
  },
  {
   "cell_type": "code",
   "execution_count": 370,
   "metadata": {},
   "outputs": [
    {
     "ename": "NoSuchElementException",
     "evalue": "Message: no such element: Unable to locate element: {\"method\":\"xpath\",\"selector\":\"//button[@class=\"rui-39-wj rui-3evoE rui-1JPTg\"]\"}\n  (Session info: chrome=96.0.4664.45)\n",
     "output_type": "error",
     "traceback": [
      "\u001b[1;31m---------------------------------------------------------------------------\u001b[0m",
      "\u001b[1;31mNoSuchElementException\u001b[0m                    Traceback (most recent call last)",
      "\u001b[1;32m<ipython-input-370-50be52c780e3>\u001b[0m in \u001b[0;36m<module>\u001b[1;34m\u001b[0m\n\u001b[0;32m      2\u001b[0m \u001b[1;32mfor\u001b[0m \u001b[0mi\u001b[0m \u001b[1;32min\u001b[0m \u001b[0mrange\u001b[0m\u001b[1;33m(\u001b[0m\u001b[1;36m0\u001b[0m\u001b[1;33m,\u001b[0m\u001b[1;36m43\u001b[0m\u001b[1;33m)\u001b[0m\u001b[1;33m:\u001b[0m\u001b[1;33m\u001b[0m\u001b[1;33m\u001b[0m\u001b[0m\n\u001b[0;32m      3\u001b[0m \u001b[1;33m\u001b[0m\u001b[0m\n\u001b[1;32m----> 4\u001b[1;33m     \u001b[0mnxt_button\u001b[0m\u001b[1;33m=\u001b[0m\u001b[0mdriver\u001b[0m\u001b[1;33m.\u001b[0m\u001b[0mfind_element_by_xpath\u001b[0m\u001b[1;33m(\u001b[0m\u001b[1;34m'//button[@class=\"rui-39-wj rui-3evoE rui-1JPTg\"]'\u001b[0m\u001b[1;33m)\u001b[0m\u001b[1;33m\u001b[0m\u001b[1;33m\u001b[0m\u001b[0m\n\u001b[0m\u001b[0;32m      5\u001b[0m     \u001b[0mnxt_button\u001b[0m\u001b[1;33m.\u001b[0m\u001b[0mclick\u001b[0m\u001b[1;33m(\u001b[0m\u001b[1;33m)\u001b[0m\u001b[1;33m\u001b[0m\u001b[1;33m\u001b[0m\u001b[0m\n\u001b[0;32m      6\u001b[0m     \u001b[0mtime\u001b[0m\u001b[1;33m.\u001b[0m\u001b[0msleep\u001b[0m\u001b[1;33m(\u001b[0m\u001b[1;36m10\u001b[0m\u001b[1;33m)\u001b[0m\u001b[1;33m\u001b[0m\u001b[1;33m\u001b[0m\u001b[0m\n",
      "\u001b[1;32mC:\\ProgramData\\Anaconda3\\lib\\site-packages\\selenium\\webdriver\\remote\\webdriver.py\u001b[0m in \u001b[0;36mfind_element_by_xpath\u001b[1;34m(self, xpath)\u001b[0m\n\u001b[0;32m    392\u001b[0m             \u001b[0melement\u001b[0m \u001b[1;33m=\u001b[0m \u001b[0mdriver\u001b[0m\u001b[1;33m.\u001b[0m\u001b[0mfind_element_by_xpath\u001b[0m\u001b[1;33m(\u001b[0m\u001b[1;34m'//div/td[1]'\u001b[0m\u001b[1;33m)\u001b[0m\u001b[1;33m\u001b[0m\u001b[1;33m\u001b[0m\u001b[0m\n\u001b[0;32m    393\u001b[0m         \"\"\"\n\u001b[1;32m--> 394\u001b[1;33m         \u001b[1;32mreturn\u001b[0m \u001b[0mself\u001b[0m\u001b[1;33m.\u001b[0m\u001b[0mfind_element\u001b[0m\u001b[1;33m(\u001b[0m\u001b[0mby\u001b[0m\u001b[1;33m=\u001b[0m\u001b[0mBy\u001b[0m\u001b[1;33m.\u001b[0m\u001b[0mXPATH\u001b[0m\u001b[1;33m,\u001b[0m \u001b[0mvalue\u001b[0m\u001b[1;33m=\u001b[0m\u001b[0mxpath\u001b[0m\u001b[1;33m)\u001b[0m\u001b[1;33m\u001b[0m\u001b[1;33m\u001b[0m\u001b[0m\n\u001b[0m\u001b[0;32m    395\u001b[0m \u001b[1;33m\u001b[0m\u001b[0m\n\u001b[0;32m    396\u001b[0m     \u001b[1;32mdef\u001b[0m \u001b[0mfind_elements_by_xpath\u001b[0m\u001b[1;33m(\u001b[0m\u001b[0mself\u001b[0m\u001b[1;33m,\u001b[0m \u001b[0mxpath\u001b[0m\u001b[1;33m)\u001b[0m\u001b[1;33m:\u001b[0m\u001b[1;33m\u001b[0m\u001b[1;33m\u001b[0m\u001b[0m\n",
      "\u001b[1;32mC:\\ProgramData\\Anaconda3\\lib\\site-packages\\selenium\\webdriver\\remote\\webdriver.py\u001b[0m in \u001b[0;36mfind_element\u001b[1;34m(self, by, value)\u001b[0m\n\u001b[0;32m    974\u001b[0m                 \u001b[0mby\u001b[0m \u001b[1;33m=\u001b[0m \u001b[0mBy\u001b[0m\u001b[1;33m.\u001b[0m\u001b[0mCSS_SELECTOR\u001b[0m\u001b[1;33m\u001b[0m\u001b[1;33m\u001b[0m\u001b[0m\n\u001b[0;32m    975\u001b[0m                 \u001b[0mvalue\u001b[0m \u001b[1;33m=\u001b[0m \u001b[1;34m'[name=\"%s\"]'\u001b[0m \u001b[1;33m%\u001b[0m \u001b[0mvalue\u001b[0m\u001b[1;33m\u001b[0m\u001b[1;33m\u001b[0m\u001b[0m\n\u001b[1;32m--> 976\u001b[1;33m         return self.execute(Command.FIND_ELEMENT, {\n\u001b[0m\u001b[0;32m    977\u001b[0m             \u001b[1;34m'using'\u001b[0m\u001b[1;33m:\u001b[0m \u001b[0mby\u001b[0m\u001b[1;33m,\u001b[0m\u001b[1;33m\u001b[0m\u001b[1;33m\u001b[0m\u001b[0m\n\u001b[0;32m    978\u001b[0m             'value': value})['value']\n",
      "\u001b[1;32mC:\\ProgramData\\Anaconda3\\lib\\site-packages\\selenium\\webdriver\\remote\\webdriver.py\u001b[0m in \u001b[0;36mexecute\u001b[1;34m(self, driver_command, params)\u001b[0m\n\u001b[0;32m    319\u001b[0m         \u001b[0mresponse\u001b[0m \u001b[1;33m=\u001b[0m \u001b[0mself\u001b[0m\u001b[1;33m.\u001b[0m\u001b[0mcommand_executor\u001b[0m\u001b[1;33m.\u001b[0m\u001b[0mexecute\u001b[0m\u001b[1;33m(\u001b[0m\u001b[0mdriver_command\u001b[0m\u001b[1;33m,\u001b[0m \u001b[0mparams\u001b[0m\u001b[1;33m)\u001b[0m\u001b[1;33m\u001b[0m\u001b[1;33m\u001b[0m\u001b[0m\n\u001b[0;32m    320\u001b[0m         \u001b[1;32mif\u001b[0m \u001b[0mresponse\u001b[0m\u001b[1;33m:\u001b[0m\u001b[1;33m\u001b[0m\u001b[1;33m\u001b[0m\u001b[0m\n\u001b[1;32m--> 321\u001b[1;33m             \u001b[0mself\u001b[0m\u001b[1;33m.\u001b[0m\u001b[0merror_handler\u001b[0m\u001b[1;33m.\u001b[0m\u001b[0mcheck_response\u001b[0m\u001b[1;33m(\u001b[0m\u001b[0mresponse\u001b[0m\u001b[1;33m)\u001b[0m\u001b[1;33m\u001b[0m\u001b[1;33m\u001b[0m\u001b[0m\n\u001b[0m\u001b[0;32m    322\u001b[0m             response['value'] = self._unwrap_value(\n\u001b[0;32m    323\u001b[0m                 response.get('value', None))\n",
      "\u001b[1;32mC:\\ProgramData\\Anaconda3\\lib\\site-packages\\selenium\\webdriver\\remote\\errorhandler.py\u001b[0m in \u001b[0;36mcheck_response\u001b[1;34m(self, response)\u001b[0m\n\u001b[0;32m    240\u001b[0m                 \u001b[0malert_text\u001b[0m \u001b[1;33m=\u001b[0m \u001b[0mvalue\u001b[0m\u001b[1;33m[\u001b[0m\u001b[1;34m'alert'\u001b[0m\u001b[1;33m]\u001b[0m\u001b[1;33m.\u001b[0m\u001b[0mget\u001b[0m\u001b[1;33m(\u001b[0m\u001b[1;34m'text'\u001b[0m\u001b[1;33m)\u001b[0m\u001b[1;33m\u001b[0m\u001b[1;33m\u001b[0m\u001b[0m\n\u001b[0;32m    241\u001b[0m             \u001b[1;32mraise\u001b[0m \u001b[0mexception_class\u001b[0m\u001b[1;33m(\u001b[0m\u001b[0mmessage\u001b[0m\u001b[1;33m,\u001b[0m \u001b[0mscreen\u001b[0m\u001b[1;33m,\u001b[0m \u001b[0mstacktrace\u001b[0m\u001b[1;33m,\u001b[0m \u001b[0malert_text\u001b[0m\u001b[1;33m)\u001b[0m\u001b[1;33m\u001b[0m\u001b[1;33m\u001b[0m\u001b[0m\n\u001b[1;32m--> 242\u001b[1;33m         \u001b[1;32mraise\u001b[0m \u001b[0mexception_class\u001b[0m\u001b[1;33m(\u001b[0m\u001b[0mmessage\u001b[0m\u001b[1;33m,\u001b[0m \u001b[0mscreen\u001b[0m\u001b[1;33m,\u001b[0m \u001b[0mstacktrace\u001b[0m\u001b[1;33m)\u001b[0m\u001b[1;33m\u001b[0m\u001b[1;33m\u001b[0m\u001b[0m\n\u001b[0m\u001b[0;32m    243\u001b[0m \u001b[1;33m\u001b[0m\u001b[0m\n\u001b[0;32m    244\u001b[0m     \u001b[1;32mdef\u001b[0m \u001b[0m_value_or_default\u001b[0m\u001b[1;33m(\u001b[0m\u001b[0mself\u001b[0m\u001b[1;33m,\u001b[0m \u001b[0mobj\u001b[0m\u001b[1;33m,\u001b[0m \u001b[0mkey\u001b[0m\u001b[1;33m,\u001b[0m \u001b[0mdefault\u001b[0m\u001b[1;33m)\u001b[0m\u001b[1;33m:\u001b[0m\u001b[1;33m\u001b[0m\u001b[1;33m\u001b[0m\u001b[0m\n",
      "\u001b[1;31mNoSuchElementException\u001b[0m: Message: no such element: Unable to locate element: {\"method\":\"xpath\",\"selector\":\"//button[@class=\"rui-39-wj rui-3evoE rui-1JPTg\"]\"}\n  (Session info: chrome=96.0.4664.45)\n"
     ]
    }
   ],
   "source": [
    "wait = WebDriverWait(driver,10)\n",
    "for i in range(0,43):\n",
    "   \n",
    "    nxt_button=driver.find_element_by_xpath('//button[@class=\"rui-39-wj rui-3evoE rui-1JPTg\"]')\n",
    "    nxt_button.click()\n",
    "    time.sleep(10)"
   ]
  },
  {
   "cell_type": "code",
   "execution_count": 356,
   "metadata": {},
   "outputs": [
    {
     "data": {
      "text/plain": [
       "993"
      ]
     },
     "execution_count": 356,
     "metadata": {},
     "output_type": "execute_result"
    }
   ],
   "source": [
    "Urls5=[]\n",
    "\n",
    "Url_links=driver.find_elements_by_xpath(\"//li[@class='EIR5N']/a\")\n",
    "\n",
    "\n",
    "for i in Url_links:\n",
    "    Urls5.append(i.get_attribute(\"href\"))\n",
    "    \n",
    "len(Urls5)"
   ]
  },
  {
   "cell_type": "code",
   "execution_count": 357,
   "metadata": {},
   "outputs": [
    {
     "data": {
      "text/plain": [
       "993"
      ]
     },
     "execution_count": 357,
     "metadata": {},
     "output_type": "execute_result"
    }
   ],
   "source": [
    "Location5=[]\n",
    "location=driver.find_elements_by_xpath('//span[@class=\"tjgMj\"]')\n",
    "for i in location:\n",
    "    try:\n",
    "        Location5.append(i.text.replace(\"\\n\",\"\"))\n",
    "    except:\n",
    "        Location5.append(\"-\")\n",
    "len(Location5)        "
   ]
  },
  {
   "cell_type": "code",
   "execution_count": 367,
   "metadata": {},
   "outputs": [
    {
     "ename": "WebDriverException",
     "evalue": "Message: chrome not reachable\n  (Session info: chrome=96.0.4664.45)\n",
     "output_type": "error",
     "traceback": [
      "\u001b[1;31m---------------------------------------------------------------------------\u001b[0m",
      "\u001b[1;31mWebDriverException\u001b[0m                        Traceback (most recent call last)",
      "\u001b[1;32m<ipython-input-367-eccfbf81f42a>\u001b[0m in \u001b[0;36m<module>\u001b[1;34m\u001b[0m\n\u001b[0;32m      9\u001b[0m \u001b[1;33m\u001b[0m\u001b[0m\n\u001b[0;32m     10\u001b[0m \u001b[1;32mfor\u001b[0m \u001b[0mi\u001b[0m \u001b[1;32min\u001b[0m \u001b[0mUrls5\u001b[0m\u001b[1;33m:\u001b[0m\u001b[1;33m\u001b[0m\u001b[1;33m\u001b[0m\u001b[0m\n\u001b[1;32m---> 11\u001b[1;33m     \u001b[0mdriver\u001b[0m\u001b[1;33m.\u001b[0m\u001b[0mget\u001b[0m\u001b[1;33m(\u001b[0m\u001b[0mi\u001b[0m\u001b[1;33m)\u001b[0m\u001b[1;33m\u001b[0m\u001b[1;33m\u001b[0m\u001b[0m\n\u001b[0m\u001b[0;32m     12\u001b[0m     \u001b[0mtime\u001b[0m\u001b[1;33m.\u001b[0m\u001b[0msleep\u001b[0m\u001b[1;33m(\u001b[0m\u001b[1;36m5\u001b[0m\u001b[1;33m)\u001b[0m\u001b[1;33m\u001b[0m\u001b[1;33m\u001b[0m\u001b[0m\n\u001b[0;32m     13\u001b[0m \u001b[1;33m\u001b[0m\u001b[0m\n",
      "\u001b[1;32mC:\\ProgramData\\Anaconda3\\lib\\site-packages\\selenium\\webdriver\\remote\\webdriver.py\u001b[0m in \u001b[0;36mget\u001b[1;34m(self, url)\u001b[0m\n\u001b[0;32m    331\u001b[0m         \u001b[0mLoads\u001b[0m \u001b[0ma\u001b[0m \u001b[0mweb\u001b[0m \u001b[0mpage\u001b[0m \u001b[1;32min\u001b[0m \u001b[0mthe\u001b[0m \u001b[0mcurrent\u001b[0m \u001b[0mbrowser\u001b[0m \u001b[0msession\u001b[0m\u001b[1;33m.\u001b[0m\u001b[1;33m\u001b[0m\u001b[1;33m\u001b[0m\u001b[0m\n\u001b[0;32m    332\u001b[0m         \"\"\"\n\u001b[1;32m--> 333\u001b[1;33m         \u001b[0mself\u001b[0m\u001b[1;33m.\u001b[0m\u001b[0mexecute\u001b[0m\u001b[1;33m(\u001b[0m\u001b[0mCommand\u001b[0m\u001b[1;33m.\u001b[0m\u001b[0mGET\u001b[0m\u001b[1;33m,\u001b[0m \u001b[1;33m{\u001b[0m\u001b[1;34m'url'\u001b[0m\u001b[1;33m:\u001b[0m \u001b[0murl\u001b[0m\u001b[1;33m}\u001b[0m\u001b[1;33m)\u001b[0m\u001b[1;33m\u001b[0m\u001b[1;33m\u001b[0m\u001b[0m\n\u001b[0m\u001b[0;32m    334\u001b[0m \u001b[1;33m\u001b[0m\u001b[0m\n\u001b[0;32m    335\u001b[0m     \u001b[1;33m@\u001b[0m\u001b[0mproperty\u001b[0m\u001b[1;33m\u001b[0m\u001b[1;33m\u001b[0m\u001b[0m\n",
      "\u001b[1;32mC:\\ProgramData\\Anaconda3\\lib\\site-packages\\selenium\\webdriver\\remote\\webdriver.py\u001b[0m in \u001b[0;36mexecute\u001b[1;34m(self, driver_command, params)\u001b[0m\n\u001b[0;32m    319\u001b[0m         \u001b[0mresponse\u001b[0m \u001b[1;33m=\u001b[0m \u001b[0mself\u001b[0m\u001b[1;33m.\u001b[0m\u001b[0mcommand_executor\u001b[0m\u001b[1;33m.\u001b[0m\u001b[0mexecute\u001b[0m\u001b[1;33m(\u001b[0m\u001b[0mdriver_command\u001b[0m\u001b[1;33m,\u001b[0m \u001b[0mparams\u001b[0m\u001b[1;33m)\u001b[0m\u001b[1;33m\u001b[0m\u001b[1;33m\u001b[0m\u001b[0m\n\u001b[0;32m    320\u001b[0m         \u001b[1;32mif\u001b[0m \u001b[0mresponse\u001b[0m\u001b[1;33m:\u001b[0m\u001b[1;33m\u001b[0m\u001b[1;33m\u001b[0m\u001b[0m\n\u001b[1;32m--> 321\u001b[1;33m             \u001b[0mself\u001b[0m\u001b[1;33m.\u001b[0m\u001b[0merror_handler\u001b[0m\u001b[1;33m.\u001b[0m\u001b[0mcheck_response\u001b[0m\u001b[1;33m(\u001b[0m\u001b[0mresponse\u001b[0m\u001b[1;33m)\u001b[0m\u001b[1;33m\u001b[0m\u001b[1;33m\u001b[0m\u001b[0m\n\u001b[0m\u001b[0;32m    322\u001b[0m             response['value'] = self._unwrap_value(\n\u001b[0;32m    323\u001b[0m                 response.get('value', None))\n",
      "\u001b[1;32mC:\\ProgramData\\Anaconda3\\lib\\site-packages\\selenium\\webdriver\\remote\\errorhandler.py\u001b[0m in \u001b[0;36mcheck_response\u001b[1;34m(self, response)\u001b[0m\n\u001b[0;32m    240\u001b[0m                 \u001b[0malert_text\u001b[0m \u001b[1;33m=\u001b[0m \u001b[0mvalue\u001b[0m\u001b[1;33m[\u001b[0m\u001b[1;34m'alert'\u001b[0m\u001b[1;33m]\u001b[0m\u001b[1;33m.\u001b[0m\u001b[0mget\u001b[0m\u001b[1;33m(\u001b[0m\u001b[1;34m'text'\u001b[0m\u001b[1;33m)\u001b[0m\u001b[1;33m\u001b[0m\u001b[1;33m\u001b[0m\u001b[0m\n\u001b[0;32m    241\u001b[0m             \u001b[1;32mraise\u001b[0m \u001b[0mexception_class\u001b[0m\u001b[1;33m(\u001b[0m\u001b[0mmessage\u001b[0m\u001b[1;33m,\u001b[0m \u001b[0mscreen\u001b[0m\u001b[1;33m,\u001b[0m \u001b[0mstacktrace\u001b[0m\u001b[1;33m,\u001b[0m \u001b[0malert_text\u001b[0m\u001b[1;33m)\u001b[0m\u001b[1;33m\u001b[0m\u001b[1;33m\u001b[0m\u001b[0m\n\u001b[1;32m--> 242\u001b[1;33m         \u001b[1;32mraise\u001b[0m \u001b[0mexception_class\u001b[0m\u001b[1;33m(\u001b[0m\u001b[0mmessage\u001b[0m\u001b[1;33m,\u001b[0m \u001b[0mscreen\u001b[0m\u001b[1;33m,\u001b[0m \u001b[0mstacktrace\u001b[0m\u001b[1;33m)\u001b[0m\u001b[1;33m\u001b[0m\u001b[1;33m\u001b[0m\u001b[0m\n\u001b[0m\u001b[0;32m    243\u001b[0m \u001b[1;33m\u001b[0m\u001b[0m\n\u001b[0;32m    244\u001b[0m     \u001b[1;32mdef\u001b[0m \u001b[0m_value_or_default\u001b[0m\u001b[1;33m(\u001b[0m\u001b[0mself\u001b[0m\u001b[1;33m,\u001b[0m \u001b[0mobj\u001b[0m\u001b[1;33m,\u001b[0m \u001b[0mkey\u001b[0m\u001b[1;33m,\u001b[0m \u001b[0mdefault\u001b[0m\u001b[1;33m)\u001b[0m\u001b[1;33m:\u001b[0m\u001b[1;33m\u001b[0m\u001b[1;33m\u001b[0m\u001b[0m\n",
      "\u001b[1;31mWebDriverException\u001b[0m: Message: chrome not reachable\n  (Session info: chrome=96.0.4664.45)\n"
     ]
    }
   ],
   "source": [
    "Name_of_the_Car5=[]\n",
    "Model5=[]\n",
    "Price5=[]\n",
    "Fuel5=[]\n",
    "Owner5=[]\n",
    "KM5=[]\n",
    "Varient5=[]\n",
    "\n",
    "\n",
    "for i in Urls5:\n",
    "    driver.get(i)\n",
    "    time.sleep(5)    \n",
    "    \n",
    "    \n",
    "#feching name  \n",
    "\n",
    "    try:\n",
    "        name_of_the_Car=driver.find_element_by_xpath('//div[@class=\"_35xN1\"]')\n",
    "    \n",
    "        Name_of_the_Car5.append(name_of_the_Car.text.replace(\"\\n\",\" \"))   \n",
    "    except:\n",
    "        Name_of_the_Car5.append(\"-\")\n",
    "\n",
    "# fetching   model\n",
    "\n",
    "    try:\n",
    "        model=driver.find_element_by_xpath('//div[@class=\"_3tLee\"]')\n",
    "    \n",
    "        Model5.append(model.text.replace(\"\\n\",\" \"))   \n",
    "    except:\n",
    "        Model5.append(\"-\")\n",
    "        \n",
    "        \n",
    "        \n",
    "# fetching price        \n",
    "    try:\n",
    "        price=driver.find_element_by_xpath('//div[@class=\"_3FkyT\"]')\n",
    "    \n",
    "        Price5.append(price.text.replace(\"₹ \",\"\"))   \n",
    "    except:\n",
    "        Price5.append(\"-\")\n",
    "# fetching fuel\n",
    "    try:\n",
    "        fuel=driver.find_element_by_xpath('//div[@class=\"_3qDp0\"]')\n",
    "    \n",
    "        Fuel5.append(fuel.text.replace(\"\\n\",\"\"))   \n",
    "    except:\n",
    "        Fuel5.append(\"-\")\n",
    "# fetching owner\n",
    "    try:\n",
    "        owner=driver.find_element_by_xpath('//div[@class=\"_1gasz\"]')\n",
    "    \n",
    "        Owner5.append(owner.text.replace(\"\\n\",\"\"))   \n",
    "    except:\n",
    "        Owner5.append(\"-\")\n",
    "\n",
    "#fetching kilometers\n",
    "\n",
    "    try:\n",
    "        km=driver.find_element_by_xpath('//div[@class=\"aOxkz\"]/div[2]')\n",
    "        \n",
    "        KM5.append(km.text.replace(\"KM\",\"\"))\n",
    "    except:\n",
    "        KM5.append(\"--\")\n",
    "\n",
    "        \n",
    "#fetching varient             \n",
    "    \n",
    "    try:\n",
    "        varient=driver.find_element_by_xpath('//div[@class=\"aOxkz\"]/div[3]')\n",
    "        Varient5.append(varient.text.replace(\"\\n\",\"\"))\n",
    "    except:\n",
    "        Varient5.append(\"--\")\n",
    "    \n"
   ]
  },
  {
   "cell_type": "code",
   "execution_count": null,
   "metadata": {},
   "outputs": [],
   "source": [
    "print(len(Name_of_the_Car5))\n",
    "print(len(Model5))\n",
    "print(len(Price5))\n",
    "print(len(Fuel5))\n",
    "print(len(Owner5))\n",
    "print(len(Location5))\n",
    "print(len(KM5))\n",
    "print(len(Varient5))"
   ]
  },
  {
   "cell_type": "code",
   "execution_count": null,
   "metadata": {},
   "outputs": [],
   "source": [
    "import pandas as pd\n",
    "df5=pd.DataFrame({})\n",
    "df5['Name of car']=Name_of_the_Car5\n",
    "df5['Model']=Model5\n",
    "df5['Fuel']=Fuel5\n",
    "df5['Owner']=Owner5\n",
    "df5['Location']=Location5\n",
    "df5['KM']=KM5\n",
    "df5['Varient']=Varient5\n",
    "df5['Price']=Price5\n",
    "CarData5=df5"
   ]
  },
  {
   "cell_type": "code",
   "execution_count": null,
   "metadata": {},
   "outputs": [],
   "source": [
    "# writing to Excel\n",
    "datatoexcel5 = pd.ExcelWriter('CarData5.xlsx')\n",
    "# write DataFrame to excel\n",
    "CarData5.to_excel(datatoexcel5)\n",
    "# save the excel\n",
    "datatoexcel5.save()\n",
    "print('DataFrame5 is written to Excel File successfully.')"
   ]
  },
  {
   "cell_type": "code",
   "execution_count": null,
   "metadata": {},
   "outputs": [],
   "source": []
  },
  {
   "cell_type": "markdown",
   "metadata": {},
   "source": [
    "# karnataka"
   ]
  },
  {
   "cell_type": "code",
   "execution_count": 371,
   "metadata": {},
   "outputs": [],
   "source": [
    "from selenium import webdriver\n",
    "driver=webdriver.Chrome(\"chromedriver.exe\")"
   ]
  },
  {
   "cell_type": "code",
   "execution_count": 5,
   "metadata": {},
   "outputs": [],
   "source": [
    "url='https://www.olx.in/karnataka_g2001159/olx-autos-cars_c5'\n",
    "driver.get(url)"
   ]
  },
  {
   "cell_type": "code",
   "execution_count": 6,
   "metadata": {},
   "outputs": [],
   "source": [
    "wait = WebDriverWait(driver,10)\n",
    "for i in range(0,47):\n",
    "   \n",
    "    nxt_button=driver.find_element_by_xpath('//button[@class=\"rui-39-wj rui-3evoE rui-1JPTg\"]')\n",
    "    nxt_button.click()\n",
    "    time.sleep(10)"
   ]
  },
  {
   "cell_type": "code",
   "execution_count": 8,
   "metadata": {},
   "outputs": [
    {
     "data": {
      "text/plain": [
       "997"
      ]
     },
     "execution_count": 8,
     "metadata": {},
     "output_type": "execute_result"
    }
   ],
   "source": [
    "Urls6=[]\n",
    "\n",
    "Url_links=driver.find_elements_by_xpath(\"//li[@class='_31j8e']/a\")\n",
    "\n",
    "\n",
    "for i in Url_links:\n",
    "    Urls6.append(i.get_attribute(\"href\"))\n",
    "    \n",
    "len(Urls6)"
   ]
  },
  {
   "cell_type": "code",
   "execution_count": 9,
   "metadata": {},
   "outputs": [
    {
     "data": {
      "text/plain": [
       "997"
      ]
     },
     "execution_count": 9,
     "metadata": {},
     "output_type": "execute_result"
    }
   ],
   "source": [
    "Location6=[]\n",
    "location=driver.find_elements_by_xpath('//span[@class=\"tjgMj\"]')\n",
    "for i in location:\n",
    "    try:\n",
    "        Location6.append(i.text.replace(\"\\n\",\"\"))\n",
    "    except:\n",
    "        Location6.append(\"-\")\n",
    "len(Location6)        "
   ]
  },
  {
   "cell_type": "code",
   "execution_count": 10,
   "metadata": {},
   "outputs": [],
   "source": [
    "Name_of_the_Car6=[]\n",
    "Model6=[]\n",
    "Price6=[]\n",
    "Fuel6=[]\n",
    "Owner6=[]\n",
    "KM6=[]\n",
    "Varient6=[]\n",
    "\n",
    "\n",
    "for i in Urls6:\n",
    "    driver.get(i)\n",
    "    time.sleep(6)    \n",
    "    \n",
    "    \n",
    "#feching name  \n",
    "\n",
    "    try:\n",
    "        name_of_the_Car=driver.find_element_by_xpath('//div[@class=\"_35xN1\"]')\n",
    "    \n",
    "        Name_of_the_Car6.append(name_of_the_Car.text.replace(\"\\n\",\" \"))   \n",
    "    except:\n",
    "        Name_of_the_Car6.append(\"-\")\n",
    "\n",
    "# fetching   model\n",
    "\n",
    "    try:\n",
    "        model=driver.find_element_by_xpath('//div[@class=\"_3tLee\"]')\n",
    "    \n",
    "        Model6.append(model.text.replace(\"\\n\",\" \"))   \n",
    "    except:\n",
    "        Model6.append(\"-\")\n",
    "        \n",
    "        \n",
    "        \n",
    "# fetching price        \n",
    "    try:\n",
    "        price=driver.find_element_by_xpath('//div[@class=\"_3FkyT\"]')\n",
    "    \n",
    "        Price6.append(price.text.replace(\"₹ \",\"\"))   \n",
    "    except:\n",
    "        Price6.append(\"-\")\n",
    "# fetching fuel\n",
    "    try:\n",
    "        fuel=driver.find_element_by_xpath('//div[@class=\"_3qDp0\"]')\n",
    "    \n",
    "        Fuel6.append(fuel.text.replace(\"\\n\",\"\"))   \n",
    "    except:\n",
    "        Fuel6.append(\"-\")\n",
    "# fetching owner\n",
    "    try:\n",
    "        owner=driver.find_element_by_xpath('//div[@class=\"_1gasz\"]')\n",
    "    \n",
    "        Owner6.append(owner.text.replace(\"\\n\",\"\"))   \n",
    "    except:\n",
    "        Owner6.append(\"-\")\n",
    "\n",
    "#fetching kilometers\n",
    "\n",
    "    try:\n",
    "        km=driver.find_element_by_xpath('//div[@class=\"aOxkz\"]/div[2]')\n",
    "        \n",
    "        KM6.append(km.text.replace(\"KM\",\"\"))\n",
    "    except:\n",
    "        KM6.append(\"--\")\n",
    "\n",
    "        \n",
    "#fetching varient             \n",
    "    \n",
    "    try:\n",
    "        varient=driver.find_element_by_xpath('//div[@class=\"aOxkz\"]/div[3]')\n",
    "        Varient6.append(varient.text.replace(\"\\n\",\"\"))\n",
    "    except:\n",
    "        Varient6.append(\"--\")\n",
    "    \n"
   ]
  },
  {
   "cell_type": "code",
   "execution_count": 11,
   "metadata": {},
   "outputs": [
    {
     "name": "stdout",
     "output_type": "stream",
     "text": [
      "997\n",
      "997\n",
      "997\n",
      "997\n",
      "997\n",
      "997\n",
      "997\n",
      "997\n"
     ]
    }
   ],
   "source": [
    "print(len(Name_of_the_Car6))\n",
    "print(len(Model6))\n",
    "print(len(Price6))\n",
    "print(len(Fuel6))\n",
    "print(len(Owner6))\n",
    "print(len(Location6))\n",
    "print(len(KM6))\n",
    "print(len(Varient6))"
   ]
  },
  {
   "cell_type": "code",
   "execution_count": 12,
   "metadata": {},
   "outputs": [],
   "source": [
    "import pandas as pd\n",
    "df6=pd.DataFrame({})\n",
    "df6['Name of car']=Name_of_the_Car6\n",
    "df6['Model']=Model6\n",
    "df6['Fuel']=Fuel6\n",
    "df6['Owner']=Owner6\n",
    "df6['Location']=Location6\n",
    "df6['KM']=KM6\n",
    "df6['Varient']=Varient6\n",
    "df6['Price']=Price6\n",
    "CarData6=df6"
   ]
  },
  {
   "cell_type": "code",
   "execution_count": 13,
   "metadata": {},
   "outputs": [
    {
     "name": "stdout",
     "output_type": "stream",
     "text": [
      "DataFrame6 is written to Excel File successfully.\n"
     ]
    }
   ],
   "source": [
    "# writing to Excel\n",
    "datatoexcel6 = pd.ExcelWriter('CarData6.xlsx')\n",
    "# write DataFrame to excel\n",
    "CarData6.to_excel(datatoexcel6)\n",
    "# save the excel\n",
    "datatoexcel6.save()\n",
    "print('DataFrame6 is written to Excel File successfully.')"
   ]
  },
  {
   "cell_type": "code",
   "execution_count": null,
   "metadata": {},
   "outputs": [],
   "source": []
  },
  {
   "cell_type": "code",
   "execution_count": null,
   "metadata": {},
   "outputs": [],
   "source": []
  },
  {
   "cell_type": "code",
   "execution_count": null,
   "metadata": {},
   "outputs": [],
   "source": []
  },
  {
   "cell_type": "code",
   "execution_count": null,
   "metadata": {},
   "outputs": [],
   "source": []
  },
  {
   "cell_type": "code",
   "execution_count": null,
   "metadata": {},
   "outputs": [],
   "source": []
  },
  {
   "cell_type": "code",
   "execution_count": null,
   "metadata": {},
   "outputs": [],
   "source": []
  },
  {
   "cell_type": "code",
   "execution_count": null,
   "metadata": {},
   "outputs": [],
   "source": []
  },
  {
   "cell_type": "markdown",
   "metadata": {},
   "source": [
    "# rajasthan"
   ]
  },
  {
   "cell_type": "code",
   "execution_count": 46,
   "metadata": {},
   "outputs": [],
   "source": [
    "from selenium import webdriver\n",
    "driver=webdriver.Chrome(\"chromedriver.exe\")"
   ]
  },
  {
   "cell_type": "code",
   "execution_count": 47,
   "metadata": {},
   "outputs": [],
   "source": [
    "url='https://www.olx.in/west-bengal_g2001177/cars_c84'\n",
    "driver.get(url)"
   ]
  },
  {
   "cell_type": "code",
   "execution_count": 48,
   "metadata": {},
   "outputs": [
    {
     "ename": "ElementClickInterceptedException",
     "evalue": "Message: element click intercepted: Element <button type=\"button\" data-aut-id=\"btnLoadMore\" class=\"rui-39-wj rui-3evoE rui-1JPTg\">...</button> is not clickable at point (679, 23). Other element would receive the click: <svg width=\"24px\" height=\"24px\" viewBox=\"0 0 1024 1024\" data-aut-id=\"icon\" class=\"\" fill-rule=\"evenodd\">...</svg>\n  (Session info: chrome=96.0.4664.93)\n",
     "output_type": "error",
     "traceback": [
      "\u001b[1;31m---------------------------------------------------------------------------\u001b[0m",
      "\u001b[1;31mElementClickInterceptedException\u001b[0m          Traceback (most recent call last)",
      "\u001b[1;32m<ipython-input-48-b73c7e433002>\u001b[0m in \u001b[0;36m<module>\u001b[1;34m\u001b[0m\n\u001b[0;32m      3\u001b[0m \u001b[1;33m\u001b[0m\u001b[0m\n\u001b[0;32m      4\u001b[0m     \u001b[0mnxt_button\u001b[0m\u001b[1;33m=\u001b[0m\u001b[0mdriver\u001b[0m\u001b[1;33m.\u001b[0m\u001b[0mfind_element_by_xpath\u001b[0m\u001b[1;33m(\u001b[0m\u001b[1;34m'//button[@class=\"rui-39-wj rui-3evoE rui-1JPTg\"]'\u001b[0m\u001b[1;33m)\u001b[0m\u001b[1;33m\u001b[0m\u001b[1;33m\u001b[0m\u001b[0m\n\u001b[1;32m----> 5\u001b[1;33m     \u001b[0mnxt_button\u001b[0m\u001b[1;33m.\u001b[0m\u001b[0mclick\u001b[0m\u001b[1;33m(\u001b[0m\u001b[1;33m)\u001b[0m\u001b[1;33m\u001b[0m\u001b[1;33m\u001b[0m\u001b[0m\n\u001b[0m\u001b[0;32m      6\u001b[0m     \u001b[0mtime\u001b[0m\u001b[1;33m.\u001b[0m\u001b[0msleep\u001b[0m\u001b[1;33m(\u001b[0m\u001b[1;36m10\u001b[0m\u001b[1;33m)\u001b[0m\u001b[1;33m\u001b[0m\u001b[1;33m\u001b[0m\u001b[0m\n",
      "\u001b[1;32mC:\\ProgramData\\Anaconda3\\lib\\site-packages\\selenium\\webdriver\\remote\\webelement.py\u001b[0m in \u001b[0;36mclick\u001b[1;34m(self)\u001b[0m\n\u001b[0;32m     78\u001b[0m     \u001b[1;32mdef\u001b[0m \u001b[0mclick\u001b[0m\u001b[1;33m(\u001b[0m\u001b[0mself\u001b[0m\u001b[1;33m)\u001b[0m\u001b[1;33m:\u001b[0m\u001b[1;33m\u001b[0m\u001b[1;33m\u001b[0m\u001b[0m\n\u001b[0;32m     79\u001b[0m         \u001b[1;34m\"\"\"Clicks the element.\"\"\"\u001b[0m\u001b[1;33m\u001b[0m\u001b[1;33m\u001b[0m\u001b[0m\n\u001b[1;32m---> 80\u001b[1;33m         \u001b[0mself\u001b[0m\u001b[1;33m.\u001b[0m\u001b[0m_execute\u001b[0m\u001b[1;33m(\u001b[0m\u001b[0mCommand\u001b[0m\u001b[1;33m.\u001b[0m\u001b[0mCLICK_ELEMENT\u001b[0m\u001b[1;33m)\u001b[0m\u001b[1;33m\u001b[0m\u001b[1;33m\u001b[0m\u001b[0m\n\u001b[0m\u001b[0;32m     81\u001b[0m \u001b[1;33m\u001b[0m\u001b[0m\n\u001b[0;32m     82\u001b[0m     \u001b[1;32mdef\u001b[0m \u001b[0msubmit\u001b[0m\u001b[1;33m(\u001b[0m\u001b[0mself\u001b[0m\u001b[1;33m)\u001b[0m\u001b[1;33m:\u001b[0m\u001b[1;33m\u001b[0m\u001b[1;33m\u001b[0m\u001b[0m\n",
      "\u001b[1;32mC:\\ProgramData\\Anaconda3\\lib\\site-packages\\selenium\\webdriver\\remote\\webelement.py\u001b[0m in \u001b[0;36m_execute\u001b[1;34m(self, command, params)\u001b[0m\n\u001b[0;32m    631\u001b[0m             \u001b[0mparams\u001b[0m \u001b[1;33m=\u001b[0m \u001b[1;33m{\u001b[0m\u001b[1;33m}\u001b[0m\u001b[1;33m\u001b[0m\u001b[1;33m\u001b[0m\u001b[0m\n\u001b[0;32m    632\u001b[0m         \u001b[0mparams\u001b[0m\u001b[1;33m[\u001b[0m\u001b[1;34m'id'\u001b[0m\u001b[1;33m]\u001b[0m \u001b[1;33m=\u001b[0m \u001b[0mself\u001b[0m\u001b[1;33m.\u001b[0m\u001b[0m_id\u001b[0m\u001b[1;33m\u001b[0m\u001b[1;33m\u001b[0m\u001b[0m\n\u001b[1;32m--> 633\u001b[1;33m         \u001b[1;32mreturn\u001b[0m \u001b[0mself\u001b[0m\u001b[1;33m.\u001b[0m\u001b[0m_parent\u001b[0m\u001b[1;33m.\u001b[0m\u001b[0mexecute\u001b[0m\u001b[1;33m(\u001b[0m\u001b[0mcommand\u001b[0m\u001b[1;33m,\u001b[0m \u001b[0mparams\u001b[0m\u001b[1;33m)\u001b[0m\u001b[1;33m\u001b[0m\u001b[1;33m\u001b[0m\u001b[0m\n\u001b[0m\u001b[0;32m    634\u001b[0m \u001b[1;33m\u001b[0m\u001b[0m\n\u001b[0;32m    635\u001b[0m     \u001b[1;32mdef\u001b[0m \u001b[0mfind_element\u001b[0m\u001b[1;33m(\u001b[0m\u001b[0mself\u001b[0m\u001b[1;33m,\u001b[0m \u001b[0mby\u001b[0m\u001b[1;33m=\u001b[0m\u001b[0mBy\u001b[0m\u001b[1;33m.\u001b[0m\u001b[0mID\u001b[0m\u001b[1;33m,\u001b[0m \u001b[0mvalue\u001b[0m\u001b[1;33m=\u001b[0m\u001b[1;32mNone\u001b[0m\u001b[1;33m)\u001b[0m\u001b[1;33m:\u001b[0m\u001b[1;33m\u001b[0m\u001b[1;33m\u001b[0m\u001b[0m\n",
      "\u001b[1;32mC:\\ProgramData\\Anaconda3\\lib\\site-packages\\selenium\\webdriver\\remote\\webdriver.py\u001b[0m in \u001b[0;36mexecute\u001b[1;34m(self, driver_command, params)\u001b[0m\n\u001b[0;32m    319\u001b[0m         \u001b[0mresponse\u001b[0m \u001b[1;33m=\u001b[0m \u001b[0mself\u001b[0m\u001b[1;33m.\u001b[0m\u001b[0mcommand_executor\u001b[0m\u001b[1;33m.\u001b[0m\u001b[0mexecute\u001b[0m\u001b[1;33m(\u001b[0m\u001b[0mdriver_command\u001b[0m\u001b[1;33m,\u001b[0m \u001b[0mparams\u001b[0m\u001b[1;33m)\u001b[0m\u001b[1;33m\u001b[0m\u001b[1;33m\u001b[0m\u001b[0m\n\u001b[0;32m    320\u001b[0m         \u001b[1;32mif\u001b[0m \u001b[0mresponse\u001b[0m\u001b[1;33m:\u001b[0m\u001b[1;33m\u001b[0m\u001b[1;33m\u001b[0m\u001b[0m\n\u001b[1;32m--> 321\u001b[1;33m             \u001b[0mself\u001b[0m\u001b[1;33m.\u001b[0m\u001b[0merror_handler\u001b[0m\u001b[1;33m.\u001b[0m\u001b[0mcheck_response\u001b[0m\u001b[1;33m(\u001b[0m\u001b[0mresponse\u001b[0m\u001b[1;33m)\u001b[0m\u001b[1;33m\u001b[0m\u001b[1;33m\u001b[0m\u001b[0m\n\u001b[0m\u001b[0;32m    322\u001b[0m             response['value'] = self._unwrap_value(\n\u001b[0;32m    323\u001b[0m                 response.get('value', None))\n",
      "\u001b[1;32mC:\\ProgramData\\Anaconda3\\lib\\site-packages\\selenium\\webdriver\\remote\\errorhandler.py\u001b[0m in \u001b[0;36mcheck_response\u001b[1;34m(self, response)\u001b[0m\n\u001b[0;32m    240\u001b[0m                 \u001b[0malert_text\u001b[0m \u001b[1;33m=\u001b[0m \u001b[0mvalue\u001b[0m\u001b[1;33m[\u001b[0m\u001b[1;34m'alert'\u001b[0m\u001b[1;33m]\u001b[0m\u001b[1;33m.\u001b[0m\u001b[0mget\u001b[0m\u001b[1;33m(\u001b[0m\u001b[1;34m'text'\u001b[0m\u001b[1;33m)\u001b[0m\u001b[1;33m\u001b[0m\u001b[1;33m\u001b[0m\u001b[0m\n\u001b[0;32m    241\u001b[0m             \u001b[1;32mraise\u001b[0m \u001b[0mexception_class\u001b[0m\u001b[1;33m(\u001b[0m\u001b[0mmessage\u001b[0m\u001b[1;33m,\u001b[0m \u001b[0mscreen\u001b[0m\u001b[1;33m,\u001b[0m \u001b[0mstacktrace\u001b[0m\u001b[1;33m,\u001b[0m \u001b[0malert_text\u001b[0m\u001b[1;33m)\u001b[0m\u001b[1;33m\u001b[0m\u001b[1;33m\u001b[0m\u001b[0m\n\u001b[1;32m--> 242\u001b[1;33m         \u001b[1;32mraise\u001b[0m \u001b[0mexception_class\u001b[0m\u001b[1;33m(\u001b[0m\u001b[0mmessage\u001b[0m\u001b[1;33m,\u001b[0m \u001b[0mscreen\u001b[0m\u001b[1;33m,\u001b[0m \u001b[0mstacktrace\u001b[0m\u001b[1;33m)\u001b[0m\u001b[1;33m\u001b[0m\u001b[1;33m\u001b[0m\u001b[0m\n\u001b[0m\u001b[0;32m    243\u001b[0m \u001b[1;33m\u001b[0m\u001b[0m\n\u001b[0;32m    244\u001b[0m     \u001b[1;32mdef\u001b[0m \u001b[0m_value_or_default\u001b[0m\u001b[1;33m(\u001b[0m\u001b[0mself\u001b[0m\u001b[1;33m,\u001b[0m \u001b[0mobj\u001b[0m\u001b[1;33m,\u001b[0m \u001b[0mkey\u001b[0m\u001b[1;33m,\u001b[0m \u001b[0mdefault\u001b[0m\u001b[1;33m)\u001b[0m\u001b[1;33m:\u001b[0m\u001b[1;33m\u001b[0m\u001b[1;33m\u001b[0m\u001b[0m\n",
      "\u001b[1;31mElementClickInterceptedException\u001b[0m: Message: element click intercepted: Element <button type=\"button\" data-aut-id=\"btnLoadMore\" class=\"rui-39-wj rui-3evoE rui-1JPTg\">...</button> is not clickable at point (679, 23). Other element would receive the click: <svg width=\"24px\" height=\"24px\" viewBox=\"0 0 1024 1024\" data-aut-id=\"icon\" class=\"\" fill-rule=\"evenodd\">...</svg>\n  (Session info: chrome=96.0.4664.93)\n"
     ]
    }
   ],
   "source": [
    "wait = WebDriverWait(driver,10)\n",
    "for i in range(0,15):\n",
    "   \n",
    "    nxt_button=driver.find_element_by_xpath('//button[@class=\"rui-39-wj rui-3evoE rui-1JPTg\"]')\n",
    "    nxt_button.click()\n",
    "    time.sleep(10)"
   ]
  },
  {
   "cell_type": "code",
   "execution_count": 49,
   "metadata": {},
   "outputs": [
    {
     "data": {
      "text/plain": [
       "946"
      ]
     },
     "execution_count": 49,
     "metadata": {},
     "output_type": "execute_result"
    }
   ],
   "source": [
    "Urls8=[]\n",
    "\n",
    "Url_links=driver.find_elements_by_xpath(\"//li[@class='_31j8e']/a\")\n",
    "\n",
    "\n",
    "for i in Url_links:\n",
    "    Urls8.append(i.get_attribute(\"href\"))\n",
    "    \n",
    "len(Urls8)"
   ]
  },
  {
   "cell_type": "code",
   "execution_count": 50,
   "metadata": {},
   "outputs": [
    {
     "data": {
      "text/plain": [
       "946"
      ]
     },
     "execution_count": 50,
     "metadata": {},
     "output_type": "execute_result"
    }
   ],
   "source": [
    "Location8=[]\n",
    "location=driver.find_elements_by_xpath('//div[@class=\"_1zvfB\"]')\n",
    "for i in location:\n",
    "    try:\n",
    "        Location8.append(i.text.replace(\"\\n\",\"\"))\n",
    "    except:\n",
    "        Location8.append(\"-\")\n",
    "len(Location8)        "
   ]
  },
  {
   "cell_type": "code",
   "execution_count": 51,
   "metadata": {},
   "outputs": [],
   "source": [
    "Name_of_the_Car8=[]\n",
    "Model8=[]\n",
    "Price8=[]\n",
    "Fuel8=[]\n",
    "Owner8=[]\n",
    "KM8=[]\n",
    "Varient8=[]\n",
    "\n",
    "\n",
    "for i in Urls8:\n",
    "    driver.get(i)\n",
    "    time.sleep(3)    \n",
    "    \n",
    "    \n",
    "#feching name  \n",
    "\n",
    "    try:\n",
    "        name_of_the_Car=driver.find_element_by_xpath('//div[@class=\"_35xN1\"]')\n",
    "    \n",
    "        Name_of_the_Car8.append(name_of_the_Car.text.replace(\"\\n\",\" \"))   \n",
    "    except:\n",
    "        Name_of_the_Car8.append(\"-\")\n",
    "\n",
    "# fetching   model\n",
    "\n",
    "    try:\n",
    "        model=driver.find_element_by_xpath('//div[@class=\"_3tLee\"]')\n",
    "    \n",
    "        Model8.append(model.text.replace(\"\\n\",\" \"))   \n",
    "    except:\n",
    "        Model8.append(\"-\")\n",
    "        \n",
    "        \n",
    "        \n",
    "# fetching price        \n",
    "    try:\n",
    "        price=driver.find_element_by_xpath('//div[@class=\"_3FkyT\"]')\n",
    "    \n",
    "        Price8.append(price.text.replace(\"₹ \",\"\"))   \n",
    "    except:\n",
    "        Price8.append(\"-\")\n",
    "# fetching fuel\n",
    "    try:\n",
    "        fuel=driver.find_element_by_xpath('//div[@class=\"_3qDp0\"]')\n",
    "    \n",
    "        Fuel8.append(fuel.text.replace(\"\\n\",\"\"))   \n",
    "    except:\n",
    "        Fuel8.append(\"-\")\n",
    "# fetching owner\n",
    "    try:\n",
    "        owner=driver.find_element_by_xpath('//div[@class=\"_1gasz\"]')\n",
    "    \n",
    "        Owner8.append(owner.text.replace(\"\\n\",\"\"))   \n",
    "    except:\n",
    "        Owner8.append(\"-\")\n",
    "\n",
    "#fetching kilometers\n",
    "\n",
    "    try:\n",
    "        km=driver.find_element_by_xpath('//div[@class=\"aOxkz\"]/div[2]')\n",
    "        \n",
    "        KM8.append(km.text.replace(\"KM\",\"\"))\n",
    "    except:\n",
    "        KM8.append(\"--\")\n",
    "\n",
    "        \n",
    "#fetching varient             \n",
    "    \n",
    "    try:\n",
    "        varient=driver.find_element_by_xpath('//div[@class=\"aOxkz\"]/div[3]')\n",
    "        Varient8.append(varient.text.replace(\"\\n\",\"\"))\n",
    "    except:\n",
    "        Varient8.append(\"--\")\n",
    "    \n"
   ]
  },
  {
   "cell_type": "code",
   "execution_count": 52,
   "metadata": {},
   "outputs": [
    {
     "name": "stdout",
     "output_type": "stream",
     "text": [
      "946\n",
      "946\n",
      "946\n",
      "946\n",
      "946\n",
      "946\n",
      "946\n",
      "946\n"
     ]
    }
   ],
   "source": [
    "print(len(Name_of_the_Car8))\n",
    "print(len(Model8))\n",
    "print(len(Price8))\n",
    "print(len(Fuel8))\n",
    "print(len(Owner8))\n",
    "print(len(Location8))\n",
    "print(len(KM8))\n",
    "print(len(Varient8))"
   ]
  },
  {
   "cell_type": "code",
   "execution_count": 53,
   "metadata": {},
   "outputs": [],
   "source": [
    "import pandas as pd\n",
    "df8=pd.DataFrame({})\n",
    "df8['Name of car']=Name_of_the_Car8\n",
    "df8['Model']=Model8\n",
    "df8['Fuel']=Fuel8\n",
    "df8['Owner']=Owner8\n",
    "df8['Location']=Location8\n",
    "df8['KM']=KM8\n",
    "df8['Varient']=Varient8\n",
    "df8['Price']=Price8\n",
    "CarData8=df8"
   ]
  },
  {
   "cell_type": "code",
   "execution_count": 54,
   "metadata": {},
   "outputs": [
    {
     "name": "stdout",
     "output_type": "stream",
     "text": [
      "DataFrame8 is written to Excel File successfully.\n"
     ]
    }
   ],
   "source": [
    "# writing to Excel\n",
    "datatoexcel8 = pd.ExcelWriter('CarData8.xlsx')\n",
    "# write DataFrame to excel\n",
    "CarData8.to_excel(datatoexcel8)\n",
    "# save the excel\n",
    "datatoexcel8.save()\n",
    "print('DataFrame8 is written to Excel File successfully.')"
   ]
  },
  {
   "cell_type": "code",
   "execution_count": 55,
   "metadata": {},
   "outputs": [
    {
     "data": {
      "text/html": [
       "<div>\n",
       "<style scoped>\n",
       "    .dataframe tbody tr th:only-of-type {\n",
       "        vertical-align: middle;\n",
       "    }\n",
       "\n",
       "    .dataframe tbody tr th {\n",
       "        vertical-align: top;\n",
       "    }\n",
       "\n",
       "    .dataframe thead th {\n",
       "        text-align: right;\n",
       "    }\n",
       "</style>\n",
       "<table border=\"1\" class=\"dataframe\">\n",
       "  <thead>\n",
       "    <tr style=\"text-align: right;\">\n",
       "      <th></th>\n",
       "      <th>Name of car</th>\n",
       "      <th>Model</th>\n",
       "      <th>Fuel</th>\n",
       "      <th>Owner</th>\n",
       "      <th>Location</th>\n",
       "      <th>KM</th>\n",
       "      <th>Varient</th>\n",
       "      <th>Price</th>\n",
       "    </tr>\n",
       "  </thead>\n",
       "  <tbody>\n",
       "    <tr>\n",
       "      <th>0</th>\n",
       "      <td>Maruti Suzuki Estilo (2012)</td>\n",
       "      <td>LXI</td>\n",
       "      <td>PETROL</td>\n",
       "      <td>--</td>\n",
       "      <td>RajarhatSep 06</td>\n",
       "      <td>52371.0</td>\n",
       "      <td>MANUAL</td>\n",
       "      <td>2,00,000</td>\n",
       "    </tr>\n",
       "    <tr>\n",
       "      <th>1</th>\n",
       "      <td>Bmw X1 (2012)</td>\n",
       "      <td>sDrive 20d xLine</td>\n",
       "      <td>DIESEL</td>\n",
       "      <td>1st</td>\n",
       "      <td>KankurgachhiAug 25</td>\n",
       "      <td>44000.0</td>\n",
       "      <td>AUTOMATIC</td>\n",
       "      <td>7,99,000</td>\n",
       "    </tr>\n",
       "    <tr>\n",
       "      <th>2</th>\n",
       "      <td>Jaguar Xf (2013)</td>\n",
       "      <td>2.2 Litre Luxury</td>\n",
       "      <td>DIESEL</td>\n",
       "      <td>1st</td>\n",
       "      <td>Hazra RoadNov 16</td>\n",
       "      <td>25000.0</td>\n",
       "      <td>AUTOMATIC</td>\n",
       "      <td>18,50,000</td>\n",
       "    </tr>\n",
       "    <tr>\n",
       "      <th>3</th>\n",
       "      <td>Tata Nexon (2021)</td>\n",
       "      <td>1.2 Revotron XE</td>\n",
       "      <td>PETROL</td>\n",
       "      <td>1st</td>\n",
       "      <td>KankurgachhiToday</td>\n",
       "      <td>12000.0</td>\n",
       "      <td>MANUAL</td>\n",
       "      <td>7,24,999</td>\n",
       "    </tr>\n",
       "    <tr>\n",
       "      <th>4</th>\n",
       "      <td>Hyundai I20 (2012)</td>\n",
       "      <td>1.2 Spotz</td>\n",
       "      <td>PETROL</td>\n",
       "      <td>1st</td>\n",
       "      <td>Saltlake Sector 1Today</td>\n",
       "      <td>37256.0</td>\n",
       "      <td>MANUAL</td>\n",
       "      <td>2,99,000</td>\n",
       "    </tr>\n",
       "    <tr>\n",
       "      <th>...</th>\n",
       "      <td>...</td>\n",
       "      <td>...</td>\n",
       "      <td>...</td>\n",
       "      <td>...</td>\n",
       "      <td>...</td>\n",
       "      <td>...</td>\n",
       "      <td>...</td>\n",
       "      <td>...</td>\n",
       "    </tr>\n",
       "    <tr>\n",
       "      <th>941</th>\n",
       "      <td>Maruti Suzuki Alto (2005)</td>\n",
       "      <td>LXi</td>\n",
       "      <td>PETROL</td>\n",
       "      <td>3rd</td>\n",
       "      <td>Banhugli5 days ago</td>\n",
       "      <td>90,000</td>\n",
       "      <td>MANUAL</td>\n",
       "      <td>69,800</td>\n",
       "    </tr>\n",
       "    <tr>\n",
       "      <th>942</th>\n",
       "      <td>Maruti Suzuki Swift (2013)</td>\n",
       "      <td>Others</td>\n",
       "      <td>DIESEL</td>\n",
       "      <td>2nd</td>\n",
       "      <td>Mecheda5 days ago</td>\n",
       "      <td>44,000</td>\n",
       "      <td>AUTOMATIC</td>\n",
       "      <td>4,00,000</td>\n",
       "    </tr>\n",
       "    <tr>\n",
       "      <th>943</th>\n",
       "      <td>Ford Ikon (2003)</td>\n",
       "      <td>1.3 CLXi</td>\n",
       "      <td>PETROL</td>\n",
       "      <td>2nd</td>\n",
       "      <td>Behala5 days ago</td>\n",
       "      <td>80,000</td>\n",
       "      <td>MANUAL</td>\n",
       "      <td>55,000</td>\n",
       "    </tr>\n",
       "    <tr>\n",
       "      <th>944</th>\n",
       "      <td>Ashok Leyland Stile (2013)</td>\n",
       "      <td></td>\n",
       "      <td>DIESEL</td>\n",
       "      <td>1st</td>\n",
       "      <td>Fatehpur5 days ago</td>\n",
       "      <td>0</td>\n",
       "      <td>MANUAL</td>\n",
       "      <td>6,80,000</td>\n",
       "    </tr>\n",
       "    <tr>\n",
       "      <th>945</th>\n",
       "      <td>Maruti Suzuki Alto 800 (2017)</td>\n",
       "      <td>LXI</td>\n",
       "      <td>PETROL</td>\n",
       "      <td>1st</td>\n",
       "      <td>Barasat- Barrackpore Road5 days ago</td>\n",
       "      <td>21,000</td>\n",
       "      <td>AUTOMATIC</td>\n",
       "      <td>2,90,000</td>\n",
       "    </tr>\n",
       "  </tbody>\n",
       "</table>\n",
       "<p>946 rows × 8 columns</p>\n",
       "</div>"
      ],
      "text/plain": [
       "                       Name of car             Model    Fuel Owner  \\\n",
       "0      Maruti Suzuki Estilo (2012)               LXI  PETROL    --   \n",
       "1                    Bmw X1 (2012)  sDrive 20d xLine  DIESEL   1st   \n",
       "2                 Jaguar Xf (2013)  2.2 Litre Luxury  DIESEL   1st   \n",
       "3                Tata Nexon (2021)   1.2 Revotron XE  PETROL   1st   \n",
       "4               Hyundai I20 (2012)         1.2 Spotz  PETROL   1st   \n",
       "..                             ...               ...     ...   ...   \n",
       "941      Maruti Suzuki Alto (2005)               LXi  PETROL   3rd   \n",
       "942     Maruti Suzuki Swift (2013)            Others  DIESEL   2nd   \n",
       "943               Ford Ikon (2003)          1.3 CLXi  PETROL   2nd   \n",
       "944     Ashok Leyland Stile (2013)                    DIESEL   1st   \n",
       "945  Maruti Suzuki Alto 800 (2017)               LXI  PETROL   1st   \n",
       "\n",
       "                                Location        KM    Varient      Price  \n",
       "0                         RajarhatSep 06  52371.0      MANUAL   2,00,000  \n",
       "1                     KankurgachhiAug 25  44000.0   AUTOMATIC   7,99,000  \n",
       "2                       Hazra RoadNov 16  25000.0   AUTOMATIC  18,50,000  \n",
       "3                      KankurgachhiToday  12000.0      MANUAL   7,24,999  \n",
       "4                 Saltlake Sector 1Today  37256.0      MANUAL   2,99,000  \n",
       "..                                   ...       ...        ...        ...  \n",
       "941                   Banhugli5 days ago   90,000      MANUAL     69,800  \n",
       "942                    Mecheda5 days ago   44,000   AUTOMATIC   4,00,000  \n",
       "943                     Behala5 days ago   80,000      MANUAL     55,000  \n",
       "944                   Fatehpur5 days ago        0      MANUAL   6,80,000  \n",
       "945  Barasat- Barrackpore Road5 days ago   21,000   AUTOMATIC   2,90,000  \n",
       "\n",
       "[946 rows x 8 columns]"
      ]
     },
     "execution_count": 55,
     "metadata": {},
     "output_type": "execute_result"
    }
   ],
   "source": [
    "CarData8"
   ]
  },
  {
   "cell_type": "code",
   "execution_count": null,
   "metadata": {},
   "outputs": [],
   "source": []
  },
  {
   "cell_type": "code",
   "execution_count": null,
   "metadata": {},
   "outputs": [],
   "source": []
  },
  {
   "cell_type": "code",
   "execution_count": null,
   "metadata": {},
   "outputs": [],
   "source": []
  },
  {
   "cell_type": "code",
   "execution_count": null,
   "metadata": {},
   "outputs": [],
   "source": []
  },
  {
   "cell_type": "code",
   "execution_count": null,
   "metadata": {},
   "outputs": [],
   "source": []
  },
  {
   "cell_type": "code",
   "execution_count": null,
   "metadata": {},
   "outputs": [],
   "source": []
  },
  {
   "cell_type": "code",
   "execution_count": null,
   "metadata": {},
   "outputs": [],
   "source": []
  },
  {
   "cell_type": "code",
   "execution_count": null,
   "metadata": {},
   "outputs": [],
   "source": []
  },
  {
   "cell_type": "code",
   "execution_count": null,
   "metadata": {},
   "outputs": [],
   "source": []
  },
  {
   "cell_type": "code",
   "execution_count": null,
   "metadata": {},
   "outputs": [],
   "source": []
  },
  {
   "cell_type": "code",
   "execution_count": null,
   "metadata": {},
   "outputs": [],
   "source": []
  },
  {
   "cell_type": "code",
   "execution_count": null,
   "metadata": {},
   "outputs": [],
   "source": []
  },
  {
   "cell_type": "code",
   "execution_count": null,
   "metadata": {},
   "outputs": [],
   "source": [
    "Name_of_the_Car=\n",
    "Model=\n",
    "Fuel=\n",
    "Owner=\n",
    "Location=\n",
    "KM=\n",
    "Varient=\n",
    "Price="
   ]
  },
  {
   "cell_type": "code",
   "execution_count": null,
   "metadata": {},
   "outputs": [],
   "source": []
  },
  {
   "cell_type": "code",
   "execution_count": null,
   "metadata": {},
   "outputs": [],
   "source": [
    "import pandas as pd\n",
    "df=pd.DataFrame({})\n",
    "df['Name of car']=Name_of_the_Car1\n",
    "df['Model']=Model1\n",
    "df['Fuel']=Fuel1\n",
    "df['Owner']=Owner1\n",
    "df['Location']=Location1\n",
    "df['KM']=KM1\n",
    "df['Varient']=Varient1\n",
    "df['Price']=Price1\n",
    "CarData1=df"
   ]
  },
  {
   "cell_type": "code",
   "execution_count": null,
   "metadata": {},
   "outputs": [],
   "source": [
    "CarData1=df"
   ]
  },
  {
   "cell_type": "code",
   "execution_count": null,
   "metadata": {},
   "outputs": [],
   "source": [
    "# writing to Excel\n",
    "datatoexcel = pd.ExcelWriter('CarData1.xlsx')\n",
    "# write DataFrame to excel\n",
    "CarData1.to_excel(datatoexcel)\n",
    "# save the excel\n",
    "datatoexcel.save()\n",
    "print('DataFrame is written to Excel File successfully.')"
   ]
  },
  {
   "cell_type": "code",
   "execution_count": null,
   "metadata": {},
   "outputs": [],
   "source": [
    "concate 2 dataframes"
   ]
  },
  {
   "cell_type": "code",
   "execution_count": null,
   "metadata": {},
   "outputs": [],
   "source": []
  },
  {
   "cell_type": "code",
   "execution_count": null,
   "metadata": {},
   "outputs": [],
   "source": [
    "import pandas as pd\n",
    "# First DataFrame\n",
    "df1 = pd.DataFrame({'id': ['A01', 'A02', 'A03', 'A04'],\n",
    "\t\t\t\t\t'Name': ['ABC', 'PQR', 'DEF', 'GHI']})\n",
    "\n",
    "# Second DataFrame\n",
    "df2 = pd.DataFrame({'id': ['B05', 'B06', 'B07', 'B08'],\n",
    "\t\t\t\t\t'Name': ['XYZ', 'TUV', 'MNO', 'JKL']})\n",
    "\n",
    "\n",
    "frames = [df1, df2]\n",
    "\n",
    "result = pd.concat(frames)\n",
    "display(result)\n"
   ]
  }
 ],
 "metadata": {
  "kernelspec": {
   "display_name": "Python 3",
   "language": "python",
   "name": "python3"
  },
  "language_info": {
   "codemirror_mode": {
    "name": "ipython",
    "version": 3
   },
   "file_extension": ".py",
   "mimetype": "text/x-python",
   "name": "python",
   "nbconvert_exporter": "python",
   "pygments_lexer": "ipython3",
   "version": "3.8.5"
  }
 },
 "nbformat": 4,
 "nbformat_minor": 5
}