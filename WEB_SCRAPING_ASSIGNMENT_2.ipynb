{
 "cells": [
  {
   "cell_type": "markdown",
   "id": "7faa82a7",
   "metadata": {},
   "source": [
    "# Answer 1  "
   ]
  },
  {
   "cell_type": "code",
   "execution_count": 245,
   "id": "ddc21e58",
   "metadata": {
    "scrolled": true
   },
   "outputs": [
    {
     "name": "stderr",
     "output_type": "stream",
     "text": [
      "WARNING: Ignoring invalid distribution -arso (c:\\programdata\\anaconda3\\lib\\site-packages)"
     ]
    },
    {
     "name": "stdout",
     "output_type": "stream",
     "text": [
      "Requirement already satisfied: selenium in c:\\programdata\\anaconda3\\lib\\site-packages (4.1.5)\n",
      "Requirement already satisfied: trio-websocket~=0.9 in c:\\programdata\\anaconda3\\lib\\site-packages (from selenium) (0.9.2)\n",
      "Requirement already satisfied: trio~=0.17 in c:\\programdata\\anaconda3\\lib\\site-packages (from selenium) (0.20.0)\n",
      "Requirement already satisfied: urllib3[secure,socks]~=1.26 in c:\\programdata\\anaconda3\\lib\\site-packages (from selenium) (1.26.7)\n",
      "Requirement already satisfied: sniffio in c:\\programdata\\anaconda3\\lib\\site-packages (from trio~=0.17->selenium) (1.2.0)\n",
      "Requirement already satisfied: cffi>=1.14 in c:\\programdata\\anaconda3\\lib\\site-packages (from trio~=0.17->selenium) (1.14.6)\n",
      "Requirement already satisfied: idna in c:\\programdata\\anaconda3\\lib\\site-packages (from trio~=0.17->selenium) (3.2)\n",
      "Requirement already satisfied: outcome in c:\\programdata\\anaconda3\\lib\\site-packages (from trio~=0.17->selenium) (1.1.0)\n",
      "Requirement already satisfied: sortedcontainers in c:\\programdata\\anaconda3\\lib\\site-packages (from trio~=0.17->selenium) (2.4.0)\n",
      "Requirement already satisfied: attrs>=19.2.0 in c:\\programdata\\anaconda3\\lib\\site-packages (from trio~=0.17->selenium) (21.2.0)\n",
      "Requirement already satisfied: async-generator>=1.9 in c:\\programdata\\anaconda3\\lib\\site-packages (from trio~=0.17->selenium) (1.10)\n",
      "Requirement already satisfied: pycparser in c:\\programdata\\anaconda3\\lib\\site-packages (from cffi>=1.14->trio~=0.17->selenium) (2.20)\n",
      "Requirement already satisfied: wsproto>=0.14 in c:\\programdata\\anaconda3\\lib\\site-packages (from trio-websocket~=0.9->selenium) (1.1.0)\n",
      "Requirement already satisfied: PySocks!=1.5.7,<2.0,>=1.5.6 in c:\\programdata\\anaconda3\\lib\\site-packages (from urllib3[secure,socks]~=1.26->selenium) (1.7.1)\n",
      "Requirement already satisfied: pyOpenSSL>=0.14 in c:\\programdata\\anaconda3\\lib\\site-packages (from urllib3[secure,socks]~=1.26->selenium) (21.0.0)\n",
      "Requirement already satisfied: cryptography>=1.3.4 in c:\\programdata\\anaconda3\\lib\\site-packages (from urllib3[secure,socks]~=1.26->selenium) (3.4.8)\n",
      "Requirement already satisfied: certifi in c:\\programdata\\anaconda3\\lib\\site-packages (from urllib3[secure,socks]~=1.26->selenium) (2021.10.8)\n",
      "Requirement already satisfied: six>=1.5.2 in c:\\programdata\\anaconda3\\lib\\site-packages (from pyOpenSSL>=0.14->urllib3[secure,socks]~=1.26->selenium) (1.16.0)\n",
      "Requirement already satisfied: h11<1,>=0.9.0 in c:\\programdata\\anaconda3\\lib\\site-packages (from wsproto>=0.14->trio-websocket~=0.9->selenium) (0.13.0)\n"
     ]
    },
    {
     "name": "stderr",
     "output_type": "stream",
     "text": [
      "\n",
      "WARNING: Ignoring invalid distribution -arso (c:\\programdata\\anaconda3\\lib\\site-packages)\n",
      "WARNING: Ignoring invalid distribution -arso (c:\\programdata\\anaconda3\\lib\\site-packages)\n",
      "WARNING: Ignoring invalid distribution -arso (c:\\programdata\\anaconda3\\lib\\site-packages)\n",
      "WARNING: Ignoring invalid distribution -arso (c:\\programdata\\anaconda3\\lib\\site-packages)\n",
      "WARNING: Ignoring invalid distribution -arso (c:\\programdata\\anaconda3\\lib\\site-packages)\n"
     ]
    }
   ],
   "source": [
    "! pip install selenium"
   ]
  },
  {
   "cell_type": "code",
   "execution_count": 266,
   "id": "dc3ac1f2",
   "metadata": {},
   "outputs": [],
   "source": [
    "import selenium\n",
    "import pandas as pd\n",
    "from selenium import webdriver\n",
    "import warnings\n",
    "warnings.filterwarnings(\"ignore\")\n",
    "import time"
   ]
  },
  {
   "cell_type": "code",
   "execution_count": 267,
   "id": "88e5e39d",
   "metadata": {},
   "outputs": [],
   "source": [
    "driver = webdriver.Chrome(r\"C:\\web driver\\chromedriver.exe\")"
   ]
  },
  {
   "cell_type": "code",
   "execution_count": 248,
   "id": "f7ba0bae",
   "metadata": {},
   "outputs": [],
   "source": [
    "driver=webdriver.Chrome(\"chromedriver.exe\")\n",
    "time.sleep(2)"
   ]
  },
  {
   "cell_type": "code",
   "execution_count": 268,
   "id": "1997d5c6",
   "metadata": {},
   "outputs": [],
   "source": [
    "url = 'https://www.naukri.com/ '\n",
    "driver.get(url)"
   ]
  },
  {
   "cell_type": "code",
   "execution_count": 270,
   "id": "07d090ed",
   "metadata": {},
   "outputs": [],
   "source": [
    "search_field_designation=driver.find_element_by_class_name(\"suggestor-input \")\n",
    "search_field_designation.send_keys(\"Data Analyst\")"
   ]
  },
  {
   "cell_type": "code",
   "execution_count": 271,
   "id": "c9be35af",
   "metadata": {},
   "outputs": [],
   "source": [
    "search_field_loc=driver.find_element_by_class_name(\"suggestor-input\")\n",
    "search_field_loc.send_keys(\"Bangalore\")"
   ]
  },
  {
   "cell_type": "code",
   "execution_count": 272,
   "id": "3332305c",
   "metadata": {},
   "outputs": [],
   "source": [
    "search_field_location=driver.find_element_by_xpath(\"/html/body/div/div[2]/div[3]/div/div/div[3]/div/div/div/input\")\n",
    "search_field_location.send_keys(\"Bangalore\")"
   ]
  },
  {
   "cell_type": "code",
   "execution_count": 273,
   "id": "7d062e3e",
   "metadata": {},
   "outputs": [],
   "source": [
    "search_button=driver.find_element_by_xpath('/html/body/div/div[2]/div[3]/div/div/div[6]')\n",
    "search_button.click()"
   ]
  },
  {
   "cell_type": "code",
   "execution_count": 274,
   "id": "916f8219",
   "metadata": {},
   "outputs": [],
   "source": [
    "job_titles=[]\n",
    "company_names=[]\n",
    "locations_list=[]\n",
    "experience_list=[]"
   ]
  },
  {
   "cell_type": "code",
   "execution_count": 275,
   "id": "c6fd239d",
   "metadata": {},
   "outputs": [
    {
     "data": {
      "text/plain": [
       "[<selenium.webdriver.remote.webelement.WebElement (session=\"b90cee024e513f362801d0b42f64d535\", element=\"52b9ce75-48f9-4a5e-9136-e7db2b039767\")>,\n",
       " <selenium.webdriver.remote.webelement.WebElement (session=\"b90cee024e513f362801d0b42f64d535\", element=\"3f6c9e63-1ed7-4a81-ab10-b0ec0536cf08\")>,\n",
       " <selenium.webdriver.remote.webelement.WebElement (session=\"b90cee024e513f362801d0b42f64d535\", element=\"be44ab44-f443-496b-93c6-3d975a5b04c6\")>,\n",
       " <selenium.webdriver.remote.webelement.WebElement (session=\"b90cee024e513f362801d0b42f64d535\", element=\"3436f167-c991-4918-9b93-85c04c2a0e44\")>,\n",
       " <selenium.webdriver.remote.webelement.WebElement (session=\"b90cee024e513f362801d0b42f64d535\", element=\"a2f8c921-8f9e-4445-a41d-853ae4799e21\")>,\n",
       " <selenium.webdriver.remote.webelement.WebElement (session=\"b90cee024e513f362801d0b42f64d535\", element=\"c6ee2778-e04b-408c-978f-89f280317ebf\")>,\n",
       " <selenium.webdriver.remote.webelement.WebElement (session=\"b90cee024e513f362801d0b42f64d535\", element=\"8250600e-5b9e-4b3e-b510-981bc89b46f6\")>,\n",
       " <selenium.webdriver.remote.webelement.WebElement (session=\"b90cee024e513f362801d0b42f64d535\", element=\"39ade097-f372-49f1-a532-c9ea6b2ad375\")>,\n",
       " <selenium.webdriver.remote.webelement.WebElement (session=\"b90cee024e513f362801d0b42f64d535\", element=\"80dabc54-414e-4aef-bfc3-a984f1c44026\")>,\n",
       " <selenium.webdriver.remote.webelement.WebElement (session=\"b90cee024e513f362801d0b42f64d535\", element=\"a24b0fd0-9cca-44de-8e49-adb722a18ecd\")>]"
      ]
     },
     "execution_count": 275,
     "metadata": {},
     "output_type": "execute_result"
    }
   ],
   "source": [
    "titles_tags=driver.find_elements_by_xpath(\"//a[@class='title fw500 ellipsis']\")\n",
    "titles_tags[0:10]"
   ]
  },
  {
   "cell_type": "code",
   "execution_count": 276,
   "id": "4e189197",
   "metadata": {},
   "outputs": [
    {
     "data": {
      "text/plain": [
       "['Senior Data Analyst',\n",
       " 'Data Analyst- customer facing',\n",
       " 'Sr Data Analyst II',\n",
       " 'Data Analyst',\n",
       " 'Senior Business Analyst - Data Sciences and Advanced Analytics',\n",
       " 'Business and Data Analyst',\n",
       " 'Urgent hiring For Senior Data Analyst',\n",
       " 'Senior Data Analyst',\n",
       " 'Senior Data Analyst',\n",
       " 'Jr . Data Analyst']"
      ]
     },
     "execution_count": 276,
     "metadata": {},
     "output_type": "execute_result"
    }
   ],
   "source": [
    "for i in titles_tags:\n",
    "    title=i.text\n",
    "    job_titles.append(title)\n",
    "job_titles[0:10]"
   ]
  },
  {
   "cell_type": "code",
   "execution_count": 277,
   "id": "8005071e",
   "metadata": {},
   "outputs": [
    {
     "data": {
      "text/plain": [
       "[<selenium.webdriver.remote.webelement.WebElement (session=\"b90cee024e513f362801d0b42f64d535\", element=\"c1a45cc7-f9e2-4a0f-9583-6c8c92bb9317\")>,\n",
       " <selenium.webdriver.remote.webelement.WebElement (session=\"b90cee024e513f362801d0b42f64d535\", element=\"5876db2e-e5de-452e-8dcf-62de708e6b2d\")>,\n",
       " <selenium.webdriver.remote.webelement.WebElement (session=\"b90cee024e513f362801d0b42f64d535\", element=\"d491b98b-677a-4577-a1a8-a46a96be08d4\")>,\n",
       " <selenium.webdriver.remote.webelement.WebElement (session=\"b90cee024e513f362801d0b42f64d535\", element=\"4f625ff3-626d-47f5-97f9-1095186df80b\")>,\n",
       " <selenium.webdriver.remote.webelement.WebElement (session=\"b90cee024e513f362801d0b42f64d535\", element=\"71b262af-c421-4e20-a2c5-03476c689163\")>,\n",
       " <selenium.webdriver.remote.webelement.WebElement (session=\"b90cee024e513f362801d0b42f64d535\", element=\"5ac94d79-a339-433d-9c8d-baf8afc1f5da\")>,\n",
       " <selenium.webdriver.remote.webelement.WebElement (session=\"b90cee024e513f362801d0b42f64d535\", element=\"bc0dc649-d0a9-4745-af2f-e07cc47b384e\")>,\n",
       " <selenium.webdriver.remote.webelement.WebElement (session=\"b90cee024e513f362801d0b42f64d535\", element=\"bd0c32d5-ef16-40eb-8f07-7ce043c11e8f\")>,\n",
       " <selenium.webdriver.remote.webelement.WebElement (session=\"b90cee024e513f362801d0b42f64d535\", element=\"f686cec2-fafe-46f3-a599-2c37539427ce\")>,\n",
       " <selenium.webdriver.remote.webelement.WebElement (session=\"b90cee024e513f362801d0b42f64d535\", element=\"744c9f74-247d-4f53-9c33-aa9e8470e8ba\")>]"
      ]
     },
     "execution_count": 277,
     "metadata": {},
     "output_type": "execute_result"
    }
   ],
   "source": [
    "companies_tags=driver.find_elements_by_xpath(\"//a[@class='subTitle ellipsis fleft']\")\n",
    "companies_tags[0:10]"
   ]
  },
  {
   "cell_type": "code",
   "execution_count": 278,
   "id": "3c441883",
   "metadata": {},
   "outputs": [
    {
     "data": {
      "text/plain": [
       "['Thomson Reuters',\n",
       " 'Synamedia',\n",
       " 'IHS Markit',\n",
       " 'VOLVO ASSET FINANCE INDIA PRIVATE LIMITED',\n",
       " 'Vmware',\n",
       " 'CAREERDOST ENTERPRISE',\n",
       " 'upGrad',\n",
       " 'Capco',\n",
       " 'Gsn Games India',\n",
       " 'Armorblox']"
      ]
     },
     "execution_count": 278,
     "metadata": {},
     "output_type": "execute_result"
    }
   ],
   "source": [
    "for i in companies_tags:\n",
    "    company_name=i.text\n",
    "    company_names.append(company_name)\n",
    "company_names[0:10]"
   ]
  },
  {
   "cell_type": "code",
   "execution_count": 280,
   "id": "41f0b851",
   "metadata": {},
   "outputs": [
    {
     "data": {
      "text/plain": [
       "[<selenium.webdriver.remote.webelement.WebElement (session=\"b90cee024e513f362801d0b42f64d535\", element=\"ea256c29-a82a-4064-947a-22d5c3892931\")>,\n",
       " <selenium.webdriver.remote.webelement.WebElement (session=\"b90cee024e513f362801d0b42f64d535\", element=\"32305122-8043-4fcc-82b6-32f3b3e5250a\")>,\n",
       " <selenium.webdriver.remote.webelement.WebElement (session=\"b90cee024e513f362801d0b42f64d535\", element=\"724e455f-5777-4d85-a680-14230d3b81b9\")>,\n",
       " <selenium.webdriver.remote.webelement.WebElement (session=\"b90cee024e513f362801d0b42f64d535\", element=\"2b6da2f6-3a4d-4abf-b79c-fff08638b219\")>,\n",
       " <selenium.webdriver.remote.webelement.WebElement (session=\"b90cee024e513f362801d0b42f64d535\", element=\"f6ff2c58-aca4-4ae8-8450-3f7c34208feb\")>,\n",
       " <selenium.webdriver.remote.webelement.WebElement (session=\"b90cee024e513f362801d0b42f64d535\", element=\"be25a9fd-8d5b-4e53-a9be-f03bde965ef5\")>,\n",
       " <selenium.webdriver.remote.webelement.WebElement (session=\"b90cee024e513f362801d0b42f64d535\", element=\"48d0d93c-5daf-4903-81f7-8a648c2bef44\")>,\n",
       " <selenium.webdriver.remote.webelement.WebElement (session=\"b90cee024e513f362801d0b42f64d535\", element=\"0cd38e67-b197-4c3a-972f-cc201c99d50e\")>,\n",
       " <selenium.webdriver.remote.webelement.WebElement (session=\"b90cee024e513f362801d0b42f64d535\", element=\"903e6460-1910-4003-905b-cd2e8103e71e\")>,\n",
       " <selenium.webdriver.remote.webelement.WebElement (session=\"b90cee024e513f362801d0b42f64d535\", element=\"a806f320-74d1-4c0d-ae7d-69dd482397c3\")>]"
      ]
     },
     "execution_count": 280,
     "metadata": {},
     "output_type": "execute_result"
    }
   ],
   "source": [
    "experience_tags=driver.find_elements_by_xpath(\"//li[@class='fleft grey-text br2 placeHolderLi experience']/span\")\n",
    "experience_tags[0:10]"
   ]
  },
  {
   "cell_type": "code",
   "execution_count": 281,
   "id": "84cc7c48",
   "metadata": {},
   "outputs": [
    {
     "data": {
      "text/plain": [
       "['2-4 Yrs',\n",
       " '0-3 Yrs',\n",
       " '3-6 Yrs',\n",
       " '2-4 Yrs',\n",
       " '3-7 Yrs',\n",
       " '0-5 Yrs',\n",
       " '2-7 Yrs',\n",
       " '7-12 Yrs',\n",
       " '3-7 Yrs',\n",
       " '0-2 Yrs']"
      ]
     },
     "execution_count": 281,
     "metadata": {},
     "output_type": "execute_result"
    }
   ],
   "source": [
    "for i in experience_tags:\n",
    "    experience=i.text\n",
    "    experience_list.append(experience)\n",
    "experience_list[0:10]"
   ]
  },
  {
   "cell_type": "code",
   "execution_count": 283,
   "id": "50344a51",
   "metadata": {},
   "outputs": [
    {
     "data": {
      "text/plain": [
       "[<selenium.webdriver.remote.webelement.WebElement (session=\"b90cee024e513f362801d0b42f64d535\", element=\"687e986d-ca8f-49c1-862c-5c631749821f\")>,\n",
       " <selenium.webdriver.remote.webelement.WebElement (session=\"b90cee024e513f362801d0b42f64d535\", element=\"787f9ba0-8972-4302-a512-c2511ad8776e\")>,\n",
       " <selenium.webdriver.remote.webelement.WebElement (session=\"b90cee024e513f362801d0b42f64d535\", element=\"e106d2f3-0f08-4054-8d0c-eaa1c28030fe\")>,\n",
       " <selenium.webdriver.remote.webelement.WebElement (session=\"b90cee024e513f362801d0b42f64d535\", element=\"774630b9-565b-4c09-966a-6ce0706ecbe5\")>,\n",
       " <selenium.webdriver.remote.webelement.WebElement (session=\"b90cee024e513f362801d0b42f64d535\", element=\"12b03102-f2f7-4d00-99f6-16ed9508465c\")>,\n",
       " <selenium.webdriver.remote.webelement.WebElement (session=\"b90cee024e513f362801d0b42f64d535\", element=\"1bad94ff-5ab7-4fc8-9fde-c3fb4ee81a9e\")>,\n",
       " <selenium.webdriver.remote.webelement.WebElement (session=\"b90cee024e513f362801d0b42f64d535\", element=\"c232ac8d-f998-4fb7-b081-9a717110bc38\")>,\n",
       " <selenium.webdriver.remote.webelement.WebElement (session=\"b90cee024e513f362801d0b42f64d535\", element=\"d489dacc-a5f9-4399-b130-bd5e42103921\")>,\n",
       " <selenium.webdriver.remote.webelement.WebElement (session=\"b90cee024e513f362801d0b42f64d535\", element=\"c38eac00-e4b2-4de8-9203-8bbcea9b798f\")>,\n",
       " <selenium.webdriver.remote.webelement.WebElement (session=\"b90cee024e513f362801d0b42f64d535\", element=\"8e86b4d3-2301-477e-9113-9abc8fb366bb\")>]"
      ]
     },
     "execution_count": 283,
     "metadata": {},
     "output_type": "execute_result"
    }
   ],
   "source": [
    "location_tags=driver.find_elements_by_xpath(\"//li[@class='fleft grey-text br2 placeHolderLi location']\")\n",
    "location_tags[0:10]"
   ]
  },
  {
   "cell_type": "code",
   "execution_count": 284,
   "id": "33084253",
   "metadata": {},
   "outputs": [
    {
     "data": {
      "text/plain": [
       "['Bangalore/Bengaluru',\n",
       " 'Bangalore/Bengaluru',\n",
       " 'Gurgaon/Gurugram, Bangalore/Bengaluru',\n",
       " 'Bangalore/Bengaluru',\n",
       " 'Bangalore/Bengaluru',\n",
       " 'Bangalore/Bengaluru\\n(WFH during Covid)',\n",
       " 'Bangalore/Bengaluru',\n",
       " 'Pune, Gurgaon/Gurugram, Chennai, Bangalore/Bengaluru',\n",
       " 'Bangalore/Bengaluru',\n",
       " 'Bangalore/Bengaluru']"
      ]
     },
     "execution_count": 284,
     "metadata": {},
     "output_type": "execute_result"
    }
   ],
   "source": [
    "for i in location_tags:\n",
    "    location=i.text\n",
    "    locations_list.append(location)\n",
    "locations_list[0:10]"
   ]
  },
  {
   "cell_type": "code",
   "execution_count": 288,
   "id": "00790709",
   "metadata": {},
   "outputs": [
    {
     "data": {
      "text/html": [
       "<div>\n",
       "<style scoped>\n",
       "    .dataframe tbody tr th:only-of-type {\n",
       "        vertical-align: middle;\n",
       "    }\n",
       "\n",
       "    .dataframe tbody tr th {\n",
       "        vertical-align: top;\n",
       "    }\n",
       "\n",
       "    .dataframe thead th {\n",
       "        text-align: right;\n",
       "    }\n",
       "</style>\n",
       "<table border=\"1\" class=\"dataframe\">\n",
       "  <thead>\n",
       "    <tr style=\"text-align: right;\">\n",
       "      <th></th>\n",
       "      <th>title</th>\n",
       "      <th>company</th>\n",
       "      <th>experience_required</th>\n",
       "      <th>location</th>\n",
       "    </tr>\n",
       "  </thead>\n",
       "  <tbody>\n",
       "    <tr>\n",
       "      <th>0</th>\n",
       "      <td>Senior Data Analyst</td>\n",
       "      <td>Thomson Reuters</td>\n",
       "      <td>2-4 Yrs</td>\n",
       "      <td>Bangalore/Bengaluru</td>\n",
       "    </tr>\n",
       "    <tr>\n",
       "      <th>1</th>\n",
       "      <td>Data Analyst- customer facing</td>\n",
       "      <td>Synamedia</td>\n",
       "      <td>0-3 Yrs</td>\n",
       "      <td>Bangalore/Bengaluru</td>\n",
       "    </tr>\n",
       "    <tr>\n",
       "      <th>2</th>\n",
       "      <td>Sr Data Analyst II</td>\n",
       "      <td>IHS Markit</td>\n",
       "      <td>3-6 Yrs</td>\n",
       "      <td>Gurgaon/Gurugram, Bangalore/Bengaluru</td>\n",
       "    </tr>\n",
       "    <tr>\n",
       "      <th>3</th>\n",
       "      <td>Data Analyst</td>\n",
       "      <td>VOLVO ASSET FINANCE INDIA PRIVATE LIMITED</td>\n",
       "      <td>2-4 Yrs</td>\n",
       "      <td>Bangalore/Bengaluru</td>\n",
       "    </tr>\n",
       "    <tr>\n",
       "      <th>4</th>\n",
       "      <td>Senior Business Analyst - Data Sciences and Ad...</td>\n",
       "      <td>Vmware</td>\n",
       "      <td>3-7 Yrs</td>\n",
       "      <td>Bangalore/Bengaluru</td>\n",
       "    </tr>\n",
       "    <tr>\n",
       "      <th>5</th>\n",
       "      <td>Business and Data Analyst</td>\n",
       "      <td>CAREERDOST ENTERPRISE</td>\n",
       "      <td>0-5 Yrs</td>\n",
       "      <td>Bangalore/Bengaluru\\n(WFH during Covid)</td>\n",
       "    </tr>\n",
       "    <tr>\n",
       "      <th>6</th>\n",
       "      <td>Urgent hiring For Senior Data Analyst</td>\n",
       "      <td>upGrad</td>\n",
       "      <td>2-7 Yrs</td>\n",
       "      <td>Bangalore/Bengaluru</td>\n",
       "    </tr>\n",
       "    <tr>\n",
       "      <th>7</th>\n",
       "      <td>Senior Data Analyst</td>\n",
       "      <td>Capco</td>\n",
       "      <td>7-12 Yrs</td>\n",
       "      <td>Pune, Gurgaon/Gurugram, Chennai, Bangalore/Ben...</td>\n",
       "    </tr>\n",
       "    <tr>\n",
       "      <th>8</th>\n",
       "      <td>Senior Data Analyst</td>\n",
       "      <td>Gsn Games India</td>\n",
       "      <td>3-7 Yrs</td>\n",
       "      <td>Bangalore/Bengaluru</td>\n",
       "    </tr>\n",
       "    <tr>\n",
       "      <th>9</th>\n",
       "      <td>Jr . Data Analyst</td>\n",
       "      <td>Armorblox</td>\n",
       "      <td>0-2 Yrs</td>\n",
       "      <td>Bangalore/Bengaluru</td>\n",
       "    </tr>\n",
       "    <tr>\n",
       "      <th>10</th>\n",
       "      <td>Data Analyst</td>\n",
       "      <td>G S E-COMMERCE PVT LTD</td>\n",
       "      <td>4-7 Yrs</td>\n",
       "      <td>Bangalore/Bengaluru(Jayanagar)</td>\n",
       "    </tr>\n",
       "    <tr>\n",
       "      <th>11</th>\n",
       "      <td>Data Analyst - IIM/ISB/MDI/FMS/SP Jain</td>\n",
       "      <td>K12 Techno Services Pvt Ltd</td>\n",
       "      <td>4-9 Yrs</td>\n",
       "      <td>Bangalore/Bengaluru</td>\n",
       "    </tr>\n",
       "    <tr>\n",
       "      <th>12</th>\n",
       "      <td>SQL Data Analyst</td>\n",
       "      <td>Sequoia Consulting Group</td>\n",
       "      <td>2-4 Yrs</td>\n",
       "      <td>Bangalore/Bengaluru</td>\n",
       "    </tr>\n",
       "    <tr>\n",
       "      <th>13</th>\n",
       "      <td>SAS Analyst / data Analyst / Business analyst ...</td>\n",
       "      <td>Leading US MNC into analytics</td>\n",
       "      <td>2-7 Yrs</td>\n",
       "      <td>Bangalore/Bengaluru, Delhi / NCR, Mumbai (All ...</td>\n",
       "    </tr>\n",
       "    <tr>\n",
       "      <th>14</th>\n",
       "      <td>Data Analyst II</td>\n",
       "      <td>Cerner</td>\n",
       "      <td>6-10 Yrs</td>\n",
       "      <td>Bangalore/Bengaluru</td>\n",
       "    </tr>\n",
       "    <tr>\n",
       "      <th>15</th>\n",
       "      <td>Data Analyst - Python / SQL</td>\n",
       "      <td>Myntra</td>\n",
       "      <td>1-4 Yrs</td>\n",
       "      <td>Bangalore/Bengaluru</td>\n",
       "    </tr>\n",
       "    <tr>\n",
       "      <th>16</th>\n",
       "      <td>Reference Data Analyst</td>\n",
       "      <td>Deutsche Bank</td>\n",
       "      <td>2-5 Yrs</td>\n",
       "      <td>Bangalore/Bengaluru</td>\n",
       "    </tr>\n",
       "    <tr>\n",
       "      <th>17</th>\n",
       "      <td>Hiring For Data Analyst with SAP ABAP &amp; BW - C...</td>\n",
       "      <td>MILLION MINDS INFOTECH PRIVATE LIMITED</td>\n",
       "      <td>7-10 Yrs</td>\n",
       "      <td>Bangalore/Bengaluru\\n(WFH during Covid)</td>\n",
       "    </tr>\n",
       "    <tr>\n",
       "      <th>18</th>\n",
       "      <td>Officer - Category Demand Management ( Data An...</td>\n",
       "      <td>Myntra</td>\n",
       "      <td>1-4 Yrs</td>\n",
       "      <td>Bangalore/Bengaluru</td>\n",
       "    </tr>\n",
       "    <tr>\n",
       "      <th>19</th>\n",
       "      <td>Senior Data Analyst II</td>\n",
       "      <td>Flipkart</td>\n",
       "      <td>2-4 Yrs</td>\n",
       "      <td>Bangalore/Bengaluru</td>\n",
       "    </tr>\n",
       "  </tbody>\n",
       "</table>\n",
       "</div>"
      ],
      "text/plain": [
       "                                                title  \\\n",
       "0                                 Senior Data Analyst   \n",
       "1                       Data Analyst- customer facing   \n",
       "2                                  Sr Data Analyst II   \n",
       "3                                        Data Analyst   \n",
       "4   Senior Business Analyst - Data Sciences and Ad...   \n",
       "5                           Business and Data Analyst   \n",
       "6               Urgent hiring For Senior Data Analyst   \n",
       "7                                 Senior Data Analyst   \n",
       "8                                 Senior Data Analyst   \n",
       "9                                   Jr . Data Analyst   \n",
       "10                                       Data Analyst   \n",
       "11             Data Analyst - IIM/ISB/MDI/FMS/SP Jain   \n",
       "12                                   SQL Data Analyst   \n",
       "13  SAS Analyst / data Analyst / Business analyst ...   \n",
       "14                                    Data Analyst II   \n",
       "15                        Data Analyst - Python / SQL   \n",
       "16                             Reference Data Analyst   \n",
       "17  Hiring For Data Analyst with SAP ABAP & BW - C...   \n",
       "18  Officer - Category Demand Management ( Data An...   \n",
       "19                             Senior Data Analyst II   \n",
       "\n",
       "                                      company experience_required  \\\n",
       "0                             Thomson Reuters             2-4 Yrs   \n",
       "1                                   Synamedia             0-3 Yrs   \n",
       "2                                  IHS Markit             3-6 Yrs   \n",
       "3   VOLVO ASSET FINANCE INDIA PRIVATE LIMITED             2-4 Yrs   \n",
       "4                                      Vmware             3-7 Yrs   \n",
       "5                       CAREERDOST ENTERPRISE             0-5 Yrs   \n",
       "6                                      upGrad             2-7 Yrs   \n",
       "7                                       Capco            7-12 Yrs   \n",
       "8                             Gsn Games India             3-7 Yrs   \n",
       "9                                   Armorblox             0-2 Yrs   \n",
       "10                     G S E-COMMERCE PVT LTD             4-7 Yrs   \n",
       "11                K12 Techno Services Pvt Ltd             4-9 Yrs   \n",
       "12                   Sequoia Consulting Group             2-4 Yrs   \n",
       "13              Leading US MNC into analytics             2-7 Yrs   \n",
       "14                                     Cerner            6-10 Yrs   \n",
       "15                                     Myntra             1-4 Yrs   \n",
       "16                              Deutsche Bank             2-5 Yrs   \n",
       "17     MILLION MINDS INFOTECH PRIVATE LIMITED            7-10 Yrs   \n",
       "18                                     Myntra             1-4 Yrs   \n",
       "19                                   Flipkart             2-4 Yrs   \n",
       "\n",
       "                                             location  \n",
       "0                                 Bangalore/Bengaluru  \n",
       "1                                 Bangalore/Bengaluru  \n",
       "2               Gurgaon/Gurugram, Bangalore/Bengaluru  \n",
       "3                                 Bangalore/Bengaluru  \n",
       "4                                 Bangalore/Bengaluru  \n",
       "5             Bangalore/Bengaluru\\n(WFH during Covid)  \n",
       "6                                 Bangalore/Bengaluru  \n",
       "7   Pune, Gurgaon/Gurugram, Chennai, Bangalore/Ben...  \n",
       "8                                 Bangalore/Bengaluru  \n",
       "9                                 Bangalore/Bengaluru  \n",
       "10                     Bangalore/Bengaluru(Jayanagar)  \n",
       "11                                Bangalore/Bengaluru  \n",
       "12                                Bangalore/Bengaluru  \n",
       "13  Bangalore/Bengaluru, Delhi / NCR, Mumbai (All ...  \n",
       "14                                Bangalore/Bengaluru  \n",
       "15                                Bangalore/Bengaluru  \n",
       "16                                Bangalore/Bengaluru  \n",
       "17            Bangalore/Bengaluru\\n(WFH during Covid)  \n",
       "18                                Bangalore/Bengaluru  \n",
       "19                                Bangalore/Bengaluru  "
      ]
     },
     "execution_count": 288,
     "metadata": {},
     "output_type": "execute_result"
    }
   ],
   "source": [
    "jobs=pd.DataFrame({})\n",
    "jobs['title']=job_titles\n",
    "jobs['company']=company_names\n",
    "jobs['experience_required']=experience_list\n",
    "jobs['location']=locations_list\n",
    "\n",
    "jobs"
   ]
  },
  {
   "cell_type": "markdown",
   "id": "0136127e",
   "metadata": {},
   "source": [
    "# Answer 2"
   ]
  },
  {
   "cell_type": "code",
   "execution_count": 194,
   "id": "41c9da7d",
   "metadata": {},
   "outputs": [
    {
     "name": "stdout",
     "output_type": "stream",
     "text": [
      "Requirement already satisfied: selenium in c:\\programdata\\anaconda3\\lib\\site-packages (4.1.5)"
     ]
    },
    {
     "name": "stderr",
     "output_type": "stream",
     "text": [
      "WARNING: Ignoring invalid distribution -arso (c:\\programdata\\anaconda3\\lib\\site-packages)\n",
      "WARNING: Ignoring invalid distribution -arso (c:\\programdata\\anaconda3\\lib\\site-packages)\n",
      "WARNING: Ignoring invalid distribution -arso (c:\\programdata\\anaconda3\\lib\\site-packages)\n",
      "WARNING: Ignoring invalid distribution -arso (c:\\programdata\\anaconda3\\lib\\site-packages)\n",
      "WARNING: Ignoring invalid distribution -arso (c:\\programdata\\anaconda3\\lib\\site-packages)\n",
      "WARNING: Ignoring invalid distribution -arso (c:\\programdata\\anaconda3\\lib\\site-packages)\n"
     ]
    },
    {
     "name": "stdout",
     "output_type": "stream",
     "text": [
      "\n",
      "Requirement already satisfied: trio~=0.17 in c:\\programdata\\anaconda3\\lib\\site-packages (from selenium) (0.20.0)\n",
      "Requirement already satisfied: trio-websocket~=0.9 in c:\\programdata\\anaconda3\\lib\\site-packages (from selenium) (0.9.2)\n",
      "Requirement already satisfied: urllib3[secure,socks]~=1.26 in c:\\programdata\\anaconda3\\lib\\site-packages (from selenium) (1.26.7)\n",
      "Requirement already satisfied: sortedcontainers in c:\\programdata\\anaconda3\\lib\\site-packages (from trio~=0.17->selenium) (2.4.0)\n",
      "Requirement already satisfied: async-generator>=1.9 in c:\\programdata\\anaconda3\\lib\\site-packages (from trio~=0.17->selenium) (1.10)\n",
      "Requirement already satisfied: sniffio in c:\\programdata\\anaconda3\\lib\\site-packages (from trio~=0.17->selenium) (1.2.0)\n",
      "Requirement already satisfied: cffi>=1.14 in c:\\programdata\\anaconda3\\lib\\site-packages (from trio~=0.17->selenium) (1.14.6)\n",
      "Requirement already satisfied: attrs>=19.2.0 in c:\\programdata\\anaconda3\\lib\\site-packages (from trio~=0.17->selenium) (21.2.0)\n",
      "Requirement already satisfied: idna in c:\\programdata\\anaconda3\\lib\\site-packages (from trio~=0.17->selenium) (3.2)\n",
      "Requirement already satisfied: outcome in c:\\programdata\\anaconda3\\lib\\site-packages (from trio~=0.17->selenium) (1.1.0)\n",
      "Requirement already satisfied: pycparser in c:\\programdata\\anaconda3\\lib\\site-packages (from cffi>=1.14->trio~=0.17->selenium) (2.20)\n",
      "Requirement already satisfied: wsproto>=0.14 in c:\\programdata\\anaconda3\\lib\\site-packages (from trio-websocket~=0.9->selenium) (1.1.0)\n",
      "Requirement already satisfied: pyOpenSSL>=0.14 in c:\\programdata\\anaconda3\\lib\\site-packages (from urllib3[secure,socks]~=1.26->selenium) (21.0.0)\n",
      "Requirement already satisfied: cryptography>=1.3.4 in c:\\programdata\\anaconda3\\lib\\site-packages (from urllib3[secure,socks]~=1.26->selenium) (3.4.8)\n",
      "Requirement already satisfied: certifi in c:\\programdata\\anaconda3\\lib\\site-packages (from urllib3[secure,socks]~=1.26->selenium) (2021.10.8)\n",
      "Requirement already satisfied: PySocks!=1.5.7,<2.0,>=1.5.6 in c:\\programdata\\anaconda3\\lib\\site-packages (from urllib3[secure,socks]~=1.26->selenium) (1.7.1)\n",
      "Requirement already satisfied: six>=1.5.2 in c:\\programdata\\anaconda3\\lib\\site-packages (from pyOpenSSL>=0.14->urllib3[secure,socks]~=1.26->selenium) (1.16.0)\n"
     ]
    }
   ],
   "source": [
    "! pip install selenium"
   ]
  },
  {
   "cell_type": "code",
   "execution_count": 195,
   "id": "ad23b899",
   "metadata": {},
   "outputs": [],
   "source": [
    "import selenium\n",
    "import pandas as pd\n",
    "from selenium import webdriver\n",
    "import warnings\n",
    "warnings.filterwarnings(\"ignore\")\n",
    "import time"
   ]
  },
  {
   "cell_type": "code",
   "execution_count": 196,
   "id": "85d2f15c",
   "metadata": {},
   "outputs": [
    {
     "name": "stdout",
     "output_type": "stream",
     "text": [
      "Requirement already satisfied: h11<1,>=0.9.0 in c:\\programdata\\anaconda3\\lib\\site-packages (from wsproto>=0.14->trio-websocket~=0.9->selenium) (0.13.0)\n"
     ]
    }
   ],
   "source": [
    "driver = webdriver.Chrome(r\"C:\\web driver\\chromedriver.exe\")"
   ]
  },
  {
   "cell_type": "code",
   "execution_count": 197,
   "id": "32b0caef",
   "metadata": {},
   "outputs": [],
   "source": [
    "driver.get('https://www.naukri.com/')"
   ]
  },
  {
   "cell_type": "code",
   "execution_count": 198,
   "id": "30eb5ca3",
   "metadata": {},
   "outputs": [],
   "source": [
    "search_field_designation=driver.find_element_by_class_name(\"suggestor-input\")\n",
    "search_field_designation.send_keys(\"Data Scientist\")"
   ]
  },
  {
   "cell_type": "code",
   "execution_count": 199,
   "id": "b99c83c7",
   "metadata": {},
   "outputs": [],
   "source": [
    "search_field_location=driver.find_element_by_xpath(\"/html/body/div/div[2]/div[3]/div/div/div[3]/div/div/div/input\")\n",
    "search_field_location.send_keys(\"Bangalore\")"
   ]
  },
  {
   "cell_type": "code",
   "execution_count": 200,
   "id": "60a38d2f",
   "metadata": {},
   "outputs": [],
   "source": [
    "search_button=driver.find_element_by_xpath('/html/body/div/div[2]/div[3]/div/div/div[6]')\n",
    "search_button.click()"
   ]
  },
  {
   "cell_type": "code",
   "execution_count": 201,
   "id": "883307e3",
   "metadata": {},
   "outputs": [],
   "source": [
    "job_titles=[]\n",
    "company_names=[]\n",
    "locations_list=[]"
   ]
  },
  {
   "cell_type": "code",
   "execution_count": 125,
   "id": "ebc8d86c",
   "metadata": {},
   "outputs": [
    {
     "data": {
      "text/plain": [
       "[<selenium.webdriver.remote.webelement.WebElement (session=\"138ba223152d15fcb862cfce475eed6d\", element=\"7ca98ad3-bd39-4d91-b7a5-1a92dc95352a\")>,\n",
       " <selenium.webdriver.remote.webelement.WebElement (session=\"138ba223152d15fcb862cfce475eed6d\", element=\"f32edb28-eb55-4123-94e1-0d1a590b62ca\")>,\n",
       " <selenium.webdriver.remote.webelement.WebElement (session=\"138ba223152d15fcb862cfce475eed6d\", element=\"91643047-d4db-4515-a5d1-ceac8e6be02a\")>,\n",
       " <selenium.webdriver.remote.webelement.WebElement (session=\"138ba223152d15fcb862cfce475eed6d\", element=\"fc65ab3a-0944-4970-b322-165b911f02d8\")>,\n",
       " <selenium.webdriver.remote.webelement.WebElement (session=\"138ba223152d15fcb862cfce475eed6d\", element=\"ca39d190-b639-4875-8680-7aaf26601a8f\")>,\n",
       " <selenium.webdriver.remote.webelement.WebElement (session=\"138ba223152d15fcb862cfce475eed6d\", element=\"eed5b251-56e4-4fda-82ec-93312b88bd7a\")>,\n",
       " <selenium.webdriver.remote.webelement.WebElement (session=\"138ba223152d15fcb862cfce475eed6d\", element=\"a0253b92-ac0d-45f1-9b1a-bec08905cefa\")>,\n",
       " <selenium.webdriver.remote.webelement.WebElement (session=\"138ba223152d15fcb862cfce475eed6d\", element=\"c8cdc048-104c-4903-8454-ccf2b03b63c3\")>,\n",
       " <selenium.webdriver.remote.webelement.WebElement (session=\"138ba223152d15fcb862cfce475eed6d\", element=\"a52cfccb-a531-40ad-96fd-9937a6c021ad\")>,\n",
       " <selenium.webdriver.remote.webelement.WebElement (session=\"138ba223152d15fcb862cfce475eed6d\", element=\"006af93d-2f3b-495c-9012-6939aecfa561\")>]"
      ]
     },
     "execution_count": 125,
     "metadata": {},
     "output_type": "execute_result"
    }
   ],
   "source": [
    "titles_tags=driver.find_elements_by_xpath(\"//a[@class='title fw500 ellipsis']\")\n",
    "titles_tags[0:10]"
   ]
  },
  {
   "cell_type": "code",
   "execution_count": 126,
   "id": "49c80d31",
   "metadata": {},
   "outputs": [
    {
     "data": {
      "text/plain": [
       "['Data Scientist: Advanced Analytics',\n",
       " 'Data Scientist: Artificial Intelligence',\n",
       " 'Data Scientist: Artificial Intelligence',\n",
       " 'Data Scientist: Artificial Intelligence',\n",
       " 'Data Scientist: Artificial Intelligence',\n",
       " 'Sr. Data Scientist',\n",
       " 'Lead Data Scientist',\n",
       " 'Senior Data Scientist',\n",
       " 'Cognitive/AI Senior Data Scientist',\n",
       " 'Lead - Data Scientist']"
      ]
     },
     "execution_count": 126,
     "metadata": {},
     "output_type": "execute_result"
    }
   ],
   "source": [
    "for i in titles_tags:\n",
    "    title=i.text\n",
    "    job_titles.append(title)\n",
    "job_titles[0:10]"
   ]
  },
  {
   "cell_type": "code",
   "execution_count": 127,
   "id": "355b2eae",
   "metadata": {},
   "outputs": [
    {
     "data": {
      "text/plain": [
       "[<selenium.webdriver.remote.webelement.WebElement (session=\"138ba223152d15fcb862cfce475eed6d\", element=\"53c2c32b-dcd2-49d5-a631-d5e04de1e9a8\")>,\n",
       " <selenium.webdriver.remote.webelement.WebElement (session=\"138ba223152d15fcb862cfce475eed6d\", element=\"2dbc68de-5a85-4f22-8f3f-22238fc12cc4\")>,\n",
       " <selenium.webdriver.remote.webelement.WebElement (session=\"138ba223152d15fcb862cfce475eed6d\", element=\"d5e0d128-ab95-4121-9101-a721284fd050\")>,\n",
       " <selenium.webdriver.remote.webelement.WebElement (session=\"138ba223152d15fcb862cfce475eed6d\", element=\"2590aeba-9023-4454-b410-cbd6f38a6029\")>,\n",
       " <selenium.webdriver.remote.webelement.WebElement (session=\"138ba223152d15fcb862cfce475eed6d\", element=\"76ed8f50-4bbc-490f-ac06-42e98569f5aa\")>,\n",
       " <selenium.webdriver.remote.webelement.WebElement (session=\"138ba223152d15fcb862cfce475eed6d\", element=\"5fe5cd8f-cb45-49d7-8cee-a660b1362838\")>,\n",
       " <selenium.webdriver.remote.webelement.WebElement (session=\"138ba223152d15fcb862cfce475eed6d\", element=\"e44bdd35-081f-4541-8068-36ccef12fa5a\")>,\n",
       " <selenium.webdriver.remote.webelement.WebElement (session=\"138ba223152d15fcb862cfce475eed6d\", element=\"d1e2fb9a-6dfd-4917-86e1-e1bde14d935b\")>,\n",
       " <selenium.webdriver.remote.webelement.WebElement (session=\"138ba223152d15fcb862cfce475eed6d\", element=\"0b0ec1be-780e-4e12-9104-14bb48fe8ad3\")>,\n",
       " <selenium.webdriver.remote.webelement.WebElement (session=\"138ba223152d15fcb862cfce475eed6d\", element=\"90a4d02b-0544-4772-a76d-5bd3d5541aee\")>]"
      ]
     },
     "execution_count": 127,
     "metadata": {},
     "output_type": "execute_result"
    }
   ],
   "source": [
    "companies_tags=driver.find_elements_by_xpath(\"//a[@class='subTitle ellipsis fleft']\")\n",
    "companies_tags[0:10]"
   ]
  },
  {
   "cell_type": "code",
   "execution_count": 128,
   "id": "859ba932",
   "metadata": {},
   "outputs": [
    {
     "data": {
      "text/plain": [
       "['IBM',\n",
       " 'IBM',\n",
       " 'IBM',\n",
       " 'IBM',\n",
       " 'IBM',\n",
       " \"HUDSON'S BAY SERVICES PRIVATE LIMITED\",\n",
       " 'TransOrg Solutions Services (P) Ltd.',\n",
       " 'Walmart',\n",
       " 'IBM',\n",
       " 'Applied Materials']"
      ]
     },
     "execution_count": 128,
     "metadata": {},
     "output_type": "execute_result"
    }
   ],
   "source": [
    "for i in companies_tags:\n",
    "    company_name=i.text\n",
    "    company_names.append(company_name)\n",
    "company_names[0:10]"
   ]
  },
  {
   "cell_type": "code",
   "execution_count": 129,
   "id": "6ab59312",
   "metadata": {},
   "outputs": [
    {
     "data": {
      "text/plain": [
       "[<selenium.webdriver.remote.webelement.WebElement (session=\"138ba223152d15fcb862cfce475eed6d\", element=\"1503c4ef-ea59-42bc-80bd-d1ed46ea5e68\")>,\n",
       " <selenium.webdriver.remote.webelement.WebElement (session=\"138ba223152d15fcb862cfce475eed6d\", element=\"76f758eb-5473-4b35-be29-ecd02d4de885\")>,\n",
       " <selenium.webdriver.remote.webelement.WebElement (session=\"138ba223152d15fcb862cfce475eed6d\", element=\"d0584c68-cce6-4158-b738-23385af489a7\")>,\n",
       " <selenium.webdriver.remote.webelement.WebElement (session=\"138ba223152d15fcb862cfce475eed6d\", element=\"cd9b48ca-03f8-443a-91a5-fe2748b92880\")>,\n",
       " <selenium.webdriver.remote.webelement.WebElement (session=\"138ba223152d15fcb862cfce475eed6d\", element=\"40773f02-ec59-429f-ada7-59624a3c85c5\")>,\n",
       " <selenium.webdriver.remote.webelement.WebElement (session=\"138ba223152d15fcb862cfce475eed6d\", element=\"fc5ddb1a-eb98-4e1e-9139-1abfaf4c5cb1\")>,\n",
       " <selenium.webdriver.remote.webelement.WebElement (session=\"138ba223152d15fcb862cfce475eed6d\", element=\"d3c4bc87-0225-4d26-aa39-8b8b8037736b\")>,\n",
       " <selenium.webdriver.remote.webelement.WebElement (session=\"138ba223152d15fcb862cfce475eed6d\", element=\"999bf3b9-5bc5-483e-92b7-b5c5aa531988\")>,\n",
       " <selenium.webdriver.remote.webelement.WebElement (session=\"138ba223152d15fcb862cfce475eed6d\", element=\"47871cef-ae1e-4679-8f8d-6b43f410c7b0\")>,\n",
       " <selenium.webdriver.remote.webelement.WebElement (session=\"138ba223152d15fcb862cfce475eed6d\", element=\"a1ad3019-11bb-4963-9ede-729ea00f4944\")>]"
      ]
     },
     "execution_count": 129,
     "metadata": {},
     "output_type": "execute_result"
    }
   ],
   "source": [
    "location_tags=driver.find_elements_by_xpath(\"//li[@class='fleft grey-text br2 placeHolderLi location']\")\n",
    "location_tags[0:10]"
   ]
  },
  {
   "cell_type": "code",
   "execution_count": 130,
   "id": "26df6ecf",
   "metadata": {},
   "outputs": [
    {
     "data": {
      "text/plain": [
       "['Bengaluru/Bangalore',\n",
       " 'Bangalore/Bengaluru',\n",
       " 'Bengaluru/Bangalore',\n",
       " 'Bengaluru/Bangalore',\n",
       " 'Bengaluru/Bangalore',\n",
       " 'Bangalore/Bengaluru',\n",
       " 'Bangalore/Bengaluru, Delhi / NCR, Mumbai (All Areas)\\n(WFH during Covid)',\n",
       " 'Bangalore/Bengaluru',\n",
       " 'Bangalore/Bengaluru',\n",
       " 'Bangalore/Bengaluru']"
      ]
     },
     "execution_count": 130,
     "metadata": {},
     "output_type": "execute_result"
    }
   ],
   "source": [
    "for i in location_tags:\n",
    "    location=i.text\n",
    "    locations_list.append(location)\n",
    "locations_list[0:10]"
   ]
  },
  {
   "cell_type": "code",
   "execution_count": 131,
   "id": "71013a53",
   "metadata": {},
   "outputs": [
    {
     "data": {
      "text/html": [
       "<div>\n",
       "<style scoped>\n",
       "    .dataframe tbody tr th:only-of-type {\n",
       "        vertical-align: middle;\n",
       "    }\n",
       "\n",
       "    .dataframe tbody tr th {\n",
       "        vertical-align: top;\n",
       "    }\n",
       "\n",
       "    .dataframe thead th {\n",
       "        text-align: right;\n",
       "    }\n",
       "</style>\n",
       "<table border=\"1\" class=\"dataframe\">\n",
       "  <thead>\n",
       "    <tr style=\"text-align: right;\">\n",
       "      <th></th>\n",
       "      <th>title</th>\n",
       "      <th>company</th>\n",
       "      <th>experience_required</th>\n",
       "      <th>location</th>\n",
       "    </tr>\n",
       "  </thead>\n",
       "  <tbody>\n",
       "    <tr>\n",
       "      <th>0</th>\n",
       "      <td>Data Scientist: Advanced Analytics</td>\n",
       "      <td>IBM</td>\n",
       "      <td>3-7 Yrs</td>\n",
       "      <td>Bengaluru/Bangalore</td>\n",
       "    </tr>\n",
       "    <tr>\n",
       "      <th>1</th>\n",
       "      <td>Data Scientist: Artificial Intelligence</td>\n",
       "      <td>IBM</td>\n",
       "      <td>3-6 Yrs</td>\n",
       "      <td>Bangalore/Bengaluru</td>\n",
       "    </tr>\n",
       "    <tr>\n",
       "      <th>2</th>\n",
       "      <td>Data Scientist: Artificial Intelligence</td>\n",
       "      <td>IBM</td>\n",
       "      <td>0-5 Yrs</td>\n",
       "      <td>Bengaluru/Bangalore</td>\n",
       "    </tr>\n",
       "    <tr>\n",
       "      <th>3</th>\n",
       "      <td>Data Scientist: Artificial Intelligence</td>\n",
       "      <td>IBM</td>\n",
       "      <td>7-12 Yrs</td>\n",
       "      <td>Bengaluru/Bangalore</td>\n",
       "    </tr>\n",
       "    <tr>\n",
       "      <th>4</th>\n",
       "      <td>Data Scientist: Artificial Intelligence</td>\n",
       "      <td>IBM</td>\n",
       "      <td>3-7 Yrs</td>\n",
       "      <td>Bengaluru/Bangalore</td>\n",
       "    </tr>\n",
       "    <tr>\n",
       "      <th>5</th>\n",
       "      <td>Sr. Data Scientist</td>\n",
       "      <td>HUDSON'S BAY SERVICES PRIVATE LIMITED</td>\n",
       "      <td>0-2 Yrs</td>\n",
       "      <td>Bangalore/Bengaluru</td>\n",
       "    </tr>\n",
       "    <tr>\n",
       "      <th>6</th>\n",
       "      <td>Lead Data Scientist</td>\n",
       "      <td>TransOrg Solutions Services (P) Ltd.</td>\n",
       "      <td>4-7 Yrs</td>\n",
       "      <td>Bangalore/Bengaluru, Delhi / NCR, Mumbai (All ...</td>\n",
       "    </tr>\n",
       "    <tr>\n",
       "      <th>7</th>\n",
       "      <td>Senior Data Scientist</td>\n",
       "      <td>Walmart</td>\n",
       "      <td>2-7 Yrs</td>\n",
       "      <td>Bangalore/Bengaluru</td>\n",
       "    </tr>\n",
       "    <tr>\n",
       "      <th>8</th>\n",
       "      <td>Cognitive/AI Senior Data Scientist</td>\n",
       "      <td>IBM</td>\n",
       "      <td>6-10 Yrs</td>\n",
       "      <td>Bangalore/Bengaluru</td>\n",
       "    </tr>\n",
       "    <tr>\n",
       "      <th>9</th>\n",
       "      <td>Lead - Data Scientist</td>\n",
       "      <td>Applied Materials</td>\n",
       "      <td>1-4 Yrs</td>\n",
       "      <td>Bangalore/Bengaluru</td>\n",
       "    </tr>\n",
       "    <tr>\n",
       "      <th>10</th>\n",
       "      <td>Data Scientist</td>\n",
       "      <td>Aurigo Software Technologies Pvt Ltd</td>\n",
       "      <td>2-5 Yrs</td>\n",
       "      <td>Bangalore/Bengaluru\\n(WFH during Covid)</td>\n",
       "    </tr>\n",
       "    <tr>\n",
       "      <th>11</th>\n",
       "      <td>Senior Associate - Data Scientist</td>\n",
       "      <td>Affine</td>\n",
       "      <td>7-10 Yrs</td>\n",
       "      <td>Remote</td>\n",
       "    </tr>\n",
       "    <tr>\n",
       "      <th>12</th>\n",
       "      <td>Data Scientist: Artificial Intelligence</td>\n",
       "      <td>IBM</td>\n",
       "      <td>1-4 Yrs</td>\n",
       "      <td>Bangalore/Bengaluru</td>\n",
       "    </tr>\n",
       "    <tr>\n",
       "      <th>13</th>\n",
       "      <td>Data Scientist: Artificial Intelligence</td>\n",
       "      <td>IBM</td>\n",
       "      <td>5-8 Yrs</td>\n",
       "      <td>Bengaluru/Bangalore</td>\n",
       "    </tr>\n",
       "    <tr>\n",
       "      <th>14</th>\n",
       "      <td>Rolls-Royce Data Labs : Data Scientist</td>\n",
       "      <td>Rolls Royce</td>\n",
       "      <td>2-4 Yrs</td>\n",
       "      <td>Bangalore/Bengaluru</td>\n",
       "    </tr>\n",
       "    <tr>\n",
       "      <th>15</th>\n",
       "      <td>Data Scientist</td>\n",
       "      <td>Applied Materials</td>\n",
       "      <td>3-6 Yrs</td>\n",
       "      <td>Bangalore/Bengaluru</td>\n",
       "    </tr>\n",
       "    <tr>\n",
       "      <th>16</th>\n",
       "      <td>Staff Data Scientist</td>\n",
       "      <td>Walmart</td>\n",
       "      <td>6-10 Yrs</td>\n",
       "      <td>Bangalore/Bengaluru</td>\n",
       "    </tr>\n",
       "    <tr>\n",
       "      <th>17</th>\n",
       "      <td>Data Scientist: Artificial Intelligence</td>\n",
       "      <td>IBM</td>\n",
       "      <td>4-8 Yrs</td>\n",
       "      <td>Bangalore/Bengaluru</td>\n",
       "    </tr>\n",
       "    <tr>\n",
       "      <th>18</th>\n",
       "      <td>Staff Data Scientist</td>\n",
       "      <td>Walmart</td>\n",
       "      <td>5-8 Yrs</td>\n",
       "      <td>Bangalore/Bengaluru</td>\n",
       "    </tr>\n",
       "    <tr>\n",
       "      <th>19</th>\n",
       "      <td>Data Scientist</td>\n",
       "      <td>CRED</td>\n",
       "      <td>1-3 Yrs</td>\n",
       "      <td>Bangalore/Bengaluru</td>\n",
       "    </tr>\n",
       "  </tbody>\n",
       "</table>\n",
       "</div>"
      ],
      "text/plain": [
       "                                      title  \\\n",
       "0        Data Scientist: Advanced Analytics   \n",
       "1   Data Scientist: Artificial Intelligence   \n",
       "2   Data Scientist: Artificial Intelligence   \n",
       "3   Data Scientist: Artificial Intelligence   \n",
       "4   Data Scientist: Artificial Intelligence   \n",
       "5                        Sr. Data Scientist   \n",
       "6                       Lead Data Scientist   \n",
       "7                     Senior Data Scientist   \n",
       "8        Cognitive/AI Senior Data Scientist   \n",
       "9                     Lead - Data Scientist   \n",
       "10                           Data Scientist   \n",
       "11        Senior Associate - Data Scientist   \n",
       "12  Data Scientist: Artificial Intelligence   \n",
       "13  Data Scientist: Artificial Intelligence   \n",
       "14   Rolls-Royce Data Labs : Data Scientist   \n",
       "15                           Data Scientist   \n",
       "16                     Staff Data Scientist   \n",
       "17  Data Scientist: Artificial Intelligence   \n",
       "18                     Staff Data Scientist   \n",
       "19                           Data Scientist   \n",
       "\n",
       "                                  company experience_required  \\\n",
       "0                                     IBM             3-7 Yrs   \n",
       "1                                     IBM             3-6 Yrs   \n",
       "2                                     IBM             0-5 Yrs   \n",
       "3                                     IBM            7-12 Yrs   \n",
       "4                                     IBM             3-7 Yrs   \n",
       "5   HUDSON'S BAY SERVICES PRIVATE LIMITED             0-2 Yrs   \n",
       "6    TransOrg Solutions Services (P) Ltd.             4-7 Yrs   \n",
       "7                                 Walmart             2-7 Yrs   \n",
       "8                                     IBM            6-10 Yrs   \n",
       "9                       Applied Materials             1-4 Yrs   \n",
       "10   Aurigo Software Technologies Pvt Ltd             2-5 Yrs   \n",
       "11                                 Affine            7-10 Yrs   \n",
       "12                                    IBM             1-4 Yrs   \n",
       "13                                    IBM             5-8 Yrs   \n",
       "14                            Rolls Royce             2-4 Yrs   \n",
       "15                      Applied Materials             3-6 Yrs   \n",
       "16                                Walmart            6-10 Yrs   \n",
       "17                                    IBM             4-8 Yrs   \n",
       "18                                Walmart             5-8 Yrs   \n",
       "19                                   CRED             1-3 Yrs   \n",
       "\n",
       "                                             location  \n",
       "0                                 Bengaluru/Bangalore  \n",
       "1                                 Bangalore/Bengaluru  \n",
       "2                                 Bengaluru/Bangalore  \n",
       "3                                 Bengaluru/Bangalore  \n",
       "4                                 Bengaluru/Bangalore  \n",
       "5                                 Bangalore/Bengaluru  \n",
       "6   Bangalore/Bengaluru, Delhi / NCR, Mumbai (All ...  \n",
       "7                                 Bangalore/Bengaluru  \n",
       "8                                 Bangalore/Bengaluru  \n",
       "9                                 Bangalore/Bengaluru  \n",
       "10            Bangalore/Bengaluru\\n(WFH during Covid)  \n",
       "11                                             Remote  \n",
       "12                                Bangalore/Bengaluru  \n",
       "13                                Bengaluru/Bangalore  \n",
       "14                                Bangalore/Bengaluru  \n",
       "15                                Bangalore/Bengaluru  \n",
       "16                                Bangalore/Bengaluru  \n",
       "17                                Bangalore/Bengaluru  \n",
       "18                                Bangalore/Bengaluru  \n",
       "19                                Bangalore/Bengaluru  "
      ]
     },
     "execution_count": 131,
     "metadata": {},
     "output_type": "execute_result"
    }
   ],
   "source": [
    "jobs=pd.DataFrame({})\n",
    "jobs['title']=job_titles\n",
    "jobs['company']=company_names\n",
    "jobs['experience_required']=experience_list\n",
    "jobs['location']=locations_list\n",
    "\n",
    "jobs"
   ]
  },
  {
   "cell_type": "markdown",
   "id": "22c7f28b",
   "metadata": {},
   "source": [
    "# Answer 9"
   ]
  },
  {
   "cell_type": "code",
   "execution_count": 297,
   "id": "7ddad609",
   "metadata": {},
   "outputs": [],
   "source": [
    "driver = webdriver.Chrome(r'C:\\web driver\\chromedriver.exe')\n",
    "\n",
    "url = \"https://www.ambitionbox.com/\"\n",
    "\n",
    "driver.get(url)\n",
    "\n",
    "driver.maximize_window()"
   ]
  },
  {
   "cell_type": "code",
   "execution_count": 298,
   "id": "5a3ff069",
   "metadata": {},
   "outputs": [],
   "source": [
    "search_job = driver.find_element_by_xpath('/html/body/div/div/div/div[2]/div[1]/div[1]/div/div/div/div/span/input')\n",
    "search_job.send_keys(\"Data scientist\")"
   ]
  },
  {
   "cell_type": "code",
   "execution_count": 300,
   "id": "a56ff279",
   "metadata": {},
   "outputs": [],
   "source": [
    "search_button=driver.find_element_by_xpath('/html/body/div/div/div/div[2]/div[1]/div[1]/div/div/div/button')\n",
    "search_button.click()"
   ]
  },
  {
   "cell_type": "code",
   "execution_count": 301,
   "id": "338db0e5",
   "metadata": {},
   "outputs": [
    {
     "data": {
      "text/plain": [
       "['GENPACT India Private Limited',\n",
       " 'EXL Services.com ( I ) Pvt. Ltd.',\n",
       " 'GENPACT India Private Limited',\n",
       " 'TECHNIP GLOBAL BUSINESS SERVICES PRIVATE LIMITED',\n",
       " 'GENPACT India Private Limited',\n",
       " 'Bristlecone India Limited',\n",
       " 'Zyoin',\n",
       " 'Ashkom Media India Private Limited',\n",
       " 'Newgen Software Technologies Ltd.',\n",
       " 'JK Technosoft Ltd']"
      ]
     },
     "execution_count": 301,
     "metadata": {},
     "output_type": "execute_result"
    }
   ],
   "source": [
    "company_Name = driver.find_elements_by_xpath(\"//p[@class='company body-medium']\")\n",
    "company_Name\n",
    "\n",
    "company_Name1 = []\n",
    "\n",
    "\n",
    "for i in company_Name:\n",
    "    company_Name1.append(i.text)\n",
    "company_Name1 = company_Name1[0:10]\n",
    "company_Name1 = company_Name1[0:10]\n",
    "\n",
    "company_Name1\n",
    "\n"
   ]
  },
  {
   "cell_type": "code",
   "execution_count": 302,
   "id": "ef4942c2",
   "metadata": {},
   "outputs": [
    {
     "data": {
      "text/plain": [
       "['4.0', '3.9', '4.0', '3.9', '4.0', '3.8', '4.1', '3.7', '3.5', '3.7']"
      ]
     },
     "execution_count": 302,
     "metadata": {},
     "output_type": "execute_result"
    }
   ],
   "source": [
    "company_rating = driver.find_elements_by_xpath(\"//span[@class='body-small']\")\n",
    "company_rating\n",
    "\n",
    "company_rating1 = []\n",
    "\n",
    "for i in company_rating:\n",
    "    company_rating1.append(i.text)\n",
    "    \n",
    "company_rating1 = company_rating1[0:10]\n",
    "company_rating1"
   ]
  },
  {
   "cell_type": "code",
   "execution_count": 303,
   "id": "d16ee043",
   "metadata": {},
   "outputs": [
    {
     "data": {
      "text/plain": [
       "['14d ago',\n",
       " 'via naukri.com',\n",
       " '7d ago',\n",
       " 'via naukri.com',\n",
       " '19d ago',\n",
       " 'via naukri.com',\n",
       " '5d ago',\n",
       " 'via naukri.com',\n",
       " '1mon ago',\n",
       " 'via naukri.com']"
      ]
     },
     "execution_count": 303,
     "metadata": {},
     "output_type": "execute_result"
    }
   ],
   "source": [
    "posted_on = driver.find_elements_by_xpath(\"//span[@class='body-small-l']\")\n",
    "posted_on\n",
    "\n",
    "posted_on1 = []\n",
    "\n",
    "for i in posted_on:\n",
    "    posted_on1.append(i.text)\n",
    "posted_on1 = posted_on1[0:10]\n",
    "posted_on1"
   ]
  },
  {
   "cell_type": "code",
   "execution_count": 304,
   "id": "dbac226e",
   "metadata": {},
   "outputs": [
    {
     "data": {
      "text/html": [
       "<div>\n",
       "<style scoped>\n",
       "    .dataframe tbody tr th:only-of-type {\n",
       "        vertical-align: middle;\n",
       "    }\n",
       "\n",
       "    .dataframe tbody tr th {\n",
       "        vertical-align: top;\n",
       "    }\n",
       "\n",
       "    .dataframe thead th {\n",
       "        text-align: right;\n",
       "    }\n",
       "</style>\n",
       "<table border=\"1\" class=\"dataframe\">\n",
       "  <thead>\n",
       "    <tr style=\"text-align: right;\">\n",
       "      <th></th>\n",
       "      <th>company_name</th>\n",
       "      <th>company_rating</th>\n",
       "      <th>posted_on</th>\n",
       "    </tr>\n",
       "  </thead>\n",
       "  <tbody>\n",
       "    <tr>\n",
       "      <th>0</th>\n",
       "      <td>GENPACT India Private Limited</td>\n",
       "      <td>4.0</td>\n",
       "      <td>14d ago</td>\n",
       "    </tr>\n",
       "    <tr>\n",
       "      <th>1</th>\n",
       "      <td>EXL Services.com ( I ) Pvt. Ltd.</td>\n",
       "      <td>3.9</td>\n",
       "      <td>via naukri.com</td>\n",
       "    </tr>\n",
       "    <tr>\n",
       "      <th>2</th>\n",
       "      <td>GENPACT India Private Limited</td>\n",
       "      <td>4.0</td>\n",
       "      <td>7d ago</td>\n",
       "    </tr>\n",
       "    <tr>\n",
       "      <th>3</th>\n",
       "      <td>TECHNIP GLOBAL BUSINESS SERVICES PRIVATE LIMITED</td>\n",
       "      <td>3.9</td>\n",
       "      <td>via naukri.com</td>\n",
       "    </tr>\n",
       "    <tr>\n",
       "      <th>4</th>\n",
       "      <td>GENPACT India Private Limited</td>\n",
       "      <td>4.0</td>\n",
       "      <td>19d ago</td>\n",
       "    </tr>\n",
       "    <tr>\n",
       "      <th>5</th>\n",
       "      <td>Bristlecone India Limited</td>\n",
       "      <td>3.8</td>\n",
       "      <td>via naukri.com</td>\n",
       "    </tr>\n",
       "    <tr>\n",
       "      <th>6</th>\n",
       "      <td>Zyoin</td>\n",
       "      <td>4.1</td>\n",
       "      <td>5d ago</td>\n",
       "    </tr>\n",
       "    <tr>\n",
       "      <th>7</th>\n",
       "      <td>Ashkom Media India Private Limited</td>\n",
       "      <td>3.7</td>\n",
       "      <td>via naukri.com</td>\n",
       "    </tr>\n",
       "    <tr>\n",
       "      <th>8</th>\n",
       "      <td>Newgen Software Technologies Ltd.</td>\n",
       "      <td>3.5</td>\n",
       "      <td>1mon ago</td>\n",
       "    </tr>\n",
       "    <tr>\n",
       "      <th>9</th>\n",
       "      <td>JK Technosoft Ltd</td>\n",
       "      <td>3.7</td>\n",
       "      <td>via naukri.com</td>\n",
       "    </tr>\n",
       "  </tbody>\n",
       "</table>\n",
       "</div>"
      ],
      "text/plain": [
       "                                       company_name company_rating  \\\n",
       "0                     GENPACT India Private Limited            4.0   \n",
       "1                  EXL Services.com ( I ) Pvt. Ltd.            3.9   \n",
       "2                     GENPACT India Private Limited            4.0   \n",
       "3  TECHNIP GLOBAL BUSINESS SERVICES PRIVATE LIMITED            3.9   \n",
       "4                     GENPACT India Private Limited            4.0   \n",
       "5                         Bristlecone India Limited            3.8   \n",
       "6                                             Zyoin            4.1   \n",
       "7                Ashkom Media India Private Limited            3.7   \n",
       "8                 Newgen Software Technologies Ltd.            3.5   \n",
       "9                                 JK Technosoft Ltd            3.7   \n",
       "\n",
       "        posted_on  \n",
       "0         14d ago  \n",
       "1  via naukri.com  \n",
       "2          7d ago  \n",
       "3  via naukri.com  \n",
       "4         19d ago  \n",
       "5  via naukri.com  \n",
       "6          5d ago  \n",
       "7  via naukri.com  \n",
       "8        1mon ago  \n",
       "9  via naukri.com  "
      ]
     },
     "execution_count": 304,
     "metadata": {},
     "output_type": "execute_result"
    }
   ],
   "source": [
    "df3 = pd.DataFrame({})\n",
    "df3['company_name'] = company_Name1\n",
    "df3['company_rating'] = company_rating1\n",
    "df3['posted_on'] = posted_on1\n",
    "\n",
    "df3"
   ]
  },
  {
   "cell_type": "markdown",
   "id": "5ea6abdd",
   "metadata": {},
   "source": [
    "# Answer 3"
   ]
  },
  {
   "cell_type": "code",
   "execution_count": null,
   "id": "294adbb6",
   "metadata": {},
   "outputs": [],
   "source": [
    "import selenium\n",
    "import pandas as pd\n",
    "from selenium import webdriver"
   ]
  },
  {
   "cell_type": "code",
   "execution_count": 48,
   "id": "822b933b",
   "metadata": {},
   "outputs": [],
   "source": [
    "driver = webdriver.Chrome(r'C:\\web driver\\chromedriver.exe')"
   ]
  },
  {
   "cell_type": "code",
   "execution_count": 49,
   "id": "17127cd4",
   "metadata": {},
   "outputs": [],
   "source": [
    "url = \"https://www.naukri.com/browse-jobs\"\n",
    "\n",
    "driver.get(url)\n",
    "\n",
    "\n",
    "\n",
    "#entering \"Data Analyst\" in job search bar using selenium driver\n",
    "search_job = driver.find_element_by_class_name('sugInp')\n",
    "search_job.send_keys(\"Data Scientist\")\n",
    "\n",
    "#clicking submit button using selenium deriver\n",
    "submit_button = driver.find_element_by_id(\"qsbFormBtn\")\n",
    "submit_button.click()"
   ]
  },
  {
   "cell_type": "code",
   "execution_count": 50,
   "id": "e1296163",
   "metadata": {},
   "outputs": [
    {
     "data": {
      "text/plain": [
       "['TransOrg Solutions Services (P) Ltd.',\n",
       " 'TransOrg Solutions Services (P) Ltd.',\n",
       " 'Fractal Analytics',\n",
       " 'Ocrolus East',\n",
       " 'IBM',\n",
       " 'VISA',\n",
       " 'IBM',\n",
       " 'IBM',\n",
       " 'IBM',\n",
       " 'IBM',\n",
       " 'Fractal Analytics',\n",
       " 'PayU',\n",
       " 'Ashkom Media India Private Limited',\n",
       " 'Walmart',\n",
       " 'IBM',\n",
       " 'Pasona',\n",
       " 'INOVARTECH PRIVATE LIMITED',\n",
       " 'Huquo Consulting Pvt. Ltd',\n",
       " 'Applied Materials',\n",
       " \"HUDSON'S BAY SERVICES PRIVATE LIMITED\"]"
      ]
     },
     "execution_count": 50,
     "metadata": {},
     "output_type": "execute_result"
    }
   ],
   "source": [
    "title_tags2= driver.find_elements_by_xpath(\"//a[@class='title fw500 ellipsis']\")\n",
    "title_tags2\n",
    "\n",
    "\n",
    "job_title2 =[]\n",
    "\n",
    "for i in title_tags2:\n",
    "    job_title2.append(i.text)\n",
    "\n",
    "\n",
    "job_title2\n",
    "\n",
    "\n",
    "location_tag2 = driver.find_elements_by_xpath(\"//span[@class='ellipsis fleft fs12 lh16']\")\n",
    "location_tag2\n",
    "\n",
    "\n",
    "location3 =[]\n",
    "\n",
    "for i in location_tag2[2::3]:\n",
    "    location3.append(i.text)\n",
    "\n",
    "\n",
    "location3\n",
    "\n",
    "experience_2 = driver.find_elements_by_xpath(\"//i[@class='fleft icon-16 lh16 mr-4 naukicon naukicon-experience']//span\")\n",
    "experience_2\n",
    "\n",
    "\n",
    "experience2 = []\n",
    "for i in location_tag2[0::3]:\n",
    "    experience2.append(i.text)\n",
    "\n",
    "experience2\n",
    "\n",
    "\n",
    "company_tag2 = driver.find_elements_by_xpath(\"//a[@class='subTitle ellipsis fleft']\")\n",
    "company_tag2\n",
    "\n",
    "company_name2 = []\n",
    "\n",
    "for i in company_tag2:\n",
    "    company_name2.append(i.text)\n",
    "\n",
    "\n",
    "company_name2"
   ]
  },
  {
   "cell_type": "code",
   "execution_count": 51,
   "id": "ed23c2e4",
   "metadata": {},
   "outputs": [
    {
     "name": "stdout",
     "output_type": "stream",
     "text": [
      "20 20 0 0\n"
     ]
    }
   ],
   "source": [
    "print(len(job_title2),len(company_name2),len(experience2),len( location3))"
   ]
  },
  {
   "cell_type": "code",
   "execution_count": 52,
   "id": "edbf4852",
   "metadata": {},
   "outputs": [
    {
     "data": {
      "text/html": [
       "<div>\n",
       "<style scoped>\n",
       "    .dataframe tbody tr th:only-of-type {\n",
       "        vertical-align: middle;\n",
       "    }\n",
       "\n",
       "    .dataframe tbody tr th {\n",
       "        vertical-align: top;\n",
       "    }\n",
       "\n",
       "    .dataframe thead th {\n",
       "        text-align: right;\n",
       "    }\n",
       "</style>\n",
       "<table border=\"1\" class=\"dataframe\">\n",
       "  <thead>\n",
       "    <tr style=\"text-align: right;\">\n",
       "      <th></th>\n",
       "      <th>Job_title</th>\n",
       "      <th>Company_name</th>\n",
       "    </tr>\n",
       "  </thead>\n",
       "  <tbody>\n",
       "    <tr>\n",
       "      <th>0</th>\n",
       "      <td>Data Scientist/ Analyst Specialist</td>\n",
       "      <td>TransOrg Solutions Services (P) Ltd.</td>\n",
       "    </tr>\n",
       "    <tr>\n",
       "      <th>1</th>\n",
       "      <td>Lead Data Scientist</td>\n",
       "      <td>TransOrg Solutions Services (P) Ltd.</td>\n",
       "    </tr>\n",
       "    <tr>\n",
       "      <th>2</th>\n",
       "      <td>Senior Data Scientist</td>\n",
       "      <td>Fractal Analytics</td>\n",
       "    </tr>\n",
       "    <tr>\n",
       "      <th>3</th>\n",
       "      <td>Senior Data Scientist</td>\n",
       "      <td>Ocrolus East</td>\n",
       "    </tr>\n",
       "    <tr>\n",
       "      <th>4</th>\n",
       "      <td>Data Scientist: Advanced Analytics</td>\n",
       "      <td>IBM</td>\n",
       "    </tr>\n",
       "    <tr>\n",
       "      <th>5</th>\n",
       "      <td>Data Scientist</td>\n",
       "      <td>VISA</td>\n",
       "    </tr>\n",
       "    <tr>\n",
       "      <th>6</th>\n",
       "      <td>Data Scientist: Artificial Intelligence</td>\n",
       "      <td>IBM</td>\n",
       "    </tr>\n",
       "    <tr>\n",
       "      <th>7</th>\n",
       "      <td>Data Scientist: Artificial Intelligence</td>\n",
       "      <td>IBM</td>\n",
       "    </tr>\n",
       "    <tr>\n",
       "      <th>8</th>\n",
       "      <td>Data Scientist: Artificial Intelligence</td>\n",
       "      <td>IBM</td>\n",
       "    </tr>\n",
       "    <tr>\n",
       "      <th>9</th>\n",
       "      <td>Data Scientist: Artificial Intelligence</td>\n",
       "      <td>IBM</td>\n",
       "    </tr>\n",
       "    <tr>\n",
       "      <th>10</th>\n",
       "      <td>Data Scientist, Machine Learning (AIML)</td>\n",
       "      <td>Fractal Analytics</td>\n",
       "    </tr>\n",
       "    <tr>\n",
       "      <th>11</th>\n",
       "      <td>Data Scientist Opportunity with PayU - Diversi...</td>\n",
       "      <td>PayU</td>\n",
       "    </tr>\n",
       "    <tr>\n",
       "      <th>12</th>\n",
       "      <td>Data Scientist</td>\n",
       "      <td>Ashkom Media India Private Limited</td>\n",
       "    </tr>\n",
       "    <tr>\n",
       "      <th>13</th>\n",
       "      <td>Senior Data Scientist</td>\n",
       "      <td>Walmart</td>\n",
       "    </tr>\n",
       "    <tr>\n",
       "      <th>14</th>\n",
       "      <td>Cognitive/AI Senior Data Scientist</td>\n",
       "      <td>IBM</td>\n",
       "    </tr>\n",
       "    <tr>\n",
       "      <th>15</th>\n",
       "      <td>Data Scientist</td>\n",
       "      <td>Pasona</td>\n",
       "    </tr>\n",
       "    <tr>\n",
       "      <th>16</th>\n",
       "      <td>Data Scientist / Lead Data Engineer (SQL, Azur...</td>\n",
       "      <td>INOVARTECH PRIVATE LIMITED</td>\n",
       "    </tr>\n",
       "    <tr>\n",
       "      <th>17</th>\n",
       "      <td>Assistant Manager/Manager/Senior Manager - Dat...</td>\n",
       "      <td>Huquo Consulting Pvt. Ltd</td>\n",
       "    </tr>\n",
       "    <tr>\n",
       "      <th>18</th>\n",
       "      <td>Lead - Data Scientist</td>\n",
       "      <td>Applied Materials</td>\n",
       "    </tr>\n",
       "    <tr>\n",
       "      <th>19</th>\n",
       "      <td>Sr. Data Scientist</td>\n",
       "      <td>HUDSON'S BAY SERVICES PRIVATE LIMITED</td>\n",
       "    </tr>\n",
       "  </tbody>\n",
       "</table>\n",
       "</div>"
      ],
      "text/plain": [
       "                                            Job_title  \\\n",
       "0                  Data Scientist/ Analyst Specialist   \n",
       "1                                 Lead Data Scientist   \n",
       "2                               Senior Data Scientist   \n",
       "3                               Senior Data Scientist   \n",
       "4                  Data Scientist: Advanced Analytics   \n",
       "5                                      Data Scientist   \n",
       "6             Data Scientist: Artificial Intelligence   \n",
       "7             Data Scientist: Artificial Intelligence   \n",
       "8             Data Scientist: Artificial Intelligence   \n",
       "9             Data Scientist: Artificial Intelligence   \n",
       "10            Data Scientist, Machine Learning (AIML)   \n",
       "11  Data Scientist Opportunity with PayU - Diversi...   \n",
       "12                                     Data Scientist   \n",
       "13                              Senior Data Scientist   \n",
       "14                 Cognitive/AI Senior Data Scientist   \n",
       "15                                     Data Scientist   \n",
       "16  Data Scientist / Lead Data Engineer (SQL, Azur...   \n",
       "17  Assistant Manager/Manager/Senior Manager - Dat...   \n",
       "18                              Lead - Data Scientist   \n",
       "19                                 Sr. Data Scientist   \n",
       "\n",
       "                             Company_name  \n",
       "0    TransOrg Solutions Services (P) Ltd.  \n",
       "1    TransOrg Solutions Services (P) Ltd.  \n",
       "2                       Fractal Analytics  \n",
       "3                            Ocrolus East  \n",
       "4                                     IBM  \n",
       "5                                    VISA  \n",
       "6                                     IBM  \n",
       "7                                     IBM  \n",
       "8                                     IBM  \n",
       "9                                     IBM  \n",
       "10                      Fractal Analytics  \n",
       "11                                   PayU  \n",
       "12     Ashkom Media India Private Limited  \n",
       "13                                Walmart  \n",
       "14                                    IBM  \n",
       "15                                 Pasona  \n",
       "16             INOVARTECH PRIVATE LIMITED  \n",
       "17              Huquo Consulting Pvt. Ltd  \n",
       "18                      Applied Materials  \n",
       "19  HUDSON'S BAY SERVICES PRIVATE LIMITED  "
      ]
     },
     "execution_count": 52,
     "metadata": {},
     "output_type": "execute_result"
    }
   ],
   "source": [
    "df2 = pd.DataFrame({})\n",
    "df2['Job_title'] = job_title2\n",
    "df2['Company_name'] = company_name2\n",
    "df2"
   ]
  },
  {
   "cell_type": "markdown",
   "id": "2160891b",
   "metadata": {},
   "source": [
    "# Answer 4"
   ]
  },
  {
   "cell_type": "code",
   "execution_count": 338,
   "id": "8dfdb17c",
   "metadata": {},
   "outputs": [],
   "source": [
    "driver = webdriver.Chrome(r'C:\\web driver\\chromedriver.exe')\n",
    "url = \"https://www.flipkart.com/\"\n",
    "driver.get(url)\n",
    "driver.maximize_window()"
   ]
  },
  {
   "cell_type": "code",
   "execution_count": 339,
   "id": "70c897ae",
   "metadata": {},
   "outputs": [],
   "source": [
    "search_glass = driver.find_element_by_class_name('_3704LK')\n",
    "search_glass.send_keys(\"Sun Glasses\")\n",
    "button_1 = driver.find_element_by_xpath('/html/body/div[2]/div/div/button')\n",
    "button_1.click()\n",
    "driver.implicitly_wait(3)\n",
    "click_button = driver.find_element_by_class_name(\"L0Z3Pu\")\n",
    "click_button.click()\n"
   ]
  },
  {
   "cell_type": "code",
   "execution_count": 340,
   "id": "4d914423",
   "metadata": {},
   "outputs": [],
   "source": [
    "brand_name = []\n",
    "prd_desc = []\n",
    "price = []"
   ]
  },
  {
   "cell_type": "code",
   "execution_count": 343,
   "id": "6072a0d6",
   "metadata": {},
   "outputs": [],
   "source": [
    "for k in range(1,4):\n",
    "\n",
    "    \n",
    "    brand = driver.find_elements_by_class_name('_2WkVRV')\n",
    "    \n",
    "\n",
    "    for i in brand:\n",
    "        brand_name.append(i.text)\n",
    "\n",
    "    desc = driver.find_elements_by_class_name('IRpwTa')\n",
    "    \n",
    "\n",
    "    for i in desc:\n",
    "        prd_desc.append(i.text)\n",
    "\n",
    "    cost = driver.find_elements_by_class_name(\"_30jeq3\")\n",
    "    \n",
    "\n",
    "    for i in cost:\n",
    "        price.append(i.text)\n",
    "        nxt_button=driver.find_elements_by_xpath(\"//a[@class='_1LKTO3']\")              \n",
    "\n",
    "    try:\n",
    "\n",
    "        driver.get(nxt_button[1].get_attribute('href'))\n",
    "        \n",
    "\n",
    "    except:\n",
    "\n",
    "        driver.get(nxt_button[0].get_attribute('href'))\n",
    "\n"
   ]
  },
  {
   "cell_type": "code",
   "execution_count": 344,
   "id": "d9a46db5",
   "metadata": {},
   "outputs": [],
   "source": [
    "brand_name = brand_name[0:100]\n",
    "prd_desc = prd_desc[0:100]\n",
    "price = price[0:100]"
   ]
  },
  {
   "cell_type": "code",
   "execution_count": 345,
   "id": "206b7a5a",
   "metadata": {},
   "outputs": [],
   "source": [
    "df4 = pd.DataFrame({})\n",
    "df4['brand_name'] = brand_name\n",
    "df4['prd_desc'] = prd_desc\n",
    "df4['[price]'] = price"
   ]
  },
  {
   "cell_type": "code",
   "execution_count": 346,
   "id": "3401e321",
   "metadata": {},
   "outputs": [
    {
     "data": {
      "text/html": [
       "<div>\n",
       "<style scoped>\n",
       "    .dataframe tbody tr th:only-of-type {\n",
       "        vertical-align: middle;\n",
       "    }\n",
       "\n",
       "    .dataframe tbody tr th {\n",
       "        vertical-align: top;\n",
       "    }\n",
       "\n",
       "    .dataframe thead th {\n",
       "        text-align: right;\n",
       "    }\n",
       "</style>\n",
       "<table border=\"1\" class=\"dataframe\">\n",
       "  <thead>\n",
       "    <tr style=\"text-align: right;\">\n",
       "      <th></th>\n",
       "      <th>brand_name</th>\n",
       "      <th>prd_desc</th>\n",
       "      <th>[price]</th>\n",
       "    </tr>\n",
       "  </thead>\n",
       "  <tbody>\n",
       "    <tr>\n",
       "      <th>0</th>\n",
       "      <td>BAJERO</td>\n",
       "      <td>UV Protection, Polarized, Riding Glasses Retro...</td>\n",
       "      <td>₹1,223</td>\n",
       "    </tr>\n",
       "    <tr>\n",
       "      <th>1</th>\n",
       "      <td>VINCENT CHASE</td>\n",
       "      <td>UV Protection Rectangular Sunglasses (50)</td>\n",
       "      <td>₹599</td>\n",
       "    </tr>\n",
       "    <tr>\n",
       "      <th>2</th>\n",
       "      <td>Fastrack</td>\n",
       "      <td>UV Protection Wayfarer Sunglasses (Free Size)</td>\n",
       "      <td>₹669</td>\n",
       "    </tr>\n",
       "    <tr>\n",
       "      <th>3</th>\n",
       "      <td>Fastrack</td>\n",
       "      <td>UV Protection Rectangular Sunglasses (Free Size)</td>\n",
       "      <td>₹525</td>\n",
       "    </tr>\n",
       "    <tr>\n",
       "      <th>4</th>\n",
       "      <td>Elligator</td>\n",
       "      <td>UV Protection Round Sunglasses (54)</td>\n",
       "      <td>₹305</td>\n",
       "    </tr>\n",
       "    <tr>\n",
       "      <th>...</th>\n",
       "      <td>...</td>\n",
       "      <td>...</td>\n",
       "      <td>...</td>\n",
       "    </tr>\n",
       "    <tr>\n",
       "      <th>95</th>\n",
       "      <td>Fair-x</td>\n",
       "      <td>UV Protection, Mirrored, Riding Glasses Sports...</td>\n",
       "      <td>₹233</td>\n",
       "    </tr>\n",
       "    <tr>\n",
       "      <th>96</th>\n",
       "      <td>PIRASO</td>\n",
       "      <td>UV Protection Aviator Sunglasses (58)</td>\n",
       "      <td>₹199</td>\n",
       "    </tr>\n",
       "    <tr>\n",
       "      <th>97</th>\n",
       "      <td>New Specs</td>\n",
       "      <td>UV Protection Rectangular Sunglasses (Free Size)</td>\n",
       "      <td>₹7,059</td>\n",
       "    </tr>\n",
       "    <tr>\n",
       "      <th>98</th>\n",
       "      <td>Fastrack</td>\n",
       "      <td>UV Protection Aviator Sunglasses (Free Size)</td>\n",
       "      <td>₹249</td>\n",
       "    </tr>\n",
       "    <tr>\n",
       "      <th>99</th>\n",
       "      <td>Arnette</td>\n",
       "      <td>Mirrored Retro Square Sunglasses (56)</td>\n",
       "      <td>₹169</td>\n",
       "    </tr>\n",
       "  </tbody>\n",
       "</table>\n",
       "<p>100 rows × 3 columns</p>\n",
       "</div>"
      ],
      "text/plain": [
       "       brand_name                                           prd_desc [price]\n",
       "0          BAJERO  UV Protection, Polarized, Riding Glasses Retro...  ₹1,223\n",
       "1   VINCENT CHASE          UV Protection Rectangular Sunglasses (50)    ₹599\n",
       "2        Fastrack      UV Protection Wayfarer Sunglasses (Free Size)    ₹669\n",
       "3        Fastrack   UV Protection Rectangular Sunglasses (Free Size)    ₹525\n",
       "4       Elligator                UV Protection Round Sunglasses (54)    ₹305\n",
       "..            ...                                                ...     ...\n",
       "95         Fair-x  UV Protection, Mirrored, Riding Glasses Sports...    ₹233\n",
       "96         PIRASO              UV Protection Aviator Sunglasses (58)    ₹199\n",
       "97      New Specs   UV Protection Rectangular Sunglasses (Free Size)  ₹7,059\n",
       "98       Fastrack       UV Protection Aviator Sunglasses (Free Size)    ₹249\n",
       "99        Arnette              Mirrored Retro Square Sunglasses (56)    ₹169\n",
       "\n",
       "[100 rows x 3 columns]"
      ]
     },
     "execution_count": 346,
     "metadata": {},
     "output_type": "execute_result"
    }
   ],
   "source": [
    "df4"
   ]
  },
  {
   "cell_type": "markdown",
   "id": "c152be5b",
   "metadata": {},
   "source": [
    "# Answer 5"
   ]
  },
  {
   "cell_type": "code",
   "execution_count": 347,
   "id": "fcc6901a",
   "metadata": {},
   "outputs": [],
   "source": [
    "from selenium import webdriver\n",
    "import time\n",
    "from selenium.common.exceptions import StaleElementReferenceException, NoSuchElementException"
   ]
  },
  {
   "cell_type": "code",
   "execution_count": 348,
   "id": "f918c345",
   "metadata": {},
   "outputs": [],
   "source": [
    "driver = webdriver.Chrome(r'C:\\web driver\\chromedriver.exe')\n",
    "url =\"https://www.flipkart.com/apple-iphone-11-black-64-gb-includes-earpods-power-adapter/product-reviews/itm0f37c2240b217?pid=MOBFKCTSVZAXUHGR&lid=LSTMOBFKCTSVZAXUHGREPBFGI&marketplace=FLIPKART&page=1\"\n",
    "driver.get(url)\n",
    "driver.maximize_window()"
   ]
  },
  {
   "cell_type": "code",
   "execution_count": 349,
   "id": "7fecf2b5",
   "metadata": {},
   "outputs": [],
   "source": [
    "urls=[]\n",
    "short_review=[]\n",
    "Rating1 = []\n",
    "full_review = []"
   ]
  },
  {
   "cell_type": "code",
   "execution_count": 350,
   "id": "bf5764cc",
   "metadata": {},
   "outputs": [],
   "source": [
    "for i in range(10):\n",
    "    url=driver.find_element_by_xpath(\"//a[@class='ge-49M']\").get_attribute('href')\n",
    "    driver.get(url)\n",
    "    #for scrapping the short review\n",
    "    for k in driver.find_elements_by_xpath(\"//p[@class='_2-N8zT']\"):\n",
    "        short_review.append(k.text)\n",
    "    for j in driver.find_elements_by_xpath(\"//div[@class='_3LWZlK _1BLPMq']\"):\n",
    "        Rating1.append(j.text)\n",
    "    for m in driver.find_elements_by_xpath (\"//div[@class='']\"):\n",
    "        full_review.append(m.text)"
   ]
  },
  {
   "cell_type": "code",
   "execution_count": 351,
   "id": "58ff604d",
   "metadata": {},
   "outputs": [],
   "source": [
    "df7 = pd.DataFrame({})\n",
    "df7['Short Desc'] = short_review\n",
    "df7['Full Desc'] = full_review\n",
    "df7['Ratings'] = Rating1"
   ]
  },
  {
   "cell_type": "code",
   "execution_count": 352,
   "id": "a4c27570",
   "metadata": {},
   "outputs": [
    {
     "data": {
      "text/html": [
       "<div>\n",
       "<style scoped>\n",
       "    .dataframe tbody tr th:only-of-type {\n",
       "        vertical-align: middle;\n",
       "    }\n",
       "\n",
       "    .dataframe tbody tr th {\n",
       "        vertical-align: top;\n",
       "    }\n",
       "\n",
       "    .dataframe thead th {\n",
       "        text-align: right;\n",
       "    }\n",
       "</style>\n",
       "<table border=\"1\" class=\"dataframe\">\n",
       "  <thead>\n",
       "    <tr style=\"text-align: right;\">\n",
       "      <th></th>\n",
       "      <th>Short Desc</th>\n",
       "      <th>Full Desc</th>\n",
       "      <th>Ratings</th>\n",
       "    </tr>\n",
       "  </thead>\n",
       "  <tbody>\n",
       "    <tr>\n",
       "      <th>0</th>\n",
       "      <td>Highly recommended</td>\n",
       "      <td>iphone 11 is a very good phone to buy only if ...</td>\n",
       "      <td>5</td>\n",
       "    </tr>\n",
       "    <tr>\n",
       "      <th>1</th>\n",
       "      <td>Perfect product!</td>\n",
       "      <td>It’s a must buy who is looking for an upgrade ...</td>\n",
       "      <td>5</td>\n",
       "    </tr>\n",
       "    <tr>\n",
       "      <th>2</th>\n",
       "      <td>Perfect product!</td>\n",
       "      <td>Value for money❤️❤️\\nIts awesome mobile phone ...</td>\n",
       "      <td>5</td>\n",
       "    </tr>\n",
       "    <tr>\n",
       "      <th>3</th>\n",
       "      <td>Worth every penny</td>\n",
       "      <td>Smooth like butter, camera like fantabulous, s...</td>\n",
       "      <td>5</td>\n",
       "    </tr>\n",
       "    <tr>\n",
       "      <th>4</th>\n",
       "      <td>Highly recommended</td>\n",
       "      <td>It's my first time to use iOS phone and I am l...</td>\n",
       "      <td>5</td>\n",
       "    </tr>\n",
       "    <tr>\n",
       "      <th>...</th>\n",
       "      <td>...</td>\n",
       "      <td>...</td>\n",
       "      <td>...</td>\n",
       "    </tr>\n",
       "    <tr>\n",
       "      <th>95</th>\n",
       "      <td>Worth every penny</td>\n",
       "      <td>Previously I was using one plus 3t it was a gr...</td>\n",
       "      <td>5</td>\n",
       "    </tr>\n",
       "    <tr>\n",
       "      <th>96</th>\n",
       "      <td>Great product</td>\n",
       "      <td>Amazing Powerful and Durable Gadget.\\n\\nI’m am...</td>\n",
       "      <td>5</td>\n",
       "    </tr>\n",
       "    <tr>\n",
       "      <th>97</th>\n",
       "      <td>Worth every penny</td>\n",
       "      <td>i11 is worthy to buy, too much happy with the ...</td>\n",
       "      <td>5</td>\n",
       "    </tr>\n",
       "    <tr>\n",
       "      <th>98</th>\n",
       "      <td>Good choice</td>\n",
       "      <td>So far it’s been an AMAZING experience coming ...</td>\n",
       "      <td>4</td>\n",
       "    </tr>\n",
       "    <tr>\n",
       "      <th>99</th>\n",
       "      <td>Highly recommended</td>\n",
       "      <td>What a camera .....just awesome ..you can feel...</td>\n",
       "      <td>5</td>\n",
       "    </tr>\n",
       "  </tbody>\n",
       "</table>\n",
       "<p>100 rows × 3 columns</p>\n",
       "</div>"
      ],
      "text/plain": [
       "            Short Desc                                          Full Desc  \\\n",
       "0   Highly recommended  iphone 11 is a very good phone to buy only if ...   \n",
       "1     Perfect product!  It’s a must buy who is looking for an upgrade ...   \n",
       "2     Perfect product!  Value for money❤️❤️\\nIts awesome mobile phone ...   \n",
       "3    Worth every penny  Smooth like butter, camera like fantabulous, s...   \n",
       "4   Highly recommended  It's my first time to use iOS phone and I am l...   \n",
       "..                 ...                                                ...   \n",
       "95   Worth every penny  Previously I was using one plus 3t it was a gr...   \n",
       "96       Great product  Amazing Powerful and Durable Gadget.\\n\\nI’m am...   \n",
       "97   Worth every penny  i11 is worthy to buy, too much happy with the ...   \n",
       "98         Good choice  So far it’s been an AMAZING experience coming ...   \n",
       "99  Highly recommended  What a camera .....just awesome ..you can feel...   \n",
       "\n",
       "   Ratings  \n",
       "0        5  \n",
       "1        5  \n",
       "2        5  \n",
       "3        5  \n",
       "4        5  \n",
       "..     ...  \n",
       "95       5  \n",
       "96       5  \n",
       "97       5  \n",
       "98       4  \n",
       "99       5  \n",
       "\n",
       "[100 rows x 3 columns]"
      ]
     },
     "execution_count": 352,
     "metadata": {},
     "output_type": "execute_result"
    }
   ],
   "source": [
    "df7"
   ]
  },
  {
   "cell_type": "markdown",
   "id": "711eb67e",
   "metadata": {},
   "source": [
    "# Answer 6"
   ]
  },
  {
   "cell_type": "code",
   "execution_count": 353,
   "id": "37c19789",
   "metadata": {},
   "outputs": [],
   "source": [
    "import selenium\n",
    "import pandas as pd\n",
    "from selenium import webdriver\n",
    "\n",
    "driver = webdriver.Chrome(r'C:\\web driver\\chromedriver.exe')\n",
    "url = \"https://www.flipkart.com/\"\n",
    "driver.get(url)\n",
    "driver.maximize_window() \n",
    "\n",
    "search_glass = driver.find_element_by_class_name('_3704LK')\n",
    "search_glass.send_keys(\"Sneakers\")\n",
    "\n",
    "button_1 = driver.find_element_by_xpath('/html/body/div[2]/div/div/button')\n",
    "button_1.click()\n",
    "driver.implicitly_wait(3)\n",
    "click_button = driver.find_element_by_class_name(\"L0Z3Pu\")\n",
    "click_button.click()\n",
    "\n",
    "brand_name1 = []\n",
    "prd_desc1 = []\n",
    "price1 = []\n",
    "\n",
    "for k in range(1,4):\n",
    "\n",
    "    \n",
    "    brand = driver.find_elements_by_class_name('_2WkVRV')\n",
    "    \n",
    "\n",
    "    for i in brand:\n",
    "        brand_name1.append(i.text)\n",
    "\n",
    "    desc = driver.find_elements_by_class_name('IRpwTa')\n",
    "    \n",
    "\n",
    "    for i in desc:\n",
    "        prd_desc1.append(i.text)\n",
    "\n",
    "    cost = driver.find_elements_by_class_name(\"_30jeq3\")\n",
    "    \n",
    "\n",
    "    for i in cost:\n",
    "        price1.append(i.text)\n",
    "\n",
    " \n",
    "        nxt_button=driver.find_elements_by_xpath(\"//a[@class='_1LKTO3']\")             \n",
    "\n",
    "    try:\n",
    "\n",
    "        driver.get(nxt_button[1].get_attribute('href'))\n",
    "        \n",
    "\n",
    "    except:\n",
    "\n",
    "        driver.get(nxt_button[0].get_attribute('href'))\n"
   ]
  },
  {
   "cell_type": "code",
   "execution_count": 354,
   "id": "123100c6",
   "metadata": {},
   "outputs": [],
   "source": [
    "brand_name1 = brand_name1[0:100]\n",
    "prd_desc1 = prd_desc1[0:100]\n",
    "price1 = price1[0:100]"
   ]
  },
  {
   "cell_type": "code",
   "execution_count": 355,
   "id": "d631dd70",
   "metadata": {},
   "outputs": [
    {
     "data": {
      "text/html": [
       "<div>\n",
       "<style scoped>\n",
       "    .dataframe tbody tr th:only-of-type {\n",
       "        vertical-align: middle;\n",
       "    }\n",
       "\n",
       "    .dataframe tbody tr th {\n",
       "        vertical-align: top;\n",
       "    }\n",
       "\n",
       "    .dataframe thead th {\n",
       "        text-align: right;\n",
       "    }\n",
       "</style>\n",
       "<table border=\"1\" class=\"dataframe\">\n",
       "  <thead>\n",
       "    <tr style=\"text-align: right;\">\n",
       "      <th></th>\n",
       "      <th>brand_name</th>\n",
       "      <th>prd_desc</th>\n",
       "      <th>[price]</th>\n",
       "    </tr>\n",
       "  </thead>\n",
       "  <tbody>\n",
       "    <tr>\n",
       "      <th>0</th>\n",
       "      <td>Navtrend</td>\n",
       "      <td>Sneakers For Men</td>\n",
       "      <td>₹599</td>\n",
       "    </tr>\n",
       "    <tr>\n",
       "      <th>1</th>\n",
       "      <td>ASTEROID</td>\n",
       "      <td>Sneakers For Men</td>\n",
       "      <td>₹549</td>\n",
       "    </tr>\n",
       "    <tr>\n",
       "      <th>2</th>\n",
       "      <td>URBANBOX</td>\n",
       "      <td>Sneakers Sneakers For Men</td>\n",
       "      <td>₹148</td>\n",
       "    </tr>\n",
       "    <tr>\n",
       "      <th>3</th>\n",
       "      <td>BRUTON</td>\n",
       "      <td>Canvas shoes for Men Sneakers For Men</td>\n",
       "      <td>₹299</td>\n",
       "    </tr>\n",
       "    <tr>\n",
       "      <th>4</th>\n",
       "      <td>Labbin</td>\n",
       "      <td>Sneakers For Men</td>\n",
       "      <td>₹449</td>\n",
       "    </tr>\n",
       "    <tr>\n",
       "      <th>...</th>\n",
       "      <td>...</td>\n",
       "      <td>...</td>\n",
       "      <td>...</td>\n",
       "    </tr>\n",
       "    <tr>\n",
       "      <th>95</th>\n",
       "      <td>Layasa</td>\n",
       "      <td>Sneakers For Men</td>\n",
       "      <td>₹1,902</td>\n",
       "    </tr>\n",
       "    <tr>\n",
       "      <th>96</th>\n",
       "      <td>Numenzo</td>\n",
       "      <td>White Sneaker For Men Sneakers For Men</td>\n",
       "      <td>₹2,038</td>\n",
       "    </tr>\n",
       "    <tr>\n",
       "      <th>97</th>\n",
       "      <td>Labbin</td>\n",
       "      <td>Sneakers For Men</td>\n",
       "      <td>₹549</td>\n",
       "    </tr>\n",
       "    <tr>\n",
       "      <th>98</th>\n",
       "      <td>HOTSTYLE</td>\n",
       "      <td>Sneakers For Men</td>\n",
       "      <td>₹706</td>\n",
       "    </tr>\n",
       "    <tr>\n",
       "      <th>99</th>\n",
       "      <td>ASTEROID</td>\n",
       "      <td>Original Luxury Branded Black Fancy Casual Wal...</td>\n",
       "      <td>₹249</td>\n",
       "    </tr>\n",
       "  </tbody>\n",
       "</table>\n",
       "<p>100 rows × 3 columns</p>\n",
       "</div>"
      ],
      "text/plain": [
       "   brand_name                                           prd_desc [price]\n",
       "0    Navtrend                                   Sneakers For Men    ₹599\n",
       "1    ASTEROID                                   Sneakers For Men    ₹549\n",
       "2    URBANBOX                          Sneakers Sneakers For Men    ₹148\n",
       "3      BRUTON              Canvas shoes for Men Sneakers For Men    ₹299\n",
       "4      Labbin                                   Sneakers For Men    ₹449\n",
       "..        ...                                                ...     ...\n",
       "95     Layasa                                   Sneakers For Men  ₹1,902\n",
       "96    Numenzo             White Sneaker For Men Sneakers For Men  ₹2,038\n",
       "97     Labbin                                   Sneakers For Men    ₹549\n",
       "98   HOTSTYLE                                   Sneakers For Men    ₹706\n",
       "99   ASTEROID  Original Luxury Branded Black Fancy Casual Wal...    ₹249\n",
       "\n",
       "[100 rows x 3 columns]"
      ]
     },
     "execution_count": 355,
     "metadata": {},
     "output_type": "execute_result"
    }
   ],
   "source": [
    "df8 = pd.DataFrame({})\n",
    "df8['brand_name'] = brand_name1\n",
    "df8['prd_desc'] = prd_desc1\n",
    "df8['[price]'] = price1\n",
    "\n",
    "df8"
   ]
  },
  {
   "cell_type": "markdown",
   "id": "ab2ccca2",
   "metadata": {},
   "source": [
    "# Answer 7"
   ]
  },
  {
   "cell_type": "code",
   "execution_count": 356,
   "id": "4519437a",
   "metadata": {},
   "outputs": [],
   "source": [
    "driver = webdriver.Chrome(r'C:\\web driver\\chromedriver.exe')\n",
    "\n",
    "url = \"https://www.myntra.com/shoes\"\n",
    "\n",
    "driver.get(url)\n",
    "\n",
    "driver.maximize_window()"
   ]
  },
  {
   "cell_type": "code",
   "execution_count": 357,
   "id": "44fad042",
   "metadata": {},
   "outputs": [],
   "source": [
    "driver.find_element_by_xpath(\"//*[@id='mountRoot']/div/div[1]/main/div[3]/div[1]/section/div/div[6]/ul/li[1]/label/div\").click()"
   ]
  },
  {
   "cell_type": "code",
   "execution_count": 358,
   "id": "e6c28cdc",
   "metadata": {},
   "outputs": [],
   "source": [
    "brand_name2 = []\n",
    "prd_desc2 = []\n",
    "price2 = []\n",
    "\n",
    "\n",
    "\n",
    "brand = driver.find_elements_by_class_name('product-brand')\n",
    "    \n",
    "\n",
    "for i in brand:\n",
    "    brand_name2.append(i.text)\n",
    "\n",
    "desc = driver.find_elements_by_class_name('product-product')\n",
    "    \n",
    "for i in desc:\n",
    "    prd_desc2.append(i.text)\n",
    "\n",
    "cost = driver.find_elements_by_class_name(\"product-price\")\n",
    "    \n",
    "\n",
    "for i in cost:\n",
    "    price2.append(i.text)\n"
   ]
  },
  {
   "cell_type": "code",
   "execution_count": 359,
   "id": "d5a2d4a0",
   "metadata": {},
   "outputs": [
    {
     "data": {
      "text/plain": [
       "(50, 50, 50)"
      ]
     },
     "execution_count": 359,
     "metadata": {},
     "output_type": "execute_result"
    }
   ],
   "source": [
    "len(brand_name2),len(prd_desc2),len(price2)"
   ]
  },
  {
   "cell_type": "code",
   "execution_count": 362,
   "id": "6aa7c54f",
   "metadata": {},
   "outputs": [],
   "source": [
    "driver = webdriver.Chrome(r'C:\\web driver\\chromedriver.exe')\n",
    "\n",
    "url = \"https://www.myntra.com/shoes?f=Color%3ABlack_36454f&p=2&plaEnabled=false&rf=Price%3A6657.0_13105.0_6657.0%20TO%2013105.0\"\n",
    "\n",
    "driver.get(url)\n",
    "\n",
    "driver.maximize_window()"
   ]
  },
  {
   "cell_type": "code",
   "execution_count": 363,
   "id": "25402c7a",
   "metadata": {},
   "outputs": [],
   "source": [
    "brand_name3 = []\n",
    "prd_desc3 = []\n",
    "price3 = []\n",
    "\n",
    "\n",
    "\n",
    "brand = driver.find_elements_by_class_name('product-brand')\n",
    "    \n",
    "\n",
    "for i in brand:\n",
    "    brand_name3.append(i.text)\n",
    "\n",
    "desc = driver.find_elements_by_class_name('product-product')\n",
    "    \n",
    "for i in desc:\n",
    "    prd_desc3.append(i.text)\n",
    "\n",
    "cost = driver.find_elements_by_class_name(\"product-price\")\n",
    "    \n",
    "\n",
    "for i in cost:\n",
    "    price3.append(i.text)"
   ]
  },
  {
   "cell_type": "code",
   "execution_count": 365,
   "id": "1588442b",
   "metadata": {},
   "outputs": [
    {
     "data": {
      "text/html": [
       "<div>\n",
       "<style scoped>\n",
       "    .dataframe tbody tr th:only-of-type {\n",
       "        vertical-align: middle;\n",
       "    }\n",
       "\n",
       "    .dataframe tbody tr th {\n",
       "        vertical-align: top;\n",
       "    }\n",
       "\n",
       "    .dataframe thead th {\n",
       "        text-align: right;\n",
       "    }\n",
       "</style>\n",
       "<table border=\"1\" class=\"dataframe\">\n",
       "  <thead>\n",
       "    <tr style=\"text-align: right;\">\n",
       "      <th></th>\n",
       "      <th>brand_name</th>\n",
       "      <th>prd_desc</th>\n",
       "      <th>[price]</th>\n",
       "    </tr>\n",
       "  </thead>\n",
       "  <tbody>\n",
       "    <tr>\n",
       "      <th>0</th>\n",
       "      <td>ALDO</td>\n",
       "      <td>Men Leather Driving Shoes</td>\n",
       "      <td>Rs. 12999</td>\n",
       "    </tr>\n",
       "    <tr>\n",
       "      <th>1</th>\n",
       "      <td>Nike</td>\n",
       "      <td>Women React Miler 3 Running</td>\n",
       "      <td>Rs. 8920Rs. 10495(15% OFF)</td>\n",
       "    </tr>\n",
       "    <tr>\n",
       "      <th>2</th>\n",
       "      <td>Nike</td>\n",
       "      <td>Women Basketball Shoes</td>\n",
       "      <td>Rs. 7495</td>\n",
       "    </tr>\n",
       "    <tr>\n",
       "      <th>3</th>\n",
       "      <td>UNDER ARMOUR</td>\n",
       "      <td>Men Vantage 2 Running Shoes</td>\n",
       "      <td>Rs. 7999</td>\n",
       "    </tr>\n",
       "    <tr>\n",
       "      <th>4</th>\n",
       "      <td>ALDO</td>\n",
       "      <td>Men Woven Design Sneakers</td>\n",
       "      <td>Rs. 13999</td>\n",
       "    </tr>\n",
       "    <tr>\n",
       "      <th>...</th>\n",
       "      <td>...</td>\n",
       "      <td>...</td>\n",
       "      <td>...</td>\n",
       "    </tr>\n",
       "    <tr>\n",
       "      <th>95</th>\n",
       "      <td>Puma</td>\n",
       "      <td>Women Suede Mayu UP Sneakers</td>\n",
       "      <td>Women Suede Mayu UP Sneakers</td>\n",
       "    </tr>\n",
       "    <tr>\n",
       "      <th>96</th>\n",
       "      <td>J.FONTINI</td>\n",
       "      <td>Men Solid Loafers</td>\n",
       "      <td>Men Solid Loafers</td>\n",
       "    </tr>\n",
       "    <tr>\n",
       "      <th>97</th>\n",
       "      <td>Geox</td>\n",
       "      <td>Men Textured Leather Driving Shoes</td>\n",
       "      <td>Men Textured Leather Driving Shoes</td>\n",
       "    </tr>\n",
       "    <tr>\n",
       "      <th>98</th>\n",
       "      <td>EVADICT By Decathlon</td>\n",
       "      <td>Men Running Shoes</td>\n",
       "      <td>Men Running Shoes</td>\n",
       "    </tr>\n",
       "    <tr>\n",
       "      <th>99</th>\n",
       "      <td>PUMA Motorsport</td>\n",
       "      <td>Women RDG Cat Balle</td>\n",
       "      <td>Women RDG Cat Balle</td>\n",
       "    </tr>\n",
       "  </tbody>\n",
       "</table>\n",
       "<p>100 rows × 3 columns</p>\n",
       "</div>"
      ],
      "text/plain": [
       "              brand_name                            prd_desc  \\\n",
       "0                   ALDO           Men Leather Driving Shoes   \n",
       "1                   Nike         Women React Miler 3 Running   \n",
       "2                   Nike              Women Basketball Shoes   \n",
       "3           UNDER ARMOUR         Men Vantage 2 Running Shoes   \n",
       "4                   ALDO           Men Woven Design Sneakers   \n",
       "..                   ...                                 ...   \n",
       "95                  Puma        Women Suede Mayu UP Sneakers   \n",
       "96             J.FONTINI                   Men Solid Loafers   \n",
       "97                  Geox  Men Textured Leather Driving Shoes   \n",
       "98  EVADICT By Decathlon                   Men Running Shoes   \n",
       "99       PUMA Motorsport                 Women RDG Cat Balle   \n",
       "\n",
       "                               [price]  \n",
       "0                            Rs. 12999  \n",
       "1           Rs. 8920Rs. 10495(15% OFF)  \n",
       "2                             Rs. 7495  \n",
       "3                             Rs. 7999  \n",
       "4                            Rs. 13999  \n",
       "..                                 ...  \n",
       "95        Women Suede Mayu UP Sneakers  \n",
       "96                   Men Solid Loafers  \n",
       "97  Men Textured Leather Driving Shoes  \n",
       "98                   Men Running Shoes  \n",
       "99                 Women RDG Cat Balle  \n",
       "\n",
       "[100 rows x 3 columns]"
      ]
     },
     "execution_count": 365,
     "metadata": {},
     "output_type": "execute_result"
    }
   ],
   "source": [
    "df9 = pd.DataFrame({})\n",
    "df9['brand_name'] = brand_name2+brand_name3\n",
    "df9['prd_desc'] = prd_desc2+prd_desc3\n",
    "df9['[price]'] = price2+prd_desc3\n",
    "df9"
   ]
  },
  {
   "cell_type": "markdown",
   "id": "73e79675",
   "metadata": {},
   "source": [
    "# Answer 8"
   ]
  },
  {
   "cell_type": "code",
   "execution_count": 64,
   "id": "cea50f11",
   "metadata": {},
   "outputs": [],
   "source": [
    "driver = webdriver.Chrome(r'C:\\web driver\\chromedriver.exe')\n",
    "\n",
    "url = \"https://www.amazon.in/\"\n",
    "\n",
    "driver.get(url)\n",
    "\n",
    "driver.maximize_window() \n",
    "\n",
    "search_laptop = driver.find_element_by_id('twotabsearchtextbox')\n",
    "search_laptop.send_keys(\"Laptop\")\n",
    "\n",
    "button_1 = driver.find_element_by_id('nav-search-submit-button')\n",
    "button_1.click()\n",
    "driver.implicitly_wait(3)\n"
   ]
  },
  {
   "cell_type": "code",
   "execution_count": 65,
   "id": "2eea9c77",
   "metadata": {},
   "outputs": [],
   "source": [
    "laptop_title = []\n",
    "laptop_price = []\n",
    "\n",
    "\n",
    "\n",
    "title = driver.find_elements_by_xpath(\"//span[@class='a-size-medium a-color-base a-text-normal']\")\n",
    "    \n",
    "\n",
    "for i in title:\n",
    "    laptop_title.append(i.text)\n",
    "\n",
    "cost = driver.find_elements_by_class_name(\"a-price-whole\")\n",
    "    \n",
    "\n",
    "for i in cost:\n",
    "    laptop_price.append(i.text)\n"
   ]
  },
  {
   "cell_type": "code",
   "execution_count": 66,
   "id": "1340188f",
   "metadata": {},
   "outputs": [
    {
     "data": {
      "text/html": [
       "<div>\n",
       "<style scoped>\n",
       "    .dataframe tbody tr th:only-of-type {\n",
       "        vertical-align: middle;\n",
       "    }\n",
       "\n",
       "    .dataframe tbody tr th {\n",
       "        vertical-align: top;\n",
       "    }\n",
       "\n",
       "    .dataframe thead th {\n",
       "        text-align: right;\n",
       "    }\n",
       "</style>\n",
       "<table border=\"1\" class=\"dataframe\">\n",
       "  <thead>\n",
       "    <tr style=\"text-align: right;\">\n",
       "      <th></th>\n",
       "      <th>Laptop_Name</th>\n",
       "      <th>Laptop_Price</th>\n",
       "    </tr>\n",
       "  </thead>\n",
       "  <tbody>\n",
       "    <tr>\n",
       "      <th>0</th>\n",
       "      <td>Dell New Vostro 3400 Laptop, Intel i5-1135G7, ...</td>\n",
       "      <td>50,490</td>\n",
       "    </tr>\n",
       "    <tr>\n",
       "      <th>1</th>\n",
       "      <td>Acer Predator Helios 300 11th Gen Intel Core i...</td>\n",
       "      <td>1,69,990</td>\n",
       "    </tr>\n",
       "    <tr>\n",
       "      <th>2</th>\n",
       "      <td>ASUS VivoBook 15 (2021), 15.6-inch (39.62 cm) ...</td>\n",
       "      <td>26,990</td>\n",
       "    </tr>\n",
       "    <tr>\n",
       "      <th>3</th>\n",
       "      <td>Lenovo IdeaPad 3 Intel Celeron N4020 14'' HD T...</td>\n",
       "      <td>28,402</td>\n",
       "    </tr>\n",
       "    <tr>\n",
       "      <th>4</th>\n",
       "      <td>Lenovo IdeaPad 3 11th Gen Intel i3 15.6\" FHD T...</td>\n",
       "      <td>41,990</td>\n",
       "    </tr>\n",
       "    <tr>\n",
       "      <th>5</th>\n",
       "      <td>LG Gram 16 inches Intel Evo 11th Gen Core i7 U...</td>\n",
       "      <td>1,01,112</td>\n",
       "    </tr>\n",
       "    <tr>\n",
       "      <th>6</th>\n",
       "      <td>Lenovo IdeaPad 1 Intel Celeron N4020 11.6'' HD...</td>\n",
       "      <td>26,990</td>\n",
       "    </tr>\n",
       "    <tr>\n",
       "      <th>7</th>\n",
       "      <td>HP Chromebook 14 Intel Celeron N4020-4GB SDRAM...</td>\n",
       "      <td>25,390</td>\n",
       "    </tr>\n",
       "    <tr>\n",
       "      <th>8</th>\n",
       "      <td>Lenovo ThinkBook 14 Intel Core i5 11th Gen 14\"...</td>\n",
       "      <td>61,990</td>\n",
       "    </tr>\n",
       "    <tr>\n",
       "      <th>9</th>\n",
       "      <td>HP 14s 11th Gen Intel Core i3- 8GB RAM/256GB S...</td>\n",
       "      <td>36,990</td>\n",
       "    </tr>\n",
       "  </tbody>\n",
       "</table>\n",
       "</div>"
      ],
      "text/plain": [
       "                                         Laptop_Name Laptop_Price\n",
       "0  Dell New Vostro 3400 Laptop, Intel i5-1135G7, ...       50,490\n",
       "1  Acer Predator Helios 300 11th Gen Intel Core i...     1,69,990\n",
       "2  ASUS VivoBook 15 (2021), 15.6-inch (39.62 cm) ...       26,990\n",
       "3  Lenovo IdeaPad 3 Intel Celeron N4020 14'' HD T...       28,402\n",
       "4  Lenovo IdeaPad 3 11th Gen Intel i3 15.6\" FHD T...       41,990\n",
       "5  LG Gram 16 inches Intel Evo 11th Gen Core i7 U...     1,01,112\n",
       "6  Lenovo IdeaPad 1 Intel Celeron N4020 11.6'' HD...       26,990\n",
       "7  HP Chromebook 14 Intel Celeron N4020-4GB SDRAM...       25,390\n",
       "8  Lenovo ThinkBook 14 Intel Core i5 11th Gen 14\"...       61,990\n",
       "9  HP 14s 11th Gen Intel Core i3- 8GB RAM/256GB S...       36,990"
      ]
     },
     "execution_count": 66,
     "metadata": {},
     "output_type": "execute_result"
    }
   ],
   "source": [
    "df10 = pd.DataFrame({})\n",
    "df10['Laptop_Name'] = laptop_title[0:10]\n",
    "df10['Laptop_Price'] = laptop_price[0:10]\n",
    "\n",
    "df10"
   ]
  },
  {
   "cell_type": "markdown",
   "id": "d4574d83",
   "metadata": {},
   "source": [
    "# Answer 10"
   ]
  },
  {
   "cell_type": "code",
   "execution_count": 67,
   "id": "bb11e8a2",
   "metadata": {
    "scrolled": true
   },
   "outputs": [
    {
     "name": "stdout",
     "output_type": "stream",
     "text": [
      "Requirement already satisfied: selenium in c:\\programdata\\anaconda3\\lib\\site-packages (4.1.5)"
     ]
    },
    {
     "name": "stderr",
     "output_type": "stream",
     "text": [
      "WARNING: Ignoring invalid distribution -arso (c:\\programdata\\anaconda3\\lib\\site-packages)\n",
      "WARNING: Ignoring invalid distribution -arso (c:\\programdata\\anaconda3\\lib\\site-packages)\n",
      "WARNING: Ignoring invalid distribution -arso (c:\\programdata\\anaconda3\\lib\\site-packages)\n",
      "WARNING: Ignoring invalid distribution -arso (c:\\programdata\\anaconda3\\lib\\site-packages)\n",
      "WARNING: Ignoring invalid distribution -arso (c:\\programdata\\anaconda3\\lib\\site-packages)\n",
      "WARNING: Ignoring invalid distribution -arso (c:\\programdata\\anaconda3\\lib\\site-packages)\n"
     ]
    },
    {
     "name": "stdout",
     "output_type": "stream",
     "text": [
      "\n",
      "Requirement already satisfied: trio~=0.17 in c:\\programdata\\anaconda3\\lib\\site-packages (from selenium) (0.20.0)\n",
      "Requirement already satisfied: urllib3[secure,socks]~=1.26 in c:\\programdata\\anaconda3\\lib\\site-packages (from selenium) (1.26.7)\n",
      "Requirement already satisfied: trio-websocket~=0.9 in c:\\programdata\\anaconda3\\lib\\site-packages (from selenium) (0.9.2)\n",
      "Requirement already satisfied: idna in c:\\programdata\\anaconda3\\lib\\site-packages (from trio~=0.17->selenium) (3.2)\n",
      "Requirement already satisfied: attrs>=19.2.0 in c:\\programdata\\anaconda3\\lib\\site-packages (from trio~=0.17->selenium) (21.2.0)\n",
      "Requirement already satisfied: outcome in c:\\programdata\\anaconda3\\lib\\site-packages (from trio~=0.17->selenium) (1.1.0)\n",
      "Requirement already satisfied: sortedcontainers in c:\\programdata\\anaconda3\\lib\\site-packages (from trio~=0.17->selenium) (2.4.0)\n",
      "Requirement already satisfied: cffi>=1.14 in c:\\programdata\\anaconda3\\lib\\site-packages (from trio~=0.17->selenium) (1.14.6)\n",
      "Requirement already satisfied: async-generator>=1.9 in c:\\programdata\\anaconda3\\lib\\site-packages (from trio~=0.17->selenium) (1.10)\n",
      "Requirement already satisfied: sniffio in c:\\programdata\\anaconda3\\lib\\site-packages (from trio~=0.17->selenium) (1.2.0)\n",
      "Requirement already satisfied: pycparser in c:\\programdata\\anaconda3\\lib\\site-packages (from cffi>=1.14->trio~=0.17->selenium) (2.20)\n",
      "Requirement already satisfied: wsproto>=0.14 in c:\\programdata\\anaconda3\\lib\\site-packages (from trio-websocket~=0.9->selenium) (1.1.0)\n",
      "Requirement already satisfied: PySocks!=1.5.7,<2.0,>=1.5.6 in c:\\programdata\\anaconda3\\lib\\site-packages (from urllib3[secure,socks]~=1.26->selenium) (1.7.1)\n",
      "Requirement already satisfied: pyOpenSSL>=0.14 in c:\\programdata\\anaconda3\\lib\\site-packages (from urllib3[secure,socks]~=1.26->selenium) (21.0.0)\n",
      "Requirement already satisfied: cryptography>=1.3.4 in c:\\programdata\\anaconda3\\lib\\site-packages (from urllib3[secure,socks]~=1.26->selenium) (3.4.8)\n",
      "Requirement already satisfied: certifi in c:\\programdata\\anaconda3\\lib\\site-packages (from urllib3[secure,socks]~=1.26->selenium) (2021.10.8)\n",
      "Requirement already satisfied: six>=1.5.2 in c:\\programdata\\anaconda3\\lib\\site-packages (from pyOpenSSL>=0.14->urllib3[secure,socks]~=1.26->selenium) (1.16.0)\n",
      "Requirement already satisfied: h11<1,>=0.9.0 in c:\\programdata\\anaconda3\\lib\\site-packages (from wsproto>=0.14->trio-websocket~=0.9->selenium) (0.13.0)\n"
     ]
    }
   ],
   "source": [
    "! pip install selenium"
   ]
  },
  {
   "cell_type": "code",
   "execution_count": 71,
   "id": "b9b98977",
   "metadata": {},
   "outputs": [],
   "source": [
    "import selenium\n",
    "import pandas as pd\n",
    "from selenium import webdriver\n",
    "import warnings\n",
    "warnings.filterwarnings(\"ignore\")\n",
    "import time"
   ]
  },
  {
   "cell_type": "code",
   "execution_count": 72,
   "id": "1b1b2e39",
   "metadata": {},
   "outputs": [],
   "source": [
    "driver = webdriver.Chrome(r\"C:\\web driver\\chromedriver.exe\")"
   ]
  },
  {
   "cell_type": "code",
   "execution_count": 73,
   "id": "8dfa4661",
   "metadata": {},
   "outputs": [],
   "source": [
    "url = 'https://www.ambitionbox.com/ '\n",
    "driver.get(url)"
   ]
  },
  {
   "cell_type": "code",
   "execution_count": 75,
   "id": "f2812add",
   "metadata": {},
   "outputs": [],
   "source": [
    "search_field_designation=driver.find_element_by_xpath(\"/html/body/div/div/div/div[2]/div/div/div/div[1]/span/input \")\n",
    "search_field_designation.send_keys(\"Data Scientist\")"
   ]
  },
  {
   "cell_type": "code",
   "execution_count": 76,
   "id": "a1ffe678",
   "metadata": {},
   "outputs": [],
   "source": [
    "search_button=driver.find_element_by_xpath('/html/body/div/div/div/div[2]/div/div/div/button')\n",
    "search_button.click()"
   ]
  },
  {
   "cell_type": "code",
   "execution_count": 90,
   "id": "33bce7f9",
   "metadata": {},
   "outputs": [],
   "source": [
    "Company_name=[] \n",
    "Number_of_salaries=[] \n",
    "Average_salary=[]\n",
    "Min_salary=[]\n",
    "Max_salary=[]\n",
    "Experience=[]"
   ]
  },
  {
   "cell_type": "code",
   "execution_count": 91,
   "id": "c06691b9",
   "metadata": {},
   "outputs": [
    {
     "data": {
      "text/plain": [
       "[<selenium.webdriver.remote.webelement.WebElement (session=\"dee6b856172ec0f19e51f3ea448ff5a1\", element=\"ed2e43d4-8f68-41a6-bd42-aa80728d8c5d\")>,\n",
       " <selenium.webdriver.remote.webelement.WebElement (session=\"dee6b856172ec0f19e51f3ea448ff5a1\", element=\"22f1b602-bfa5-46ce-a6a6-72ffa9265f66\")>,\n",
       " <selenium.webdriver.remote.webelement.WebElement (session=\"dee6b856172ec0f19e51f3ea448ff5a1\", element=\"5b28fffe-b23d-4428-9e75-aaffbc999a44\")>,\n",
       " <selenium.webdriver.remote.webelement.WebElement (session=\"dee6b856172ec0f19e51f3ea448ff5a1\", element=\"1f045470-a379-44fa-b502-a912fcde1351\")>,\n",
       " <selenium.webdriver.remote.webelement.WebElement (session=\"dee6b856172ec0f19e51f3ea448ff5a1\", element=\"ed5d643f-17aa-4e5a-9d67-5e1912d888e4\")>,\n",
       " <selenium.webdriver.remote.webelement.WebElement (session=\"dee6b856172ec0f19e51f3ea448ff5a1\", element=\"9e91955b-b3a1-45d6-aab8-aa84b846d0bf\")>,\n",
       " <selenium.webdriver.remote.webelement.WebElement (session=\"dee6b856172ec0f19e51f3ea448ff5a1\", element=\"9abf74af-24a9-4d88-bc0f-981667d9ef09\")>,\n",
       " <selenium.webdriver.remote.webelement.WebElement (session=\"dee6b856172ec0f19e51f3ea448ff5a1\", element=\"f3430c28-4df3-419d-a69b-f1d61e67eeb7\")>,\n",
       " <selenium.webdriver.remote.webelement.WebElement (session=\"dee6b856172ec0f19e51f3ea448ff5a1\", element=\"7c6750e6-8521-40e1-8391-2f76364a8e56\")>,\n",
       " <selenium.webdriver.remote.webelement.WebElement (session=\"dee6b856172ec0f19e51f3ea448ff5a1\", element=\"964447e7-4a4e-49de-8d3b-fb60d902172d\")>]"
      ]
     },
     "execution_count": 91,
     "metadata": {},
     "output_type": "execute_result"
    }
   ],
   "source": [
    "companies_tags=driver.find_elements_by_xpath(\"//div[@class='name']\")\n",
    "companies_tags[0:10]"
   ]
  },
  {
   "cell_type": "code",
   "execution_count": 92,
   "id": "1c1a4690",
   "metadata": {},
   "outputs": [
    {
     "data": {
      "text/plain": [
       "['TCS\\n(781 Salaries)',\n",
       " 'Accenture\\n(472 Salaries)',\n",
       " 'IBM\\n(378 Salaries)',\n",
       " 'Cognizant\\n(304 Salaries)',\n",
       " 'Capgemini\\n(294 Salaries)',\n",
       " 'Infosys\\n(219 Salaries)',\n",
       " 'Tech Mahindra\\n(217 Salaries)',\n",
       " 'Wipro\\n(213 Salaries)',\n",
       " 'Deloitte\\n(162 Salaries)',\n",
       " 'Fractal Analytics\\n(151 Salaries)']"
      ]
     },
     "execution_count": 92,
     "metadata": {},
     "output_type": "execute_result"
    }
   ],
   "source": [
    "for i in companies_tags:\n",
    "    company_name=i.text\n",
    "    company_names.append(company_name)\n",
    "company_names[0:10]"
   ]
  },
  {
   "cell_type": "code",
   "execution_count": 93,
   "id": "1a68a5fa",
   "metadata": {},
   "outputs": [
    {
     "data": {
      "text/plain": [
       "[<selenium.webdriver.remote.webelement.WebElement (session=\"dee6b856172ec0f19e51f3ea448ff5a1\", element=\"f085d635-9007-4545-b28f-b920658bd593\")>,\n",
       " <selenium.webdriver.remote.webelement.WebElement (session=\"dee6b856172ec0f19e51f3ea448ff5a1\", element=\"4f2e354b-111a-4324-a717-f754c4cc0674\")>,\n",
       " <selenium.webdriver.remote.webelement.WebElement (session=\"dee6b856172ec0f19e51f3ea448ff5a1\", element=\"6b312ec9-3dfa-4d3b-9f8d-67db2de687fa\")>,\n",
       " <selenium.webdriver.remote.webelement.WebElement (session=\"dee6b856172ec0f19e51f3ea448ff5a1\", element=\"93737ffb-994c-4c49-b0f1-a5c9629eaee4\")>,\n",
       " <selenium.webdriver.remote.webelement.WebElement (session=\"dee6b856172ec0f19e51f3ea448ff5a1\", element=\"379d9f10-b7cf-4934-8dc8-0ae6ae6e8eee\")>,\n",
       " <selenium.webdriver.remote.webelement.WebElement (session=\"dee6b856172ec0f19e51f3ea448ff5a1\", element=\"97625829-3bbd-46c6-ae59-2a61f156f8b5\")>,\n",
       " <selenium.webdriver.remote.webelement.WebElement (session=\"dee6b856172ec0f19e51f3ea448ff5a1\", element=\"d4e7bee9-4d54-43f8-b4b0-2415a1bf4108\")>,\n",
       " <selenium.webdriver.remote.webelement.WebElement (session=\"dee6b856172ec0f19e51f3ea448ff5a1\", element=\"2a6cce84-031f-4b28-b668-3485a801d0ff\")>,\n",
       " <selenium.webdriver.remote.webelement.WebElement (session=\"dee6b856172ec0f19e51f3ea448ff5a1\", element=\"9500c26b-d4d4-451f-8f0c-6de4c5d349b3\")>,\n",
       " <selenium.webdriver.remote.webelement.WebElement (session=\"dee6b856172ec0f19e51f3ea448ff5a1\", element=\"55c102bb-d293-4656-8bf8-4b7769edfd22\")>]"
      ]
     },
     "execution_count": 93,
     "metadata": {},
     "output_type": "execute_result"
    }
   ],
   "source": [
    "experience_tags=driver.find_elements_by_xpath(\"//div[@class='salaries one-line sbold-list-header']\")\n",
    "experience_tags[0:10]\n"
   ]
  },
  {
   "cell_type": "code",
   "execution_count": 94,
   "id": "4d280634",
   "metadata": {},
   "outputs": [
    {
     "data": {
      "text/plain": [
       "['2-9 yrs exp',\n",
       " '2-9 yrs exp',\n",
       " '2-12 yrs exp',\n",
       " '2-10 yrs exp',\n",
       " '2-8 yrs exp',\n",
       " '2-8 yrs exp',\n",
       " '2-13 yrs exp',\n",
       " '2-9 yrs exp',\n",
       " '1-7 yrs exp',\n",
       " '2-6 yrs exp']"
      ]
     },
     "execution_count": 94,
     "metadata": {},
     "output_type": "execute_result"
    }
   ],
   "source": [
    "for i in experience_tags:\n",
    "    experience=i.text\n",
    "    Experience.append(experience)\n",
    "Experience[0:10]"
   ]
  },
  {
   "cell_type": "code",
   "execution_count": 95,
   "id": "70085e87",
   "metadata": {},
   "outputs": [
    {
     "data": {
      "text/plain": [
       "[<selenium.webdriver.remote.webelement.WebElement (session=\"dee6b856172ec0f19e51f3ea448ff5a1\", element=\"0c48f3c8-be73-43cf-b247-f9f910e2076b\")>,\n",
       " <selenium.webdriver.remote.webelement.WebElement (session=\"dee6b856172ec0f19e51f3ea448ff5a1\", element=\"eabd164f-ed2f-4b73-bb38-f3671d585ada\")>,\n",
       " <selenium.webdriver.remote.webelement.WebElement (session=\"dee6b856172ec0f19e51f3ea448ff5a1\", element=\"217fb692-a5f2-4ee0-be42-92b944bab2ca\")>,\n",
       " <selenium.webdriver.remote.webelement.WebElement (session=\"dee6b856172ec0f19e51f3ea448ff5a1\", element=\"a4229236-eb95-44bf-ad22-d2675369d983\")>,\n",
       " <selenium.webdriver.remote.webelement.WebElement (session=\"dee6b856172ec0f19e51f3ea448ff5a1\", element=\"69a620d7-8dd2-41b3-be6b-1425c0f3a6b5\")>,\n",
       " <selenium.webdriver.remote.webelement.WebElement (session=\"dee6b856172ec0f19e51f3ea448ff5a1\", element=\"6dfd97fc-12fb-48d3-89bb-b63a71929a29\")>,\n",
       " <selenium.webdriver.remote.webelement.WebElement (session=\"dee6b856172ec0f19e51f3ea448ff5a1\", element=\"65b42a0c-5aba-4206-a46d-5c56345c0583\")>,\n",
       " <selenium.webdriver.remote.webelement.WebElement (session=\"dee6b856172ec0f19e51f3ea448ff5a1\", element=\"b3dd2cc2-1740-41db-9433-5e13066d8a72\")>,\n",
       " <selenium.webdriver.remote.webelement.WebElement (session=\"dee6b856172ec0f19e51f3ea448ff5a1\", element=\"027cef3d-b306-42bb-a10a-a40061da8149\")>,\n",
       " <selenium.webdriver.remote.webelement.WebElement (session=\"dee6b856172ec0f19e51f3ea448ff5a1\", element=\"a63bf825-7930-4ce1-a2e8-8543beed4d38\")>]"
      ]
     },
     "execution_count": 95,
     "metadata": {},
     "output_type": "execute_result"
    }
   ],
   "source": [
    "Average_salary_tags=driver.find_elements_by_xpath(\"//p[@class='averageCtc']\")\n",
    "Average_salary_tags[0:10]"
   ]
  },
  {
   "cell_type": "code",
   "execution_count": 96,
   "id": "3fd408cb",
   "metadata": {},
   "outputs": [
    {
     "data": {
      "text/plain": [
       "['₹ 7.1L', '₹ 20.1L', '₹ 7.0L', '', '', '', '', '', '', '₹ 7.7L']"
      ]
     },
     "execution_count": 96,
     "metadata": {},
     "output_type": "execute_result"
    }
   ],
   "source": [
    "for i in Average_salary_tags:\n",
    "    Avg_salary=i.text\n",
    "    Average_salary.append(Avg_salary)\n",
    "Average_salary[0:10]"
   ]
  },
  {
   "cell_type": "code",
   "execution_count": 97,
   "id": "357692ff",
   "metadata": {},
   "outputs": [
    {
     "data": {
      "text/plain": [
       "[<selenium.webdriver.remote.webelement.WebElement (session=\"dee6b856172ec0f19e51f3ea448ff5a1\", element=\"f49b7eb6-437c-4358-b5c5-12572b9689f3\")>,\n",
       " <selenium.webdriver.remote.webelement.WebElement (session=\"dee6b856172ec0f19e51f3ea448ff5a1\", element=\"b0f4e335-6a32-4f1d-9f15-4a69f6a2cc6c\")>,\n",
       " <selenium.webdriver.remote.webelement.WebElement (session=\"dee6b856172ec0f19e51f3ea448ff5a1\", element=\"2b9f0b9b-7583-4ee1-9f62-62a392f11f97\")>,\n",
       " <selenium.webdriver.remote.webelement.WebElement (session=\"dee6b856172ec0f19e51f3ea448ff5a1\", element=\"098c3a8f-f8f1-4873-88d8-4c57785c1436\")>,\n",
       " <selenium.webdriver.remote.webelement.WebElement (session=\"dee6b856172ec0f19e51f3ea448ff5a1\", element=\"959f22b7-ee76-4742-9dda-9c04aad56658\")>,\n",
       " <selenium.webdriver.remote.webelement.WebElement (session=\"dee6b856172ec0f19e51f3ea448ff5a1\", element=\"2e817ba6-768e-4004-be20-b9dbbba8792d\")>,\n",
       " <selenium.webdriver.remote.webelement.WebElement (session=\"dee6b856172ec0f19e51f3ea448ff5a1\", element=\"ee38eefc-790c-4a0e-a886-383b3577b55a\")>,\n",
       " <selenium.webdriver.remote.webelement.WebElement (session=\"dee6b856172ec0f19e51f3ea448ff5a1\", element=\"14f27060-0c2d-43a2-9cce-453279ee64e0\")>,\n",
       " <selenium.webdriver.remote.webelement.WebElement (session=\"dee6b856172ec0f19e51f3ea448ff5a1\", element=\"29870062-de32-4745-8535-b9d24c01d8b0\")>,\n",
       " <selenium.webdriver.remote.webelement.WebElement (session=\"dee6b856172ec0f19e51f3ea448ff5a1\", element=\"aa69c268-362b-4a20-96c7-afa01ebebc4d\")>]"
      ]
     },
     "execution_count": 97,
     "metadata": {},
     "output_type": "execute_result"
    }
   ],
   "source": [
    "Minimum_salary_tags=driver.find_elements_by_xpath(\"//div[@class='value body-medium']\")\n",
    "Minimum_salary_tags[0:10]"
   ]
  },
  {
   "cell_type": "code",
   "execution_count": 98,
   "id": "733b5235",
   "metadata": {},
   "outputs": [
    {
     "data": {
      "text/plain": [
       "['₹ 3.0L', '₹ 16.0L', '₹ 9.3L', '₹ 42.0L', '₹ 3.0L', '₹ 19.5L', '', '', '', '']"
      ]
     },
     "execution_count": 98,
     "metadata": {},
     "output_type": "execute_result"
    }
   ],
   "source": [
    "for i in Minimum_salary_tags:\n",
    "    min_salary=i.text\n",
    "    Min_salary.append(min_salary)\n",
    "Min_salary[0:10]"
   ]
  },
  {
   "cell_type": "code",
   "execution_count": 99,
   "id": "78e3c8bd",
   "metadata": {},
   "outputs": [
    {
     "data": {
      "text/plain": [
       "[<selenium.webdriver.remote.webelement.WebElement (session=\"dee6b856172ec0f19e51f3ea448ff5a1\", element=\"f49b7eb6-437c-4358-b5c5-12572b9689f3\")>,\n",
       " <selenium.webdriver.remote.webelement.WebElement (session=\"dee6b856172ec0f19e51f3ea448ff5a1\", element=\"b0f4e335-6a32-4f1d-9f15-4a69f6a2cc6c\")>,\n",
       " <selenium.webdriver.remote.webelement.WebElement (session=\"dee6b856172ec0f19e51f3ea448ff5a1\", element=\"2b9f0b9b-7583-4ee1-9f62-62a392f11f97\")>,\n",
       " <selenium.webdriver.remote.webelement.WebElement (session=\"dee6b856172ec0f19e51f3ea448ff5a1\", element=\"098c3a8f-f8f1-4873-88d8-4c57785c1436\")>,\n",
       " <selenium.webdriver.remote.webelement.WebElement (session=\"dee6b856172ec0f19e51f3ea448ff5a1\", element=\"959f22b7-ee76-4742-9dda-9c04aad56658\")>,\n",
       " <selenium.webdriver.remote.webelement.WebElement (session=\"dee6b856172ec0f19e51f3ea448ff5a1\", element=\"2e817ba6-768e-4004-be20-b9dbbba8792d\")>,\n",
       " <selenium.webdriver.remote.webelement.WebElement (session=\"dee6b856172ec0f19e51f3ea448ff5a1\", element=\"ee38eefc-790c-4a0e-a886-383b3577b55a\")>,\n",
       " <selenium.webdriver.remote.webelement.WebElement (session=\"dee6b856172ec0f19e51f3ea448ff5a1\", element=\"14f27060-0c2d-43a2-9cce-453279ee64e0\")>,\n",
       " <selenium.webdriver.remote.webelement.WebElement (session=\"dee6b856172ec0f19e51f3ea448ff5a1\", element=\"29870062-de32-4745-8535-b9d24c01d8b0\")>,\n",
       " <selenium.webdriver.remote.webelement.WebElement (session=\"dee6b856172ec0f19e51f3ea448ff5a1\", element=\"aa69c268-362b-4a20-96c7-afa01ebebc4d\")>]"
      ]
     },
     "execution_count": 99,
     "metadata": {},
     "output_type": "execute_result"
    }
   ],
   "source": [
    "Maximum_salary_tags=driver.find_elements_by_xpath(\"//div[@class='value body-medium']\")\n",
    "Maximum_salary_tags[0:10]"
   ]
  },
  {
   "cell_type": "code",
   "execution_count": 100,
   "id": "948e46d6",
   "metadata": {},
   "outputs": [
    {
     "data": {
      "text/plain": [
       "['₹ 3.0L', '₹ 16.0L', '₹ 9.3L', '₹ 42.0L', '₹ 3.0L', '₹ 19.5L', '', '', '', '']"
      ]
     },
     "execution_count": 100,
     "metadata": {},
     "output_type": "execute_result"
    }
   ],
   "source": [
    "for i in Maximum_salary_tags:\n",
    "    max_salary=i.text\n",
    "    Max_salary.append(max_salary)\n",
    "Max_salary[0:10]"
   ]
  },
  {
   "cell_type": "code",
   "execution_count": null,
   "id": "9dc47214",
   "metadata": {},
   "outputs": [],
   "source": []
  }
 ],
 "metadata": {
  "kernelspec": {
   "display_name": "Python 3 (ipykernel)",
   "language": "python",
   "name": "python3"
  },
  "language_info": {
   "codemirror_mode": {
    "name": "ipython",
    "version": 3
   },
   "file_extension": ".py",
   "mimetype": "text/x-python",
   "name": "python",
   "nbconvert_exporter": "python",
   "pygments_lexer": "ipython3",
   "version": "3.9.7"
  }
 },
 "nbformat": 4,
 "nbformat_minor": 5
}
